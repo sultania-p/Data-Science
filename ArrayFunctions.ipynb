{
 "cells": [
  {
   "cell_type": "code",
   "execution_count": 8,
   "id": "b775dcc2-12fd-4101-807d-6a9c807e750c",
   "metadata": {},
   "outputs": [
    {
     "data": {
      "text/plain": [
       "array([0, 1, 2, 3, 4, 5])"
      ]
     },
     "execution_count": 8,
     "metadata": {},
     "output_type": "execute_result"
    }
   ],
   "source": [
    "import numpy as np\n",
    "a = np.arange(6) # if upper and lower limite not defined lower limit is set to 0\n",
    "a"
   ]
  },
  {
   "cell_type": "code",
   "execution_count": 12,
   "id": "ff4e4b39-6e21-4e46-886c-a8d92e7127da",
   "metadata": {},
   "outputs": [
    {
     "data": {
      "text/plain": [
       "array([[ 0,  1,  2],\n",
       "       [ 3,  4,  5],\n",
       "       [ 6,  7,  8],\n",
       "       [ 9, 10, 11]])"
      ]
     },
     "execution_count": 12,
     "metadata": {},
     "output_type": "execute_result"
    }
   ],
   "source": [
    "np.arange(12).reshape(4,3)"
   ]
  },
  {
   "cell_type": "code",
   "execution_count": 15,
   "id": "3c4cd868-6f07-4c5e-9c3b-7814f16a6f7f",
   "metadata": {},
   "outputs": [
    {
     "data": {
      "text/plain": [
       "array([[[ 0,  1,  2,  3],\n",
       "        [ 4,  5,  6,  7],\n",
       "        [ 8,  9, 10, 11]],\n",
       "\n",
       "       [[12, 13, 14, 15],\n",
       "        [16, 17, 18, 19],\n",
       "        [20, 21, 22, 23]]])"
      ]
     },
     "execution_count": 15,
     "metadata": {},
     "output_type": "execute_result"
    }
   ],
   "source": [
    "np.arange(24).reshape(2,3,4)"
   ]
  },
  {
   "cell_type": "code",
   "execution_count": 20,
   "id": "8cef5537-a81f-4a00-9c85-81cef1931f95",
   "metadata": {},
   "outputs": [
    {
     "name": "stdout",
     "output_type": "stream",
     "text": [
      "[   0    1    2 ... 9997 9998 9999]\n"
     ]
    }
   ],
   "source": [
    "print(np.arange(10000)) # numpy auto skip the mid numbers if the array is too large"
   ]
  },
  {
   "cell_type": "code",
   "execution_count": 37,
   "id": "d9f270a9-a5c9-4fce-930f-0f0dbfddce97",
   "metadata": {},
   "outputs": [
    {
     "name": "stdout",
     "output_type": "stream",
     "text": [
      "[[   0    1    2 ...   97   98   99]\n",
      " [ 100  101  102 ...  197  198  199]\n",
      " [ 200  201  202 ...  297  298  299]\n",
      " ...\n",
      " [9700 9701 9702 ... 9797 9798 9799]\n",
      " [9800 9801 9802 ... 9897 9898 9899]\n",
      " [9900 9901 9902 ... 9997 9998 9999]]\n"
     ]
    }
   ],
   "source": [
    "print(np.arange(10000).reshape(100,100)) #reshaoe arranges the array in the given axes and elements set"
   ]
  },
  {
   "cell_type": "code",
   "execution_count": 36,
   "id": "a671a02f-0791-44eb-93df-3c2fcbfe9986",
   "metadata": {},
   "outputs": [],
   "source": [
    "import sys\n",
    "np.set_printoptions(threshold=1000)  # sys module should be imported"
   ]
  },
  {
   "cell_type": "code",
   "execution_count": 69,
   "id": "16072fb1-dc28-450c-ab7d-7ac5d08b4f8a",
   "metadata": {},
   "outputs": [],
   "source": [
    "a = np.array([10,20,30,40])\n",
    "b = np.arange(4)\n",
    "add = a + b # additon/subtraction on array with same index\n",
    "sub = a - b\n",
    "mul = a * b\n",
    "div = a / 2\n",
    "sqr = b **2\n",
    "cub = b ** 3"
   ]
  },
  {
   "cell_type": "code",
   "execution_count": 59,
   "id": "6a1dbbd3-786a-4ee4-88e2-083f425a7539",
   "metadata": {},
   "outputs": [
    {
     "data": {
      "text/plain": [
       "array([10, 20, 30, 40])"
      ]
     },
     "execution_count": 59,
     "metadata": {},
     "output_type": "execute_result"
    }
   ],
   "source": [
    "a"
   ]
  },
  {
   "cell_type": "code",
   "execution_count": 60,
   "id": "c9400184-b5a7-4a4d-8968-d83723bd590d",
   "metadata": {},
   "outputs": [
    {
     "data": {
      "text/plain": [
       "array([0, 1, 2, 3])"
      ]
     },
     "execution_count": 60,
     "metadata": {},
     "output_type": "execute_result"
    }
   ],
   "source": [
    "b"
   ]
  },
  {
   "cell_type": "code",
   "execution_count": 61,
   "id": "357117e6-633a-4722-9927-4e1996f80d2e",
   "metadata": {},
   "outputs": [
    {
     "data": {
      "text/plain": [
       "array([10, 21, 32, 43])"
      ]
     },
     "execution_count": 61,
     "metadata": {},
     "output_type": "execute_result"
    }
   ],
   "source": [
    "add"
   ]
  },
  {
   "cell_type": "code",
   "execution_count": 62,
   "id": "0da3a3f4-41c1-4df5-b95e-ddd5827ff71a",
   "metadata": {},
   "outputs": [
    {
     "data": {
      "text/plain": [
       "array([10, 19, 28, 37])"
      ]
     },
     "execution_count": 62,
     "metadata": {},
     "output_type": "execute_result"
    }
   ],
   "source": [
    "sub"
   ]
  },
  {
   "cell_type": "code",
   "execution_count": 63,
   "id": "abe94432-47b7-45d6-a751-bb5333f8d5ca",
   "metadata": {},
   "outputs": [
    {
     "data": {
      "text/plain": [
       "array([  0,  20,  60, 120])"
      ]
     },
     "execution_count": 63,
     "metadata": {},
     "output_type": "execute_result"
    }
   ],
   "source": [
    "mul"
   ]
  },
  {
   "cell_type": "code",
   "execution_count": 64,
   "id": "d3b672a8-69d5-4ad1-9f39-9128dc2d8f4c",
   "metadata": {},
   "outputs": [
    {
     "data": {
      "text/plain": [
       "array([ 5., 10., 15., 20.])"
      ]
     },
     "execution_count": 64,
     "metadata": {},
     "output_type": "execute_result"
    }
   ],
   "source": [
    "div"
   ]
  },
  {
   "cell_type": "code",
   "execution_count": 70,
   "id": "e99031a4-7753-4430-9126-959273e9f62d",
   "metadata": {},
   "outputs": [
    {
     "data": {
      "text/plain": [
       "array([0, 1, 4, 9], dtype=int32)"
      ]
     },
     "execution_count": 70,
     "metadata": {},
     "output_type": "execute_result"
    }
   ],
   "source": [
    "sqr"
   ]
  },
  {
   "cell_type": "code",
   "execution_count": 71,
   "id": "8eed21f9-cc4f-4f72-b0fa-a04e362fc8d8",
   "metadata": {},
   "outputs": [
    {
     "data": {
      "text/plain": [
       "array([ 0,  1,  8, 27], dtype=int32)"
      ]
     },
     "execution_count": 71,
     "metadata": {},
     "output_type": "execute_result"
    }
   ],
   "source": [
    "cub"
   ]
  },
  {
   "cell_type": "code",
   "execution_count": 77,
   "id": "acc54301-56f0-4bd7-9af9-ceed7a566448",
   "metadata": {},
   "outputs": [
    {
     "data": {
      "text/plain": [
       "array([-5.44021111,  9.12945251, -9.88031624,  7.4511316 ])"
      ]
     },
     "execution_count": 77,
     "metadata": {},
     "output_type": "execute_result"
    }
   ],
   "source": [
    "fn = 10 * np.sin(a)\n",
    "fn"
   ]
  },
  {
   "cell_type": "code",
   "execution_count": 81,
   "id": "79b939ec-e7b2-4aab-af7d-43f2fc6e388b",
   "metadata": {},
   "outputs": [
    {
     "data": {
      "text/plain": [
       "array([ True, False, False, False])"
      ]
     },
     "execution_count": 81,
     "metadata": {},
     "output_type": "execute_result"
    }
   ],
   "source": [
    "a < 20"
   ]
  },
  {
   "cell_type": "code",
   "execution_count": 88,
   "id": "0800bd1b-3380-4b15-8449-6b60eb56a214",
   "metadata": {},
   "outputs": [],
   "source": [
    "A = np.array([[1,1],[0,1]])\n",
    "B = np.array([[2,0],[3,4]])"
   ]
  },
  {
   "cell_type": "code",
   "execution_count": 89,
   "id": "44a54ee6-7952-4d3d-bcd5-bce95a963b6f",
   "metadata": {},
   "outputs": [
    {
     "data": {
      "text/plain": [
       "array([[1, 1],\n",
       "       [0, 1]])"
      ]
     },
     "execution_count": 89,
     "metadata": {},
     "output_type": "execute_result"
    }
   ],
   "source": [
    "A"
   ]
  },
  {
   "cell_type": "code",
   "execution_count": 90,
   "id": "c426691b-5e47-4b11-8d2d-0ab4bb83a6cb",
   "metadata": {},
   "outputs": [
    {
     "data": {
      "text/plain": [
       "array([[2, 0],\n",
       "       [3, 4]])"
      ]
     },
     "execution_count": 90,
     "metadata": {},
     "output_type": "execute_result"
    }
   ],
   "source": [
    "B"
   ]
  },
  {
   "cell_type": "code",
   "execution_count": 91,
   "id": "e5eb411c-afec-4d62-be76-ddf7c55d3c23",
   "metadata": {},
   "outputs": [
    {
     "data": {
      "text/plain": [
       "array([[2, 0],\n",
       "       [0, 4]])"
      ]
     },
     "execution_count": 91,
     "metadata": {},
     "output_type": "execute_result"
    }
   ],
   "source": [
    "A * B #cartesian product of same array index digits\n"
   ]
  },
  {
   "cell_type": "code",
   "execution_count": 134,
   "id": "9679038f-c615-47f4-93ec-0df1f9462cd4",
   "metadata": {},
   "outputs": [
    {
     "data": {
      "text/plain": [
       "array([[5, 4],\n",
       "       [3, 4]])"
      ]
     },
     "execution_count": 134,
     "metadata": {},
     "output_type": "execute_result"
    }
   ],
   "source": [
    "A @ B #matrix product"
   ]
  },
  {
   "cell_type": "code",
   "execution_count": 135,
   "id": "9c482318-b8e5-48e6-a656-3f34825f1f95",
   "metadata": {},
   "outputs": [
    {
     "data": {
      "text/plain": [
       "array([[5, 4],\n",
       "       [3, 4]])"
      ]
     },
     "execution_count": 135,
     "metadata": {},
     "output_type": "execute_result"
    }
   ],
   "source": [
    "A.dot(B) #another matrix product"
   ]
  },
  {
   "cell_type": "code",
   "execution_count": 203,
   "id": "3001b555-0aa8-4923-a3fa-30e5e95d7d96",
   "metadata": {},
   "outputs": [
    {
     "data": {
      "text/plain": [
       "Generator(PCG64) at 0x2C61149E820"
      ]
     },
     "execution_count": 203,
     "metadata": {},
     "output_type": "execute_result"
    }
   ],
   "source": [
    "rg = np.random.default_rng(3) # create instance of default random number generator\n",
    "rg "
   ]
  },
  {
   "cell_type": "code",
   "execution_count": 204,
   "id": "f1f68697-c3c3-4dc8-8d2d-98b9575b31e9",
   "metadata": {},
   "outputs": [],
   "source": [
    "a = np.ones((2,3),dtype=int)\n",
    "b = rg.random((2,3))"
   ]
  },
  {
   "cell_type": "code",
   "execution_count": 205,
   "id": "0de8e9c3-7a4f-4a82-acc9-ec9d834a6fc0",
   "metadata": {},
   "outputs": [
    {
     "data": {
      "text/plain": [
       "array([[0.08564917, 0.23681051, 0.80127447],\n",
       "       [0.58216204, 0.09412864, 0.43312694]])"
      ]
     },
     "execution_count": 205,
     "metadata": {},
     "output_type": "execute_result"
    }
   ],
   "source": [
    "b"
   ]
  },
  {
   "cell_type": "code",
   "execution_count": 186,
   "id": "9df2b407-56fe-4315-97bf-8ecf7f9544af",
   "metadata": {},
   "outputs": [
    {
     "data": {
      "text/plain": [
       "array([[1, 1, 1],\n",
       "       [1, 1, 1]])"
      ]
     },
     "execution_count": 186,
     "metadata": {},
     "output_type": "execute_result"
    }
   ],
   "source": [
    "a"
   ]
  },
  {
   "cell_type": "code",
   "execution_count": 199,
   "id": "7f3e802f-3a53-4252-83d5-50129b20550e",
   "metadata": {},
   "outputs": [],
   "source": [
    "a *= 3 #create a new array instead of updating the old one"
   ]
  },
  {
   "cell_type": "code",
   "execution_count": 200,
   "id": "dcd81baa-24e2-44cf-adc2-f7113ca04dd6",
   "metadata": {},
   "outputs": [
    {
     "data": {
      "text/plain": [
       "array([[3, 3, 3],\n",
       "       [3, 3, 3]])"
      ]
     },
     "execution_count": 200,
     "metadata": {},
     "output_type": "execute_result"
    }
   ],
   "source": [
    "a"
   ]
  },
  {
   "cell_type": "code",
   "execution_count": 156,
   "id": "15863616-1b08-4115-9bbe-de5813710807",
   "metadata": {},
   "outputs": [],
   "source": [
    "a += 3"
   ]
  },
  {
   "cell_type": "code",
   "execution_count": 171,
   "id": "1ffd7e64-24e6-4712-a24d-4d089ee73c94",
   "metadata": {},
   "outputs": [],
   "source": [
    "b = np.arange(6).reshape(2,3)"
   ]
  },
  {
   "cell_type": "code",
   "execution_count": 206,
   "id": "49f15630-0bb4-4721-9f97-51be45ff0563",
   "metadata": {},
   "outputs": [
    {
     "data": {
      "text/plain": [
       "array([[1, 1, 1],\n",
       "       [1, 1, 1]])"
      ]
     },
     "execution_count": 206,
     "metadata": {},
     "output_type": "execute_result"
    }
   ],
   "source": [
    "b +=a #b = b+a -- b is 0.961 ... & a is array of 1\n",
    "a"
   ]
  },
  {
   "cell_type": "code",
   "execution_count": 207,
   "id": "6c0416c9-6477-4a26-9db6-2c391e50f9ec",
   "metadata": {
    "tags": []
   },
   "outputs": [
    {
     "data": {
      "text/plain": [
       "array([[1.08564917, 1.23681051, 1.80127447],\n",
       "       [1.58216204, 1.09412864, 1.43312694]])"
      ]
     },
     "execution_count": 207,
     "metadata": {},
     "output_type": "execute_result"
    }
   ],
   "source": [
    "b"
   ]
  },
  {
   "cell_type": "markdown",
   "id": "89884747-c16c-49fd-90fa-11993dc36bcf",
   "metadata": {},
   "source": [
    "#### When operating with arrays of different types, the type of the resulting array corresponds to the more general or precise one (a behavior known as upcasting)."
   ]
  },
  {
   "cell_type": "code",
   "execution_count": 208,
   "id": "298a8a76-371e-4bde-8e40-902e6846430f",
   "metadata": {},
   "outputs": [
    {
     "data": {
      "text/plain": [
       "array([1, 1, 1])"
      ]
     },
     "execution_count": 208,
     "metadata": {},
     "output_type": "execute_result"
    }
   ],
   "source": [
    "a1 = np.ones(3, dtype= np.int32)\n",
    "a1"
   ]
  },
  {
   "cell_type": "code",
   "execution_count": 210,
   "id": "edc41346-7219-4f8d-9a21-b07b2d59167a",
   "metadata": {},
   "outputs": [
    {
     "data": {
      "text/plain": [
       "array([0.        , 1.57079633, 3.14159265])"
      ]
     },
     "execution_count": 210,
     "metadata": {},
     "output_type": "execute_result"
    }
   ],
   "source": [
    "from numpy import pi\n",
    "a2 = np.linspace(0, pi , 3)\n",
    "a2"
   ]
  },
  {
   "cell_type": "code",
   "execution_count": 211,
   "id": "4ed3ac30-281c-482d-8fca-7f619c95a5d6",
   "metadata": {},
   "outputs": [
    {
     "data": {
      "text/plain": [
       "'float64'"
      ]
     },
     "execution_count": 211,
     "metadata": {},
     "output_type": "execute_result"
    }
   ],
   "source": [
    "a2.dtype.name"
   ]
  },
  {
   "cell_type": "code",
   "execution_count": 212,
   "id": "7ccecf91-a392-4095-84cf-cd0c379aefe9",
   "metadata": {},
   "outputs": [
    {
     "data": {
      "text/plain": [
       "'int32'"
      ]
     },
     "execution_count": 212,
     "metadata": {},
     "output_type": "execute_result"
    }
   ],
   "source": [
    "a1.dtype.name"
   ]
  },
  {
   "cell_type": "code",
   "execution_count": 214,
   "id": "b0ec600d-f893-4a22-bfc8-a1a110a2f2f7",
   "metadata": {},
   "outputs": [
    {
     "data": {
      "text/plain": [
       "array([[1.08564917, 1.23681051, 1.80127447],\n",
       "       [1.58216204, 1.09412864, 1.43312694]])"
      ]
     },
     "execution_count": 214,
     "metadata": {},
     "output_type": "execute_result"
    }
   ],
   "source": [
    "b"
   ]
  },
  {
   "cell_type": "code",
   "execution_count": 220,
   "id": "8a30d578-9ee8-48c9-9692-2d70ed389d26",
   "metadata": {},
   "outputs": [
    {
     "data": {
      "text/plain": [
       "array([[1, 2, 3],\n",
       "       [4, 5, 6]])"
      ]
     },
     "execution_count": 220,
     "metadata": {},
     "output_type": "execute_result"
    }
   ],
   "source": [
    "arr = np.array([(1,2,3),(4,5,6)])\n",
    "arr"
   ]
  },
  {
   "cell_type": "code",
   "execution_count": 225,
   "id": "d18d85b5-0994-485a-8fe3-90e9e8b887f6",
   "metadata": {},
   "outputs": [
    {
     "data": {
      "text/plain": [
       "array([[7.38905610e+00, 5.45981500e+01, 4.03428793e+02],\n",
       "       [2.98095799e+03, 2.20264658e+04, 1.62754791e+05]])"
      ]
     },
     "execution_count": 225,
     "metadata": {},
     "output_type": "execute_result"
    }
   ],
   "source": [
    "exp = np.exp(arr * 2)\n",
    "exp"
   ]
  },
  {
   "cell_type": "code",
   "execution_count": 226,
   "id": "445a85a3-95d5-43ae-9a6b-b239981998ce",
   "metadata": {},
   "outputs": [
    {
     "data": {
      "text/plain": [
       "'float64'"
      ]
     },
     "execution_count": 226,
     "metadata": {},
     "output_type": "execute_result"
    }
   ],
   "source": [
    "exp.dtype.name"
   ]
  },
  {
   "cell_type": "code",
   "execution_count": 227,
   "id": "793d6ea9-193b-42e5-8797-64d0f171e7e1",
   "metadata": {},
   "outputs": [
    {
     "data": {
      "text/plain": [
       "array([[ 0.54030231+0.84147098j, -0.41614684+0.90929743j,\n",
       "        -0.9899925 +0.14112001j],\n",
       "       [-0.65364362-0.7568025j ,  0.28366219-0.95892427j,\n",
       "         0.96017029-0.2794155j ]])"
      ]
     },
     "execution_count": 227,
     "metadata": {},
     "output_type": "execute_result"
    }
   ],
   "source": [
    "exp1 = np.exp(arr * 1j)\n",
    "exp1"
   ]
  },
  {
   "cell_type": "code",
   "execution_count": 228,
   "id": "5c96e16a-6766-43be-8f4f-bf55e82fa47c",
   "metadata": {},
   "outputs": [
    {
     "data": {
      "text/plain": [
       "'complex128'"
      ]
     },
     "execution_count": 228,
     "metadata": {},
     "output_type": "execute_result"
    }
   ],
   "source": [
    "exp1.dtype.name"
   ]
  },
  {
   "cell_type": "code",
   "execution_count": 244,
   "id": "aceaf8c9-b3d4-4245-b260-05e7bd6ba9cc",
   "metadata": {},
   "outputs": [
    {
     "data": {
      "text/plain": [
       "array([[0.21386699, 0.85864193, 0.12675498],\n",
       "       [0.29675777, 0.49284698, 0.84946041]])"
      ]
     },
     "execution_count": 244,
     "metadata": {},
     "output_type": "execute_result"
    }
   ],
   "source": [
    "rand = rg.random((2,3))\n",
    "rand"
   ]
  },
  {
   "cell_type": "code",
   "execution_count": 246,
   "id": "7907c4bc-e663-4e5f-9545-aeab474f2a95",
   "metadata": {},
   "outputs": [
    {
     "data": {
      "text/plain": [
       "2.838329061079676"
      ]
     },
     "execution_count": 246,
     "metadata": {},
     "output_type": "execute_result"
    }
   ],
   "source": [
    "rand.sum()"
   ]
  },
  {
   "cell_type": "code",
   "execution_count": 247,
   "id": "65323214-25fb-4a04-a065-5458eaf89e04",
   "metadata": {},
   "outputs": [
    {
     "data": {
      "text/plain": [
       "0.1267549797183054"
      ]
     },
     "execution_count": 247,
     "metadata": {},
     "output_type": "execute_result"
    }
   ],
   "source": [
    "rand.min()"
   ]
  },
  {
   "cell_type": "code",
   "execution_count": 248,
   "id": "b6b54001-5436-4af6-a4c8-110aa72b4e94",
   "metadata": {},
   "outputs": [
    {
     "data": {
      "text/plain": [
       "0.8586419321659043"
      ]
     },
     "execution_count": 248,
     "metadata": {},
     "output_type": "execute_result"
    }
   ],
   "source": [
    "rand.max()"
   ]
  },
  {
   "cell_type": "code",
   "execution_count": 250,
   "id": "44d67e6b-2eb7-4009-8ff8-ab5dc2736e75",
   "metadata": {},
   "outputs": [
    {
     "data": {
      "text/plain": [
       "array([[ 1,  2,  3],\n",
       "       [43, 42, 11]])"
      ]
     },
     "execution_count": 250,
     "metadata": {},
     "output_type": "execute_result"
    }
   ],
   "source": [
    "arr = np.array([(1,2,3),(43,42,11)])\n",
    "arr"
   ]
  },
  {
   "cell_type": "code",
   "execution_count": 251,
   "id": "88f95c55-6e39-4b93-a326-88cd7ce11b26",
   "metadata": {},
   "outputs": [
    {
     "data": {
      "text/plain": [
       "102"
      ]
     },
     "execution_count": 251,
     "metadata": {},
     "output_type": "execute_result"
    }
   ],
   "source": [
    "arr.sum()"
   ]
  },
  {
   "cell_type": "code",
   "execution_count": 253,
   "id": "990769e9-8087-410e-84f3-5bd342a63779",
   "metadata": {},
   "outputs": [
    {
     "data": {
      "text/plain": [
       "1"
      ]
     },
     "execution_count": 253,
     "metadata": {},
     "output_type": "execute_result"
    }
   ],
   "source": [
    "arr.min()"
   ]
  },
  {
   "cell_type": "code",
   "execution_count": 254,
   "id": "4ea8de78-66ef-4604-855f-17bd253215c5",
   "metadata": {},
   "outputs": [
    {
     "data": {
      "text/plain": [
       "43"
      ]
     },
     "execution_count": 254,
     "metadata": {},
     "output_type": "execute_result"
    }
   ],
   "source": [
    "arr.max()"
   ]
  }
 ],
 "metadata": {
  "kernelspec": {
   "display_name": "Python 3",
   "language": "python",
   "name": "python3"
  },
  "language_info": {
   "codemirror_mode": {
    "name": "ipython",
    "version": 3
   },
   "file_extension": ".py",
   "mimetype": "text/x-python",
   "name": "python",
   "nbconvert_exporter": "python",
   "pygments_lexer": "ipython3",
   "version": "3.8.8"
  }
 },
 "nbformat": 4,
 "nbformat_minor": 5
}
