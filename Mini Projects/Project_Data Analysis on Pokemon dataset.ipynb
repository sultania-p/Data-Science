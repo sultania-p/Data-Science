{
    "cells": [
        {
            "cell_type": "code",
            "execution_count": 4,
            "metadata": {},
            "outputs": [
                {
                    "data": {
                        "text/plain": "[Row(#='1', Name='Bulbasaur', Type 1='Grass', Type 2='Poison', HP='45', Attack='49', Defense='49', Sp. Atk='65', Sp. Def='65', Speed='45', Generation='1', Legendary='FALSE'),\n Row(#='2', Name='Ivysaur', Type 1='Grass', Type 2='Poison', HP='60', Attack='62', Defense='63', Sp. Atk='80', Sp. Def='80', Speed='60', Generation='1', Legendary='FALSE'),\n Row(#='3', Name='Venusaur', Type 1='Grass', Type 2='Poison', HP='80', Attack='82', Defense='83', Sp. Atk='100', Sp. Def='100', Speed='80', Generation='1', Legendary='FALSE'),\n Row(#='3', Name='VenusaurMega Venusaur', Type 1='Grass', Type 2='Poison', HP='80', Attack='100', Defense='123', Sp. Atk='122', Sp. Def='120', Speed='80', Generation='1', Legendary='FALSE'),\n Row(#='4', Name='Charmander', Type 1='Fire', Type 2=None, HP='39', Attack='52', Defense='43', Sp. Atk='60', Sp. Def='50', Speed='65', Generation='1', Legendary='FALSE')]"
                    },
                    "execution_count": 4,
                    "metadata": {},
                    "output_type": "execute_result"
                }
            ],
            "source": "# The code was removed by Watson Studio for sharing."
        },
        {
            "cell_type": "code",
            "execution_count": 5,
            "metadata": {},
            "outputs": [
                {
                    "data": {
                        "text/plain": "Row(#='1', Name='Bulbasaur', Type 1='Grass', Type 2='Poison', HP='45', Attack='49', Defense='49', Sp. Atk='65', Sp. Def='65', Speed='45', Generation='1', Legendary='FALSE')"
                    },
                    "execution_count": 5,
                    "metadata": {},
                    "output_type": "execute_result"
                }
            ],
            "source": "df_data_1.head()"
        },
        {
            "cell_type": "code",
            "execution_count": 7,
            "metadata": {},
            "outputs": [
                {
                    "data": {
                        "text/plain": "[Row(#='714', Name='Noibat', Type 1='Flying', Type 2='Dragon', HP='40', Attack='30', Defense='35', Sp. Atk='45', Sp. Def='40', Speed='55', Generation='6', Legendary='FALSE'),\n Row(#='715', Name='Noivern', Type 1='Flying', Type 2='Dragon', HP='85', Attack='70', Defense='80', Sp. Atk='97', Sp. Def='80', Speed='123', Generation='6', Legendary='FALSE'),\n Row(#='716', Name='Xerneas', Type 1='Fairy', Type 2=None, HP='126', Attack='131', Defense='95', Sp. Atk='131', Sp. Def='98', Speed='99', Generation='6', Legendary='TRUE'),\n Row(#='717', Name='Yveltal', Type 1='Dark', Type 2='Flying', HP='126', Attack='131', Defense='95', Sp. Atk='131', Sp. Def='98', Speed='99', Generation='6', Legendary='TRUE'),\n Row(#='718', Name='Zygarde50% Forme', Type 1='Dragon', Type 2='Ground', HP='108', Attack='100', Defense='121', Sp. Atk='81', Sp. Def='95', Speed='95', Generation='6', Legendary='TRUE'),\n Row(#='719', Name='Diancie', Type 1='Rock', Type 2='Fairy', HP='50', Attack='100', Defense='150', Sp. Atk='100', Sp. Def='150', Speed='50', Generation='6', Legendary='TRUE'),\n Row(#='719', Name='DiancieMega Diancie', Type 1='Rock', Type 2='Fairy', HP='50', Attack='160', Defense='110', Sp. Atk='160', Sp. Def='110', Speed='110', Generation='6', Legendary='TRUE'),\n Row(#='720', Name='HoopaHoopa Confined', Type 1='Psychic', Type 2='Ghost', HP='80', Attack='110', Defense='60', Sp. Atk='150', Sp. Def='130', Speed='70', Generation='6', Legendary='TRUE'),\n Row(#='720', Name='HoopaHoopa Unbound', Type 1='Psychic', Type 2='Dark', HP='80', Attack='160', Defense='60', Sp. Atk='170', Sp. Def='130', Speed='80', Generation='6', Legendary='TRUE'),\n Row(#='721', Name='Volcanion', Type 1='Fire', Type 2='Water', HP='80', Attack='110', Defense='120', Sp. Atk='130', Sp. Def='90', Speed='70', Generation='6', Legendary='TRUE')]"
                    },
                    "execution_count": 7,
                    "metadata": {},
                    "output_type": "execute_result"
                }
            ],
            "source": "df_data_1.tail(10)"
        },
        {
            "cell_type": "code",
            "execution_count": null,
            "metadata": {},
            "outputs": [],
            "source": ""
        }
    ],
    "metadata": {
        "kernelspec": {
            "display_name": "Python 3.8 with Spark",
            "language": "python3",
            "name": "python38"
        },
        "language_info": {
            "codemirror_mode": {
                "name": "ipython",
                "version": 3
            },
            "file_extension": ".py",
            "mimetype": "text/x-python",
            "name": "python",
            "nbconvert_exporter": "python",
            "pygments_lexer": "ipython3",
            "version": "3.8.12"
        }
    },
    "nbformat": 4,
    "nbformat_minor": 1
}