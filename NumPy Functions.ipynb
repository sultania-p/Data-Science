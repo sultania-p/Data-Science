{
 "cells": [
  {
   "cell_type": "code",
   "execution_count": 1,
   "id": "fe271c9e-b619-4119-923c-f4ba5c2d6f10",
   "metadata": {},
   "outputs": [],
   "source": [
    "import numpy as np"
   ]
  },
  {
   "cell_type": "markdown",
   "id": "ea4966e3-a5d1-493e-98b4-17ba0fc55d56",
   "metadata": {},
   "source": [
    "![green-divider](https://user-images.githubusercontent.com/7065401/52071924-c003ad80-2562-11e9-8297-1c6595f8a7ff.png)"
   ]
  },
  {
   "cell_type": "markdown",
   "id": "a2861816-c127-4cb0-b301-642b7df4446c",
   "metadata": {},
   "source": [
    "## Useful NumPy functions"
   ]
  },
  {
   "cell_type": "code",
   "execution_count": 47,
   "id": "b4a46811-38cc-4f10-9d98-a19ef8ae91e7",
   "metadata": {},
   "outputs": [
    {
     "data": {
      "text/plain": [
       "array([0.73569289, 0.65194209, 0.77066171, 0.2632086 , 0.70608473,\n",
       "       0.8656415 , 0.91857794, 0.65418328, 0.77890983, 0.09342839,\n",
       "       0.66361495, 0.72035126, 0.84630139, 0.20958241, 0.81058211,\n",
       "       0.40289057, 0.86107971, 0.26612721, 0.77255572, 0.538777  ])"
      ]
     },
     "execution_count": 47,
     "metadata": {},
     "output_type": "execute_result"
    }
   ],
   "source": [
    "np.random.random(size =20) # random array of 5 +ve elements"
   ]
  },
  {
   "cell_type": "code",
   "execution_count": 48,
   "id": "6eb69813-add9-47da-b13e-fc3505243e16",
   "metadata": {},
   "outputs": [
    {
     "data": {
      "text/plain": [
       "array([ 1.83776729, -0.92839517, -0.41282835,  0.3127624 ,  0.32231843,\n",
       "        1.48765421, -0.94007382, -0.03433325,  0.17249996, -1.54256839])"
      ]
     },
     "execution_count": 48,
     "metadata": {},
     "output_type": "execute_result"
    }
   ],
   "source": [
    "np.random.normal(size = 10)"
   ]
  },
  {
   "cell_type": "code",
   "execution_count": 15,
   "id": "5be93f7f-12a0-4786-a2fe-befe322a17c0",
   "metadata": {},
   "outputs": [
    {
     "data": {
      "text/plain": [
       "array([0.64413219, 0.88111388, 0.76473845])"
      ]
     },
     "execution_count": 15,
     "metadata": {},
     "output_type": "execute_result"
    }
   ],
   "source": [
    "np.random.rand(3)"
   ]
  },
  {
   "cell_type": "code",
   "execution_count": 17,
   "id": "1c12b62f-ebba-4cb6-ac63-52ab226be664",
   "metadata": {},
   "outputs": [
    {
     "data": {
      "text/plain": [
       "Generator(PCG64) at 0x25D0D5E59E0"
      ]
     },
     "execution_count": 17,
     "metadata": {},
     "output_type": "execute_result"
    }
   ],
   "source": [
    "np.random.default_rng(10)"
   ]
  },
  {
   "cell_type": "code",
   "execution_count": 43,
   "id": "cc0b0143-2f51-4588-93ca-725d4726ce3a",
   "metadata": {},
   "outputs": [
    {
     "data": {
      "text/plain": [
       "55"
      ]
     },
     "execution_count": 43,
     "metadata": {},
     "output_type": "execute_result"
    }
   ],
   "source": [
    "np.random.randint(100) #it will generate random integer number"
   ]
  },
  {
   "cell_type": "code",
   "execution_count": 51,
   "id": "c1f87ea2-f0ed-4318-9c30-c5cf9a0d2def",
   "metadata": {},
   "outputs": [
    {
     "data": {
      "text/plain": [
       "array([[0.84762225, 0.74486231, 0.86793886],\n",
       "       [0.30110357, 0.9713596 , 0.83533391]])"
      ]
     },
     "execution_count": 51,
     "metadata": {},
     "output_type": "execute_result"
    }
   ],
   "source": [
    "np.random.rand(2,3) # an n-dim array with 2 dim and 3 elements each"
   ]
  },
  {
   "cell_type": "markdown",
   "id": "ff081428-b1d5-4094-98d3-ae51be8d4bf0",
   "metadata": {},
   "source": [
    "***"
   ]
  },
  {
   "cell_type": "code",
   "execution_count": 52,
   "id": "56452520-4772-49fd-afea-b9671b1b5923",
   "metadata": {},
   "outputs": [
    {
     "data": {
      "text/plain": [
       "array([0, 1, 2, 3, 4, 5, 6, 7, 8, 9])"
      ]
     },
     "execution_count": 52,
     "metadata": {},
     "output_type": "execute_result"
    }
   ],
   "source": [
    "np.arange(10)"
   ]
  },
  {
   "cell_type": "code",
   "execution_count": 55,
   "id": "8805e15c-9686-48b5-baf5-cf399f2cb660",
   "metadata": {},
   "outputs": [
    {
     "data": {
      "text/plain": [
       "array([4, 5, 6, 7, 8, 9])"
      ]
     },
     "execution_count": 55,
     "metadata": {},
     "output_type": "execute_result"
    }
   ],
   "source": [
    "np.arange(4,10) # an array with start at 4 and end at 10 excluding"
   ]
  },
  {
   "cell_type": "code",
   "execution_count": 62,
   "id": "78afd66b-92af-480d-b520-e2db9be26de4",
   "metadata": {},
   "outputs": [
    {
     "data": {
      "text/plain": [
       "array([], dtype=int32)"
      ]
     },
     "execution_count": 62,
     "metadata": {},
     "output_type": "execute_result"
    }
   ],
   "source": [
    "np.arange(0,10,-1)"
   ]
  },
  {
   "cell_type": "code",
   "execution_count": 63,
   "id": "e375c5d6-1a69-45b0-82c7-e1ec73c079ce",
   "metadata": {},
   "outputs": [
    {
     "data": {
      "text/plain": [
       "array([15, 14, 13, 12, 11])"
      ]
     },
     "execution_count": 63,
     "metadata": {},
     "output_type": "execute_result"
    }
   ],
   "source": [
    "np.arange(15,10,-1)"
   ]
  },
  {
   "cell_type": "code",
   "execution_count": 64,
   "id": "c275cf6c-91b3-4631-9cb7-a675d6fb7f28",
   "metadata": {},
   "outputs": [
    {
     "data": {
      "text/plain": [
       "array([0, 1, 2, 3, 4])"
      ]
     },
     "execution_count": 64,
     "metadata": {},
     "output_type": "execute_result"
    }
   ],
   "source": [
    "np.arange(0,5,1)"
   ]
  },
  {
   "cell_type": "markdown",
   "id": "a7c13b0a-29ed-48d6-8c1a-b2ac87a2a0f7",
   "metadata": {},
   "source": [
    "***"
   ]
  },
  {
   "cell_type": "code",
   "execution_count": 66,
   "id": "83a6acda-80db-4165-b175-661d3856049a",
   "metadata": {},
   "outputs": [
    {
     "data": {
      "text/plain": [
       "array([[0, 1, 2, 3, 4],\n",
       "       [5, 6, 7, 8, 9]])"
      ]
     },
     "execution_count": 66,
     "metadata": {},
     "output_type": "execute_result"
    }
   ],
   "source": [
    "np.arange(10).reshape(2,5) #2 dim with 5 elements each"
   ]
  },
  {
   "cell_type": "code",
   "execution_count": 68,
   "id": "208d249f-3e47-4182-a52b-644458030e1b",
   "metadata": {},
   "outputs": [
    {
     "data": {
      "text/plain": [
       "array([[0, 1],\n",
       "       [2, 3],\n",
       "       [4, 5],\n",
       "       [6, 7],\n",
       "       [8, 9]])"
      ]
     },
     "execution_count": 68,
     "metadata": {},
     "output_type": "execute_result"
    }
   ],
   "source": [
    "np.arange(10).reshape(5,2) #5 dim with 2 elements each"
   ]
  },
  {
   "cell_type": "code",
   "execution_count": 69,
   "id": "e955dd4f-9943-43b5-be77-eb3552307f8e",
   "metadata": {},
   "outputs": [
    {
     "data": {
      "text/plain": [
       "<function ndarray.all>"
      ]
     },
     "execution_count": 69,
     "metadata": {},
     "output_type": "execute_result"
    }
   ],
   "source": [
    "np.arange(10).all"
   ]
  },
  {
   "cell_type": "code",
   "execution_count": 71,
   "id": "5b4c8d62-8a56-4aa6-bbca-ca3107628773",
   "metadata": {},
   "outputs": [
    {
     "data": {
      "text/plain": [
       "<function ndarray.item>"
      ]
     },
     "execution_count": 71,
     "metadata": {},
     "output_type": "execute_result"
    }
   ],
   "source": [
    "np.arange(10).item"
   ]
  },
  {
   "cell_type": "markdown",
   "id": "ec36f064-4b16-48ea-8723-a4cc109d45be",
   "metadata": {},
   "source": [
    "***"
   ]
  },
  {
   "cell_type": "code",
   "execution_count": 75,
   "id": "ba2d457f-5ac5-46c3-940d-29d52c46ac43",
   "metadata": {},
   "outputs": [
    {
     "data": {
      "text/plain": [
       "array([[0, 0, 0],\n",
       "       [0, 0, 0],\n",
       "       [0, 0, 0]])"
      ]
     },
     "execution_count": 75,
     "metadata": {},
     "output_type": "execute_result"
    }
   ],
   "source": [
    "np.zeros((3,3),dtype=int)"
   ]
  },
  {
   "cell_type": "code",
   "execution_count": 77,
   "id": "3dc09e0a-e071-4f8b-b4be-dddba3895f5d",
   "metadata": {},
   "outputs": [
    {
     "data": {
      "text/plain": [
       "array([2.12199579e-314, 1.28380745e-311, 4.70350495e-321, 6.95165821e-310,\n",
       "       0.00000000e+000])"
      ]
     },
     "execution_count": 77,
     "metadata": {},
     "output_type": "execute_result"
    }
   ],
   "source": [
    "np.empty(5)"
   ]
  },
  {
   "cell_type": "code",
   "execution_count": 81,
   "id": "1bed3061-a958-4542-8289-1e03931ad483",
   "metadata": {},
   "outputs": [
    {
     "data": {
      "text/plain": [
       "array([[2.12199579e-314, 1.28380745e-311],\n",
       "       [4.70350495e-321, 6.95165821e-310]])"
      ]
     },
     "execution_count": 81,
     "metadata": {},
     "output_type": "execute_result"
    }
   ],
   "source": [
    "np.empty((2,2))"
   ]
  },
  {
   "cell_type": "code",
   "execution_count": 83,
   "id": "ee298c21-1178-487e-a3da-34699f4b7add",
   "metadata": {},
   "outputs": [
    {
     "data": {
      "text/plain": [
       "array([[1., 0.],\n",
       "       [0., 1.]])"
      ]
     },
     "execution_count": 83,
     "metadata": {},
     "output_type": "execute_result"
    }
   ],
   "source": [
    "np.identity(2)"
   ]
  },
  {
   "cell_type": "code",
   "execution_count": 84,
   "id": "dde65692-a00d-49c6-afc6-25621654e49f",
   "metadata": {},
   "outputs": [
    {
     "data": {
      "text/plain": [
       "array([[1., 0., 0., 0., 0.],\n",
       "       [0., 1., 0., 0., 0.],\n",
       "       [0., 0., 1., 0., 0.],\n",
       "       [0., 0., 0., 1., 0.],\n",
       "       [0., 0., 0., 0., 1.]])"
      ]
     },
     "execution_count": 84,
     "metadata": {},
     "output_type": "execute_result"
    }
   ],
   "source": [
    "np.identity(5)"
   ]
  },
  {
   "cell_type": "code",
   "execution_count": 86,
   "id": "f5bcad52-1293-4d04-bc0a-4538d6d7746c",
   "metadata": {},
   "outputs": [
    {
     "data": {
      "text/plain": [
       "array([[1, 0, 0, 0, 0],\n",
       "       [0, 1, 0, 0, 0],\n",
       "       [0, 0, 1, 0, 0],\n",
       "       [0, 0, 0, 1, 0],\n",
       "       [0, 0, 0, 0, 1]])"
      ]
     },
     "execution_count": 86,
     "metadata": {},
     "output_type": "execute_result"
    }
   ],
   "source": [
    "np.identity((5),dtype=int)"
   ]
  },
  {
   "cell_type": "code",
   "execution_count": 87,
   "id": "abf76f79-f087-4b79-8fef-dd5b34510e3e",
   "metadata": {},
   "outputs": [
    {
     "data": {
      "text/plain": [
       "array([[1., 0., 0.],\n",
       "       [0., 1., 0.],\n",
       "       [0., 0., 1.]])"
      ]
     },
     "execution_count": 87,
     "metadata": {},
     "output_type": "execute_result"
    }
   ],
   "source": [
    "np.eye(3,3)"
   ]
  },
  {
   "cell_type": "code",
   "execution_count": 93,
   "id": "5adb66e3-15a3-412f-82bf-d29ece6cbb3e",
   "metadata": {},
   "outputs": [],
   "source": [
    "np.eye((6,5),dtype=int) #error"
   ]
  },
  {
   "cell_type": "code",
   "execution_count": 97,
   "id": "dc507a80-a3f4-4393-bf5b-73c1bbd20598",
   "metadata": {},
   "outputs": [
    {
     "data": {
      "text/plain": [
       "array([[0., 0., 1., 0., 0., 0.],\n",
       "       [0., 0., 0., 1., 0., 0.],\n",
       "       [0., 0., 0., 0., 1., 0.],\n",
       "       [0., 0., 0., 0., 0., 1.],\n",
       "       [0., 0., 0., 0., 0., 0.],\n",
       "       [0., 0., 0., 0., 0., 0.],\n",
       "       [0., 0., 0., 0., 0., 0.],\n",
       "       [0., 0., 0., 0., 0., 0.]])"
      ]
     },
     "execution_count": 97,
     "metadata": {},
     "output_type": "execute_result"
    }
   ],
   "source": [
    "np.eye(8,6, k=2) #k is the index which is set to 1, here K=2 means 3rd index position and tghen diagonaly"
   ]
  },
  {
   "cell_type": "code",
   "execution_count": 99,
   "id": "0956e0f0-201d-48b5-a1a2-9b2b206257c7",
   "metadata": {},
   "outputs": [
    {
     "data": {
      "text/plain": [
       "'W'"
      ]
     },
     "execution_count": 99,
     "metadata": {},
     "output_type": "execute_result"
    }
   ],
   "source": [
    "\"Hello World\"[6] #6th index position in string"
   ]
  },
  {
   "cell_type": "code",
   "execution_count": null,
   "id": "71108968-4a9b-41ff-8041-b50c9cbeb1d4",
   "metadata": {},
   "outputs": [],
   "source": []
  }
 ],
 "metadata": {
  "kernelspec": {
   "display_name": "Python 3",
   "language": "python",
   "name": "python3"
  },
  "language_info": {
   "codemirror_mode": {
    "name": "ipython",
    "version": 3
   },
   "file_extension": ".py",
   "mimetype": "text/x-python",
   "name": "python",
   "nbconvert_exporter": "python",
   "pygments_lexer": "ipython3",
   "version": "3.8.8"
  }
 },
 "nbformat": 4,
 "nbformat_minor": 5
}
