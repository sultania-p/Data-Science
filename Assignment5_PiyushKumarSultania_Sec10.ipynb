{
 "cells": [
  {
   "cell_type": "markdown",
   "id": "5c3ab413-6689-40d6-ae66-85c57cf21529",
   "metadata": {
    "tags": []
   },
   "source": [
    "## <font color = 'Blue'> Determine the probability that the sum of a three-dice roll is prime using the is_prime() predicate function.</font>\n",
    "\n",
    "> **_Solve using the functions mentioned in the notebook._**\n",
    "\n",
    "![green-divider](https://user-images.githubusercontent.com/7065401/52071924-c003ad80-2562-11e9-8297-1c6595f8a7ff.png)"
   ]
  },
  {
   "cell_type": "code",
   "execution_count": 1,
   "id": "80421ea8-cf3f-44a8-b94a-2caa94e6c8ed",
   "metadata": {},
   "outputs": [],
   "source": [
    "# import the packages\n",
    "from operator import mul\n",
    "from functools import reduce\n",
    "from fractions import Fraction"
   ]
  },
  {
   "cell_type": "code",
   "execution_count": 2,
   "id": "c09a53b3-7820-4cdf-9e57-8092088b33dd",
   "metadata": {},
   "outputs": [],
   "source": [
    "#Define the sample space D for a dice roll\n",
    "D    = {1, 2, 3, 4, 5, 6}"
   ]
  },
  {
   "cell_type": "code",
   "execution_count": 3,
   "id": "7cd276d3-c859-4898-85f4-7de83029b116",
   "metadata": {},
   "outputs": [],
   "source": [
    "def P(event, space): \n",
    "    if is_predicate(event):\n",
    "    # \"\"\"The probability of an event, given a sample space of equiprobable outcomes.\n",
    "    # event can be either a set of outcomes, or a predicate (true for outcomes in the event).\"\"\"\n",
    "        event = such_that(event, space)\n",
    "    return Fraction(len(event & space), len(space))\n",
    "\n",
    "is_predicate = callable\n",
    "\n",
    "def such_that(predicate, collection): \n",
    "    \"The subset of elements in the collection for which the predicate is true.\"\n",
    "    return {e for e in collection if predicate(e)}"
   ]
  },
  {
   "cell_type": "code",
   "execution_count": 4,
   "id": "c32b86d6-2b81-4198-9174-76cf30f7da23",
   "metadata": {},
   "outputs": [
    {
     "data": {
      "text/plain": [
       "Fraction(73, 216)"
      ]
     },
     "execution_count": 4,
     "metadata": {},
     "output_type": "execute_result"
    }
   ],
   "source": [
    "D3 = {(d1, d2, d3) for d1 in D for d2 in D for d3 in D}\n",
    "\n",
    "# check if the sum of the rolls is prime or not!\n",
    "def is_prime(num): \n",
    "    return num > 1 and not any(num % j == 0 for j in range(2,num))\n",
    "\n",
    "def prime_sum(output):\n",
    "    return is_prime(sum(output))\n",
    "\n",
    "P(prime_sum, D3)"
   ]
  },
  {
   "cell_type": "code",
   "execution_count": null,
   "id": "fb4e4bf8-75fc-425f-ae3b-ded7eb4c75c1",
   "metadata": {},
   "outputs": [],
   "source": []
  }
 ],
 "metadata": {
  "kernelspec": {
   "display_name": "Python 3 (ipykernel)",
   "language": "python",
   "name": "python3"
  },
  "language_info": {
   "codemirror_mode": {
    "name": "ipython",
    "version": 3
   },
   "file_extension": ".py",
   "mimetype": "text/x-python",
   "name": "python",
   "nbconvert_exporter": "python",
   "pygments_lexer": "ipython3",
   "version": "3.8.8"
  }
 },
 "nbformat": 4,
 "nbformat_minor": 5
}
