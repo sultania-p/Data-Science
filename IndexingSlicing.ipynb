{
 "cells": [
  {
   "cell_type": "code",
   "execution_count": 74,
   "id": "2702f7b1-d5da-43e6-9caf-c44e43c7d009",
   "metadata": {},
   "outputs": [
    {
     "data": {
      "text/plain": [
       "array([[ 0,  1,  2,  3],\n",
       "       [ 4,  5,  6,  7],\n",
       "       [ 8,  9, 10, 11]])"
      ]
     },
     "execution_count": 74,
     "metadata": {},
     "output_type": "execute_result"
    }
   ],
   "source": [
    "import numpy as np\n",
    "arr = np.arange(12).reshape(3,4)\n",
    "arr"
   ]
  },
  {
   "cell_type": "code",
   "execution_count": 5,
   "id": "3bfc7604-3657-4539-a27e-415435f07bcb",
   "metadata": {},
   "outputs": [
    {
     "data": {
      "text/plain": [
       "array([12, 15, 18, 21])"
      ]
     },
     "execution_count": 5,
     "metadata": {},
     "output_type": "execute_result"
    }
   ],
   "source": [
    "arr.sum(axis = 0) #sum of each column/dimension (12 = 0+4+8)"
   ]
  },
  {
   "cell_type": "code",
   "execution_count": 7,
   "id": "55397337-d15b-4384-bb60-7d5e101b899d",
   "metadata": {},
   "outputs": [
    {
     "data": {
      "text/plain": [
       "array([ 6, 22, 38])"
      ]
     },
     "execution_count": 7,
     "metadata": {},
     "output_type": "execute_result"
    }
   ],
   "source": [
    "arr.sum(axis = 1) #sum of each row (6 = 0+1+2+3)"
   ]
  },
  {
   "cell_type": "code",
   "execution_count": 8,
   "id": "ca02a695-5145-474a-b71c-ee021d934732",
   "metadata": {},
   "outputs": [
    {
     "data": {
      "text/plain": [
       "array([0, 1, 2, 3])"
      ]
     },
     "execution_count": 8,
     "metadata": {},
     "output_type": "execute_result"
    }
   ],
   "source": [
    "arr.min(axis=0) # 0 - across column"
   ]
  },
  {
   "cell_type": "code",
   "execution_count": 9,
   "id": "ec8b0f50-ea0d-4d3f-b476-12cbf2d93411",
   "metadata": {},
   "outputs": [
    {
     "data": {
      "text/plain": [
       "array([0, 4, 8])"
      ]
     },
     "execution_count": 9,
     "metadata": {},
     "output_type": "execute_result"
    }
   ],
   "source": [
    "arr.min(axis=1) #1- across row"
   ]
  },
  {
   "cell_type": "code",
   "execution_count": 11,
   "id": "cfa43644-8048-4a36-9e2d-f72e625dd757",
   "metadata": {},
   "outputs": [
    {
     "data": {
      "text/plain": [
       "array([ 8,  9, 10, 11])"
      ]
     },
     "execution_count": 11,
     "metadata": {},
     "output_type": "execute_result"
    }
   ],
   "source": [
    "arr.max(axis=0)"
   ]
  },
  {
   "cell_type": "code",
   "execution_count": 12,
   "id": "29ae37b5-ce10-4a16-9d38-d0dcd91b263c",
   "metadata": {},
   "outputs": [
    {
     "data": {
      "text/plain": [
       "array([ 3,  7, 11])"
      ]
     },
     "execution_count": 12,
     "metadata": {},
     "output_type": "execute_result"
    }
   ],
   "source": [
    "arr.max(axis=1)"
   ]
  },
  {
   "cell_type": "code",
   "execution_count": 15,
   "id": "a47b78f6-519a-4e20-9f69-e6b310f52e75",
   "metadata": {},
   "outputs": [
    {
     "data": {
      "text/plain": [
       "array([[ 0,  1,  2,  3],\n",
       "       [ 4,  6,  8, 10],\n",
       "       [12, 15, 18, 21]], dtype=int32)"
      ]
     },
     "execution_count": 15,
     "metadata": {},
     "output_type": "execute_result"
    }
   ],
   "source": [
    "arr.cumsum(axis=0) #cummulatuve sum for each element/field (last sum + current field value)"
   ]
  },
  {
   "cell_type": "code",
   "execution_count": 14,
   "id": "b2c8682f-2e9f-4d19-a3aa-57578afece57",
   "metadata": {},
   "outputs": [
    {
     "data": {
      "text/plain": [
       "array([[ 0,  1,  3,  6],\n",
       "       [ 4,  9, 15, 22],\n",
       "       [ 8, 17, 27, 38]], dtype=int32)"
      ]
     },
     "execution_count": 14,
     "metadata": {},
     "output_type": "execute_result"
    }
   ],
   "source": [
    "arr.cumsum(axis=1)"
   ]
  },
  {
   "cell_type": "markdown",
   "id": "968e773e-da1c-4701-bb7c-a3c89f3f54f6",
   "metadata": {},
   "source": [
    "### Universal Functions!\n",
    "\n",
    "> mathematical functions!\n",
    "\n",
    "sin, cos, exp etc"
   ]
  },
  {
   "cell_type": "code",
   "execution_count": 17,
   "id": "bb5f5ede-10dd-4524-9869-85656e6e11c9",
   "metadata": {},
   "outputs": [
    {
     "data": {
      "text/plain": [
       "array([0, 1, 2])"
      ]
     },
     "execution_count": 17,
     "metadata": {},
     "output_type": "execute_result"
    }
   ],
   "source": [
    "arr = np.arange(3)\n",
    "arr"
   ]
  },
  {
   "cell_type": "code",
   "execution_count": 18,
   "id": "c91f83d0-b593-4cdc-b828-63e58eb42e34",
   "metadata": {},
   "outputs": [
    {
     "data": {
      "text/plain": [
       "array([1.        , 2.71828183, 7.3890561 ])"
      ]
     },
     "execution_count": 18,
     "metadata": {},
     "output_type": "execute_result"
    }
   ],
   "source": [
    "np.exp(arr)"
   ]
  },
  {
   "cell_type": "code",
   "execution_count": 27,
   "id": "b182fd2f-0a95-4d87-b770-bf9e028a13b7",
   "metadata": {},
   "outputs": [
    {
     "data": {
      "text/plain": [
       "array([0.        , 1.        , 1.41421356])"
      ]
     },
     "execution_count": 27,
     "metadata": {},
     "output_type": "execute_result"
    }
   ],
   "source": [
    "arr1 = np.sqrt(arr) #square root\n",
    "arr1"
   ]
  },
  {
   "cell_type": "code",
   "execution_count": 30,
   "id": "e00c9747-30c8-4c1f-b5fe-0f9c18cd6a49",
   "metadata": {},
   "outputs": [
    {
     "data": {
      "text/plain": [
       "array([ 1.12   , -2.3    ,  3.34343])"
      ]
     },
     "execution_count": 30,
     "metadata": {},
     "output_type": "execute_result"
    }
   ],
   "source": [
    "arr2 = np.array([1.12,-2.3,3.34343])\n",
    "arr2"
   ]
  },
  {
   "cell_type": "code",
   "execution_count": 32,
   "id": "9b1945fb-7102-4730-b028-326b4ccfcf21",
   "metadata": {},
   "outputs": [
    {
     "data": {
      "text/plain": [
       "array([ 1.12   , -1.3    ,  5.34343])"
      ]
     },
     "execution_count": 32,
     "metadata": {},
     "output_type": "execute_result"
    }
   ],
   "source": [
    "arr + arr2"
   ]
  },
  {
   "cell_type": "code",
   "execution_count": 34,
   "id": "457ed23e-cc5c-480c-81d9-87d5d74cc4b4",
   "metadata": {},
   "outputs": [
    {
     "data": {
      "text/plain": [
       "array([0.        , 2.        , 3.41421356])"
      ]
     },
     "execution_count": 34,
     "metadata": {},
     "output_type": "execute_result"
    }
   ],
   "source": [
    "np.add(arr, arr1, arr2) # add function"
   ]
  },
  {
   "cell_type": "code",
   "execution_count": 43,
   "id": "21eb5359-947f-4fca-a521-8f3ea2140f68",
   "metadata": {},
   "outputs": [
    {
     "data": {
      "text/plain": [
       "0.816496580927726"
      ]
     },
     "execution_count": 43,
     "metadata": {},
     "output_type": "execute_result"
    }
   ],
   "source": [
    "# statistical functions\n",
    "\n",
    "np.min(arr)\n",
    "np.max(arr)\n",
    "np.median(arr)\n",
    "np.mean(arr)\n",
    "np.std(arr)\n"
   ]
  },
  {
   "cell_type": "markdown",
   "id": "7133c5de-0812-4dbe-a724-a6540e0556e0",
   "metadata": {},
   "source": [
    "### Indexing, Slicing and Iterating\n",
    "> One-dimensional arrays can be indexed, sliced and iterated over, much like lists and other Python sequences."
   ]
  },
  {
   "cell_type": "code",
   "execution_count": 64,
   "id": "7eefa086-9ea6-4c94-a4c5-110ae78c63fb",
   "metadata": {},
   "outputs": [
    {
     "data": {
      "text/plain": [
       "array([  0,   1,   8,  27,  64, 125, 216, 343, 512, 729], dtype=int32)"
      ]
     },
     "execution_count": 64,
     "metadata": {},
     "output_type": "execute_result"
    }
   ],
   "source": [
    "iarr = np.arange(10)**3\n",
    "iarr"
   ]
  },
  {
   "cell_type": "code",
   "execution_count": 52,
   "id": "160b0832-0eaa-4cc7-b112-27825f4c995c",
   "metadata": {},
   "outputs": [
    {
     "data": {
      "text/plain": [
       "array([ 0,  8, 64], dtype=int32)"
      ]
     },
     "execution_count": 52,
     "metadata": {},
     "output_type": "execute_result"
    }
   ],
   "source": [
    "iarr[0] # 0 index is the starting of array\n",
    "iarr[2]\n",
    "#iarr[22] # out of bound\n",
    "iarr[5]\n",
    "iarr[:6:2] # starting 0 index till 6th index and taking every 2nd element"
   ]
  },
  {
   "cell_type": "code",
   "execution_count": 53,
   "id": "20f48239-fa9a-4598-a360-b617a0fdd58c",
   "metadata": {},
   "outputs": [
    {
     "data": {
      "text/plain": [
       "729"
      ]
     },
     "execution_count": 53,
     "metadata": {},
     "output_type": "execute_result"
    }
   ],
   "source": [
    "iarr[-1]"
   ]
  },
  {
   "cell_type": "code",
   "execution_count": 55,
   "id": "3e18434c-6b7d-4b0e-92ed-d0eab3aadb57",
   "metadata": {},
   "outputs": [
    {
     "data": {
      "text/plain": [
       "array([  0,   1,   8,  27,  64, 125, 216], dtype=int32)"
      ]
     },
     "execution_count": 55,
     "metadata": {},
     "output_type": "execute_result"
    }
   ],
   "source": [
    "iarr[:-3] #starting from first till -4 inclusive"
   ]
  },
  {
   "cell_type": "code",
   "execution_count": 57,
   "id": "5a3cdcf6-e909-4a47-b813-5bd594dce57e",
   "metadata": {},
   "outputs": [
    {
     "data": {
      "text/plain": [
       "array([ 27,  64, 125], dtype=int32)"
      ]
     },
     "execution_count": 57,
     "metadata": {},
     "output_type": "execute_result"
    }
   ],
   "source": [
    "iarr[3:6]"
   ]
  },
  {
   "cell_type": "code",
   "execution_count": 59,
   "id": "675178dd-4b6e-43b7-9814-bd69daa2836a",
   "metadata": {},
   "outputs": [
    {
     "data": {
      "text/plain": [
       "array([729, 512, 343, 216, 125,  64,  27,   8,   1,   0], dtype=int32)"
      ]
     },
     "execution_count": 59,
     "metadata": {},
     "output_type": "execute_result"
    }
   ],
   "source": [
    "iarr[::-1] #whole array with negative slicing, going back in array list"
   ]
  },
  {
   "cell_type": "code",
   "execution_count": 65,
   "id": "917871c8-8c97-4e1f-ac32-476f388264c1",
   "metadata": {},
   "outputs": [
    {
     "data": {
      "text/plain": [
       "array([  0,   1,   8,  27,  64, 125, 216, 343, 512, 729], dtype=int32)"
      ]
     },
     "execution_count": 65,
     "metadata": {},
     "output_type": "execute_result"
    }
   ],
   "source": [
    "iarr"
   ]
  },
  {
   "cell_type": "code",
   "execution_count": 66,
   "id": "ede0e62c-3fcf-4b3b-a858-69cd80ec3c4f",
   "metadata": {},
   "outputs": [
    {
     "data": {
      "text/plain": [
       "array([1000,    1, 1000,   27,   64,  125,  216,  343,  512,  729],\n",
       "      dtype=int32)"
      ]
     },
     "execution_count": 66,
     "metadata": {},
     "output_type": "execute_result"
    }
   ],
   "source": [
    "iarr[:4:2] = 1000 #setting up the every 2nd element in array to 1000\n",
    "iarr"
   ]
  },
  {
   "cell_type": "code",
   "execution_count": 68,
   "id": "3fe44bcc-4827-4d30-95ef-2269b797f8fd",
   "metadata": {},
   "outputs": [
    {
     "data": {
      "text/plain": [
       "array([ 729,  512,  343,  216,  125,   64,   27, 1000,    1, 1000],\n",
       "      dtype=int32)"
      ]
     },
     "execution_count": 68,
     "metadata": {},
     "output_type": "execute_result"
    }
   ],
   "source": [
    "iarr[::-1]"
   ]
  },
  {
   "cell_type": "code",
   "execution_count": 71,
   "id": "aa2403dd-45a1-49dd-afad-f5687a258350",
   "metadata": {},
   "outputs": [
    {
     "data": {
      "text/plain": [
       "array([1000,    1, 1000,   27,   64,  125,  216,  343,  512,  729],\n",
       "      dtype=int32)"
      ]
     },
     "execution_count": 71,
     "metadata": {},
     "output_type": "execute_result"
    }
   ],
   "source": [
    "iarr"
   ]
  },
  {
   "cell_type": "code",
   "execution_count": 74,
   "id": "bbc19849-9b80-4b93-9529-75ee3d5b4e99",
   "metadata": {},
   "outputs": [
    {
     "name": "stdout",
     "output_type": "stream",
     "text": [
      "9.999999999999998\n",
      "1.0\n",
      "9.999999999999998\n",
      "3.0\n",
      "3.9999999999999996\n",
      "5.0\n",
      "5.999999999999999\n",
      "6.999999999999999\n",
      "7.999999999999999\n",
      "8.999999999999998\n"
     ]
    }
   ],
   "source": [
    "iarr\n",
    "for i in iarr:\n",
    "    print(i**(1/3))\n",
    "    #print(\"*\" * 10)"
   ]
  },
  {
   "cell_type": "markdown",
   "id": "7dc49917-9960-467d-99e4-ac993df0f394",
   "metadata": {},
   "source": [
    "> _Multidimensional arrays can have one index per axis. These indices are given in a tuple separated by commas:_"
   ]
  },
  {
   "cell_type": "code",
   "execution_count": 3,
   "id": "d8497674-9566-443a-93b0-8f860c74d409",
   "metadata": {},
   "outputs": [
    {
     "data": {
      "text/plain": [
       "array([[ 0,  1,  2,  3],\n",
       "       [10, 11, 12, 13],\n",
       "       [20, 21, 22, 23],\n",
       "       [30, 31, 32, 33],\n",
       "       [40, 41, 42, 43]])"
      ]
     },
     "execution_count": 3,
     "metadata": {},
     "output_type": "execute_result"
    }
   ],
   "source": [
    "def f(x,y): #define function with variable x,y\n",
    "    return 10 * x + y\n",
    "val = np.fromfunction(f, (5,4), dtype=np.int32)\n",
    "val"
   ]
  },
  {
   "cell_type": "code",
   "execution_count": 83,
   "id": "5e14f9af-98dc-4a8b-82bb-4f5ff604f2ee",
   "metadata": {},
   "outputs": [
    {
     "data": {
      "text/plain": [
       "array([[ 0,  1,  2,  3, 10],\n",
       "       [11, 12, 13, 20, 21],\n",
       "       [22, 23, 30, 31, 32],\n",
       "       [33, 40, 41, 42, 43]])"
      ]
     },
     "execution_count": 83,
     "metadata": {},
     "output_type": "execute_result"
    }
   ],
   "source": [
    "np.reshape(val,(4,5))"
   ]
  },
  {
   "cell_type": "code",
   "execution_count": 86,
   "id": "8063e444-661d-42b6-8c95-6a4884fb773a",
   "metadata": {},
   "outputs": [
    {
     "data": {
      "text/plain": [
       "array([[20, 21, 22, 23]])"
      ]
     },
     "execution_count": 86,
     "metadata": {},
     "output_type": "execute_result"
    }
   ],
   "source": [
    "val[2:3] #in case of array slicing, every axis is considered as an array element"
   ]
  },
  {
   "cell_type": "code",
   "execution_count": 89,
   "id": "80837bd4-792d-4caf-90a7-7f37b1255565",
   "metadata": {},
   "outputs": [
    {
     "data": {
      "text/plain": [
       "array([[40, 41, 42, 43],\n",
       "       [30, 31, 32, 33],\n",
       "       [20, 21, 22, 23],\n",
       "       [10, 11, 12, 13],\n",
       "       [ 0,  1,  2,  3]])"
      ]
     },
     "execution_count": 89,
     "metadata": {},
     "output_type": "execute_result"
    }
   ],
   "source": [
    "val[::-1] #reverse of array"
   ]
  },
  {
   "cell_type": "code",
   "execution_count": 91,
   "id": "27bafabc-d14a-40c9-9393-620a92dea318",
   "metadata": {},
   "outputs": [
    {
     "data": {
      "text/plain": [
       "array([[40, 41, 42, 43],\n",
       "       [30, 31, 32, 33]])"
      ]
     },
     "execution_count": 91,
     "metadata": {},
     "output_type": "execute_result"
    }
   ],
   "source": [
    "val[-1:-3:-1]"
   ]
  },
  {
   "cell_type": "code",
   "execution_count": 93,
   "id": "4c5fab49-3c1c-4994-919f-5a64f6be6843",
   "metadata": {},
   "outputs": [
    {
     "data": {
      "text/plain": [
       "array([[ 0,  1,  2,  3],\n",
       "       [10, 11, 12, 13],\n",
       "       [20, 21, 22, 23],\n",
       "       [30, 31, 32, 33],\n",
       "       [40, 41, 42, 43]])"
      ]
     },
     "execution_count": 93,
     "metadata": {},
     "output_type": "execute_result"
    }
   ],
   "source": [
    "val"
   ]
  },
  {
   "cell_type": "code",
   "execution_count": 95,
   "id": "91a43a82-7802-45be-869e-a1005e2a64c7",
   "metadata": {},
   "outputs": [
    {
     "data": {
      "text/plain": [
       "23"
      ]
     },
     "execution_count": 95,
     "metadata": {},
     "output_type": "execute_result"
    }
   ],
   "source": [
    "val[2,3] #starting index is always 0 in array, 2nd axis index pos and 3rd index element in that axis"
   ]
  },
  {
   "cell_type": "code",
   "execution_count": 98,
   "id": "aa24b9ad-13ee-4613-bf51-d34d219f3ced",
   "metadata": {},
   "outputs": [
    {
     "data": {
      "text/plain": [
       "array([ 2, 12, 22, 32, 42])"
      ]
     },
     "execution_count": 98,
     "metadata": {},
     "output_type": "execute_result"
    }
   ],
   "source": [
    "val[0:,2] #for all the rows select 3rd element"
   ]
  },
  {
   "cell_type": "code",
   "execution_count": 103,
   "id": "f11a3489-eab7-44b8-a3a2-da257034adb3",
   "metadata": {},
   "outputs": [
    {
     "data": {
      "text/plain": [
       "array([ 2, 12, 22, 32, 42])"
      ]
     },
     "execution_count": 103,
     "metadata": {},
     "output_type": "execute_result"
    }
   ],
   "source": [
    "val[:,2] #starting and ending index not defined so it will be entire array list"
   ]
  },
  {
   "cell_type": "code",
   "execution_count": 4,
   "id": "b09a511b-dcb1-45d4-bf9b-a47ca8eeff46",
   "metadata": {},
   "outputs": [
    {
     "data": {
      "text/plain": [
       "array([[10, 11, 12, 13],\n",
       "       [20, 21, 22, 23]])"
      ]
     },
     "execution_count": 4,
     "metadata": {},
     "output_type": "execute_result"
    }
   ],
   "source": [
    "val[1:3,:]"
   ]
  },
  {
   "cell_type": "code",
   "execution_count": 6,
   "id": "449366d7-edb7-4def-9c7f-a3fa9d2969b2",
   "metadata": {},
   "outputs": [
    {
     "data": {
      "text/plain": [
       "array([[ 0,  1,  2,  3],\n",
       "       [10, 11, 12, 13],\n",
       "       [20, 21, 22, 23],\n",
       "       [30, 31, 32, 33],\n",
       "       [40, 41, 42, 43]])"
      ]
     },
     "execution_count": 6,
     "metadata": {},
     "output_type": "execute_result"
    }
   ],
   "source": [
    "val"
   ]
  },
  {
   "cell_type": "code",
   "execution_count": 7,
   "id": "35664c71-6c7f-499d-b266-20671ba7b0b4",
   "metadata": {},
   "outputs": [
    {
     "data": {
      "text/plain": [
       "array([40, 41, 42, 43])"
      ]
     },
     "execution_count": 7,
     "metadata": {},
     "output_type": "execute_result"
    }
   ],
   "source": [
    "val[-1] #last index of array, consider the entire array run"
   ]
  },
  {
   "cell_type": "code",
   "execution_count": 13,
   "id": "b6bd6b19-d6f4-404a-bc57-1b5da87aa0c3",
   "metadata": {},
   "outputs": [
    {
     "data": {
      "text/plain": [
       "array([0, 1, 2, 3, 4])"
      ]
     },
     "execution_count": 13,
     "metadata": {},
     "output_type": "execute_result"
    }
   ],
   "source": [
    "arr = np.arange(5).reshape(5)\n",
    "arr"
   ]
  },
  {
   "cell_type": "code",
   "execution_count": 14,
   "id": "6703cddc-75c5-4b80-8f8f-8fd2875d0eff",
   "metadata": {},
   "outputs": [
    {
     "data": {
      "text/plain": [
       "(3, 1, 2)"
      ]
     },
     "execution_count": 14,
     "metadata": {},
     "output_type": "execute_result"
    }
   ],
   "source": [
    "arr[3], arr[1], arr[2]"
   ]
  },
  {
   "cell_type": "code",
   "execution_count": 16,
   "id": "51a2dd3c-0ab4-41cc-a619-087bc96f0b1c",
   "metadata": {},
   "outputs": [
    {
     "data": {
      "text/plain": [
       "array([0, 2, 4])"
      ]
     },
     "execution_count": 16,
     "metadata": {},
     "output_type": "execute_result"
    }
   ],
   "source": [
    "arr[[0,2,-1]]"
   ]
  },
  {
   "cell_type": "code",
   "execution_count": 17,
   "id": "bec1b24a-bd8b-4bda-a4f0-d9bec0235096",
   "metadata": {},
   "outputs": [
    {
     "data": {
      "text/plain": [
       "array([0, 1, 2, 3, 4])"
      ]
     },
     "execution_count": 17,
     "metadata": {},
     "output_type": "execute_result"
    }
   ],
   "source": [
    "arr"
   ]
  },
  {
   "cell_type": "code",
   "execution_count": 18,
   "id": "d506d2b5-a904-4b1f-825b-42aff065918f",
   "metadata": {},
   "outputs": [
    {
     "data": {
      "text/plain": [
       "dtype('int32')"
      ]
     },
     "execution_count": 18,
     "metadata": {},
     "output_type": "execute_result"
    }
   ],
   "source": [
    "arr.dtype"
   ]
  },
  {
   "cell_type": "code",
   "execution_count": 20,
   "id": "fe1be7c5-4e1f-4739-9606-07a0649ee89c",
   "metadata": {},
   "outputs": [
    {
     "data": {
      "text/plain": [
       "array([1. , 1.5, 2. , 2.5])"
      ]
     },
     "execution_count": 20,
     "metadata": {},
     "output_type": "execute_result"
    }
   ],
   "source": [
    "f_arr = np.array([1.0,1.5,2.0,2.5])\n",
    "f_arr"
   ]
  },
  {
   "cell_type": "code",
   "execution_count": 21,
   "id": "7de1b592-8b3f-4ad5-8890-84e02267d62e",
   "metadata": {},
   "outputs": [
    {
     "data": {
      "text/plain": [
       "dtype('float64')"
      ]
     },
     "execution_count": 21,
     "metadata": {},
     "output_type": "execute_result"
    }
   ],
   "source": [
    "f_arr.dtype"
   ]
  },
  {
   "cell_type": "code",
   "execution_count": 31,
   "id": "78574251-aab5-41ac-9bc1-c26a3aff8246",
   "metadata": {},
   "outputs": [
    {
     "data": {
      "text/plain": [
       "array([1, 2, 3, 4], dtype=int8)"
      ]
     },
     "execution_count": 31,
     "metadata": {},
     "output_type": "execute_result"
    }
   ],
   "source": [
    "x = np.array([1.1,2.2,3.3,4.4], dtype=np.int8) # converted the float array to int\n",
    "x"
   ]
  },
  {
   "cell_type": "code",
   "execution_count": 27,
   "id": "18937bf2-b394-407c-9f14-15d82de103cb",
   "metadata": {},
   "outputs": [],
   "source": [
    "c = np.array(['a','b','c'])"
   ]
  },
  {
   "cell_type": "code",
   "execution_count": 34,
   "id": "db022393-4945-4ee5-9ff4-4e859b325e20",
   "metadata": {},
   "outputs": [
    {
     "data": {
      "text/plain": [
       "dtype('<U1')"
      ]
     },
     "execution_count": 34,
     "metadata": {},
     "output_type": "execute_result"
    }
   ],
   "source": [
    "c.dtype # unicode representation of the string array in numpy"
   ]
  },
  {
   "cell_type": "code",
   "execution_count": 32,
   "id": "672ea75c-ebe2-481c-b879-7c5444be7d65",
   "metadata": {},
   "outputs": [
    {
     "data": {
      "text/plain": [
       "array([1, 2, 3, 4], dtype=int8)"
      ]
     },
     "execution_count": 32,
     "metadata": {},
     "output_type": "execute_result"
    }
   ],
   "source": [
    "x"
   ]
  },
  {
   "cell_type": "code",
   "execution_count": 37,
   "id": "b32042e4-0133-4d8d-9ce6-3c948cfef4bc",
   "metadata": {},
   "outputs": [
    {
     "data": {
      "text/plain": [
       "array([[1, 2, 3],\n",
       "       [4, 5, 6]])"
      ]
     },
     "execution_count": 37,
     "metadata": {},
     "output_type": "execute_result"
    }
   ],
   "source": [
    "A = np.array([[1,2,3],[4,5,6]])\n",
    "A"
   ]
  },
  {
   "cell_type": "code",
   "execution_count": 38,
   "id": "bfe9c3f5-6527-4524-9f6b-f4626a335cb5",
   "metadata": {},
   "outputs": [
    {
     "data": {
      "text/plain": [
       "dtype('int32')"
      ]
     },
     "execution_count": 38,
     "metadata": {},
     "output_type": "execute_result"
    }
   ],
   "source": [
    "A.dtype"
   ]
  },
  {
   "cell_type": "code",
   "execution_count": 40,
   "id": "4dbc69e1-75c0-4f04-965f-63ff28df7cfe",
   "metadata": {},
   "outputs": [
    {
     "data": {
      "text/plain": [
       "(2, 3)"
      ]
     },
     "execution_count": 40,
     "metadata": {},
     "output_type": "execute_result"
    }
   ],
   "source": [
    "A.shape # 2-dimension, 3-elements in each dim"
   ]
  },
  {
   "cell_type": "code",
   "execution_count": 42,
   "id": "bcdbc621-219f-44e4-bd3c-1630ee2335a3",
   "metadata": {},
   "outputs": [
    {
     "data": {
      "text/plain": [
       "2"
      ]
     },
     "execution_count": 42,
     "metadata": {},
     "output_type": "execute_result"
    }
   ],
   "source": [
    "A.ndim # no of dimensions"
   ]
  },
  {
   "cell_type": "code",
   "execution_count": 44,
   "id": "39027da7-bea2-4fb9-9759-4915e86b10e8",
   "metadata": {},
   "outputs": [
    {
     "data": {
      "text/plain": [
       "6"
      ]
     },
     "execution_count": 44,
     "metadata": {},
     "output_type": "execute_result"
    }
   ],
   "source": [
    "A.size #no of total elements dim*elements"
   ]
  },
  {
   "cell_type": "code",
   "execution_count": 46,
   "id": "f6bfcffe-6cac-4bf6-9dbe-085685d6eab8",
   "metadata": {},
   "outputs": [],
   "source": [
    "B = np.array([\n",
    "    [\n",
    "        [1,2,3],\n",
    "        [4,5,6]\n",
    "    ],\n",
    "    [\n",
    "        [7,8,9],\n",
    "        [10,11,12]\n",
    "    ]\n",
    "])"
   ]
  },
  {
   "cell_type": "code",
   "execution_count": 47,
   "id": "e4085c7e-85b6-4ce6-bb71-31d9464b14c6",
   "metadata": {},
   "outputs": [
    {
     "data": {
      "text/plain": [
       "array([[[ 1,  2,  3],\n",
       "        [ 4,  5,  6]],\n",
       "\n",
       "       [[ 7,  8,  9],\n",
       "        [10, 11, 12]]])"
      ]
     },
     "execution_count": 47,
     "metadata": {},
     "output_type": "execute_result"
    }
   ],
   "source": [
    "B"
   ]
  },
  {
   "cell_type": "code",
   "execution_count": 48,
   "id": "4baa5d2d-2ac6-439a-8524-65fe4f9e09fa",
   "metadata": {},
   "outputs": [
    {
     "data": {
      "text/plain": [
       "(2, 2, 3)"
      ]
     },
     "execution_count": 48,
     "metadata": {},
     "output_type": "execute_result"
    }
   ],
   "source": [
    "B.shape"
   ]
  },
  {
   "cell_type": "code",
   "execution_count": 49,
   "id": "ff639046-d5b9-48ee-8b41-615a67bd22ed",
   "metadata": {},
   "outputs": [
    {
     "data": {
      "text/plain": [
       "3"
      ]
     },
     "execution_count": 49,
     "metadata": {},
     "output_type": "execute_result"
    }
   ],
   "source": [
    "B.ndim"
   ]
  },
  {
   "cell_type": "code",
   "execution_count": 50,
   "id": "945bf40c-dbcd-4bff-8070-69bb9894095b",
   "metadata": {},
   "outputs": [
    {
     "data": {
      "text/plain": [
       "12"
      ]
     },
     "execution_count": 50,
     "metadata": {},
     "output_type": "execute_result"
    }
   ],
   "source": [
    "B.size"
   ]
  },
  {
   "cell_type": "code",
   "execution_count": 62,
   "id": "657708e7-3538-4aaa-a26c-4f52fea0fb08",
   "metadata": {},
   "outputs": [],
   "source": [
    "C = np.array([\n",
    "    [\n",
    "        [1,2,3],\n",
    "        [4,5,6]\n",
    "    ],\n",
    "    [\n",
    "        [7,8,9]\n",
    "    ]\n",
    "],dtype=object)"
   ]
  },
  {
   "cell_type": "code",
   "execution_count": 53,
   "id": "465029a1-da96-4142-9c9f-65295ea1a0a8",
   "metadata": {},
   "outputs": [
    {
     "data": {
      "text/plain": [
       "dtype('O')"
      ]
     },
     "execution_count": 53,
     "metadata": {},
     "output_type": "execute_result"
    }
   ],
   "source": [
    "C.dtype"
   ]
  },
  {
   "cell_type": "code",
   "execution_count": 54,
   "id": "8f0d0c16-cd34-4a86-a5b9-db48a4731198",
   "metadata": {},
   "outputs": [
    {
     "data": {
      "text/plain": [
       "(2,)"
      ]
     },
     "execution_count": 54,
     "metadata": {},
     "output_type": "execute_result"
    }
   ],
   "source": [
    "C.shape"
   ]
  },
  {
   "cell_type": "code",
   "execution_count": 55,
   "id": "cc285b0c-bbaa-4652-96fa-80d841099cf4",
   "metadata": {},
   "outputs": [
    {
     "data": {
      "text/plain": [
       "1"
      ]
     },
     "execution_count": 55,
     "metadata": {},
     "output_type": "execute_result"
    }
   ],
   "source": [
    "C.ndim"
   ]
  },
  {
   "cell_type": "code",
   "execution_count": 56,
   "id": "26592218-7fdf-411e-aeb9-ecd639c700b1",
   "metadata": {},
   "outputs": [
    {
     "data": {
      "text/plain": [
       "2"
      ]
     },
     "execution_count": 56,
     "metadata": {},
     "output_type": "execute_result"
    }
   ],
   "source": [
    "C.size"
   ]
  },
  {
   "cell_type": "code",
   "execution_count": 64,
   "id": "cf33b5d2-acdc-4b3c-b446-482f7c3f52ad",
   "metadata": {},
   "outputs": [],
   "source": [
    "A = np.array([\n",
    "#.   0. 1. 2.\n",
    "    [1, 2, 3], # 0\n",
    "    [4, 5, 6], # 1\n",
    "    [7, 8, 9]  # 2\n",
    "])"
   ]
  },
  {
   "cell_type": "code",
   "execution_count": 67,
   "id": "a3c079ce-bd92-4db1-bd4f-6ce387c7c2a8",
   "metadata": {},
   "outputs": [
    {
     "data": {
      "text/plain": [
       "2"
      ]
     },
     "execution_count": 67,
     "metadata": {},
     "output_type": "execute_result"
    }
   ],
   "source": [
    "# A [d1, d2, d3, d4]\n",
    "A[0][1]"
   ]
  },
  {
   "cell_type": "code",
   "execution_count": 68,
   "id": "7e8ab7c6-b82a-48e9-b344-2f71dcf40f9e",
   "metadata": {},
   "outputs": [
    {
     "data": {
      "text/plain": [
       "array([2, 5, 8])"
      ]
     },
     "execution_count": 68,
     "metadata": {},
     "output_type": "execute_result"
    }
   ],
   "source": [
    "A[:,1]"
   ]
  },
  {
   "cell_type": "code",
   "execution_count": 69,
   "id": "3605bf76-c99e-4ca7-a0f6-d164ee1f4423",
   "metadata": {},
   "outputs": [
    {
     "data": {
      "text/plain": [
       "array([5])"
      ]
     },
     "execution_count": 69,
     "metadata": {},
     "output_type": "execute_result"
    }
   ],
   "source": [
    "A[1:2,1]"
   ]
  },
  {
   "cell_type": "code",
   "execution_count": 70,
   "id": "51d20e07-016d-452c-9246-e2704662daee",
   "metadata": {},
   "outputs": [
    {
     "data": {
      "text/plain": [
       "array([[1, 2, 3],\n",
       "       [4, 5, 6],\n",
       "       [7, 8, 9]])"
      ]
     },
     "execution_count": 70,
     "metadata": {},
     "output_type": "execute_result"
    }
   ],
   "source": [
    "A[:,:]"
   ]
  },
  {
   "cell_type": "code",
   "execution_count": 72,
   "id": "7d5d076c-cdd6-4d36-9346-21a760d742aa",
   "metadata": {},
   "outputs": [],
   "source": [
    "A[1] = np.array([10,20,30]) "
   ]
  },
  {
   "cell_type": "code",
   "execution_count": 73,
   "id": "6e86d0db-3d0e-449c-a85f-2e736c79fc3d",
   "metadata": {},
   "outputs": [
    {
     "data": {
      "text/plain": [
       "array([[ 1,  2,  3],\n",
       "       [10, 20, 30],\n",
       "       [ 7,  8,  9]])"
      ]
     },
     "execution_count": 73,
     "metadata": {},
     "output_type": "execute_result"
    }
   ],
   "source": [
    "A"
   ]
  },
  {
   "cell_type": "code",
   "execution_count": null,
   "id": "c8e5a20f-c83d-4536-a997-adbe931a3655",
   "metadata": {},
   "outputs": [],
   "source": []
  }
 ],
 "metadata": {
  "kernelspec": {
   "display_name": "Python 3",
   "language": "python",
   "name": "python3"
  },
  "language_info": {
   "codemirror_mode": {
    "name": "ipython",
    "version": 3
   },
   "file_extension": ".py",
   "mimetype": "text/x-python",
   "name": "python",
   "nbconvert_exporter": "python",
   "pygments_lexer": "ipython3",
   "version": "3.8.8"
  }
 },
 "nbformat": 4,
 "nbformat_minor": 5
}
