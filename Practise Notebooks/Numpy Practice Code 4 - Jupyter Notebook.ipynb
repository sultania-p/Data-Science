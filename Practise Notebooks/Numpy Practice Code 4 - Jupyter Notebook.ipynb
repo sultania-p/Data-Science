{
 "cells": [
  {
   "cell_type": "code",
   "execution_count": 13,
   "id": "e4d941c9-a270-4c1c-bd97-4ab768e8ee8f",
   "metadata": {},
   "outputs": [
    {
     "name": "stdout",
     "output_type": "stream",
     "text": [
      "['Red' 'Orange' 'Yellow']\n",
      "Post Deletion\n",
      "['Red' 'Yellow']\n",
      "['Red']\n"
     ]
    }
   ],
   "source": [
    "# If you want to delete multiple items from an array, you can pass the item\n",
    "# indexes in the form of a list to the delete() method. For example, the\n",
    "# following script deletes the items at index 1 and 2 from the NumPy array\n",
    "# named my_array.\n",
    "import numpy as np\n",
    "my_array = np.array([\"Red\", \"Orange\", \"Yellow\"])\n",
    "print(my_array)\n",
    "\n",
    "print('Post Deletion')\n",
    "updated_array = np.delete(my_array, 1, 0) #3rd param is axis 0 - row, 1 - column\n",
    "print(updated_array)\n",
    "\n",
    "updated_array = np.delete(my_array, [1,2] , 0) #3rd param is axis 0 - row, 1 - column\n",
    "print(updated_array)"
   ]
  },
  {
   "cell_type": "code",
   "execution_count": 6,
   "id": "31794c53-324b-4f45-9b1d-8d8e07c257f9",
   "metadata": {},
   "outputs": [
    {
     "name": "stdout",
     "output_type": "stream",
     "text": [
      "[[ 3  8  1 10  7]\n",
      " [ 6 10 10  4 10]\n",
      " [ 2  2  3  9  6]\n",
      " [ 8  9  5  4  5]]\n",
      "Post Delete from row level\n",
      "[[ 3  8  1 10  7]\n",
      " [ 2  2  3  9  6]\n",
      " [ 8  9  5  4  5]]\n",
      "Post Delete from column level\n",
      "[[ 3  8  1 10]\n",
      " [ 2  2  3  9]\n",
      " [ 8  9  5  4]]\n"
     ]
    }
   ],
   "source": [
    "# You can delete a row or column from a 2-D array using the delete method.\n",
    "# However, just as you did with the append() method for adding items, you\n",
    "# need to specify whether you want to delete a row or column using the axis\n",
    "# attribute.\n",
    "# The following script creates an integer array with four rows and five\n",
    "# columns. Next, the delete() method is used to delete the row at index 1\n",
    "# (second row). Notice here that to delete the array, the value of the axis\n",
    "# attribute is set to 0.\n",
    "import numpy as np\n",
    "integer_random = np.random.randint(1,11, size = (4,5))\n",
    "print(integer_random)\n",
    "\n",
    "print(\"Post Delete from row level\")\n",
    "\n",
    "deleted_array = np.delete(integer_random, 1, axis = 0)\n",
    "print(deleted_array)\n",
    "\n",
    "print(\"Post Delete from column level\")\n",
    "print(np.delete(deleted_array, 4, axis = 1))"
   ]
  },
  {
   "cell_type": "code",
   "execution_count": 11,
   "id": "e224d6a7-b213-4506-96b1-ab901e71d5e8",
   "metadata": {},
   "outputs": [
    {
     "name": "stdout",
     "output_type": "stream",
     "text": [
      "*Unsorted array*\n",
      "[10  5  9  1 12 10  7 12 12  1]\n",
      "\n",
      "*Sorted Array*\n",
      "[ 1  1  5  7  9 10 10 12 12 12]\n"
     ]
    }
   ],
   "source": [
    "# You can sort NumPy arrays of various types. Numeric arrays are sorted by\n",
    "# default in ascending order of numbers. On the other hand, text arrays are\n",
    "# sorted alphabetically.\n",
    "# To sort an array in NumPy, you may call the np.sort() function and pass it to\n",
    "# your NumPy array. The following script shows how to sort a NumPy array of\n",
    "# 10 random integers between 1 and 20.\n",
    "\n",
    "print('*Unsorted array*')\n",
    "my_array = np.random.randint(1, 20, 10)\n",
    "my_array\n",
    "print(my_array)\n",
    "\n",
    "print('\\n*Sorted Array*')\n",
    "sorted_array = np.sort(my_array)\n",
    "print(sorted_array)"
   ]
  },
  {
   "cell_type": "code",
   "execution_count": 14,
   "id": "ce18b940-deb3-4d2e-8d05-13bfc42554e0",
   "metadata": {},
   "outputs": [
    {
     "name": "stdout",
     "output_type": "stream",
     "text": [
      "Unsorted Array\n",
      "['Apple' 'Mango' 'Banana' ' Kiwi' 'Potato']\n",
      "\n",
      "Sorted Array\n",
      "[' Kiwi' 'Apple' 'Banana' 'Mango' 'Potato']\n"
     ]
    }
   ],
   "source": [
    "# As mentioned earlier, text arrays are sorted in alphabetical order. Here is an\n",
    "# example of how you can sort a text array with the NumPy sort() method.\n",
    "\n",
    "my_array = np.array(['Apple', 'Mango', 'Banana', ' Kiwi', 'Potato'])\n",
    "print('Unsorted Array')\n",
    "print(my_array)\n",
    "\n",
    "print('\\nSorted Array')\n",
    "print(np.sort(my_array))"
   ]
  },
  {
   "cell_type": "code",
   "execution_count": 16,
   "id": "c407adc8-aa01-45d9-8e0c-90b5951d123a",
   "metadata": {},
   "outputs": [
    {
     "name": "stdout",
     "output_type": "stream",
     "text": [
      "Unsorted Array\n",
      "[False  True  True False  True False  True  True  True False]\n",
      "\n",
      "Sorted Array\n",
      "[False False False False  True  True  True  True  True  True]\n"
     ]
    }
   ],
   "source": [
    "# Finally, Boolean arrays are sorted in a way that all the False values appear\n",
    "# first in an array. Here is an example of how you can sort the Boolean arrays\n",
    "# in NumPy.\n",
    "\n",
    "print(\"Unsorted Array\")\n",
    "my_array = np.array([False, True, True, False, True, False, True, True, True, False])\n",
    "print(my_array)\n",
    "\n",
    "print(\"\\nSorted Array\")\n",
    "sorted_array = np.sort(my_array)\n",
    "print(sorted_array)"
   ]
  },
  {
   "cell_type": "code",
   "execution_count": 20,
   "id": "f6ecd2f0-ab2e-4240-b7ff-dd72f004b5e9",
   "metadata": {},
   "outputs": [
    {
     "name": "stdout",
     "output_type": "stream",
     "text": [
      "Unsorted Array\n",
      "[[ 2  5  5 16  7 13]\n",
      " [16 19  3 15 13  8]\n",
      " [ 8  3  7 11  7  6]\n",
      " [13 18 12  2 11  9]]\n",
      "\n",
      "Sorted 2D Array\n",
      "[[ 2  5  5  7 13 16]\n",
      " [ 3  8 13 15 16 19]\n",
      " [ 3  6  7  7  8 11]\n",
      " [ 2  9 11 12 13 18]]\n"
     ]
    }
   ],
   "source": [
    "# NumPy also allows you to sort two-dimensional arrays. In two-dimensional\n",
    "# arrays, each item itself is an array. The sort() function sorts an item in each\n",
    "# individual array in a two-dimensional array.\n",
    "# The script below creates a two-dimensional array of shape (4,6) containing\n",
    "# random integers between 1 to 20. The array is then sorted via the np.sort()\n",
    "# method\n",
    "\n",
    "my_array = np.random.randint(1, 21, size = (4,6))\n",
    "print(\"Unsorted Array\")\n",
    "print(my_array)\n",
    "\n",
    "print(\"\\nSorted 2D Array\")\n",
    "sorted_array = np.sort(my_array)\n",
    "print(sorted_array)"
   ]
  },
  {
   "cell_type": "code",
   "execution_count": 25,
   "id": "b99879c0-3d30-4b16-b51c-70925e2c05f6",
   "metadata": {},
   "outputs": [
    {
     "name": "stdout",
     "output_type": "stream",
     "text": [
      "Unsorted Array\n",
      "[ 3 13  1  2  5  4]\n",
      "\n",
      "Sorted Array in ascending order\n",
      "[ 1  2  3  4  5 13]\n",
      "\n",
      "Sorted Array in descending order\n",
      "[13  5  4  3  2  1]\n"
     ]
    }
   ],
   "source": [
    "# You can also sort an array in descending order. To do so, you can first sort an\n",
    "# array in ascending order via the sort() method. Next, you can pass the sorted\n",
    "# array to the flipud() method, which reverses the sorted array and returns the\n",
    "# array sorted in descending order. Here is an example of how you can sort an\n",
    "# array in descending order.\n",
    "my_array = np.random.randint(1, 21, 6)\n",
    "print(\"Unsorted Array\")\n",
    "print(my_array)\n",
    "\n",
    "print('\\nSorted Array in ascending order')\n",
    "sorted_array = np.sort(my_array)\n",
    "print(sorted_array)\n",
    "\n",
    "print('\\nSorted Array in descending order')\n",
    "dsort_array = np.flipud(sorted_array)\n",
    "print(dsort_array)\n"
   ]
  },
  {
   "cell_type": "code",
   "execution_count": 27,
   "id": "cee6180f-88aa-47e0-8cdb-e2f0c9a2df67",
   "metadata": {},
   "outputs": [
    {
     "name": "stdout",
     "output_type": "stream",
     "text": [
      "One dimensional array\n",
      "[ 8  9  3 13  7 17 11 18  4 17]\n",
      "\n",
      "Two dimensional array\n",
      "[[ 8  9  3 13  7]\n",
      " [17 11 18  4 17]]\n"
     ]
    }
   ],
   "source": [
    "# It is important to mention that the product of the rows and columns of the\n",
    "# original array must match the value of the product of rows and columns of\n",
    "# the reshaped array. For instance, the shape of the original array in the last\n",
    "# script was (10,) with product 10. The product of the rows and columns in the\n",
    "# reshaped array was also 10 (2 x 5)\n",
    "# You can also call the reshape() function directly from the NumPy module and\n",
    "# pass it the array to be reshaped as the first argument and the shape tuple as\n",
    "# the second argument. Here is an example which converts an array of shape\n",
    "# (10,) to (2,5).\n",
    "\n",
    "one_D_array = np.random.randint(1, 20, 10)\n",
    "print('One dimensional array')\n",
    "print(one_D_array)\n",
    "\n",
    "two_D_array = np.reshape(one_D_array, (2,5))\n",
    "print('\\nTwo dimensional array')\n",
    "print(two_D_array)"
   ]
  },
  {
   "cell_type": "code",
   "execution_count": 34,
   "id": "887868b1-fde7-45a9-a000-ec0e399ed74c",
   "metadata": {
    "scrolled": true,
    "tags": []
   },
   "outputs": [
    {
     "name": "stdout",
     "output_type": "stream",
     "text": [
      "two dimensional array\n",
      "[[ 1  3 11  7  7 15]\n",
      " [ 6  6  2 13 17 12]\n",
      " [16 13  7  8 15  9]\n",
      " [ 2 16  2  3 13 14]]\n",
      "\n",
      "three dimensional array\n",
      "[[[ 1  3 11  7  7 15]\n",
      "  [ 6  6  2 13 17 12]]\n",
      "\n",
      " [[16 13  7  8 15  9]\n",
      "  [ 2 16  2  3 13 14]]]\n",
      "\n",
      "three dimensional array\n",
      "[[[ 1  3]\n",
      "  [11  7]\n",
      "  [ 7 15]]\n",
      "\n",
      " [[ 6  6]\n",
      "  [ 2 13]\n",
      "  [17 12]]\n",
      "\n",
      " [[16 13]\n",
      "  [ 7  8]\n",
      "  [15  9]]\n",
      "\n",
      " [[ 2 16]\n",
      "  [ 2  3]\n",
      "  [13 14]]]\n"
     ]
    },
    {
     "data": {
      "text/plain": [
       "3"
      ]
     },
     "execution_count": 34,
     "metadata": {},
     "output_type": "execute_result"
    }
   ],
   "source": [
    "# Let’s see another example of reshaping a NumPy array from lower to higher\n",
    "# dimensions. The following script defines a NumPy array of shape (4,6). The original ar\n",
    "# is then reshaped to a three-dimensional array of shape (3, 4, 2). Notice here\n",
    "# again that the product of dimensions of the original array (4 x 6) and the\n",
    "# reshaped array (3 x 4 x 2) is the same, i.e., 24.\n",
    "\n",
    "my_array = np.random.randint(1, 20, size = (4,6))\n",
    "print(\"two dimensional array\")\n",
    "print(my_array)\n",
    "\n",
    "print('\\nthree dimensional array')\n",
    "three_D_array = np.reshape(my_array, (2,2,6))\n",
    "three_D_array_1 = np.reshape(my_array, (4,3,2))\n",
    "print(three_D_array)\n",
    "\n",
    "print('\\nthree dimensional array')\n",
    "print(three_D_array_1)\n",
    "three_D_array.ndim"
   ]
  },
  {
   "cell_type": "code",
   "execution_count": 38,
   "id": "f05992a1-f100-417d-8768-684c9b37bde0",
   "metadata": {},
   "outputs": [
    {
     "name": "stdout",
     "output_type": "stream",
     "text": [
      "two dimensional array\n",
      "[[11 10 17 17  1 12]\n",
      " [10  5 14 16 13  3]\n",
      " [ 2 12  3 10  5  3]\n",
      " [10  3  8 19 14 15]]\n",
      "\n",
      "one dimensional array\n",
      "[11 10 17 17  1 12 10  5 14 16 13  3  2 12  3 10  5  3 10  3  8 19 14 15]\n"
     ]
    },
    {
     "data": {
      "text/plain": [
       "1"
      ]
     },
     "execution_count": 38,
     "metadata": {},
     "output_type": "execute_result"
    }
   ],
   "source": [
    "# Let’s now see a few examples of reshaping NumPy arrays from higher to\n",
    "# lower dimensions. In the script below, the original array is of shape (4,6)\n",
    "# while the new array is of shape (24). The reshaping, in this case, will be successful\n",
    "# since the product of dimensions for original and reshaped arrays is the same.\n",
    "\n",
    "my_array = np.random.randint(1, 20, size = (4,6))\n",
    "print(\"two dimensional array\")\n",
    "print(my_array)\n",
    "\n",
    "print('\\none dimensional array')\n",
    "one_D_array = np.reshape(my_array,24)\n",
    "print(one_D_array)\n",
    "one_D_array.ndim"
   ]
  },
  {
   "cell_type": "code",
   "execution_count": 40,
   "id": "084fb574-40de-4844-9b51-97254555c9a3",
   "metadata": {},
   "outputs": [
    {
     "name": "stdout",
     "output_type": "stream",
     "text": [
      "[11 10 17 17  1 12 10  5 14 16 13  3  2 12  3 10  5  3 10  3  8 19 14 15]\n"
     ]
    }
   ],
   "source": [
    "one_D_array = my_array.reshape(-1)\n",
    "print(one_D_array)"
   ]
  },
  {
   "cell_type": "code",
   "execution_count": 45,
   "id": "f78d9def-b44a-4258-81e8-488d57defa30",
   "metadata": {},
   "outputs": [
    {
     "name": "stdout",
     "output_type": "stream",
     "text": [
      "[ 1  2  3  4  5  6  7  8  9 10 11 12 13 14]\n",
      "2\n"
     ]
    }
   ],
   "source": [
    "# NumPy arrays can be indexed and sliced. Slicing an array means dividing an\n",
    "# array into multiple parts. NumPy arrays are indexed just like normal lists.\n",
    "# Indexes in NumPy arrays start from 0, which means that the first item of a\n",
    "# NumPy array is stored at the 0th index. The following script creates a simple\n",
    "# NumPy array of the first 10 positive integers.\n",
    "\n",
    "s = np.arange(1, 15)\n",
    "print(s)\n",
    "print(s[1])"
   ]
  },
  {
   "cell_type": "code",
   "execution_count": 50,
   "id": "b7c46eb3-1fa6-4f0f-a06e-4c9fbf0566c9",
   "metadata": {},
   "outputs": [
    {
     "name": "stdout",
     "output_type": "stream",
     "text": [
      "[[10 20 30]\n",
      " [50 60 70]\n",
      " [40 50 90]]\n",
      "[[10 20 30]\n",
      " [50 60 70]]\n"
     ]
    }
   ],
   "source": [
    "# Array slicing can also be applied on a two-dimensional array. To do so, you\n",
    "# have to apply slicing on arrays and columns separately. A comma separates\n",
    "# the rows and columns slicing. In the following script, the rows from the\n",
    "# first and second indexes are returned, while all the columns are returned.\n",
    "# You can see the first two complete rows in the output.\n",
    "\n",
    "row1 = [10, 20, 30]\n",
    "row2 = [50, 60, 70]\n",
    "row3 = [40, 50, 90]\n",
    "num_2D = np.array([row1, row2, row3])\n",
    "print(num_2D)\n",
    "\n",
    "print(num_2D[:2,:])"
   ]
  },
  {
   "cell_type": "code",
   "execution_count": null,
   "id": "66f9069f-001b-46ae-9a11-ae64a308aa68",
   "metadata": {},
   "outputs": [],
   "source": []
  }
 ],
 "metadata": {
  "kernelspec": {
   "display_name": "Python 3 (ipykernel)",
   "language": "python",
   "name": "python3"
  },
  "language_info": {
   "codemirror_mode": {
    "name": "ipython",
    "version": 3
   },
   "file_extension": ".py",
   "mimetype": "text/x-python",
   "name": "python",
   "nbconvert_exporter": "python",
   "pygments_lexer": "ipython3",
   "version": "3.8.8"
  }
 },
 "nbformat": 4,
 "nbformat_minor": 5
}
