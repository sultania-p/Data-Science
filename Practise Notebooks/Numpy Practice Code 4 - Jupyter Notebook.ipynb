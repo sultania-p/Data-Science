{
 "cells": [
  {
   "cell_type": "code",
   "execution_count": 13,
   "id": "e4d941c9-a270-4c1c-bd97-4ab768e8ee8f",
   "metadata": {},
   "outputs": [
    {
     "name": "stdout",
     "output_type": "stream",
     "text": [
      "['Red' 'Orange' 'Yellow']\n",
      "Post Deletion\n",
      "['Red' 'Yellow']\n",
      "['Red']\n"
     ]
    }
   ],
   "source": [
    "# If you want to delete multiple items from an array, you can pass the item\n",
    "# indexes in the form of a list to the delete() method. For example, the\n",
    "# following script deletes the items at index 1 and 2 from the NumPy array\n",
    "# named my_array.\n",
    "import numpy as np\n",
    "my_array = np.array([\"Red\", \"Orange\", \"Yellow\"])\n",
    "print(my_array)\n",
    "\n",
    "print('Post Deletion')\n",
    "updated_array = np.delete(my_array, 1, 0) #3rd param is axis 0 - row, 1 - column\n",
    "print(updated_array)\n",
    "\n",
    "updated_array = np.delete(my_array, [1,2] , 0) #3rd param is axis 0 - row, 1 - column\n",
    "print(updated_array)"
   ]
  },
  {
   "cell_type": "code",
   "execution_count": 21,
   "id": "31794c53-324b-4f45-9b1d-8d8e07c257f9",
   "metadata": {},
   "outputs": [],
   "source": [
    "# You can delete a row or column from a 2-D array using the delete method.\n",
    "# However, just as you did with the append() method for adding items, you\n",
    "# need to specify whether you want to delete a row or column using the axis\n",
    "# attribute.\n",
    "# The following script creates an integer array with four rows and five\n",
    "# columns. Next, the delete() method is used to delete the row at index 1\n",
    "# (second row). Notice here that to delete the array, the value of the axis\n",
    "# attribute is set to 0.\n",
    "    "
   ]
  }
 ],
 "metadata": {
  "kernelspec": {
   "display_name": "Python 3 (ipykernel)",
   "language": "python",
   "name": "python3"
  },
  "language_info": {
   "codemirror_mode": {
    "name": "ipython",
    "version": 3
   },
   "file_extension": ".py",
   "mimetype": "text/x-python",
   "name": "python",
   "nbconvert_exporter": "python",
   "pygments_lexer": "ipython3",
   "version": "3.8.8"
  }
 },
 "nbformat": 4,
 "nbformat_minor": 5
}
