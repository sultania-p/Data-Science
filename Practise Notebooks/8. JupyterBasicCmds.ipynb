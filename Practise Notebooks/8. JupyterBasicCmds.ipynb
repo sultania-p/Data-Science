{
 "cells": [
  {
   "cell_type": "markdown",
   "id": "4de9e6d5-89d1-4f95-a435-22780f7949e7",
   "metadata": {},
   "source": [
    "### My Jupyter notebook\n",
    "\n",
    "> **Help you get started with the the Notebooks.ai for Python Programming**\n",
    "\n",
    "_Need help, pleae follow the reference guide_\n",
    "\n",
    "![green-divider](https://user-images.githubusercontent.com/7065401/52071924-c003ad80-2562-11e9-8297-1c6595f8a7ff.png)\n",
    "\n",
    "**Interesting Fact of the day**\n",
    "\n",
    "> _Jupyter is very easy and fast responsive_\n",
    "\n"
   ]
  },
  {
   "cell_type": "code",
   "execution_count": 57,
   "id": "086e1dee-fe69-41e5-a26d-e402241bd2a7",
   "metadata": {},
   "outputs": [
    {
     "name": "stdout",
     "output_type": "stream",
     "text": [
      "United States\n"
     ]
    },
    {
     "name": "stdin",
     "output_type": "stream",
     "text": [
      "Please enter the name?  oo\n"
     ]
    },
    {
     "name": "stdout",
     "output_type": "stream",
     "text": [
      "Welcome oo\n"
     ]
    }
   ],
   "source": [
    "str = \"United States\"\n",
    "print(str)\n",
    "\n",
    "name = input(\"Please enter the name? \")\n",
    "print(\"Welcome {}\".format(name))"
   ]
  },
  {
   "cell_type": "code",
   "execution_count": 50,
   "id": "569c3d40-2675-4ab9-b5a5-ff81b9294315",
   "metadata": {
    "tags": []
   },
   "outputs": [
    {
     "name": "stdin",
     "output_type": "stream",
     "text": [
      "Please enter the name:  Piyush\n",
      "Please enter the age:  2\n"
     ]
    },
    {
     "name": "stdout",
     "output_type": "stream",
     "text": [
      "Sorry, you are ineligible to vote. Please come back after 16 years\n"
     ]
    }
   ],
   "source": [
    "name = input(\"Please enter the name: \")\n",
    "age = int(input(\"Please enter the age: \"))\n",
    "if age >= 18:\n",
    "    print(\"{}, You are allowed to vote!\".format(name))\n",
    "else:\n",
    "    print(\"Sorry, you are ineligible to vote. Please come back after {} years\".format(18 - age))"
   ]
  },
  {
   "cell_type": "code",
   "execution_count": 86,
   "id": "1bbfd3de-f628-4d70-8001-bcb894ec84c1",
   "metadata": {},
   "outputs": [
    {
     "name": "stdout",
     "output_type": "stream",
     "text": [
      "[1, 4, 9, 16, 25]\n"
     ]
    }
   ],
   "source": [
    "a = [1,2,3,4,5]\n",
    "b = [1,2,3,4,5]\n",
    "\n",
    "c = []\n",
    "for i in range(len(a)):\n",
    "    c.append(a[i]*b[i]);\n",
    "print(c)\n",
    "\n",
    "\n",
    "# C code\n",
    "# for (i=0; i < a.len(); i++):\n",
    "#     c[i] = a[i]*b[i];\n",
    "# print(c)"
   ]
  },
  {
   "cell_type": "code",
   "execution_count": 87,
   "id": "e06ee5ac-f161-470f-94fd-2e6e6459cd14",
   "metadata": {},
   "outputs": [
    {
     "data": {
      "text/plain": [
       "array([[ 0,  1,  2,  3,  4],\n",
       "       [ 5,  6,  7,  8,  9],\n",
       "       [10, 11, 12, 13, 14]])"
      ]
     },
     "execution_count": 87,
     "metadata": {},
     "output_type": "execute_result"
    }
   ],
   "source": [
    "import numpy as np\n",
    "\n",
    "a = np.arange(15).reshape(3,5)\n",
    "a"
   ]
  },
  {
   "cell_type": "code",
   "execution_count": 85,
   "id": "94769b00-8fc0-4f6d-89b6-89aa2f9022be",
   "metadata": {},
   "outputs": [
    {
     "data": {
      "text/plain": [
       "array([[ 0,  2,  4,  6,  8],\n",
       "       [10, 12, 14, 16, 18],\n",
       "       [20, 22, 24, 26, 28]])"
      ]
     },
     "execution_count": 85,
     "metadata": {},
     "output_type": "execute_result"
    }
   ],
   "source": [
    "b = a*2\n",
    "b"
   ]
  },
  {
   "cell_type": "code",
   "execution_count": 91,
   "id": "3d0ebb26-4ce0-4774-b07a-dde7ff8e74a0",
   "metadata": {},
   "outputs": [
    {
     "data": {
      "text/plain": [
       "(3, 5)"
      ]
     },
     "execution_count": 91,
     "metadata": {},
     "output_type": "execute_result"
    }
   ],
   "source": [
    "a.shape #3- axes and 5- elements"
   ]
  },
  {
   "cell_type": "code",
   "execution_count": 98,
   "id": "43707663-c65e-419a-8cba-9d19846c70e3",
   "metadata": {},
   "outputs": [
    {
     "data": {
      "text/plain": [
       "2"
      ]
     },
     "execution_count": 98,
     "metadata": {},
     "output_type": "execute_result"
    }
   ],
   "source": [
    "a.ndim # total number of dimensions"
   ]
  },
  {
   "cell_type": "code",
   "execution_count": 99,
   "id": "2152bf38-2ebf-4d37-89b1-31493bb5f7be",
   "metadata": {},
   "outputs": [
    {
     "data": {
      "text/plain": [
       "4"
      ]
     },
     "execution_count": 99,
     "metadata": {},
     "output_type": "execute_result"
    }
   ],
   "source": [
    "a.itemsize #buffer size of array"
   ]
  },
  {
   "cell_type": "code",
   "execution_count": 97,
   "id": "267c7499-bde5-4533-950c-f51c8f3ef204",
   "metadata": {},
   "outputs": [
    {
     "data": {
      "text/plain": [
       "15"
      ]
     },
     "execution_count": 97,
     "metadata": {},
     "output_type": "execute_result"
    }
   ],
   "source": [
    "a.size # number of elements in array"
   ]
  },
  {
   "cell_type": "code",
   "execution_count": 100,
   "id": "05470911-b3de-4606-a851-d060410c17a7",
   "metadata": {},
   "outputs": [
    {
     "data": {
      "text/plain": [
       "numpy.ndarray"
      ]
     },
     "execution_count": 100,
     "metadata": {},
     "output_type": "execute_result"
    }
   ],
   "source": [
    "type(a)"
   ]
  },
  {
   "cell_type": "code",
   "execution_count": 101,
   "id": "926c7c5c-bfee-45f7-bcb5-1ddf0c2bb421",
   "metadata": {},
   "outputs": [
    {
     "data": {
      "text/plain": [
       "<memory at 0x00000202315D4E10>"
      ]
     },
     "execution_count": 101,
     "metadata": {},
     "output_type": "execute_result"
    }
   ],
   "source": [
    "a.data"
   ]
  },
  {
   "cell_type": "code",
   "execution_count": 102,
   "id": "2aa36fd3-ef98-4c39-8410-e6f2e2c4a424",
   "metadata": {},
   "outputs": [
    {
     "data": {
      "text/plain": [
       "dtype('int32')"
      ]
     },
     "execution_count": 102,
     "metadata": {},
     "output_type": "execute_result"
    }
   ],
   "source": [
    "a.dtype"
   ]
  },
  {
   "cell_type": "code",
   "execution_count": 121,
   "id": "e8dba3fe-83f7-4e37-be6a-b4c78f2ed0a0",
   "metadata": {},
   "outputs": [
    {
     "data": {
      "text/plain": [
       "array([[1, 2, 4],\n",
       "       [4, 5, 6]])"
      ]
     },
     "execution_count": 121,
     "metadata": {},
     "output_type": "execute_result"
    }
   ],
   "source": [
    "myarray = np.array([(1,2,4),(4,5,6)])\n",
    "myarray"
   ]
  },
  {
   "cell_type": "code",
   "execution_count": 122,
   "id": "3842f0ec-82b0-4449-9811-116c687d1d9a",
   "metadata": {},
   "outputs": [
    {
     "data": {
      "text/plain": [
       "2"
      ]
     },
     "execution_count": 122,
     "metadata": {},
     "output_type": "execute_result"
    }
   ],
   "source": [
    "myarray.ndim"
   ]
  },
  {
   "cell_type": "code",
   "execution_count": 137,
   "id": "3b369f20-4579-4b0b-babf-186f1a540c14",
   "metadata": {},
   "outputs": [
    {
     "data": {
      "text/plain": [
       "array([[1.1, 2. , 3. ],\n",
       "       [2.2, 4.1, 5. ]])"
      ]
     },
     "execution_count": 137,
     "metadata": {},
     "output_type": "execute_result"
    }
   ],
   "source": [
    "b = np.array([(1.1,2,3),(2.2,4.1,5)])\n",
    "b"
   ]
  },
  {
   "cell_type": "code",
   "execution_count": 134,
   "id": "9abac5bc-17f7-4d7c-a816-3f7f2d53da94",
   "metadata": {},
   "outputs": [
    {
     "data": {
      "text/plain": [
       "2"
      ]
     },
     "execution_count": 134,
     "metadata": {},
     "output_type": "execute_result"
    }
   ],
   "source": [
    "b.ndim"
   ]
  },
  {
   "cell_type": "code",
   "execution_count": 141,
   "id": "6f2f4b85-2040-415a-965c-95df0c198391",
   "metadata": {},
   "outputs": [
    {
     "data": {
      "text/plain": [
       "array([[1.+0.j, 2.+0.j],\n",
       "       [3.+0.j, 4.+0.j]])"
      ]
     },
     "execution_count": 141,
     "metadata": {},
     "output_type": "execute_result"
    }
   ],
   "source": [
    "c = np.array([[1,2],[3,4]], dtype =complex)\n",
    "c"
   ]
  },
  {
   "cell_type": "code",
   "execution_count": 142,
   "id": "6775eb5b-33c7-4288-bde4-c247a7c21bf3",
   "metadata": {},
   "outputs": [
    {
     "data": {
      "text/plain": [
       "2"
      ]
     },
     "execution_count": 142,
     "metadata": {},
     "output_type": "execute_result"
    }
   ],
   "source": [
    "c.ndim"
   ]
  },
  {
   "cell_type": "code",
   "execution_count": 154,
   "id": "99f37792-7171-42a0-b574-d40077bfd93d",
   "metadata": {},
   "outputs": [
    {
     "data": {
      "text/plain": [
       "array([[0, 0, 0, 0],\n",
       "       [0, 0, 0, 0],\n",
       "       [0, 0, 0, 0]])"
      ]
     },
     "execution_count": 154,
     "metadata": {},
     "output_type": "execute_result"
    }
   ],
   "source": [
    "x = np.zeros([3,4], dtype=np.int32)\n",
    "x"
   ]
  },
  {
   "cell_type": "code",
   "execution_count": 158,
   "id": "965e3a3a-cf5c-438c-a822-15f4a7a305d5",
   "metadata": {},
   "outputs": [
    {
     "data": {
      "text/plain": [
       "array([[1, 1, 1],\n",
       "       [1, 1, 1]])"
      ]
     },
     "execution_count": 158,
     "metadata": {},
     "output_type": "execute_result"
    }
   ],
   "source": [
    "y = np.ones([2,3], dtype = np.int32)\n",
    "y"
   ]
  },
  {
   "cell_type": "code",
   "execution_count": 161,
   "id": "2029aa8e-4c03-46f3-b5ff-88fac52ba055",
   "metadata": {},
   "outputs": [],
   "source": [
    "twosarray = np.twos([2,3], dtype=np.int32) # error as no twos np attribute"
   ]
  },
  {
   "cell_type": "markdown",
   "id": "07cbbc43-f204-44d1-9e48-cb90b83a99bc",
   "metadata": {},
   "source": [
    "### Above is multidimensional array\n",
    "> Two dimensions having 3 axes each having 4 elements in each sub array"
   ]
  },
  {
   "cell_type": "code",
   "execution_count": 163,
   "id": "6ba5c0d6-0adc-45ff-835c-f2af4b0f0913",
   "metadata": {},
   "outputs": [
    {
     "data": {
      "text/plain": [
       "array([[[1, 1, 1, 1],\n",
       "        [1, 1, 1, 1],\n",
       "        [1, 1, 1, 1]],\n",
       "\n",
       "       [[1, 1, 1, 1],\n",
       "        [1, 1, 1, 1],\n",
       "        [1, 1, 1, 1]]], dtype=int16)"
      ]
     },
     "execution_count": 163,
     "metadata": {},
     "output_type": "execute_result"
    }
   ],
   "source": [
    "np.ones([2,3,4], dtype=np.int16)"
   ]
  },
  {
   "cell_type": "code",
   "execution_count": 171,
   "id": "ac4f0551-d723-4814-b8d3-03cad6e06099",
   "metadata": {},
   "outputs": [
    {
     "data": {
      "text/plain": [
       "array([[  818477104,         514,           0],\n",
       "       [          0,           1, -2147483648]])"
      ]
     },
     "execution_count": 171,
     "metadata": {},
     "output_type": "execute_result"
    }
   ],
   "source": [
    "np.empty((2,3), np.int32)"
   ]
  },
  {
   "cell_type": "code",
   "execution_count": 176,
   "id": "5125edf1-69dd-4468-bdc8-632a23bf25ba",
   "metadata": {},
   "outputs": [
    {
     "data": {
      "text/plain": [
       "array([10, 15, 20, 25, 30, 35])"
      ]
     },
     "execution_count": 176,
     "metadata": {},
     "output_type": "execute_result"
    }
   ],
   "source": [
    "# arrange function is to create an array within limits defined and jump factor.\n",
    "# It ignores the upto value.\n",
    "np.arange(10,40,5)"
   ]
  },
  {
   "cell_type": "code",
   "execution_count": 184,
   "id": "6be07694-3a67-49ba-8045-1c15d5c69e97",
   "metadata": {},
   "outputs": [
    {
     "data": {
      "text/plain": [
       "array([1. , 1.2, 1.4, 1.6, 1.8, 2. , 2.2, 2.4, 2.6, 2.8])"
      ]
     },
     "execution_count": 184,
     "metadata": {},
     "output_type": "execute_result"
    }
   ],
   "source": [
    "np.arange(1,3,0.2)"
   ]
  },
  {
   "cell_type": "code",
   "execution_count": 189,
   "id": "b27dfa13-4c77-40b0-961f-0e030436b3f2",
   "metadata": {},
   "outputs": [
    {
     "data": {
      "text/plain": [
       "array([0.        , 0.28571429, 0.57142857, 0.85714286, 1.14285714,\n",
       "       1.42857143, 1.71428571, 2.        ])"
      ]
     },
     "execution_count": 189,
     "metadata": {},
     "output_type": "execute_result"
    }
   ],
   "source": [
    "from numpy import pi\n",
    "# linspace is used to argument the number of elements in the array that we want between start and end arguments\n",
    "np.linspace(0,2,8)"
   ]
  },
  {
   "cell_type": "code",
   "execution_count": 196,
   "id": "c0ae0be0-15d8-4ece-ab68-89aa1d9e44bf",
   "metadata": {},
   "outputs": [
    {
     "data": {
      "text/plain": [
       "array([1., 2., 3., 4.])"
      ]
     },
     "execution_count": 196,
     "metadata": {},
     "output_type": "execute_result"
    }
   ],
   "source": [
    "np.linspace(1,4,4)"
   ]
  },
  {
   "cell_type": "code",
   "execution_count": 204,
   "id": "c6507f15-920d-4abe-90ae-6666033da479",
   "metadata": {},
   "outputs": [
    {
     "data": {
      "text/plain": [
       "array([0.        , 0.06975647, 0.1391731 , 0.20791169, 0.27563736,\n",
       "       0.34202014, 0.40673664, 0.46947156, 0.52991926, 0.58778525])"
      ]
     },
     "execution_count": 204,
     "metadata": {},
     "output_type": "execute_result"
    }
   ],
   "source": [
    "pi\n",
    "x = np.linspace(0, 0.2 * pi, 10)\n",
    "f= np.sin(x)\n",
    "f"
   ]
  }
 ],
 "metadata": {
  "kernelspec": {
   "display_name": "Python 3",
   "language": "python",
   "name": "python3"
  },
  "language_info": {
   "codemirror_mode": {
    "name": "ipython",
    "version": 3
   },
   "file_extension": ".py",
   "mimetype": "text/x-python",
   "name": "python",
   "nbconvert_exporter": "python",
   "pygments_lexer": "ipython3",
   "version": "3.8.8"
  }
 },
 "nbformat": 4,
 "nbformat_minor": 5
}
