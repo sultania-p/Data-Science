{
 "cells": [
  {
   "cell_type": "code",
   "execution_count": 3,
   "id": "9c6447eb-0eb6-4089-8267-8f3751bcdcac",
   "metadata": {},
   "outputs": [
    {
     "name": "stdout",
     "output_type": "stream",
     "text": [
      "[10 12 14 16 18 20]\n"
     ]
    },
    {
     "data": {
      "text/plain": [
       "1"
      ]
     },
     "execution_count": 3,
     "metadata": {},
     "output_type": "execute_result"
    }
   ],
   "source": [
    "import numpy as np\n",
    "my_array = np.array([10, 12,14,16,18,20])\n",
    "print(my_array)\n",
    "my_array.ndim"
   ]
  },
  {
   "cell_type": "code",
   "execution_count": 8,
   "id": "fb144d2f-4b72-4f7d-9221-96fc299eb5ef",
   "metadata": {},
   "outputs": [
    {
     "name": "stdout",
     "output_type": "stream",
     "text": [
      "['2021-12-01' '2032-01-01' '2034-12-01']\n",
      "<U10\n",
      "40\n"
     ]
    }
   ],
   "source": [
    "# date array\n",
    "date_array = np.array([\"2021-12-01\", \"2032-01-01\", \"2034-12-01\"])\n",
    "print(date_array)\n",
    "print(date_array.dtype)\n",
    "print(date_array.dtype.itemsize)"
   ]
  },
  {
   "cell_type": "code",
   "execution_count": 14,
   "id": "2bc575eb-41a0-4bef-a9ba-6eb2bb304f11",
   "metadata": {
    "scrolled": true,
    "tags": []
   },
   "outputs": [
    {
     "name": "stdout",
     "output_type": "stream",
     "text": [
      "datetime64\n",
      "8\n"
     ]
    }
   ],
   "source": [
    "my_array3 = my_array.astype(\"M\")\n",
    "print(my_array3.dtype)\n",
    "print(my_array3.dtype.itemsize) "
   ]
  },
  {
   "cell_type": "code",
   "execution_count": 17,
   "id": "03f0dbbf-f8a4-4ee7-bc0e-f6959cda32a4",
   "metadata": {},
   "outputs": [
    {
     "data": {
      "text/plain": [
       "array(['2021-12-01', '2032-01-01', '2034-12-01'], dtype='datetime64[D]')"
      ]
     },
     "execution_count": 17,
     "metadata": {},
     "output_type": "execute_result"
    }
   ],
   "source": [
    "fun_array = np.array([\"2021-12-01\", \"2032-01-01\", \"2034-12-01\"], dtype = \"M\")\n",
    "fun_array"
   ]
  },
  {
   "cell_type": "code",
   "execution_count": 7,
   "id": "7de523d2-6be9-4f9b-8a28-019e94ad4752",
   "metadata": {},
   "outputs": [
    {
     "name": "stdout",
     "output_type": "stream",
     "text": [
      "[10, 12, 14, 16, 18]\n",
      "[10 12 14 16 18]\n"
     ]
    },
    {
     "data": {
      "text/plain": [
       "list"
      ]
     },
     "execution_count": 7,
     "metadata": {},
     "output_type": "execute_result"
    }
   ],
   "source": [
    "import numpy as np\n",
    "num_list = [10, 12,14,16,18]\n",
    "print(num_list)\n",
    "\n",
    "num_array = np.array(num_list)\n",
    "print(num_array)\n",
    "type(num_array)\n",
    "type(num_list)"
   ]
  },
  {
   "cell_type": "code",
   "execution_count": 9,
   "id": "aaff9930-f1e0-4811-a1b2-98a5ce3be5f2",
   "metadata": {},
   "outputs": [
    {
     "data": {
      "text/plain": [
       "array([ 5,  7,  9, 11])"
      ]
     },
     "execution_count": 9,
     "metadata": {},
     "output_type": "execute_result"
    }
   ],
   "source": [
    "num_array = np.arange(5, 12, 2)\n",
    "num_array"
   ]
  },
  {
   "cell_type": "code",
   "execution_count": null,
   "id": "7f855e5d-45db-402e-bfb4-33ace4d3309e",
   "metadata": {},
   "outputs": [],
   "source": []
  }
 ],
 "metadata": {
  "kernelspec": {
   "display_name": "Python 3 (ipykernel)",
   "language": "python",
   "name": "python3"
  },
  "language_info": {
   "codemirror_mode": {
    "name": "ipython",
    "version": 3
   },
   "file_extension": ".py",
   "mimetype": "text/x-python",
   "name": "python",
   "nbconvert_exporter": "python",
   "pygments_lexer": "ipython3",
   "version": "3.8.8"
  }
 },
 "nbformat": 4,
 "nbformat_minor": 5
}
