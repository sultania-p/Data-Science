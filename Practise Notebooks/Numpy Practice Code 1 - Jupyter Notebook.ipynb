{
 "cells": [
  {
   "cell_type": "code",
   "execution_count": 8,
   "id": "50444454-fb69-468c-9aa4-c13ee268211d",
   "metadata": {},
   "outputs": [
    {
     "name": "stdout",
     "output_type": "stream",
     "text": [
      "[[1. 1. 1. 1.]\n",
      " [1. 1. 1. 1.]\n",
      " [1. 1. 1. 1.]\n",
      " [1. 1. 1. 1.]\n",
      " [1. 1. 1. 1.]]\n"
     ]
    }
   ],
   "source": [
    "# # You can create a two-dimensional array of all ones by passing the number of\n",
    "# rows and columns as the first and second parameters of the ones() method, as\n",
    "# shown below:\n",
    "\n",
    "import numpy as np\n",
    "ones_array = np.ones((5,4))\n",
    "zeros_array = np.zeros((5,4))\n",
    "ones_array\n",
    "zeros_array\n",
    "\n",
    "print(ones_array + zeros_array)"
   ]
  },
  {
   "cell_type": "code",
   "execution_count": 17,
   "id": "f307794b-c364-4e9f-9eca-381813c163aa",
   "metadata": {},
   "outputs": [
    {
     "data": {
      "text/plain": [
       "array([[0., 0., 0., 0., 0.],\n",
       "       [0., 0., 0., 0., 0.],\n",
       "       [0., 0., 0., 0., 0.],\n",
       "       [0., 0., 0., 0., 0.]])"
      ]
     },
     "execution_count": 18,
     "metadata": {},
     "output_type": "execute_result"
    }
   ],
   "source": [
    "# The zeros() method can be used to create a NumPy array of all zeros in 1D or 2D. Here is\n",
    "# an example.\n",
    "\n",
    "zeros_array_1D = np.zeros(6)\n",
    "zeros_array_1D\n",
    "\n",
    "zeros_array_2D = np.zeros((4,5))\n",
    "zeros_array_2D\n",
    "\n",
    "zeros_array_1D.ndim #dimenstion of the zeros array!\n",
    "zeros_array_2D.ndim "
   ]
  },
  {
   "cell_type": "code",
   "execution_count": 25,
   "id": "531b0db2-bacd-4da3-bf96-91f170bbc4ef",
   "metadata": {},
   "outputs": [
    {
     "name": "stdout",
     "output_type": "stream",
     "text": [
      "[[1. 0. 0. 0. 0.]\n",
      " [0. 1. 0. 0. 0.]\n",
      " [0. 0. 1. 0. 0.]\n",
      " [0. 0. 0. 1. 0.]\n",
      " [0. 0. 0. 0. 1.]]\n",
      "----------\n",
      "[[1. 0. 0. 0. 0. 0.]\n",
      " [0. 1. 0. 0. 0. 0.]\n",
      " [0. 0. 1. 0. 0. 0.]\n",
      " [0. 0. 0. 1. 0. 0.]\n",
      " [0. 0. 0. 0. 1. 0.]]\n"
     ]
    }
   ],
   "source": [
    "# The eye() method is used to create an identity matrix in the form of a twodimensional\n",
    "# NumPy array. An identity matrix contains 1s along the diagonal,\n",
    "# while the rest of the elements are 0 in the array.\n",
    "\n",
    "eyes_array = np.eye(5)\n",
    "print(eyes_array)\n",
    "\n",
    "print('-' * 10)\n",
    "eyes_array_1 = np.eye(5,6) # we can define identity matrix in two dimension as well!\n",
    "print(eyes_array_1)"
   ]
  },
  {
   "cell_type": "code",
   "execution_count": 77,
   "id": "6c0af234-5da0-4c8d-8419-01e95ed9ddd7",
   "metadata": {},
   "outputs": [
    {
     "name": "stdout",
     "output_type": "stream",
     "text": [
      "[[ 0.4327464  -1.65966003  0.31805421]\n",
      " [-0.4883693   0.50266145 -1.82488234]\n",
      " [-1.5259171  -0.23149765 -0.40184204]\n",
      " [ 0.4871804   1.62374018  1.66407361]]\n"
     ]
    }
   ],
   "source": [
    "# I have created a function to run all the random functions as per selection choice!\n",
    "\n",
    "def random_choice(choice):\n",
    "    if choice == 1:\n",
    "        random_array = np.random.randint(100)\n",
    "    elif choice == 2:\n",
    "        # The random.randn() function from the NumPy module can be used to create\n",
    "        # a NumPy array with normal distribution, as shown in the following example.\n",
    "        random_array = np.random.randn(4,3) # 3 specifies the number of elements!  (4,3) is 2D array with the elements!\n",
    "    elif choice == 3:\n",
    "        # The random.rand() function from the NumPy module can be used to create\n",
    "        # a NumPy array with uniform distribution.\n",
    "        random_array = np.random.rand(5,4)\n",
    "    else:\n",
    "        random_array = 'Please select valid choice!'\n",
    "    return random_array   \n",
    "\n",
    "out = random_choice(2)\n",
    "print(out)"
   ]
  },
  {
   "cell_type": "code",
   "execution_count": 89,
   "id": "af1fac93-90ad-45d9-a7a6-bb38a9a2658a",
   "metadata": {},
   "outputs": [
    {
     "name": "stdout",
     "output_type": "stream",
     "text": [
      "[1 1 1 1 1]\n"
     ]
    }
   ],
   "source": [
    "# Finally, the random.randint() function from the NumPy module can be used\n",
    "# to create a NumPy array with random integers between a certain range. The\n",
    "# first parameter to the randint() function specifies the lower bound, the\n",
    "# second parameter specifies the upper bound, and the last parameter specifies\n",
    "# the number of random integers to generate between the range. The following\n",
    "# example generates five random integers between 5 and 50.\n",
    "# we can have both any whole number or decimal number... \n",
    "random_integer = np.random.randint(3,30,5)\n",
    "random_integer = np.random.randint(1.1,2.3,5)\n",
    "random_integer = np.random.randint(-20,30,5)\n",
    "print(random_integer)"
   ]
  },
  {
   "cell_type": "code",
   "execution_count": 94,
   "id": "1e8e10eb-a051-4f02-8ebd-a49a6bdf03a0",
   "metadata": {},
   "outputs": [
    {
     "name": "stdout",
     "output_type": "stream",
     "text": [
      "[10 20 30 40 50 60]\n",
      "[[10 20 30 40]\n",
      " [50 60 70 80]]\n"
     ]
    },
    {
     "data": {
      "text/plain": [
       "2"
      ]
     },
     "execution_count": 94,
     "metadata": {},
     "output_type": "execute_result"
    }
   ],
   "source": [
    "# Depending on the dimensions, there are various ways to display the NumPy\n",
    "# arrays. The simplest way to print a NumPy array is to pass the array to the print\n",
    "# method, as you have already seen in the previous section. An example is\n",
    "# given below:\n",
    "\n",
    "np_array = np.array([10,20,30,40,50,60])\n",
    "np_array_1 = np.array([[10,20,30,40],[50,60,70,80]])\n",
    "print(np_array)\n",
    "print(np_array_1)\n",
    "\n",
    "\n",
    "# You can also use loops to display items in a NumPy array. It is a good idea to\n",
    "# know the dimensions of a NumPy array before printing the array on the\n",
    "# console.\n",
    "np_array.ndim\n",
    "np_array_1.ndim"
   ]
  },
  {
   "cell_type": "code",
   "execution_count": null,
   "id": "71b4d550-b873-4e5b-9917-e656d2660cc8",
   "metadata": {},
   "outputs": [],
   "source": [
    "# To print items in a 2-dimensional NumPy array, you can use a single\n",
    "# for each loop, as shown below:\n",
    "\n",
    "for i in np_array:\n",
    "    print(i)"
   ]
  },
  {
   "cell_type": "code",
   "execution_count": 99,
   "id": "91b5193d-19e3-48b6-9fe8-c574f15bb698",
   "metadata": {},
   "outputs": [
    {
     "name": "stdout",
     "output_type": "stream",
     "text": [
      "[10 20 30 40]\n",
      "[50 60 70 80]\n"
     ]
    }
   ],
   "source": [
    "# To print items in a 2-dimensional NumPy array, you can use a single\n",
    "# for each loop, as shown below:\n",
    "\n",
    "for i in np_array_1:\n",
    "    print(i)   "
   ]
  },
  {
   "cell_type": "code",
   "execution_count": 103,
   "id": "3e998e16-6511-4788-b205-60a1489ab145",
   "metadata": {},
   "outputs": [
    {
     "name": "stdout",
     "output_type": "stream",
     "text": [
      "10\n",
      "20\n",
      "30\n",
      "40\n",
      "50\n",
      "60\n",
      "70\n",
      "80\n"
     ]
    }
   ],
   "source": [
    "# To print items in a 2-dimensional NumPy array, you can use a single\n",
    "# for each loop, as shown below: iterating array inside an array...\n",
    "\n",
    "for i in np_array_1:\n",
    "    for j in i:\n",
    "        print(j)"
   ]
  },
  {
   "cell_type": "code",
   "execution_count": null,
   "id": "63130d25-5480-4441-9dbd-8f21b15ba19f",
   "metadata": {},
   "outputs": [],
   "source": []
  }
 ],
 "metadata": {
  "kernelspec": {
   "display_name": "Python 3 (ipykernel)",
   "language": "python",
   "name": "python3"
  },
  "language_info": {
   "codemirror_mode": {
    "name": "ipython",
    "version": 3
   },
   "file_extension": ".py",
   "mimetype": "text/x-python",
   "name": "python",
   "nbconvert_exporter": "python",
   "pygments_lexer": "ipython3",
   "version": "3.8.8"
  }
 },
 "nbformat": 4,
 "nbformat_minor": 5
}
