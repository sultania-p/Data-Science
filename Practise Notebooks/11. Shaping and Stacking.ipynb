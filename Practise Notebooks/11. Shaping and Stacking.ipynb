{
 "cells": [
  {
   "cell_type": "code",
   "execution_count": 1,
   "id": "6fd623f2-40d7-4f5b-ba2b-ad95f244293b",
   "metadata": {},
   "outputs": [],
   "source": [
    "import numpy as np"
   ]
  },
  {
   "cell_type": "code",
   "execution_count": 12,
   "id": "b379ea13-85ac-4340-91e1-7c874c677fac",
   "metadata": {},
   "outputs": [
    {
     "data": {
      "text/plain": [
       "array([[5., 9., 1., 9.],\n",
       "       [3., 4., 8., 4.],\n",
       "       [5., 0., 7., 5.]])"
      ]
     },
     "execution_count": 12,
     "metadata": {},
     "output_type": "execute_result"
    }
   ],
   "source": [
    "rg = np.random.default_rng(1) \n",
    "a = np.floor(10 * rg.random((3, 4)))\n",
    "a"
   ]
  },
  {
   "cell_type": "code",
   "execution_count": 14,
   "id": "30d64778-479e-4ed4-b663-b80844d957a8",
   "metadata": {},
   "outputs": [
    {
     "data": {
      "text/plain": [
       "(3, 4)"
      ]
     },
     "execution_count": 14,
     "metadata": {},
     "output_type": "execute_result"
    }
   ],
   "source": [
    "a.shape"
   ]
  },
  {
   "cell_type": "code",
   "execution_count": 16,
   "id": "cf0510f0-3c5c-4537-9fe3-d39c608ee682",
   "metadata": {},
   "outputs": [
    {
     "data": {
      "text/plain": [
       "array([5., 9., 1., 9., 3., 4., 8., 4., 5., 0., 7., 5.])"
      ]
     },
     "execution_count": 16,
     "metadata": {},
     "output_type": "execute_result"
    }
   ],
   "source": [
    "a.ravel()"
   ]
  },
  {
   "cell_type": "code",
   "execution_count": 18,
   "id": "63f6e929-8bb7-453a-8b51-52ba4f19a906",
   "metadata": {},
   "outputs": [
    {
     "data": {
      "text/plain": [
       "array([[5., 9.],\n",
       "       [1., 9.],\n",
       "       [3., 4.],\n",
       "       [8., 4.],\n",
       "       [5., 0.],\n",
       "       [7., 5.]])"
      ]
     },
     "execution_count": 18,
     "metadata": {},
     "output_type": "execute_result"
    }
   ],
   "source": [
    "a.reshape(6,2)"
   ]
  },
  {
   "cell_type": "code",
   "execution_count": 19,
   "id": "59b92530-6fa3-438f-8c98-24a86c56c825",
   "metadata": {},
   "outputs": [
    {
     "data": {
      "text/plain": [
       "array([[5., 3., 5.],\n",
       "       [9., 4., 0.],\n",
       "       [1., 8., 7.],\n",
       "       [9., 4., 5.]])"
      ]
     },
     "execution_count": 19,
     "metadata": {},
     "output_type": "execute_result"
    }
   ],
   "source": [
    "a.T"
   ]
  },
  {
   "cell_type": "code",
   "execution_count": 23,
   "id": "47393982-8aa9-47bf-8012-e18888db1adc",
   "metadata": {},
   "outputs": [
    {
     "data": {
      "text/plain": [
       "(4, 3)"
      ]
     },
     "execution_count": 23,
     "metadata": {},
     "output_type": "execute_result"
    }
   ],
   "source": [
    "a.T.shape"
   ]
  },
  {
   "cell_type": "code",
   "execution_count": 25,
   "id": "d6cc2803-8d86-4406-a362-d3732a8ac0b1",
   "metadata": {},
   "outputs": [
    {
     "data": {
      "text/plain": [
       "12"
      ]
     },
     "execution_count": 25,
     "metadata": {},
     "output_type": "execute_result"
    }
   ],
   "source": [
    "a.T.size"
   ]
  },
  {
   "cell_type": "code",
   "execution_count": 26,
   "id": "a600ec25-64e9-4158-b864-5df06a0d9fee",
   "metadata": {},
   "outputs": [
    {
     "data": {
      "text/plain": [
       "2"
      ]
     },
     "execution_count": 26,
     "metadata": {},
     "output_type": "execute_result"
    }
   ],
   "source": [
    "a.T.ndim"
   ]
  },
  {
   "cell_type": "code",
   "execution_count": 27,
   "id": "0342a49d-26de-4770-b6ee-121f0af0c0d8",
   "metadata": {},
   "outputs": [
    {
     "data": {
      "text/plain": [
       "array([[5., 9., 1., 9.],\n",
       "       [3., 4., 8., 4.],\n",
       "       [5., 0., 7., 5.]])"
      ]
     },
     "execution_count": 27,
     "metadata": {},
     "output_type": "execute_result"
    }
   ],
   "source": [
    "a"
   ]
  },
  {
   "cell_type": "code",
   "execution_count": 29,
   "id": "3117c571-4f45-4371-b2f8-cc451e54cfc9",
   "metadata": {},
   "outputs": [
    {
     "data": {
      "text/plain": [
       "array([[5., 9., 1., 9., 3., 4.],\n",
       "       [8., 4., 5., 0., 7., 5.]])"
      ]
     },
     "execution_count": 29,
     "metadata": {},
     "output_type": "execute_result"
    }
   ],
   "source": [
    "a.resize((2,6)) #resize changes the structure permanently in an array\n",
    "a"
   ]
  },
  {
   "cell_type": "code",
   "execution_count": 30,
   "id": "e4872d1f-f64c-490f-aca5-ee1186fbfe48",
   "metadata": {},
   "outputs": [
    {
     "data": {
      "text/plain": [
       "array([[5., 9., 1., 9., 3., 4.],\n",
       "       [8., 4., 5., 0., 7., 5.]])"
      ]
     },
     "execution_count": 30,
     "metadata": {},
     "output_type": "execute_result"
    }
   ],
   "source": [
    "a"
   ]
  },
  {
   "cell_type": "code",
   "execution_count": 33,
   "id": "2b705112-556e-4f9e-bd21-71ac116d3b51",
   "metadata": {},
   "outputs": [
    {
     "data": {
      "text/plain": [
       "array([[5., 9., 1., 9.],\n",
       "       [3., 4., 8., 4.],\n",
       "       [5., 0., 7., 5.]])"
      ]
     },
     "execution_count": 33,
     "metadata": {},
     "output_type": "execute_result"
    }
   ],
   "source": [
    "a.reshape(3,4) #reshape modifies the array as per the argument but does not change the array permanently"
   ]
  },
  {
   "cell_type": "code",
   "execution_count": 34,
   "id": "8e058767-5dd8-4703-8c91-94f533bd4ebb",
   "metadata": {},
   "outputs": [
    {
     "data": {
      "text/plain": [
       "array([[5., 9., 1., 9., 3., 4.],\n",
       "       [8., 4., 5., 0., 7., 5.]])"
      ]
     },
     "execution_count": 34,
     "metadata": {},
     "output_type": "execute_result"
    }
   ],
   "source": [
    "a"
   ]
  },
  {
   "cell_type": "code",
   "execution_count": 50,
   "id": "c99b8c02-1fae-4b3b-b0ad-2ab4b442c99d",
   "metadata": {},
   "outputs": [
    {
     "data": {
      "text/plain": [
       "array([[0., 8.],\n",
       "       [8., 8.]])"
      ]
     },
     "execution_count": 50,
     "metadata": {},
     "output_type": "execute_result"
    }
   ],
   "source": [
    "a = np.floor(10 * rg.random((2,2)))\n",
    "a"
   ]
  },
  {
   "cell_type": "code",
   "execution_count": 51,
   "id": "656e9c42-538a-4b74-a067-fff7ae84d4c3",
   "metadata": {},
   "outputs": [
    {
     "data": {
      "text/plain": [
       "array([[4., 2.],\n",
       "       [0., 6.]])"
      ]
     },
     "execution_count": 51,
     "metadata": {},
     "output_type": "execute_result"
    }
   ],
   "source": [
    "b = np.floor(10 * rg.random((2,2)))\n",
    "b"
   ]
  },
  {
   "cell_type": "code",
   "execution_count": 52,
   "id": "d217985f-586d-4313-bc20-33cdf0637d63",
   "metadata": {},
   "outputs": [
    {
     "data": {
      "text/plain": [
       "array([[0., 8.],\n",
       "       [8., 8.],\n",
       "       [4., 2.],\n",
       "       [0., 6.]])"
      ]
     },
     "execution_count": 52,
     "metadata": {},
     "output_type": "execute_result"
    }
   ],
   "source": [
    "np.vstack((a,b)) # vertical stacking"
   ]
  },
  {
   "cell_type": "markdown",
   "id": "4d6354c6-0c00-4ea2-ad51-d004b8a93c6f",
   "metadata": {},
   "source": [
    "#### To vstack the arrays, the dimension size must be same."
   ]
  },
  {
   "cell_type": "code",
   "execution_count": 54,
   "id": "9b33adf5-1f6a-4b03-b060-2e1386fb6a21",
   "metadata": {},
   "outputs": [
    {
     "data": {
      "text/plain": [
       "array([[0., 8., 4., 2.],\n",
       "       [8., 8., 0., 6.]])"
      ]
     },
     "execution_count": 54,
     "metadata": {},
     "output_type": "execute_result"
    }
   ],
   "source": [
    "np.hstack((a,b)) # horizontal stacking"
   ]
  },
  {
   "cell_type": "code",
   "execution_count": 59,
   "id": "9a54421b-df19-4a6f-b622-ed3560bffb13",
   "metadata": {},
   "outputs": [],
   "source": [
    "a = np.array([1,2,3])"
   ]
  },
  {
   "cell_type": "code",
   "execution_count": 60,
   "id": "77d1022b-ed2c-4da9-8ad8-bd62832e0eaa",
   "metadata": {},
   "outputs": [],
   "source": [
    "b = np.array([3,4,5])"
   ]
  },
  {
   "cell_type": "code",
   "execution_count": 62,
   "id": "9b64f8c7-ae0b-41dd-a8ca-fd37ae327e12",
   "metadata": {},
   "outputs": [],
   "source": [
    "c = np.array([6,7,8])"
   ]
  },
  {
   "cell_type": "code",
   "execution_count": 65,
   "id": "5c29994e-1a95-4fa2-b704-4bd6258edeed",
   "metadata": {},
   "outputs": [
    {
     "data": {
      "text/plain": [
       "array([[1, 3, 6],\n",
       "       [2, 4, 7],\n",
       "       [3, 5, 8]])"
      ]
     },
     "execution_count": 65,
     "metadata": {},
     "output_type": "execute_result"
    }
   ],
   "source": [
    "np.column_stack((a,b,c)) # stack column wise elements of 1D array into 2D arrays\n",
    "# returns a 2D array"
   ]
  },
  {
   "cell_type": "code",
   "execution_count": 66,
   "id": "e7e5f3ae-e878-4bb7-8a90-582264ea3064",
   "metadata": {},
   "outputs": [],
   "source": [
    "from numpy import newaxis"
   ]
  },
  {
   "cell_type": "code",
   "execution_count": 68,
   "id": "7e533f6b-27ef-4208-8680-5f20a25d13b3",
   "metadata": {},
   "outputs": [
    {
     "data": {
      "text/plain": [
       "array([1, 2, 3])"
      ]
     },
     "execution_count": 68,
     "metadata": {},
     "output_type": "execute_result"
    }
   ],
   "source": [
    "a"
   ]
  },
  {
   "cell_type": "code",
   "execution_count": 71,
   "id": "62e88be8-9642-47b3-beb3-277591cbad7d",
   "metadata": {},
   "outputs": [],
   "source": [
    "arr = np.array([\n",
    "    [1, 2],\n",
    "    [3, 4]\n",
    "])"
   ]
  },
  {
   "cell_type": "code",
   "execution_count": 73,
   "id": "fe320f94-9fc3-46e8-a077-5ac0f080af62",
   "metadata": {},
   "outputs": [
    {
     "data": {
      "text/plain": [
       "array([[[1, 2]],\n",
       "\n",
       "       [[3, 4]]])"
      ]
     },
     "execution_count": 73,
     "metadata": {},
     "output_type": "execute_result"
    }
   ],
   "source": [
    "arr[:, newaxis] #create 2D array for input array"
   ]
  },
  {
   "cell_type": "code",
   "execution_count": 74,
   "id": "b89009c8-89ec-46e9-9f45-232ac05c361a",
   "metadata": {},
   "outputs": [
    {
     "data": {
      "text/plain": [
       "2"
      ]
     },
     "execution_count": 74,
     "metadata": {},
     "output_type": "execute_result"
    }
   ],
   "source": [
    "arr.ndim"
   ]
  },
  {
   "cell_type": "code",
   "execution_count": 75,
   "id": "725a08ff-11a6-4919-8bc3-1af3f0d9aeb8",
   "metadata": {},
   "outputs": [
    {
     "data": {
      "text/plain": [
       "array([[1],\n",
       "       [2],\n",
       "       [3]])"
      ]
     },
     "execution_count": 75,
     "metadata": {},
     "output_type": "execute_result"
    }
   ],
   "source": [
    "a[:, newaxis]"
   ]
  },
  {
   "cell_type": "code",
   "execution_count": 76,
   "id": "9017f6e9-53ec-473d-9e1f-e2cfc53a3fd3",
   "metadata": {},
   "outputs": [
    {
     "data": {
      "text/plain": [
       "array([[3],\n",
       "       [4],\n",
       "       [5]])"
      ]
     },
     "execution_count": 76,
     "metadata": {},
     "output_type": "execute_result"
    }
   ],
   "source": [
    "b[:, newaxis]"
   ]
  },
  {
   "cell_type": "code",
   "execution_count": 77,
   "id": "079322c8-92f0-426a-92b8-7b2612c51e53",
   "metadata": {},
   "outputs": [
    {
     "data": {
      "text/plain": [
       "array([[1, 3],\n",
       "       [2, 4],\n",
       "       [3, 5]])"
      ]
     },
     "execution_count": 77,
     "metadata": {},
     "output_type": "execute_result"
    }
   ],
   "source": [
    "np.column_stack((a[:, newaxis], b[:, newaxis]))"
   ]
  },
  {
   "cell_type": "code",
   "execution_count": 78,
   "id": "ca467b0f-b0e3-47a4-ba52-16005e4bccad",
   "metadata": {},
   "outputs": [
    {
     "data": {
      "text/plain": [
       "array([[1, 3],\n",
       "       [2, 4],\n",
       "       [3, 5]])"
      ]
     },
     "execution_count": 78,
     "metadata": {},
     "output_type": "execute_result"
    }
   ],
   "source": [
    "np.hstack((a[:, newaxis], b[:, newaxis]))"
   ]
  },
  {
   "cell_type": "code",
   "execution_count": 79,
   "id": "9d864073-db03-4da7-943d-66b728fd4e84",
   "metadata": {},
   "outputs": [
    {
     "data": {
      "text/plain": [
       "array([[1],\n",
       "       [2],\n",
       "       [3],\n",
       "       [3],\n",
       "       [4],\n",
       "       [5]])"
      ]
     },
     "execution_count": 79,
     "metadata": {},
     "output_type": "execute_result"
    }
   ],
   "source": [
    "np.vstack((a[:, newaxis], b[:, newaxis]))"
   ]
  },
  {
   "cell_type": "code",
   "execution_count": 80,
   "id": "3cf07a20-2541-4409-9843-be6dd57e9706",
   "metadata": {},
   "outputs": [
    {
     "data": {
      "text/plain": [
       "False"
      ]
     },
     "execution_count": 80,
     "metadata": {},
     "output_type": "execute_result"
    }
   ],
   "source": [
    "np.column_stack is np.vstack"
   ]
  },
  {
   "cell_type": "code",
   "execution_count": 81,
   "id": "d515083a-2622-45a9-9f33-71c791400600",
   "metadata": {},
   "outputs": [
    {
     "data": {
      "text/plain": [
       "False"
      ]
     },
     "execution_count": 81,
     "metadata": {},
     "output_type": "execute_result"
    }
   ],
   "source": [
    "np.column_stack is np.hstack"
   ]
  },
  {
   "cell_type": "code",
   "execution_count": 82,
   "id": "db4db2ef-6dcb-4a2b-a661-a5df9e7c1ab7",
   "metadata": {},
   "outputs": [
    {
     "data": {
      "text/plain": [
       "False"
      ]
     },
     "execution_count": 82,
     "metadata": {},
     "output_type": "execute_result"
    }
   ],
   "source": [
    "np.vstack is np.column_stack"
   ]
  },
  {
   "cell_type": "code",
   "execution_count": 83,
   "id": "9990a01c-44b9-4b57-b97e-86a3230a6308",
   "metadata": {},
   "outputs": [
    {
     "data": {
      "text/plain": [
       "False"
      ]
     },
     "execution_count": 83,
     "metadata": {},
     "output_type": "execute_result"
    }
   ],
   "source": [
    "np.row_stack is np.hstack"
   ]
  },
  {
   "cell_type": "code",
   "execution_count": 84,
   "id": "1919a2c3-9684-427c-bb92-231db81d1769",
   "metadata": {},
   "outputs": [
    {
     "data": {
      "text/plain": [
       "True"
      ]
     },
     "execution_count": 84,
     "metadata": {},
     "output_type": "execute_result"
    }
   ],
   "source": [
    "np.row_stack is np.vstack"
   ]
  },
  {
   "cell_type": "code",
   "execution_count": 85,
   "id": "119272f6-0574-4924-9913-b22af9148d09",
   "metadata": {},
   "outputs": [
    {
     "data": {
      "text/plain": [
       "array([1, 2, 3, 3, 4, 5])"
      ]
     },
     "execution_count": 85,
     "metadata": {},
     "output_type": "execute_result"
    }
   ],
   "source": [
    "np.hstack((a,b))"
   ]
  },
  {
   "cell_type": "code",
   "execution_count": 86,
   "id": "d3768624-d906-4109-a1ad-2750ecebf528",
   "metadata": {},
   "outputs": [
    {
     "data": {
      "text/plain": [
       "array([[1, 2, 3],\n",
       "       [3, 4, 5]])"
      ]
     },
     "execution_count": 86,
     "metadata": {},
     "output_type": "execute_result"
    }
   ],
   "source": [
    "np.row_stack((a,b))"
   ]
  },
  {
   "cell_type": "markdown",
   "id": "3be8edbe-dc1a-4a7e-94d3-427c0435094b",
   "metadata": {},
   "source": [
    "### Array splitting, copy and view"
   ]
  },
  {
   "cell_type": "code",
   "execution_count": 95,
   "id": "a5db027a-394f-4bc7-8349-50c8d5876a35",
   "metadata": {},
   "outputs": [],
   "source": [
    "a = np.floor(10 * rg.random((2,12)))"
   ]
  },
  {
   "cell_type": "code",
   "execution_count": 96,
   "id": "3d77f7cb-5548-4a6d-9e86-25e9343e3282",
   "metadata": {},
   "outputs": [
    {
     "data": {
      "text/plain": [
       "array([[7., 5., 9., 6., 5., 0., 4., 2., 1., 5., 7., 2.],\n",
       "       [7., 5., 1., 9., 4., 2., 8., 1., 7., 1., 3., 2.]])"
      ]
     },
     "execution_count": 96,
     "metadata": {},
     "output_type": "execute_result"
    }
   ],
   "source": [
    "a"
   ]
  },
  {
   "cell_type": "code",
   "execution_count": 98,
   "id": "f5d9d212-8397-43a6-a979-234ca16ccdb9",
   "metadata": {},
   "outputs": [
    {
     "data": {
      "text/plain": [
       "[array([[7., 5., 9., 6.],\n",
       "        [7., 5., 1., 9.]]),\n",
       " array([[5., 0., 4., 2.],\n",
       "        [4., 2., 8., 1.]]),\n",
       " array([[1., 5., 7., 2.],\n",
       "        [7., 1., 3., 2.]])]"
      ]
     },
     "execution_count": 98,
     "metadata": {},
     "output_type": "execute_result"
    }
   ],
   "source": [
    "np.hsplit(a,3)"
   ]
  },
  {
   "cell_type": "code",
   "execution_count": 99,
   "id": "6570bfc5-6eef-4eed-99dc-095a4375d467",
   "metadata": {},
   "outputs": [
    {
     "data": {
      "text/plain": [
       "2"
      ]
     },
     "execution_count": 99,
     "metadata": {},
     "output_type": "execute_result"
    }
   ],
   "source": [
    "a.ndim"
   ]
  },
  {
   "cell_type": "code",
   "execution_count": 102,
   "id": "803717fb-3670-48e0-9f67-f5ae62dfd2d3",
   "metadata": {},
   "outputs": [],
   "source": [
    "b = np.hsplit(a,3)"
   ]
  },
  {
   "cell_type": "code",
   "execution_count": 106,
   "id": "4cf886ab-9cf5-4653-81a6-afa946907de9",
   "metadata": {},
   "outputs": [
    {
     "data": {
      "text/plain": [
       "[array([[7., 5., 9., 6.],\n",
       "        [7., 5., 1., 9.]]),\n",
       " array([[5., 0., 4., 2.],\n",
       "        [4., 2., 8., 1.]]),\n",
       " array([[1., 5., 7., 2.],\n",
       "        [7., 1., 3., 2.]])]"
      ]
     },
     "execution_count": 106,
     "metadata": {},
     "output_type": "execute_result"
    }
   ],
   "source": [
    "b"
   ]
  },
  {
   "cell_type": "code",
   "execution_count": 108,
   "id": "540173bb-f44d-423c-8569-d4c73596fdcd",
   "metadata": {},
   "outputs": [
    {
     "data": {
      "text/plain": [
       "[array([[7., 5., 9.],\n",
       "        [7., 5., 1.]]),\n",
       " array([[6.],\n",
       "        [9.]]),\n",
       " array([[5., 0., 4., 2., 1., 5., 7., 2.],\n",
       "        [4., 2., 8., 1., 7., 1., 3., 2.]])]"
      ]
     },
     "execution_count": 108,
     "metadata": {},
     "output_type": "execute_result"
    }
   ],
   "source": [
    "np.hsplit(a,(3,4))"
   ]
  },
  {
   "cell_type": "code",
   "execution_count": 109,
   "id": "5c2b48f2-be81-44e0-bd72-2aea37a0f427",
   "metadata": {},
   "outputs": [
    {
     "data": {
      "text/plain": [
       "array([[7., 5., 9., 6., 5., 0., 4., 2., 1., 5., 7., 2.],\n",
       "       [7., 5., 1., 9., 4., 2., 8., 1., 7., 1., 3., 2.]])"
      ]
     },
     "execution_count": 109,
     "metadata": {},
     "output_type": "execute_result"
    }
   ],
   "source": [
    "a"
   ]
  },
  {
   "cell_type": "markdown",
   "id": "aaebc939-cacc-48ec-9ebe-fddf1c56fd1a",
   "metadata": {},
   "source": [
    "##  <font color='Green'> Copies and Views </font>\n",
    "\n",
    "#### <font color='blue'>When operating and manipulating arrays, their data is sometimes copied into a new array and sometimes not. This is often a source of confusion for beginners.</font>"
   ]
  },
  {
   "cell_type": "code",
   "execution_count": 122,
   "id": "7680f33a-2d81-463b-8ab8-37f4f9c92fd5",
   "metadata": {},
   "outputs": [],
   "source": [
    "a = np.array([\n",
    "    [1,2,3,4],\n",
    "    [5,6,7,8],\n",
    "    [9,10,11,12]\n",
    "])"
   ]
  },
  {
   "cell_type": "code",
   "execution_count": 123,
   "id": "a984e807-db7d-4e30-8c20-e18b6a074f04",
   "metadata": {},
   "outputs": [
    {
     "data": {
      "text/plain": [
       "array([[ 1,  2,  3,  4],\n",
       "       [ 5,  6,  7,  8],\n",
       "       [ 9, 10, 11, 12]])"
      ]
     },
     "execution_count": 123,
     "metadata": {},
     "output_type": "execute_result"
    }
   ],
   "source": [
    "a"
   ]
  },
  {
   "cell_type": "code",
   "execution_count": 124,
   "id": "b0b70d10-05e3-426e-8354-5a28414a8b56",
   "metadata": {},
   "outputs": [],
   "source": [
    "b = a"
   ]
  },
  {
   "cell_type": "code",
   "execution_count": 125,
   "id": "ea4b1b55-35e6-448b-8691-5f0b3314f4ea",
   "metadata": {},
   "outputs": [
    {
     "data": {
      "text/plain": [
       "array([[ 1,  2,  3,  4],\n",
       "       [ 5,  6,  7,  8],\n",
       "       [ 9, 10, 11, 12]])"
      ]
     },
     "execution_count": 125,
     "metadata": {},
     "output_type": "execute_result"
    }
   ],
   "source": [
    "b #no new array object b is created"
   ]
  },
  {
   "cell_type": "code",
   "execution_count": 126,
   "id": "99b5ac97-837f-4d6a-8928-e260233df24f",
   "metadata": {},
   "outputs": [
    {
     "data": {
      "text/plain": [
       "True"
      ]
     },
     "execution_count": 126,
     "metadata": {},
     "output_type": "execute_result"
    }
   ],
   "source": [
    "b is a"
   ]
  },
  {
   "cell_type": "code",
   "execution_count": 129,
   "id": "197686e2-5f58-4839-9368-fbc09f588ac1",
   "metadata": {},
   "outputs": [
    {
     "data": {
      "text/plain": [
       "array([[ 1,  2,  3,  4],\n",
       "       [ 5,  6,  7,  8],\n",
       "       [ 9, 10, 11, 12]])"
      ]
     },
     "execution_count": 129,
     "metadata": {},
     "output_type": "execute_result"
    }
   ],
   "source": [
    "c = a.view()\n",
    "c # view of data displayed by c for data of a"
   ]
  },
  {
   "cell_type": "code",
   "execution_count": 130,
   "id": "ab88797e-79e1-4f4f-8e07-2dc56867899e",
   "metadata": {},
   "outputs": [
    {
     "data": {
      "text/plain": [
       "False"
      ]
     },
     "execution_count": 130,
     "metadata": {},
     "output_type": "execute_result"
    }
   ],
   "source": [
    "c is a"
   ]
  },
  {
   "cell_type": "code",
   "execution_count": 131,
   "id": "132fa2c5-1ad0-4e41-979b-9b9e82aef8f0",
   "metadata": {},
   "outputs": [
    {
     "data": {
      "text/plain": [
       "True"
      ]
     },
     "execution_count": 131,
     "metadata": {},
     "output_type": "execute_result"
    }
   ],
   "source": [
    "c.base is a"
   ]
  },
  {
   "cell_type": "code",
   "execution_count": 132,
   "id": "5836217b-7213-4746-801c-0a6020c824e4",
   "metadata": {},
   "outputs": [
    {
     "data": {
      "text/plain": [
       "False"
      ]
     },
     "execution_count": 132,
     "metadata": {},
     "output_type": "execute_result"
    }
   ],
   "source": [
    "c.flags.owndata"
   ]
  },
  {
   "cell_type": "code",
   "execution_count": 136,
   "id": "971d1f83-1fb8-4c2d-b1fd-bf7dc2a45e07",
   "metadata": {},
   "outputs": [],
   "source": [
    "c= c.reshape((2,6)) # a does not change"
   ]
  },
  {
   "cell_type": "code",
   "execution_count": 137,
   "id": "0a970af9-44a4-4a56-a47e-1827856cf9c3",
   "metadata": {},
   "outputs": [
    {
     "data": {
      "text/plain": [
       "array([[ 1,  2,  3,  4,  5,  6],\n",
       "       [ 7,  8,  9, 10, 11, 12]])"
      ]
     },
     "execution_count": 137,
     "metadata": {},
     "output_type": "execute_result"
    }
   ],
   "source": [
    "c"
   ]
  },
  {
   "cell_type": "code",
   "execution_count": 138,
   "id": "4bd34f24-472e-4f60-beae-2b5aaad159a1",
   "metadata": {},
   "outputs": [
    {
     "data": {
      "text/plain": [
       "array([[ 1,  2,  3,  4],\n",
       "       [ 5,  6,  7,  8],\n",
       "       [ 9, 10, 11, 12]])"
      ]
     },
     "execution_count": 138,
     "metadata": {},
     "output_type": "execute_result"
    }
   ],
   "source": [
    "a"
   ]
  },
  {
   "cell_type": "code",
   "execution_count": 142,
   "id": "ea349bb5-c632-4521-8245-e0f5d246855b",
   "metadata": {},
   "outputs": [],
   "source": [
    "c[0,5] = 999 # a also changes on value setting"
   ]
  },
  {
   "cell_type": "code",
   "execution_count": 143,
   "id": "628010b7-4a8d-4752-8077-110fff2899b1",
   "metadata": {},
   "outputs": [
    {
     "data": {
      "text/plain": [
       "array([[  1,   2,   3,   4,   5, 999],\n",
       "       [  7,   8,   9,  10,  11,  12]])"
      ]
     },
     "execution_count": 143,
     "metadata": {},
     "output_type": "execute_result"
    }
   ],
   "source": [
    "c"
   ]
  },
  {
   "cell_type": "code",
   "execution_count": 144,
   "id": "444e27fa-1cc5-47ff-b9a7-4fde00ab5347",
   "metadata": {},
   "outputs": [
    {
     "data": {
      "text/plain": [
       "array([[  1,   2,   3,   4],\n",
       "       [  5, 999,   7,   8],\n",
       "       [  9,  10,  11,  12]])"
      ]
     },
     "execution_count": 144,
     "metadata": {},
     "output_type": "execute_result"
    }
   ],
   "source": [
    "a"
   ]
  },
  {
   "cell_type": "markdown",
   "id": "c4200f7d-01f1-47f9-aae8-8fec899dacc4",
   "metadata": {},
   "source": [
    "### Deep Copy"
   ]
  },
  {
   "cell_type": "code",
   "execution_count": 149,
   "id": "f25ec0ff-c3bb-4653-9a81-bb6747a87b4d",
   "metadata": {},
   "outputs": [],
   "source": [
    "dc = a.copy() #dc does not share anything with a rather has its own structure and data"
   ]
  },
  {
   "cell_type": "code",
   "execution_count": 150,
   "id": "9fb8b743-1c28-47c4-9bc7-83e7f903e045",
   "metadata": {},
   "outputs": [
    {
     "data": {
      "text/plain": [
       "array([[  1,   2,   3,   4],\n",
       "       [  5, 999,   7,   8],\n",
       "       [  9,  10,  11,  12]])"
      ]
     },
     "execution_count": 150,
     "metadata": {},
     "output_type": "execute_result"
    }
   ],
   "source": [
    "dc"
   ]
  },
  {
   "cell_type": "code",
   "execution_count": 151,
   "id": "06829143-b486-40de-8894-9f6d4aa2ea24",
   "metadata": {},
   "outputs": [
    {
     "data": {
      "text/plain": [
       "False"
      ]
     },
     "execution_count": 151,
     "metadata": {},
     "output_type": "execute_result"
    }
   ],
   "source": [
    "dc is a"
   ]
  },
  {
   "cell_type": "code",
   "execution_count": 152,
   "id": "8d97624d-6c6d-4266-9752-58f1aa7e593b",
   "metadata": {},
   "outputs": [
    {
     "data": {
      "text/plain": [
       "False"
      ]
     },
     "execution_count": 152,
     "metadata": {},
     "output_type": "execute_result"
    }
   ],
   "source": [
    "dc.base is a"
   ]
  },
  {
   "cell_type": "code",
   "execution_count": null,
   "id": "3eca5eba-f933-4f0b-ae26-af2ec007e2c4",
   "metadata": {},
   "outputs": [],
   "source": []
  }
 ],
 "metadata": {
  "kernelspec": {
   "display_name": "Python 3 (ipykernel)",
   "language": "python",
   "name": "python3"
  },
  "language_info": {
   "codemirror_mode": {
    "name": "ipython",
    "version": 3
   },
   "file_extension": ".py",
   "mimetype": "text/x-python",
   "name": "python",
   "nbconvert_exporter": "python",
   "pygments_lexer": "ipython3",
   "version": "3.8.8"
  }
 },
 "nbformat": 4,
 "nbformat_minor": 5
}
