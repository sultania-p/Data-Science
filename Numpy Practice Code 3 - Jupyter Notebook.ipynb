{
 "cells": [
  {
   "cell_type": "code",
   "execution_count": 2,
   "id": "ed6e5cce-e3b3-4337-97f3-8cd53438e021",
   "metadata": {},
   "outputs": [
    {
     "data": {
      "text/plain": [
       "array([[3, 2, 2, 6, 8],\n",
       "       [1, 4, 7, 8, 2],\n",
       "       [5, 9, 4, 1, 4],\n",
       "       [9, 1, 3, 3, 3]])"
      ]
     },
     "execution_count": 2,
     "metadata": {},
     "output_type": "execute_result"
    }
   ],
   "source": [
    "# The following script creates a two-dimensional NumPy array with four rows\n",
    "# and five columns. The array contains random integers between 1 and 10. The\n",
    "# array is then printed on the console.\n",
    "\n",
    "import numpy as np\n",
    "int_random = np.random.randint(1,10,size =(4,5),dtype=int)\n",
    "int_random"
   ]
  },
  {
   "cell_type": "code",
   "execution_count": 6,
   "id": "da62212b-74e5-45fd-aa14-6ee9db17fbf9",
   "metadata": {},
   "outputs": [
    {
     "name": "stdout",
     "output_type": "stream",
     "text": [
      "2\n",
      "(4, 5)\n"
     ]
    }
   ],
   "source": [
    "# Let’s now try to see the number of dimensions and shape of our NumPy\n",
    "# array.\n",
    "\n",
    "print(int_random.ndim)\n",
    "print(int_random.shape)"
   ]
  },
  {
   "cell_type": "code",
   "execution_count": 13,
   "id": "42525d8f-1e0e-4b2a-8ebc-1db3b8ce2d96",
   "metadata": {},
   "outputs": [
    {
     "name": "stdout",
     "output_type": "stream",
     "text": [
      "10\n",
      "20\n",
      "30\n",
      "40\n",
      "50\n",
      "60\n"
     ]
    }
   ],
   "source": [
    "# To traverse through items in a two-dimensional NumPy array, you need two\n",
    "# for each loops: one for each row and the other for each column in the row.\n",
    "# Let’s first use one for loop to print items in our two-dimensional NumPy\n",
    "# array.\n",
    "\n",
    "my_array = np.array([10,20,30,40,50,60])\n",
    "#print(my_array.ndim)\n",
    "\n",
    "for i in my_array:\n",
    "    print(i)   "
   ]
  },
  {
   "cell_type": "code",
   "execution_count": 24,
   "id": "e89fb8b4-32dd-49f9-9eef-c6db3f7e447c",
   "metadata": {},
   "outputs": [
    {
     "name": "stdout",
     "output_type": "stream",
     "text": [
      "3\n",
      "2\n",
      "2\n",
      "6\n",
      "8\n",
      "1\n",
      "4\n",
      "7\n",
      "8\n",
      "2\n",
      "5\n",
      "9\n",
      "4\n",
      "1\n",
      "4\n",
      "9\n",
      "1\n",
      "3\n",
      "3\n",
      "3\n"
     ]
    }
   ],
   "source": [
    "# -----\n",
    "# To traverse through all the items in the two-dimensional array, you can use\n",
    "# the nested foreach loop, as follows:\n",
    "\n",
    "int_random\n",
    "for rows  in int_random:\n",
    "    for column in rows:\n",
    "        print(column)"
   ]
  },
  {
   "cell_type": "code",
   "execution_count": 31,
   "id": "4457b26a-6adb-4bf1-bf91-620557aff115",
   "metadata": {},
   "outputs": [
    {
     "name": "stdout",
     "output_type": "stream",
     "text": [
      "['Red' 'Orange' 'Yellow']\n",
      "The new array of colors is: ['Red' 'Orange' 'Yellow' 'Black']\n"
     ]
    }
   ],
   "source": [
    "# To add the items into a NumPy array, you can use the append() method from\n",
    "# the NumPy module. First, you need to pass the original array and the item\n",
    "# that you want to append to the array to the append() method. The append()\n",
    "# method returns a new array that contains newly added items appended to the\n",
    "# end of the original array. The following script adds a text item “Yellow”\n",
    "# to an existing array with three items.\n",
    "\n",
    "my_array = np.array(['Red', 'Orange', 'Yellow'])\n",
    "print(my_array)\n",
    "my_array_extended = np.append(my_array,'Black')\n",
    "print('The new array of colors is: ' + str(my_array_extended))\n"
   ]
  },
  {
   "cell_type": "code",
   "execution_count": 35,
   "id": "45dac8b0-8e8b-42f8-9f6d-d53f8bd611ba",
   "metadata": {},
   "outputs": [
    {
     "name": "stdout",
     "output_type": "stream",
     "text": [
      "['Red' 'Orange' 'Yellow']\n",
      "['Red' 'Orange' 'Yellow' 'Black' 'White']\n"
     ]
    }
   ],
   "source": [
    "# In addition to adding one item at a time, you can also append an array of\n",
    "# items to an existing array. The method remains similar to appending a single\n",
    "# item. You just have to pass the existing array and the new array to the\n",
    "# append() method, which returns a concatenated array where items from the\n",
    "# new array are appended at the end of the original array.\n",
    "my_array = np.array(['Red', 'Orange', 'Yellow'])\n",
    "print(my_array)\n",
    "my_array_extended = np.append(my_array,['Black', 'White'])\n",
    "print(my_array_extended)"
   ]
  },
  {
   "cell_type": "code",
   "execution_count": 45,
   "id": "fa5a4c01-3ca3-42a5-887f-2206e7b1542a",
   "metadata": {},
   "outputs": [
    {
     "name": "stdout",
     "output_type": "stream",
     "text": [
      "1643273896036.pdf\n",
      "1643374718964.pdf\n",
      "1643467773243.pdf\n",
      "1643558681083.pdf\n",
      "1643696729223.pdf\n",
      "1643786615864.pdf\n",
      "1643786778372.pdf\n",
      "1643871064727.pdf\n",
      "1643960096841.pdf\n",
      "1644046702450.pdf\n",
      "1644128845797.pdf\n",
      "1644133499093.pdf\n",
      "1644214963090.pdf\n",
      "1644303025809.pdf\n",
      "1644401210844.pdf\n",
      "1644475934000.pdf\n",
      "1644487748389.pdf\n",
      "1644561478570.pdf\n",
      "1644566132154.pdf\n",
      "1644648600029.pdf\n",
      "Two_pages_only_Python_3_cheat_sheet__1635964164.pdf\n"
     ]
    }
   ],
   "source": [
    "import os\n",
    "from os import listdir\n",
    "path = 'D:\\Learning\\Python Practise Sets'\n",
    "arr = os.listdir(path)\n",
    "arr1 = []\n",
    "for file in arr:\n",
    "    if file.endswith('.pdf'):\n",
    "        arr1.append(file)\n",
    "#print(arr1)\n",
    "for i in arr1:\n",
    "    print(i)"
   ]
  },
  {
   "cell_type": "code",
   "execution_count": 54,
   "id": "da4cdee5-fdcb-4d2c-9dea-067f13c80e9a",
   "metadata": {},
   "outputs": [
    {
     "name": "stdout",
     "output_type": "stream",
     "text": [
      "[[0. 0. 0.]\n",
      " [0. 0. 0.]\n",
      " [0. 0. 0.]]\n",
      "2\n",
      "[[0. 0. 0.]\n",
      " [0. 0. 0.]\n",
      " [0. 0. 0.]\n",
      " [1. 2. 3.]]\n"
     ]
    }
   ],
   "source": [
    "# To add items in a two-dimensional NumPy array, you have to specify\n",
    "# whether you want to add the new item as a row or as a column. To do so, you\n",
    "# can take the help of the axis attribute of the append method.\n",
    "# Let’s first create a 3 x 3 array of all zeros.\n",
    "\n",
    "zeros_array = np.zeros([3,3])\n",
    "print(zeros_array)\n",
    "print(zeros_array.ndim)\n",
    "# To add a new row in the above 3 x 3 array, you need to pass the original array\n",
    "# to the new array in the form of a row vector and the axis attribute to the\n",
    "# append() method. To add a new array in the form of a row, you need to set 0\n",
    "# as the value for the axis attribute. Here is an example script.\n",
    "extended_zeros_array = np.append(zeros_array, [[1, 2, 3]], axis = 0)\n",
    "print(extended_zeros_array)\n",
    "\n",
    "\n",
    "#axis = 0 means action on rows; axis = 1 means action on column\n",
    "# arr = np.array([[1, 2, 3]])\n",
    "# print(arr.ndim)"
   ]
  },
  {
   "cell_type": "code",
   "execution_count": 64,
   "id": "d9b2b173-2151-4bd3-84f1-97ee3861e3c7",
   "metadata": {},
   "outputs": [
    {
     "name": "stdout",
     "output_type": "stream",
     "text": [
      "Zero Array 2D: \n",
      "[[0. 0. 0.]\n",
      " [0. 0. 0.]\n",
      " [0. 0. 0.]]\n",
      "Extended Array: \n",
      "[[0. 0. 0. 1.]\n",
      " [0. 0. 0. 2.]\n",
      " [0. 0. 0. 3.]]\n"
     ]
    }
   ],
   "source": [
    "# To append a new array as a column in the existing 2-D array, you need to set\n",
    "# the value of the axis attribute to 1.\n",
    "\n",
    "# arr = np.array([[1],[2],[3]])\n",
    "# print(arr.ndim)\n",
    "print('Zero Array 2D: ')\n",
    "print(zeros_array)\n",
    "\n",
    "ext_array1 = np.append(zeros_array, [[1],[2],[3]], axis =1)\n",
    "print('Extended Array: ')\n",
    "print(ext_array1)"
   ]
  },
  {
   "cell_type": "code",
   "execution_count": 71,
   "id": "f2f33931-05e2-4d4b-ad5e-a66179ecbee1",
   "metadata": {},
   "outputs": [
    {
     "name": "stdout",
     "output_type": "stream",
     "text": [
      "['Black' 'Orange' 'WHite']\n",
      "array after deletion: \n",
      "['Black' 'WHite']\n"
     ]
    }
   ],
   "source": [
    "# To delete an item from an array, you may use the delete() method. You need\n",
    "# to pass the existing array and the index of the item to be deleted to the\n",
    "# delete() method. The following script deletes an item at index 1 (second item)\n",
    "# from the my_array array.\n",
    "\n",
    "color_array = np.array(['Black', 'Orange', 'WHite'])\n",
    "print(color_array)\n",
    "\n",
    "print('array after deletion: ')\n",
    "updated_array = np.delete(color_array, 1)\n",
    "print(updated_array)"
   ]
  },
  {
   "cell_type": "code",
   "execution_count": null,
   "id": "644f9097-0c2d-4396-babf-afd63a7c2c98",
   "metadata": {},
   "outputs": [],
   "source": []
  }
 ],
 "metadata": {
  "kernelspec": {
   "display_name": "Python 3 (ipykernel)",
   "language": "python",
   "name": "python3"
  },
  "language_info": {
   "codemirror_mode": {
    "name": "ipython",
    "version": 3
   },
   "file_extension": ".py",
   "mimetype": "text/x-python",
   "name": "python",
   "nbconvert_exporter": "python",
   "pygments_lexer": "ipython3",
   "version": "3.8.8"
  }
 },
 "nbformat": 4,
 "nbformat_minor": 5
}
