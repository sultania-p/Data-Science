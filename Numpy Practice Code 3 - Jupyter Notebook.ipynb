{
 "cells": [
  {
   "cell_type": "code",
   "execution_count": 2,
   "id": "ed6e5cce-e3b3-4337-97f3-8cd53438e021",
   "metadata": {},
   "outputs": [
    {
     "data": {
      "text/plain": [
       "array([[3, 2, 2, 6, 8],\n",
       "       [1, 4, 7, 8, 2],\n",
       "       [5, 9, 4, 1, 4],\n",
       "       [9, 1, 3, 3, 3]])"
      ]
     },
     "execution_count": 2,
     "metadata": {},
     "output_type": "execute_result"
    }
   ],
   "source": [
    "# The following script creates a two-dimensional NumPy array with four rows\n",
    "# and five columns. The array contains random integers between 1 and 10. The\n",
    "# array is then printed on the console.\n",
    "\n",
    "import numpy as np\n",
    "int_random = np.random.randint(1,10,size =(4,5),dtype=int)\n",
    "int_random"
   ]
  },
  {
   "cell_type": "code",
   "execution_count": 6,
   "id": "da62212b-74e5-45fd-aa14-6ee9db17fbf9",
   "metadata": {},
   "outputs": [
    {
     "name": "stdout",
     "output_type": "stream",
     "text": [
      "2\n",
      "(4, 5)\n"
     ]
    }
   ],
   "source": [
    "# Let’s now try to see the number of dimensions and shape of our NumPy\n",
    "# array.\n",
    "\n",
    "print(int_random.ndim)\n",
    "print(int_random.shape)"
   ]
  },
  {
   "cell_type": "code",
   "execution_count": 13,
   "id": "42525d8f-1e0e-4b2a-8ebc-1db3b8ce2d96",
   "metadata": {},
   "outputs": [
    {
     "name": "stdout",
     "output_type": "stream",
     "text": [
      "10\n",
      "20\n",
      "30\n",
      "40\n",
      "50\n",
      "60\n"
     ]
    }
   ],
   "source": [
    "# To traverse through items in a two-dimensional NumPy array, you need two\n",
    "# for each loops: one for each row and the other for each column in the row.\n",
    "# Let’s first use one for loop to print items in our two-dimensional NumPy\n",
    "# array.\n",
    "\n",
    "my_array = np.array([10,20,30,40,50,60])\n",
    "#print(my_array.ndim)\n",
    "\n",
    "for i in my_array:\n",
    "    print(i)   "
   ]
  },
  {
   "cell_type": "code",
   "execution_count": 24,
   "id": "e89fb8b4-32dd-49f9-9eef-c6db3f7e447c",
   "metadata": {},
   "outputs": [
    {
     "name": "stdout",
     "output_type": "stream",
     "text": [
      "3\n",
      "2\n",
      "2\n",
      "6\n",
      "8\n",
      "1\n",
      "4\n",
      "7\n",
      "8\n",
      "2\n",
      "5\n",
      "9\n",
      "4\n",
      "1\n",
      "4\n",
      "9\n",
      "1\n",
      "3\n",
      "3\n",
      "3\n"
     ]
    }
   ],
   "source": [
    "# -----\n",
    "# To traverse through all the items in the two-dimensional array, you can use\n",
    "# the nested foreach loop, as follows:\n",
    "\n",
    "int_random\n",
    "for rows  in int_random:\n",
    "    for column in rows:\n",
    "        print(column)"
   ]
  },
  {
   "cell_type": "code",
   "execution_count": 31,
   "id": "4457b26a-6adb-4bf1-bf91-620557aff115",
   "metadata": {},
   "outputs": [
    {
     "name": "stdout",
     "output_type": "stream",
     "text": [
      "['Red' 'Orange' 'Yellow']\n",
      "The new array of colors is: ['Red' 'Orange' 'Yellow' 'Black']\n"
     ]
    }
   ],
   "source": [
    "# To add the items into a NumPy array, you can use the append() method from\n",
    "# the NumPy module. First, you need to pass the original array and the item\n",
    "# that you want to append to the array to the append() method. The append()\n",
    "# method returns a new array that contains newly added items appended to the\n",
    "# end of the original array. The following script adds a text item “Yellow”\n",
    "# to an existing array with three items.\n",
    "\n",
    "my_array = np.array(['Red', 'Orange', 'Yellow'])\n",
    "print(my_array)\n",
    "my_array_extended = np.append(my_array,'Black')\n",
    "print('The new array of colors is: ' + str(my_array_extended))\n"
   ]
  },
  {
   "cell_type": "code",
   "execution_count": 35,
   "id": "45dac8b0-8e8b-42f8-9f6d-d53f8bd611ba",
   "metadata": {},
   "outputs": [
    {
     "name": "stdout",
     "output_type": "stream",
     "text": [
      "['Red' 'Orange' 'Yellow']\n",
      "['Red' 'Orange' 'Yellow' 'Black' 'White']\n"
     ]
    }
   ],
   "source": [
    "# In addition to adding one item at a time, you can also append an array of\n",
    "# items to an existing array. The method remains similar to appending a single\n",
    "# item. You just have to pass the existing array and the new array to the\n",
    "# append() method, which returns a concatenated array where items from the\n",
    "# new array are appended at the end of the original array.\n",
    "my_array = np.array(['Red', 'Orange', 'Yellow'])\n",
    "print(my_array)\n",
    "my_array_extended = np.append(my_array,['Black', 'White'])\n",
    "print(my_array_extended)"
   ]
  },
  {
   "cell_type": "code",
   "execution_count": 45,
   "id": "fa5a4c01-3ca3-42a5-887f-2206e7b1542a",
   "metadata": {},
   "outputs": [
    {
     "name": "stdout",
     "output_type": "stream",
     "text": [
      "1643273896036.pdf\n",
      "1643374718964.pdf\n",
      "1643467773243.pdf\n",
      "1643558681083.pdf\n",
      "1643696729223.pdf\n",
      "1643786615864.pdf\n",
      "1643786778372.pdf\n",
      "1643871064727.pdf\n",
      "1643960096841.pdf\n",
      "1644046702450.pdf\n",
      "1644128845797.pdf\n",
      "1644133499093.pdf\n",
      "1644214963090.pdf\n",
      "1644303025809.pdf\n",
      "1644401210844.pdf\n",
      "1644475934000.pdf\n",
      "1644487748389.pdf\n",
      "1644561478570.pdf\n",
      "1644566132154.pdf\n",
      "1644648600029.pdf\n",
      "Two_pages_only_Python_3_cheat_sheet__1635964164.pdf\n"
     ]
    }
   ],
   "source": [
    "import os\n",
    "from os import listdir\n",
    "path = 'D:\\Learning\\Python Practise Sets'\n",
    "arr = os.listdir(path)\n",
    "arr1 = []\n",
    "for file in arr:\n",
    "    if file.endswith('.pdf'):\n",
    "        arr1.append(file)\n",
    "#print(arr1)\n",
    "for i in arr1:\n",
    "    print(i)"
   ]
  },
  {
   "cell_type": "code",
   "execution_count": null,
   "id": "da4cdee5-fdcb-4d2c-9dea-067f13c80e9a",
   "metadata": {},
   "outputs": [],
   "source": []
  }
 ],
 "metadata": {
  "kernelspec": {
   "display_name": "Python 3 (ipykernel)",
   "language": "python",
   "name": "python3"
  },
  "language_info": {
   "codemirror_mode": {
    "name": "ipython",
    "version": 3
   },
   "file_extension": ".py",
   "mimetype": "text/x-python",
   "name": "python",
   "nbconvert_exporter": "python",
   "pygments_lexer": "ipython3",
   "version": "3.8.8"
  }
 },
 "nbformat": 4,
 "nbformat_minor": 5
}
