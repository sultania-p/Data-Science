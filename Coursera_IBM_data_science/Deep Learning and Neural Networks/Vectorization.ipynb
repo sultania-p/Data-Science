{
 "cells": [
  {
   "cell_type": "code",
   "execution_count": 21,
   "id": "e43e8ff3-2431-4126-ba76-3d514ec3991d",
   "metadata": {},
   "outputs": [],
   "source": [
    "import numpy as np\n",
    "import math"
   ]
  },
  {
   "cell_type": "code",
   "execution_count": 25,
   "id": "080870e8-460f-4082-adc1-7f2a2848b7ca",
   "metadata": {},
   "outputs": [
    {
     "name": "stdout",
     "output_type": "stream",
     "text": [
      "[0.16813431 0.516453   0.76249205 ... 0.14561621 0.14889535 0.10238212]\n",
      "249872.3594297701\n",
      "Vectorized time version: 0.9565353393554688ms\n",
      "249872.35942977323\n",
      "Non-vectorized version/ FOr loop: 521.1412906646729ms\n"
     ]
    }
   ],
   "source": [
    "import time\n",
    "\n",
    "a = np.random.rand(1000000)\n",
    "b = np.random.rand(1000000)\n",
    "\n",
    "tic = time.time()\n",
    "c = np.dot(a,b)\n",
    "toc = time.time()\n",
    "\n",
    "print(c)\n",
    "print(\"Vectorized time version: \" + str(1000 * (toc-tic)) + \"ms\")\n",
    "\n",
    "c = 0\n",
    "tic = time.time()\n",
    "for i in range(1000000):\n",
    "    c += a[i] * b[i]\n",
    "toc = time.time()\n",
    "\n",
    "print(c)\n",
    "print(\"Non-vectorized version/ FOr loop: \" + str(1000*(toc-tic)) + \"ms\")"
   ]
  },
  {
   "cell_type": "code",
   "execution_count": 34,
   "id": "a57b035f-65e5-4b04-b6a1-7a3722894439",
   "metadata": {},
   "outputs": [],
   "source": [
    "u = np.random.rand(1000000,1)\n",
    "v = np.random.rand(1000000,1)\n",
    "# take exponential function for each element in the array\n",
    "for i in range(1000000):\n",
    "    v[i] = math.exp(u[i])"
   ]
  },
  {
   "cell_type": "code",
   "execution_count": 35,
   "id": "d75cc7fd-de2a-49f8-93ef-045d814986ac",
   "metadata": {},
   "outputs": [
    {
     "data": {
      "text/plain": [
       "array([[2.04603977],\n",
       "       [1.3123917 ],\n",
       "       [1.30755496],\n",
       "       ...,\n",
       "       [1.39205769],\n",
       "       [1.35393701],\n",
       "       [1.66081548]])"
      ]
     },
     "execution_count": 35,
     "metadata": {},
     "output_type": "execute_result"
    }
   ],
   "source": [
    "# vectorized computation.. removing explicit for loop\n",
    "u_vec = np.exp(u)\n",
    "u_vec"
   ]
  },
  {
   "cell_type": "code",
   "execution_count": 39,
   "id": "4bdb4843-58bd-4e09-998a-fe802db45c84",
   "metadata": {},
   "outputs": [
    {
     "data": {
      "text/plain": [
       "array([[0.7159061 ],\n",
       "       [0.2718512 ],\n",
       "       [0.26815895],\n",
       "       ...,\n",
       "       [0.330783  ],\n",
       "       [0.30301665],\n",
       "       [0.50730874]])"
      ]
     },
     "execution_count": 39,
     "metadata": {},
     "output_type": "execute_result"
    }
   ],
   "source": [
    "np.log(u)\n",
    "np.abs(u)\n",
    "np.sqrt(u)\n",
    "np.maximum(u,0)"
   ]
  },
  {
   "cell_type": "code",
   "execution_count": null,
   "id": "632fdd92-fc5f-4942-82c6-5505feeec41b",
   "metadata": {},
   "outputs": [],
   "source": [
    " "
   ]
  }
 ],
 "metadata": {
  "kernelspec": {
   "display_name": "Python 3 (ipykernel)",
   "language": "python",
   "name": "python3"
  },
  "language_info": {
   "codemirror_mode": {
    "name": "ipython",
    "version": 3
   },
   "file_extension": ".py",
   "mimetype": "text/x-python",
   "name": "python",
   "nbconvert_exporter": "python",
   "pygments_lexer": "ipython3",
   "version": "3.8.8"
  }
 },
 "nbformat": 4,
 "nbformat_minor": 5
}
