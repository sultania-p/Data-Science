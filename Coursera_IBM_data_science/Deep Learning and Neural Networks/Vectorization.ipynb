{
 "cells": [
  {
   "cell_type": "code",
   "execution_count": 21,
   "id": "e43e8ff3-2431-4126-ba76-3d514ec3991d",
   "metadata": {},
   "outputs": [],
   "source": [
    "import numpy as np\n",
    "import math"
   ]
  },
  {
   "cell_type": "code",
   "execution_count": 25,
   "id": "080870e8-460f-4082-adc1-7f2a2848b7ca",
   "metadata": {},
   "outputs": [
    {
     "name": "stdout",
     "output_type": "stream",
     "text": [
      "[0.16813431 0.516453   0.76249205 ... 0.14561621 0.14889535 0.10238212]\n",
      "249872.3594297701\n",
      "Vectorized time version: 0.9565353393554688ms\n",
      "249872.35942977323\n",
      "Non-vectorized version/ FOr loop: 521.1412906646729ms\n"
     ]
    }
   ],
   "source": [
    "import time\n",
    "\n",
    "a = np.random.rand(1000000)\n",
    "b = np.random.rand(1000000)\n",
    "\n",
    "tic = time.time()\n",
    "c = np.dot(a,b)\n",
    "toc = time.time()\n",
    "\n",
    "print(c)\n",
    "print(\"Vectorized time version: \" + str(1000 * (toc-tic)) + \"ms\")\n",
    "\n",
    "c = 0\n",
    "tic = time.time()\n",
    "for i in range(1000000):\n",
    "    c += a[i] * b[i]\n",
    "toc = time.time()\n",
    "\n",
    "print(c)\n",
    "print(\"Non-vectorized version/ FOr loop: \" + str(1000*(toc-tic)) + \"ms\")"
   ]
  },
  {
   "cell_type": "code",
   "execution_count": 34,
   "id": "a57b035f-65e5-4b04-b6a1-7a3722894439",
   "metadata": {},
   "outputs": [],
   "source": [
    "u = np.random.rand(1000000,1)\n",
    "v = np.random.rand(1000000,1)\n",
    "# take exponential function for each element in the array\n",
    "for i in range(1000000):\n",
    "    v[i] = math.exp(u[i])"
   ]
  },
  {
   "cell_type": "code",
   "execution_count": 35,
   "id": "d75cc7fd-de2a-49f8-93ef-045d814986ac",
   "metadata": {},
   "outputs": [
    {
     "data": {
      "text/plain": [
       "array([[2.04603977],\n",
       "       [1.3123917 ],\n",
       "       [1.30755496],\n",
       "       ...,\n",
       "       [1.39205769],\n",
       "       [1.35393701],\n",
       "       [1.66081548]])"
      ]
     },
     "execution_count": 35,
     "metadata": {},
     "output_type": "execute_result"
    }
   ],
   "source": [
    "# vectorized computation.. removing explicit for loop\n",
    "u_vec = np.exp(u)\n",
    "u_vec"
   ]
  },
  {
   "cell_type": "code",
   "execution_count": 39,
   "id": "4bdb4843-58bd-4e09-998a-fe802db45c84",
   "metadata": {},
   "outputs": [
    {
     "data": {
      "text/plain": [
       "array([[0.7159061 ],\n",
       "       [0.2718512 ],\n",
       "       [0.26815895],\n",
       "       ...,\n",
       "       [0.330783  ],\n",
       "       [0.30301665],\n",
       "       [0.50730874]])"
      ]
     },
     "execution_count": 39,
     "metadata": {},
     "output_type": "execute_result"
    }
   ],
   "source": [
    "np.log(u)\n",
    "np.abs(u)\n",
    "np.sqrt(u)\n",
    "np.maximum(u,0)"
   ]
  },
  {
   "cell_type": "code",
   "execution_count": 41,
   "id": "632fdd92-fc5f-4942-82c6-5505feeec41b",
   "metadata": {},
   "outputs": [
    {
     "name": "stdout",
     "output_type": "stream",
     "text": [
      "[[ 56.    0.    4.4  68. ]\n",
      " [  1.2 104.   52.    8. ]\n",
      " [  1.8 135.   99.    0.9]]\n"
     ]
    }
   ],
   "source": [
    "# Broadcasting example:\n",
    "\n",
    "import numpy as np\n",
    "A = np.array([[56.0, 0.0, 4.4, 68.0],\n",
    "             [1.2,104.0,52.0,8.0],\n",
    "             [1.8,135.0,99.0,0.9]])\n",
    "\n",
    "print(A)"
   ]
  },
  {
   "cell_type": "code",
   "execution_count": 42,
   "id": "2dd1ecd3-0b4a-47cf-b468-62e46626f41e",
   "metadata": {},
   "outputs": [
    {
     "name": "stdout",
     "output_type": "stream",
     "text": [
      "[ 59.  239.  155.4  76.9]\n"
     ]
    }
   ],
   "source": [
    "cal = A.sum(axis=0) # sum vertically\n",
    "print(cal)"
   ]
  },
  {
   "cell_type": "code",
   "execution_count": 49,
   "id": "759e9b3a-2e7d-40b6-9632-fd5f6507093d",
   "metadata": {},
   "outputs": [
    {
     "name": "stdout",
     "output_type": "stream",
     "text": [
      "[[94.91525424  0.          2.83140283 88.42652796]\n",
      " [ 2.03389831 43.51464435 33.46203346 10.40312094]\n",
      " [ 3.05084746 56.48535565 63.70656371  1.17035111]]\n"
     ]
    }
   ],
   "source": [
    "percentage = 100 *A/cal # briadcasting we can use reshape command if not sure of dimention os cal\n",
    "print(percentage)"
   ]
  },
  {
   "cell_type": "code",
   "execution_count": 59,
   "id": "b806e715-2d29-4285-bb9d-0e049471c894",
   "metadata": {},
   "outputs": [
    {
     "data": {
      "text/plain": [
       "array([[1, 1, 3, 6],\n",
       "       [2, 2, 5, 1],\n",
       "       [7, 8, 8, 2]])"
      ]
     },
     "execution_count": 59,
     "metadata": {},
     "output_type": "execute_result"
    }
   ],
   "source": [
    "A = np.random.randint(1,10, size =(3,4))\n",
    "A"
   ]
  },
  {
   "cell_type": "code",
   "execution_count": 61,
   "id": "e1f6ca42-3427-4862-b8df-c0a922b3e2a3",
   "metadata": {},
   "outputs": [
    {
     "data": {
      "text/plain": [
       "array([1, 2, 3, 4])"
      ]
     },
     "execution_count": 61,
     "metadata": {},
     "output_type": "execute_result"
    }
   ],
   "source": [
    "B = np.array([1,2,3,4])\n",
    "B"
   ]
  },
  {
   "cell_type": "code",
   "execution_count": 63,
   "id": "5be70ab5-edc0-40ed-b7bf-fbc48c088d4e",
   "metadata": {},
   "outputs": [
    {
     "data": {
      "text/plain": [
       "array([[ 2,  3,  6, 10],\n",
       "       [ 3,  4,  8,  5],\n",
       "       [ 8, 10, 11,  6]])"
      ]
     },
     "execution_count": 63,
     "metadata": {},
     "output_type": "execute_result"
    }
   ],
   "source": [
    "A + B # here A is (3,4) matrix and B is (1,4) matrix so Broadcasting by python makes it add in same dimension"
   ]
  },
  {
   "cell_type": "code",
   "execution_count": 74,
   "id": "62acb0fe-f869-4af5-8d81-bc30bb38a29e",
   "metadata": {},
   "outputs": [
    {
     "name": "stdout",
     "output_type": "stream",
     "text": [
      "[ 0.04154141  0.33841227  0.69311719 -0.59877165  1.14296967]\n",
      "(5,)\n",
      "[ 0.04154141  0.33841227  0.69311719 -0.59877165  1.14296967]\n",
      "2.2615671576030447\n"
     ]
    }
   ],
   "source": [
    "# tips and tricks to find bug in code..\n",
    "a = np.random.randn(5)\n",
    "print(a)\n",
    "print(a.shape)\n",
    "print(a.T) # T is transpose of A; but here A is not a row vector or matrix, gives rank 1 array...\n",
    "print(np.dot(a, a.T)) "
   ]
  },
  {
   "cell_type": "code",
   "execution_count": 73,
   "id": "b5823fdd-b2e2-49fa-9bb9-be75530f19be",
   "metadata": {},
   "outputs": [
    {
     "name": "stdout",
     "output_type": "stream",
     "text": [
      "[[-0.61400513]\n",
      " [ 2.03753371]\n",
      " [ 0.63661477]\n",
      " [ 0.16950964]\n",
      " [ 0.0228478 ]]\n",
      "\n",
      "\n",
      "[[-0.61400513  2.03753371  0.63661477  0.16950964  0.0228478 ]]\n",
      "\n",
      "\n",
      "[[ 3.77002305e-01 -1.25105616e+00 -3.90884736e-01 -1.04079790e-01\n",
      "  -1.40286664e-02]\n",
      " [-1.25105616e+00  4.15154361e+00  1.29712405e+00  3.45381608e-01\n",
      "   4.65531622e-02]\n",
      " [-3.90884736e-01  1.29712405e+00  4.05278363e-01  1.07912341e-01\n",
      "   1.45452468e-02]\n",
      " [-1.04079790e-01  3.45381608e-01  1.07912341e-01  2.87335184e-02\n",
      "   3.87292234e-03]\n",
      " [-1.40286664e-02  4.65531622e-02  1.45452468e-02  3.87292234e-03\n",
      "   5.22021954e-04]]\n"
     ]
    }
   ],
   "source": [
    "# row vector means the shape of matrix is (1,n)\n",
    "# column vector means the shape of matrix is (m,1)\n",
    "\n",
    "A = np.random.randn(5,1) # here A is a row vector\n",
    "print(A)\n",
    "print('\\n')\n",
    "print(A.T)\n",
    "print('\\n')\n",
    "print(np.dot(A, A.T))"
   ]
  },
  {
   "cell_type": "code",
   "execution_count": 77,
   "id": "a4937e95-fcbc-477b-bf05-21bf34c84295",
   "metadata": {},
   "outputs": [
    {
     "data": {
      "text/plain": [
       "array([[-0.61400513],\n",
       "       [ 2.03753371],\n",
       "       [ 0.63661477],\n",
       "       [ 0.16950964],\n",
       "       [ 0.0228478 ]])"
      ]
     },
     "execution_count": 77,
     "metadata": {},
     "output_type": "execute_result"
    }
   ],
   "source": [
    "assert(A.shape == (5,1)) # forcing the column vector to an array\n",
    "A"
   ]
  },
  {
   "cell_type": "code",
   "execution_count": 80,
   "id": "a19e1af6-412e-4a8c-8af5-9ac12776b7d3",
   "metadata": {},
   "outputs": [
    {
     "data": {
      "text/plain": [
       "array([[-7.87764056e-01,  4.33816258e-02,  3.61426778e-01],\n",
       "       [-4.11161115e-01, -1.86442017e-01, -7.39514110e-04],\n",
       "       [-2.15445001e-01, -1.47968030e-01,  9.42608036e-01],\n",
       "       [-2.09991528e-01,  6.06260618e-01, -9.67132741e-02]])"
      ]
     },
     "execution_count": 80,
     "metadata": {},
     "output_type": "execute_result"
    }
   ],
   "source": [
    "a=np.random.randn(4,3) \n",
    "b=np.random.randn(1,3)\n",
    "c=a*b\n",
    "c"
   ]
  },
  {
   "cell_type": "code",
   "execution_count": 85,
   "id": "012c39ab-5952-4eaf-a24a-990b55cb6f76",
   "metadata": {},
   "outputs": [
    {
     "name": "stdout",
     "output_type": "stream",
     "text": [
      "[[ 1  1]\n",
      " [ 1 -1]]\n",
      "[[2]\n",
      " [3]]\n"
     ]
    },
    {
     "data": {
      "text/plain": [
       "array([[3, 3],\n",
       "       [4, 2]])"
      ]
     },
     "execution_count": 85,
     "metadata": {},
     "output_type": "execute_result"
    }
   ],
   "source": [
    "a=np.array([[1,1],[1,-1]])\n",
    "print(a)\n",
    "b=np.array([[2],[3]])\n",
    "print(b)\n",
    "c = a + b\n",
    "c"
   ]
  },
  {
   "cell_type": "code",
   "execution_count": null,
   "id": "3982e590-2c00-49f9-9c91-ad03288ee114",
   "metadata": {},
   "outputs": [],
   "source": []
  }
 ],
 "metadata": {
  "kernelspec": {
   "display_name": "Python 3 (ipykernel)",
   "language": "python",
   "name": "python3"
  },
  "language_info": {
   "codemirror_mode": {
    "name": "ipython",
    "version": 3
   },
   "file_extension": ".py",
   "mimetype": "text/x-python",
   "name": "python",
   "nbconvert_exporter": "python",
   "pygments_lexer": "ipython3",
   "version": "3.8.8"
  }
 },
 "nbformat": 4,
 "nbformat_minor": 5
}
