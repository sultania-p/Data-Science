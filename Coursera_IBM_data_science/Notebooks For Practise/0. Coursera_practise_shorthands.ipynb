{
 "cells": [
  {
   "cell_type": "code",
   "execution_count": 2,
   "id": "2c5939dd-d99d-4a6b-bd35-7a2ff4d8b844",
   "metadata": {},
   "outputs": [
    {
     "data": {
      "text/plain": [
       "1.0"
      ]
     },
     "execution_count": 2,
     "metadata": {},
     "output_type": "execute_result"
    }
   ],
   "source": [
    "import math\n",
    "import numpy as np\n",
    "a= math.log10(10)\n",
    "a"
   ]
  },
  {
   "cell_type": "markdown",
   "id": "40e782b2-14cf-414a-b1dd-fc3d2b15d581",
   "metadata": {},
   "source": [
    "### [Follow my LinkedIn account](https://www.linkedin.com/in/piyush-sultania)"
   ]
  },
  {
   "cell_type": "markdown",
   "id": "bdbda8f9-ebad-4991-a6e3-1a0e39b71d32",
   "metadata": {},
   "source": [
    "Here's our logo (hover to see the title text):\n",
    "\n",
    "Inline-style: \n",
    "![alt text](https://github.com/adam-p/markdown-here/raw/master/src/common/images/icon48.png \"Logo Title Text 1\")\n",
    "\n",
    "Alt-H1\n",
    "\n",
    "[Cognitive Class](https://cognitiveclass.ai/?utm_medium=Exinfluencer&utm_source=Exinfluencer&utm_content=000026UJ&utm_term=10006555&utm_id=NA-SkillsNetwork-wwwcourseraorg-SkillsNetworkCoursesIBMDeveloperSkillsNetworkDS0105ENSkillsNetwork20083975-2021-01-01)"
   ]
  },
  {
   "cell_type": "markdown",
   "id": "58bf3bfc-efe4-46cd-895b-1d4a8e83809a",
   "metadata": {},
   "source": [
    "### Tables\n",
    "Tables aren't part of the core Markdown spec, but they are part of GFM and Markdown Here supports them. They are an easy way of adding tables to your email -- a task that would otherwise require copy-pasting from another application.\n",
    "\n",
    "| Employee ID     | Employee Name     | Date of Birth |\n",
    "| ----------------|:-----------------:|--------------:|\n",
    "| 1               | Piyush            | 01-Dec-1993   |\n",
    "| 2               | Ayush             | 12-Aug-1999   |\n",
    "| 3               | Amit Kumar        | 12-Aug-1922   |\n",
    "| 4               | Mark Adams        | 12-Aug-1123   |\n"
   ]
  },
  {
   "cell_type": "markdown",
   "id": "7a6443b8-828f-43cd-a954-c1fb8383d623",
   "metadata": {},
   "source": [
    "<dl>\n",
    "    <dt>  <strong>Definition list</strong> </dt>\n",
    "    <dd>Is something people use sometimes.</dd>\n",
    "</dl>    \n",
    "   <dt1> \n",
    "    <span class=\"bolded\">Markdown in HTML</span>\n",
    "    </dt1>\n",
    "    <dd>Does *not* work **very** well. Use HTML <tg>tags</tg>.</dd>\n",
    "</dl>      \n",
    "\n",
    "        "
   ]
  },
  {
   "cell_type": "code",
   "execution_count": 1,
   "id": "ae03fba3-484c-40aa-8a2f-2a7fb10e3273",
   "metadata": {},
   "outputs": [
    {
     "name": "stdout",
     "output_type": "stream",
     "text": [
      "Michael Jackson is \\ the best\n"
     ]
    },
    {
     "data": {
      "text/plain": [
       "'11'"
      ]
     },
     "execution_count": 1,
     "metadata": {},
     "output_type": "execute_result"
    }
   ],
   "source": [
    "name = \"Michael Jackson\"\n",
    "name[3]\n",
    "\n",
    "print(r\"Michael Jackson is \\ the best\")\n",
    "name.find(\"el\")\n",
    "name.find(\"Jack\")\n",
    "int(False)\n",
    "\n",
    "str(1) + str(1)"
   ]
  },
  {
   "cell_type": "code",
   "execution_count": 3,
   "id": "0a0ef535-d435-485c-ae43-b5298ffa51f2",
   "metadata": {},
   "outputs": [
    {
     "name": "stdout",
     "output_type": "stream",
     "text": [
      "('Mark', 1, 1.3)\n"
     ]
    }
   ],
   "source": [
    "Ratings = (1,2,3,4,5,6,7) #tuples\n",
    "Tuples1 = (\"Mark\", 1, 1.3)\n",
    "print(Tuples1)\n"
   ]
  },
  {
   "cell_type": "code",
   "execution_count": 5,
   "id": "60702386-55d4-41aa-8431-252ed0f008dc",
   "metadata": {},
   "outputs": [
    {
     "data": {
      "text/plain": [
       "'Mark'"
      ]
     },
     "execution_count": 5,
     "metadata": {},
     "output_type": "execute_result"
    }
   ],
   "source": [
    "Tuples1[0]"
   ]
  },
  {
   "cell_type": "code",
   "execution_count": 6,
   "id": "c91148eb-b5a6-4788-a0e5-f1d7e39800d8",
   "metadata": {},
   "outputs": [
    {
     "data": {
      "text/plain": [
       "3"
      ]
     },
     "execution_count": 6,
     "metadata": {},
     "output_type": "execute_result"
    }
   ],
   "source": [
    "len(Tuples1)"
   ]
  },
  {
   "cell_type": "code",
   "execution_count": 8,
   "id": "74607a38-05d0-4e2d-b4e8-3ae87ab96efd",
   "metadata": {},
   "outputs": [],
   "source": [
    "TP = (1, 2, (\"Mark\", \"Spencer\"), (1, 2), (\"Jim\", \"Bean\"))"
   ]
  },
  {
   "cell_type": "code",
   "execution_count": 9,
   "id": "2accb882-0901-4224-bdbf-734dc34f816f",
   "metadata": {},
   "outputs": [
    {
     "data": {
      "text/plain": [
       "('Mark', 'Spencer')"
      ]
     },
     "execution_count": 9,
     "metadata": {},
     "output_type": "execute_result"
    }
   ],
   "source": [
    "TP[2]"
   ]
  },
  {
   "cell_type": "code",
   "execution_count": 10,
   "id": "874c5271-12c6-4928-aea9-cdd2d7bbff31",
   "metadata": {},
   "outputs": [
    {
     "data": {
      "text/plain": [
       "'Mark'"
      ]
     },
     "execution_count": 10,
     "metadata": {},
     "output_type": "execute_result"
    }
   ],
   "source": [
    "TP[2][0]"
   ]
  },
  {
   "cell_type": "code",
   "execution_count": 28,
   "id": "c50ee85f-70b2-4037-9932-eefb6c16210d",
   "metadata": {},
   "outputs": [],
   "source": [
    "List = [1, 2, ['Mark', ['James', 'Mario']], 4]"
   ]
  },
  {
   "cell_type": "code",
   "execution_count": 16,
   "id": "d7c8b5c5-f6f4-4fbd-b403-59d524a1cac0",
   "metadata": {},
   "outputs": [
    {
     "data": {
      "text/plain": [
       "'Mario'"
      ]
     },
     "execution_count": 16,
     "metadata": {},
     "output_type": "execute_result"
    }
   ],
   "source": [
    "List[2][1][1]"
   ]
  },
  {
   "cell_type": "markdown",
   "id": "031a11c0-e2c9-433d-83eb-96187faf1f51",
   "metadata": {},
   "source": [
    "### Tuples are immutable while List is mutable\n",
    "### List and Tuple both can contain different data like integer, float, string and in any combination"
   ]
  },
  {
   "cell_type": "code",
   "execution_count": 35,
   "id": "79ec0aa8-bdfa-4593-a6ad-196409b2c529",
   "metadata": {},
   "outputs": [],
   "source": [
    "List1 = [10, 20, \"Adding New List\"]"
   ]
  },
  {
   "cell_type": "code",
   "execution_count": 29,
   "id": "06a97219-2117-48a1-968d-efbf0e6e47e0",
   "metadata": {},
   "outputs": [
    {
     "data": {
      "text/plain": [
       "[1, 2, ['Mark', ['James', 'Mario']], 4, 10, 20, 'Adding New List']"
      ]
     },
     "execution_count": 29,
     "metadata": {},
     "output_type": "execute_result"
    }
   ],
   "source": [
    "List + List1"
   ]
  },
  {
   "cell_type": "code",
   "execution_count": 36,
   "id": "4741f18b-1e39-4b80-a6f6-fb7f5ecc3627",
   "metadata": {},
   "outputs": [],
   "source": [
    "List1.extend([\"Extend The List\", 10 ,20]) #extending the list no need to crete new list add the elements\n",
    "#List1.append(['Append New List'])  #appends the list as an element"
   ]
  },
  {
   "cell_type": "code",
   "execution_count": 37,
   "id": "485b58d3-b730-4e43-9c63-e818ab55430f",
   "metadata": {},
   "outputs": [
    {
     "data": {
      "text/plain": [
       "[10, 20, 'Adding New List', 'Extend The List', 10, 20]"
      ]
     },
     "execution_count": 37,
     "metadata": {},
     "output_type": "execute_result"
    }
   ],
   "source": [
    "List1"
   ]
  },
  {
   "cell_type": "code",
   "execution_count": 41,
   "id": "89a7d0f9-1231-49df-b69e-7036f8f2a32a",
   "metadata": {},
   "outputs": [
    {
     "data": {
      "text/plain": [
       "[10, 20, 'Adding New List']"
      ]
     },
     "execution_count": 41,
     "metadata": {},
     "output_type": "execute_result"
    }
   ],
   "source": [
    "List1\n",
    "del(List1[3])\n",
    "List1"
   ]
  },
  {
   "cell_type": "markdown",
   "id": "1494b581-ed2b-4d03-a3d0-acb7c7a33d1b",
   "metadata": {},
   "source": [
    "### Lists are mutable, so changes persists in the list after operation like delete or append or extend!"
   ]
  },
  {
   "cell_type": "code",
   "execution_count": 44,
   "id": "5f1b8a32-e3c7-4dcc-b557-8aa2c9bf0d71",
   "metadata": {},
   "outputs": [],
   "source": [
    "string = \"My name is Piyush Kumar Sultania\""
   ]
  },
  {
   "cell_type": "code",
   "execution_count": 50,
   "id": "e1e38a79-6c08-44ec-baf1-552994616424",
   "metadata": {},
   "outputs": [
    {
     "name": "stdout",
     "output_type": "stream",
     "text": [
      "['My', 'name', 'is', 'Piyush', 'Kumar', 'Sultania']\n",
      "My\n",
      "['Piyush', 'Kumar', 'Sultania']\n"
     ]
    }
   ],
   "source": [
    "split_list = string.split()\n",
    "print(split_list)\n",
    "print(split_list[0])\n",
    "print(split_list[3:6])"
   ]
  },
  {
   "cell_type": "code",
   "execution_count": 87,
   "id": "571f6606-1ee2-4118-ae24-4c1ea8efe546",
   "metadata": {},
   "outputs": [
    {
     "data": {
      "text/plain": [
       "['Durgapur', ' Katihar', ' Pin - 998988 Phone=+123445678']"
      ]
     },
     "execution_count": 87,
     "metadata": {},
     "output_type": "execute_result"
    }
   ],
   "source": [
    "\"helloMike\".split()\n",
    "address = 'Durgapur, Katihar, Pin - 998988 Phone=+123445678'\n",
    "address\n",
    "\n",
    "new_list = address.split(',')\n",
    "new_list\n",
    "# print('New List is ' + str(new_list))"
   ]
  },
  {
   "cell_type": "code",
   "execution_count": 95,
   "id": "f6d727d4-944c-4bcc-8f5e-91dbe6b4ca9d",
   "metadata": {},
   "outputs": [
    {
     "data": {
      "text/plain": [
       "['Hard Rock', 10, 20]"
      ]
     },
     "execution_count": 95,
     "metadata": {},
     "output_type": "execute_result"
    }
   ],
   "source": [
    "A = ['Hard Rock', 10, 20]\n",
    "B = A\n",
    "A\n",
    "B"
   ]
  },
  {
   "cell_type": "code",
   "execution_count": 96,
   "id": "796a257c-580c-4e68-b4fe-5362c59318d7",
   "metadata": {},
   "outputs": [
    {
     "data": {
      "text/plain": [
       "['Changed to Banana', 10, 20]"
      ]
     },
     "execution_count": 96,
     "metadata": {},
     "output_type": "execute_result"
    }
   ],
   "source": [
    "A[0] = \"Changed to Banana\"\n",
    "A"
   ]
  },
  {
   "cell_type": "code",
   "execution_count": 97,
   "id": "e967c814-09ef-43da-bf95-925f3a2d6e4f",
   "metadata": {},
   "outputs": [
    {
     "data": {
      "text/plain": [
       "['Changed to Banana', 10, 20]"
      ]
     },
     "execution_count": 97,
     "metadata": {},
     "output_type": "execute_result"
    }
   ],
   "source": [
    "B"
   ]
  },
  {
   "cell_type": "code",
   "execution_count": 98,
   "id": "51d633da-e439-4b1e-b52b-46fd8679d3e2",
   "metadata": {},
   "outputs": [
    {
     "data": {
      "text/plain": [
       "['Changed to Banana', 10, 20]"
      ]
     },
     "execution_count": 98,
     "metadata": {},
     "output_type": "execute_result"
    }
   ],
   "source": [
    "B = A[:]\n",
    "B"
   ]
  },
  {
   "cell_type": "code",
   "execution_count": 99,
   "id": "e36ecef6-910d-4ca1-a835-c32f94b2e815",
   "metadata": {},
   "outputs": [
    {
     "data": {
      "text/plain": [
       "['Rebase to Hard Rock', 10, 20]"
      ]
     },
     "execution_count": 99,
     "metadata": {},
     "output_type": "execute_result"
    }
   ],
   "source": [
    "B[0] = \"Rebase to Hard Rock\"\n",
    "B"
   ]
  },
  {
   "cell_type": "code",
   "execution_count": 100,
   "id": "e9d4622f-c284-4c0b-aa60-818051ab0c1e",
   "metadata": {},
   "outputs": [
    {
     "data": {
      "text/plain": [
       "['Changed to Banana', 10, 20]"
      ]
     },
     "execution_count": 100,
     "metadata": {},
     "output_type": "execute_result"
    }
   ],
   "source": [
    "A"
   ]
  },
  {
   "cell_type": "code",
   "execution_count": 103,
   "id": "a3b8cbe9-043e-4eb3-8525-ceca3dd163f8",
   "metadata": {},
   "outputs": [
    {
     "data": {
      "text/plain": [
       "[1, [2, 3, 4, 5]]"
      ]
     },
     "execution_count": 103,
     "metadata": {},
     "output_type": "execute_result"
    }
   ],
   "source": [
    "A = [1]\n",
    "A.append([2,3,4,5])\n",
    "len(A)\n",
    "A"
   ]
  },
  {
   "cell_type": "code",
   "execution_count": 33,
   "id": "8da0c783-be2d-4d04-8938-e4caa2267753",
   "metadata": {},
   "outputs": [
    {
     "data": {
      "text/plain": [
       "{'key1': 1,\n",
       " 'key2': '2',\n",
       " 'key3': [3, 3, 3],\n",
       " 'key4': (4, 4, 4),\n",
       " 'key5': 5,\n",
       " (0, 1): 6}"
      ]
     },
     "execution_count": 33,
     "metadata": {},
     "output_type": "execute_result"
    }
   ],
   "source": [
    "Dict = {\"key1\": 1, \"key2\": \"2\", \"key3\": [3, 3, 3], \"key4\": (4, 4, 4), ('key5'): 5, (0, 1): 6}\n",
    "Dict\n",
    "# print(Dict[\"key1\"])\n",
    "# print(Dict[\"key3\"])\n"
   ]
  },
  {
   "cell_type": "code",
   "execution_count": 31,
   "id": "2a8f7b85-222a-4cc4-af69-134944127bad",
   "metadata": {},
   "outputs": [
    {
     "data": {
      "text/plain": [
       "True"
      ]
     },
     "execution_count": 31,
     "metadata": {},
     "output_type": "execute_result"
    }
   ],
   "source": [
    "\"key1\" in Dict\n",
    "\"key2\" in Dict"
   ]
  },
  {
   "cell_type": "code",
   "execution_count": 28,
   "id": "d55aed98-7b6b-4ee8-ad98-b15d25a95f1a",
   "metadata": {},
   "outputs": [
    {
     "data": {
      "text/plain": [
       "dict_values([1, '2', [3, 3, 3], (4, 4, 4), 5, 6])"
      ]
     },
     "execution_count": 32,
     "metadata": {},
     "output_type": "execute_result"
    }
   ],
   "source": [
    "Dict.keys()\n",
    "Dict.values()"
   ]
  },
  {
   "cell_type": "code",
   "execution_count": 34,
   "id": "e89f40d9-c38d-4a04-bb65-48c84772534a",
   "metadata": {},
   "outputs": [
    {
     "data": {
      "text/plain": [
       "6"
      ]
     },
     "execution_count": 34,
     "metadata": {},
     "output_type": "execute_result"
    }
   ],
   "source": [
    "Dict[0,1]"
   ]
  },
  {
   "cell_type": "code",
   "execution_count": 35,
   "id": "adecfb8b-59e9-4a09-8f0f-4154c9aa9cff",
   "metadata": {},
   "outputs": [
    {
     "data": {
      "text/plain": [
       "{'Thriller': '1982',\n",
       " 'Back in Black': '1980',\n",
       " 'The Dark Side of the Moon': '1973',\n",
       " 'The Bodyguard': '1992',\n",
       " 'Bat Out of Hell': '1977',\n",
       " 'Their Greatest Hits (1971-1975)': '1976',\n",
       " 'Saturday Night Fever': '1977',\n",
       " 'Rumours': '1977'}"
      ]
     },
     "execution_count": 35,
     "metadata": {},
     "output_type": "execute_result"
    }
   ],
   "source": [
    "release_year_dict = {\"Thriller\": \"1982\", \"Back in Black\": \"1980\", \\\n",
    "                    \"The Dark Side of the Moon\": \"1973\", \"The Bodyguard\": \"1992\", \\\n",
    "                    \"Bat Out of Hell\": \"1977\", \"Their Greatest Hits (1971-1975)\": \"1976\", \\\n",
    "                    \"Saturday Night Fever\": \"1977\", \"Rumours\": \"1977\"}\n",
    "release_year_dict"
   ]
  },
  {
   "cell_type": "code",
   "execution_count": 40,
   "id": "53299d0a-8c76-4c1d-809c-872b9fa6a000",
   "metadata": {},
   "outputs": [],
   "source": [
    "release_year_dict['Thriller']\n",
    "release_year_dict.keys()\n",
    "release_year_dict.values()\n",
    "'Thriller' in release_year_dict # key in dictionary => True or False\n",
    "del(release_year_dict['Rumours'])"
   ]
  },
  {
   "cell_type": "code",
   "execution_count": 43,
   "id": "248e8b22-a5df-4746-9404-594362aacad8",
   "metadata": {},
   "outputs": [
    {
     "data": {
      "text/plain": [
       "{'Albums Back in Black': 50, 'The Bodyguard': 50, 'Thriller': 65}"
      ]
     },
     "execution_count": 43,
     "metadata": {},
     "output_type": "execute_result"
    }
   ],
   "source": [
    "album_sales_dict = {'Albums Back in Black':50, 'The Bodyguard':50, 'Thriller':65}\n",
    "album_sales_dict"
   ]
  },
  {
   "cell_type": "code",
   "execution_count": 45,
   "id": "5cc69cb6-254a-4a05-ba89-59b89302cacd",
   "metadata": {},
   "outputs": [
    {
     "data": {
      "text/plain": [
       "165"
      ]
     },
     "execution_count": 45,
     "metadata": {},
     "output_type": "execute_result"
    }
   ],
   "source": [
    "sum(album_sales_dict.values())"
   ]
  },
  {
   "cell_type": "code",
   "execution_count": 46,
   "id": "8d6f72fa-dd4c-47bd-98e0-fcc9a5269c8d",
   "metadata": {},
   "outputs": [
    {
     "data": {
      "text/plain": [
       "{'Jackson', 'Michael', 'Thriller'}"
      ]
     },
     "execution_count": 46,
     "metadata": {},
     "output_type": "execute_result"
    }
   ],
   "source": [
    "album_list = ['Michael', 'Jackson', 'Thriller', 'Thriller']\n",
    "album_set = set(album_list)\n",
    "album_set"
   ]
  },
  {
   "cell_type": "code",
   "execution_count": 53,
   "id": "bb2b19b1-d82f-41ba-bcd0-a05099473cc3",
   "metadata": {},
   "outputs": [
    {
     "data": {
      "text/plain": [
       "{'Jackson', 'Michael', 'Mike Burns', 'Mike Tyson', 'Thriller'}"
      ]
     },
     "execution_count": 53,
     "metadata": {},
     "output_type": "execute_result"
    }
   ],
   "source": [
    "album_set.add('Mike Tyson')\n",
    "album_set"
   ]
  },
  {
   "cell_type": "code",
   "execution_count": 52,
   "id": "89153ca5-5a2d-4192-a4f5-330f0b18a102",
   "metadata": {},
   "outputs": [],
   "source": [
    "album_set.add('Mike Burns')"
   ]
  },
  {
   "cell_type": "code",
   "execution_count": 54,
   "id": "418d8928-bec6-473c-ac30-eddccc57cd0f",
   "metadata": {},
   "outputs": [],
   "source": [
    "album_set.remove('Mike Burns')"
   ]
  },
  {
   "cell_type": "code",
   "execution_count": 55,
   "id": "a5a14f79-e24e-44dc-b33b-961a4d25ab18",
   "metadata": {},
   "outputs": [
    {
     "data": {
      "text/plain": [
       "{'Jackson', 'Michael', 'Mike Tyson', 'Thriller'}"
      ]
     },
     "execution_count": 55,
     "metadata": {},
     "output_type": "execute_result"
    }
   ],
   "source": [
    "album_set"
   ]
  },
  {
   "cell_type": "code",
   "execution_count": 57,
   "id": "65500cbc-abc8-4c77-b3b5-1fcf80e5d4d4",
   "metadata": {},
   "outputs": [
    {
     "data": {
      "text/plain": [
       "False"
      ]
     },
     "execution_count": 57,
     "metadata": {},
     "output_type": "execute_result"
    }
   ],
   "source": [
    "'Michael1' in album_set"
   ]
  },
  {
   "cell_type": "code",
   "execution_count": 61,
   "id": "0c1876b6-1100-4237-9a03-059a0c07caf5",
   "metadata": {},
   "outputs": [
    {
     "data": {
      "text/plain": [
       "set()"
      ]
     },
     "execution_count": 61,
     "metadata": {},
     "output_type": "execute_result"
    }
   ],
   "source": [
    "album_set_1 = {'Mango', 'Apple', 'Orange', 'Tomato'}\n",
    "album_set_2 = {'Potato', 'Onion', 'Cabbage'}\n",
    "album_set_joint  = album_set_1 & album_set_2\n",
    "album_set_joint #nothing in common"
   ]
  },
  {
   "cell_type": "code",
   "execution_count": 65,
   "id": "41aa3ae0-c536-452d-8911-fc90cefcccc8",
   "metadata": {},
   "outputs": [
    {
     "data": {
      "text/plain": [
       "{'Apple', 'Mango'}"
      ]
     },
     "execution_count": 65,
     "metadata": {},
     "output_type": "execute_result"
    }
   ],
   "source": [
    "album_set_1 = {'Mango', 'Apple', 'Orange', 'Tomato'}\n",
    "album_set_2 = {'Mango', 'Apple', 'Cabbage'}\n",
    "album_set_joint  = album_set_1 & album_set_2\n",
    "album_set_joint ## represent the common set value"
   ]
  },
  {
   "cell_type": "code",
   "execution_count": 66,
   "id": "86eba789-c02d-4469-9bb1-b08e69395a7f",
   "metadata": {},
   "outputs": [
    {
     "data": {
      "text/plain": [
       "{'Apple', 'Cabbage', 'Mango', 'Orange', 'Tomato'}"
      ]
     },
     "execution_count": 66,
     "metadata": {},
     "output_type": "execute_result"
    }
   ],
   "source": [
    "album_set_1.union(album_set_2)"
   ]
  },
  {
   "cell_type": "code",
   "execution_count": 68,
   "id": "e1ce051f-74d8-4412-9e03-3f1a38e3c472",
   "metadata": {},
   "outputs": [
    {
     "name": "stdout",
     "output_type": "stream",
     "text": [
      "True\n",
      "True\n",
      "False\n"
     ]
    }
   ],
   "source": [
    "print(album_set_joint.issubset(album_set_1))\n",
    "print(album_set_joint.issubset(album_set_2))\n",
    "print(album_set_joint.issuperset(album_set_1))"
   ]
  },
  {
   "cell_type": "code",
   "execution_count": 74,
   "id": "5bbc2c45-20f6-4759-ab45-35dac458382a",
   "metadata": {},
   "outputs": [
    {
     "name": "stdout",
     "output_type": "stream",
     "text": [
      "{'Mango', 'Tomato', 'Apple', 'Orange'}\n",
      "{'Mango', 'Apple', 'Cabbage'}\n",
      "{'Orange', 'Tomato'}\n",
      "{'Cabbage'}\n"
     ]
    }
   ],
   "source": [
    "print(album_set_1)\n",
    "print(album_set_2)\n",
    "\n",
    "print(album_set_1.difference(album_set_2))\n",
    "print(album_set_2.difference(album_set_1))"
   ]
  },
  {
   "cell_type": "code",
   "execution_count": 79,
   "id": "2497317a-e37b-4211-bb71-d8d1505e7f6f",
   "metadata": {},
   "outputs": [
    {
     "name": "stdout",
     "output_type": "stream",
     "text": [
      "{'Mango', 'Apple'}\n",
      "{'Orange', 'Mango', 'Apple', 'Cabbage', 'Tomato'}\n"
     ]
    }
   ],
   "source": [
    "print(album_set_2.intersection(album_set_1)) \n",
    "print(album_set_1.union(album_set_2)) # all the unique set combined values"
   ]
  },
  {
   "cell_type": "code",
   "execution_count": 80,
   "id": "09b44b94-b8d8-4124-9c09-ed9656aaed3b",
   "metadata": {},
   "outputs": [
    {
     "data": {
      "text/plain": [
       "False"
      ]
     },
     "execution_count": 80,
     "metadata": {},
     "output_type": "execute_result"
    }
   ],
   "source": [
    "set(album_set_1).issubset(album_set_2)"
   ]
  },
  {
   "cell_type": "code",
   "execution_count": 83,
   "id": "0d07ce9a-0e87-4b91-b31c-c960f842cc55",
   "metadata": {},
   "outputs": [
    {
     "data": {
      "text/plain": [
       "set"
      ]
     },
     "execution_count": 83,
     "metadata": {},
     "output_type": "execute_result"
    }
   ],
   "source": [
    "type(set([1,2,3]))"
   ]
  },
  {
   "cell_type": "code",
   "execution_count": 84,
   "id": "2087d0ea-114f-463c-8b1f-39882709233d",
   "metadata": {},
   "outputs": [
    {
     "data": {
      "text/plain": [
       "2"
      ]
     },
     "execution_count": 84,
     "metadata": {},
     "output_type": "execute_result"
    }
   ],
   "source": [
    "len(('disco',10))"
   ]
  },
  {
   "cell_type": "code",
   "execution_count": 88,
   "id": "101cbd1e-178a-4030-bf12-58f93b114e26",
   "metadata": {},
   "outputs": [
    {
     "data": {
      "text/plain": [
       "['orange', 'orange', 'orange', 'orange']"
      ]
     },
     "execution_count": 88,
     "metadata": {},
     "output_type": "execute_result"
    }
   ],
   "source": [
    "squares = ['orange', 'orange', 'orange', 'orange', 'blue']\n",
    "newsquares = []\n",
    "i=0\n",
    "\n",
    "while(squares[i] == 'orange'):\n",
    "    newsquares.append(squares[i])\n",
    "    i+=1\n",
    "\n",
    "newsquares"
   ]
  },
  {
   "cell_type": "code",
   "execution_count": 92,
   "id": "ce42fe88-92f8-4cd4-a3dc-b860791d1418",
   "metadata": {},
   "outputs": [
    {
     "name": "stdout",
     "output_type": "stream",
     "text": [
      "Michael\n",
      "Jackson\n",
      "Pink Floyd\n"
     ]
    }
   ],
   "source": [
    "def ArtistNames(*names):  # * meens multiple arguments\n",
    "    for name in names:\n",
    "        print(name)\n",
    "\n",
    "ArtistNames(\"Michael\", \"Jackson\", \"Pink Floyd\")"
   ]
  },
  {
   "cell_type": "code",
   "execution_count": 96,
   "id": "e413b5a0-1afb-44e4-8fa3-c9f3184ba630",
   "metadata": {},
   "outputs": [
    {
     "name": "stdout",
     "output_type": "stream",
     "text": [
      "Michel Jackson  is an artist.\n"
     ]
    }
   ],
   "source": [
    "# global variable\n",
    "\n",
    "artist = \"Michel Jackson\"\n",
    "def printer1(artist):\n",
    "    inter_var = artist\n",
    "    print(artist, ' is an artist.')\n",
    "\n",
    "printer1(artist)\n",
    "# printer1(inter_var) #this is local variable to function\n"
   ]
  },
  {
   "cell_type": "code",
   "execution_count": 101,
   "id": "52604be3-0389-4536-b582-6f911f636db0",
   "metadata": {},
   "outputs": [
    {
     "name": "stdout",
     "output_type": "stream",
     "text": [
      "Michel Jackson  is an artist.\n",
      "Michel Jackson  is an artist.\n"
     ]
    }
   ],
   "source": [
    "# global variable\n",
    "\n",
    "artist = \"Michel Jackson\"\n",
    "def printer1(artist):\n",
    "    global inter_var\n",
    "    inter_var = artist\n",
    "    print(artist, ' is an artist.')\n",
    "\n",
    "printer1(artist) #local variable\n",
    "printer1(inter_var)  # global "
   ]
  },
  {
   "cell_type": "code",
   "execution_count": 104,
   "id": "cb5e3394-5e74-464a-85c1-89b6ecf99f55",
   "metadata": {},
   "outputs": [
    {
     "name": "stdout",
     "output_type": "stream",
     "text": [
      "AC/DC is having a rating of:  10.0\n",
      "Maroon5 is having a rating of:  0.0\n"
     ]
    }
   ],
   "source": [
    "myfavband = \"AC/DC\"\n",
    "\n",
    "def getBandRating(bandname):\n",
    "    if bandname == myfavband:\n",
    "        return 10.0\n",
    "    else:\n",
    "        return 0.0\n",
    "\n",
    "print('AC/DC is having a rating of: ', getBandRating('AC/DC'))\n",
    "print('Maroon5 is having a rating of: ', getBandRating('Maroon5'))\n",
    "    "
   ]
  },
  {
   "cell_type": "code",
   "execution_count": 107,
   "id": "e0cc1c85-9a10-4407-b9d6-b9d6a70af41a",
   "metadata": {},
   "outputs": [
    {
     "name": "stdout",
     "output_type": "stream",
     "text": [
      "Apple\n",
      "Banana\n",
      "Orange\n"
     ]
    }
   ],
   "source": [
    "def printAll(*args):\n",
    "    for i in args:\n",
    "        print(i)\n",
    "\n",
    "printAll('Apple', 'Banana', 'Orange')"
   ]
  },
  {
   "cell_type": "code",
   "execution_count": 109,
   "id": "b17f2168-dad1-4d75-8f7d-b51a458256dd",
   "metadata": {},
   "outputs": [
    {
     "name": "stdout",
     "output_type": "stream",
     "text": [
      "Country : Canada\n",
      "State : Massachusetts\n"
     ]
    }
   ],
   "source": [
    "def printAll1(**args):  #parsing multiple argumentsin dictionary\n",
    "    for key in args:\n",
    "        print(key + \" : \" + args[key])\n",
    "        \n",
    "printAll1(Country='Canada', State='Massachusetts')"
   ]
  },
  {
   "cell_type": "code",
   "execution_count": 123,
   "id": "0949af71-dc31-458b-8276-ad142e274451",
   "metadata": {},
   "outputs": [],
   "source": [
    "L=[1,3,2]\n",
    "l1 = sorted(L) #sorted gives another list and does not change old list.."
   ]
  },
  {
   "cell_type": "code",
   "execution_count": 120,
   "id": "1f099393-9309-4d91-acbc-de8dc095df58",
   "metadata": {},
   "outputs": [
    {
     "data": {
      "text/plain": [
       "[1, 2, 3]"
      ]
     },
     "execution_count": 120,
     "metadata": {},
     "output_type": "execute_result"
    }
   ],
   "source": [
    "l1"
   ]
  },
  {
   "cell_type": "code",
   "execution_count": 121,
   "id": "f968c695-be17-4785-b044-4e192f50a855",
   "metadata": {
    "tags": []
   },
   "outputs": [
    {
     "data": {
      "text/plain": [
       "[1, 3, 2]"
      ]
     },
     "execution_count": 121,
     "metadata": {},
     "output_type": "execute_result"
    }
   ],
   "source": [
    "L"
   ]
  },
  {
   "cell_type": "code",
   "execution_count": 126,
   "id": "5f2c2ccc-5d3d-43ba-b3ea-5d0442310e46",
   "metadata": {},
   "outputs": [
    {
     "data": {
      "text/plain": [
       "'C:\\\\Users\\\\piyus\\\\Data Science\\\\Coursera_IBM_data_science\\\\Notebooks For Practise'"
      ]
     },
     "execution_count": 126,
     "metadata": {},
     "output_type": "execute_result"
    }
   ],
   "source": [
    "pwd"
   ]
  },
  {
   "cell_type": "code",
   "execution_count": 174,
   "id": "7bbf23c2-5063-42bb-931a-a807b5152e44",
   "metadata": {},
   "outputs": [
    {
     "name": "stdout",
     "output_type": "stream",
     "text": [
      "<class 'OSError'>\n"
     ]
    }
   ],
   "source": [
    "# exception handling...\n",
    "try:\n",
    "    getfile = open(\"exception_handling.txt\",\"r\")\n",
    "    getfile.write(\"\\nAppend the lines..\")\n",
    "except IOError: #Input Output error\n",
    "    # print(\"Unable to read the file! Please check!\")\n",
    "    print(IOError)\n",
    "except:\n",
    "    print(\"File written successfully!\")\n",
    "else:\n",
    "    getfile.close()\n",
    "    print(\"File closed successfully!\")"
   ]
  },
  {
   "cell_type": "code",
   "execution_count": 150,
   "id": "e73d3c78-a236-4fa2-b00f-aa3d79a57117",
   "metadata": {},
   "outputs": [
    {
     "name": "stdout",
     "output_type": "stream",
     "text": [
      "True\n"
     ]
    }
   ],
   "source": [
    "print(getfile.readable())\n",
    "getfile.read()\n",
    "getfile.close()"
   ]
  },
  {
   "cell_type": "code",
   "execution_count": 168,
   "id": "50733ebb-bd85-472f-bdaa-01b0d9662e05",
   "metadata": {},
   "outputs": [],
   "source": [
    "getfile = open(\"exception_handling.txt\",\"r\")"
   ]
  },
  {
   "cell_type": "code",
   "execution_count": 172,
   "id": "48b5eed5-2c3f-42de-bf68-f8eceb0526f6",
   "metadata": {},
   "outputs": [
    {
     "name": "stdout",
     "output_type": "stream",
     "text": [
      "Piyush - Info Systems\n",
      "\n",
      "Manish - Data Analytics\n",
      "\n",
      "Akash - Data Management\n",
      "\n",
      "Kim - Data engineering\n"
     ]
    }
   ],
   "source": [
    "getfile = open(\"exception_handling.txt\",\"r\")\n",
    "for employee in getfile.readlines():\n",
    "    print(employee)\n",
    "getfile.close()"
   ]
  },
  {
   "cell_type": "code",
   "execution_count": 188,
   "id": "648b16ed-b3dc-45b5-83af-ca2ca420811d",
   "metadata": {},
   "outputs": [
    {
     "name": "stdin",
     "output_type": "stream",
     "text": [
      "Please enter the number to divide by:  2\n"
     ]
    },
    {
     "name": "stdout",
     "output_type": "stream",
     "text": [
      "The value of a is  5.0\n",
      "Completed execution\n"
     ]
    }
   ],
   "source": [
    "a=10\n",
    "try:\n",
    "    n = int(input(\"Please enter the number to divide by: \"))\n",
    "    a = a/n\n",
    "except ZeroDivisionError:\n",
    "    print(\"You cannot divide by 0\")\n",
    "except NameError:\n",
    "    print(\"Name not defined\")\n",
    "except ValueError:\n",
    "    print(\"Please provide a number\")\n",
    "except:\n",
    "    print(\"Some Error!\")\n",
    "else:\n",
    "    print(\"The value of a is \",a)\n",
    "finally:\n",
    "    print(\"Completed execution\")"
   ]
  },
  {
   "cell_type": "code",
   "execution_count": 194,
   "id": "8d179d7e-15e0-4528-bed1-ae683872d976",
   "metadata": {},
   "outputs": [
    {
     "name": "stdout",
     "output_type": "stream",
     "text": [
      "<class 'list'>\n",
      "<class 'int'>\n",
      "<class 'tuple'>\n",
      "<class 'bool'>\n",
      "<class 'str'>\n"
     ]
    }
   ],
   "source": [
    "print(type([1,2,3,4]))\n",
    "print(type(1))\n",
    "print(type((1,2,3,4)))\n",
    "print(type(False))\n",
    "print(type('Name'))"
   ]
  },
  {
   "cell_type": "code",
   "execution_count": 205,
   "id": "682a1413-ae28-4647-a0dc-a665e9fb1b6a",
   "metadata": {},
   "outputs": [
    {
     "name": "stdout",
     "output_type": "stream",
     "text": [
      "None\n"
     ]
    }
   ],
   "source": [
    "array1 = [1,2,3,4,685,32,43,63]\n",
    "# print(array1)\n",
    "print(array1.sort())\n",
    "sorted_array\n",
    "\n",
    "# reverse_array = array1.reverse()\n",
    "# print(reverse_array)"
   ]
  },
  {
   "cell_type": "code",
   "execution_count": 211,
   "id": "0d0d000d-08f4-479a-a0f4-cd4d7e7471ec",
   "metadata": {},
   "outputs": [
    {
     "name": "stdout",
     "output_type": "stream",
     "text": [
      "Reverse list is :  [4, 7, 2, 5, 1]\n"
     ]
    }
   ],
   "source": [
    "def sorting_method(list):\n",
    "    my_list = list;\n",
    "    my_list.sort()\n",
    "    return my_list;\n",
    "def reverse_sorting_method(list):\n",
    "    my_list = list;\n",
    "    my_list.reverse()\n",
    "    return my_list;\n",
    "print(\"Reverse list is : \",reverse_sorting_method([1,5,2,7,4]))"
   ]
  },
  {
   "cell_type": "markdown",
   "id": "dda041c0-2dfa-4b97-a387-1f01e8b81b92",
   "metadata": {},
   "source": [
    "> ## Classes and Methods:"
   ]
  },
  {
   "cell_type": "code",
   "execution_count": 227,
   "id": "3643213e-143c-426f-93f6-5c4a69070d00",
   "metadata": {},
   "outputs": [],
   "source": [
    "class circle(object):\n",
    "    def __init__(self, radius, color):\n",
    "        self.radius = radius;\n",
    "        self.color = color;\n",
    "    def addRadius(self, r):\n",
    "        self.radius = self.radius + r\n",
    "        return self.radius\n",
    "\n",
    "class Rectangle(object):\n",
    "    def __init__(self, height, width, color):\n",
    "        self.height = height;\n",
    "        self.width = width;\n",
    "        self.color = color;"
   ]
  },
  {
   "cell_type": "code",
   "execution_count": 237,
   "id": "4357e28d-e9dc-43a9-959a-7a3b3a086220",
   "metadata": {},
   "outputs": [],
   "source": [
    "RedCircle = circle(3, 'Red')  # object/instance of circle\n",
    "GreenRectangle = Rectangle(5,4,'Green') #object/instance of rectangle\n",
    "\n",
    "# RedCircle.color='Blue'\n",
    "# RedCircle.color\n",
    "\n",
    "# GreenRectangle.color\n",
    "# GreenRectangle.height"
   ]
  },
  {
   "cell_type": "code",
   "execution_count": 238,
   "id": "6c6cde02-5103-4a77-8e1e-9626ad12e37d",
   "metadata": {},
   "outputs": [
    {
     "name": "stdout",
     "output_type": "stream",
     "text": [
      "Set radius is:  3\n",
      "New radius is:  5\n"
     ]
    }
   ],
   "source": [
    "print(\"Set radius is: \", RedCircle.radius)\n",
    "print(\"New radius is: \", RedCircle.addRadius(2))"
   ]
  },
  {
   "cell_type": "code",
   "execution_count": 240,
   "id": "9fc00dfc-a0b4-4492-b0c6-094be65361df",
   "metadata": {},
   "outputs": [],
   "source": [
    "import matplotlib.pyplot as plt\n",
    "%matplotlib inline"
   ]
  },
  {
   "cell_type": "code",
   "execution_count": 270,
   "id": "f9b314df-3ff9-4943-bb81-757ed23010b9",
   "metadata": {},
   "outputs": [],
   "source": [
    "class Circle(object):\n",
    "    def __init__(self, radius, color):\n",
    "        self.radius = radius;\n",
    "        self.color = color;\n",
    "    def addRadius(self, r):\n",
    "        self.radius = self.radius + r\n",
    "        return self.radius\n",
    "    \n",
    "    # method to draw the circle\n",
    "    def drawCircle(self):\n",
    "        plt.gca().add_patch(plt.Circle((0,0), radius=self.radius, color=self.color))\n",
    "        plt.axis('scaled')\n",
    "        plt.show()"
   ]
  },
  {
   "cell_type": "code",
   "execution_count": 271,
   "id": "c3faec73-fde2-4eb0-a935-c849981d051f",
   "metadata": {},
   "outputs": [
    {
     "data": {
      "image/png": "[encoded data removed]",
      "text/plain": [
       "<Figure size 432x288 with 1 Axes>"
      ]
     },
     "metadata": {
      "needs_background": "light"
     },
     "output_type": "display_data"
    }
   ],
   "source": [
    "# Create an object RedCircle\n",
    "\n",
    "RedCircle = Circle(10, 'red')\n",
    "RedCircle.drawCircle()"
   ]
  },
  {
   "cell_type": "code",
   "execution_count": 263,
   "id": "e885aad6-ae47-4e6d-aa44-b899b647248f",
   "metadata": {},
   "outputs": [
    {
     "data": {
      "text/plain": [
       "['__class__',\n",
       " '__delattr__',\n",
       " '__dict__',\n",
       " '__dir__',\n",
       " '__doc__',\n",
       " '__eq__',\n",
       " '__format__',\n",
       " '__ge__',\n",
       " '__getattribute__',\n",
       " '__gt__',\n",
       " '__hash__',\n",
       " '__init__',\n",
       " '__init_subclass__',\n",
       " '__le__',\n",
       " '__lt__',\n",
       " '__module__',\n",
       " '__ne__',\n",
       " '__new__',\n",
       " '__reduce__',\n",
       " '__reduce_ex__',\n",
       " '__repr__',\n",
       " '__setattr__',\n",
       " '__sizeof__',\n",
       " '__str__',\n",
       " '__subclasshook__',\n",
       " '__weakref__',\n",
       " 'addRadius',\n",
       " 'drawCircle']"
      ]
     },
     "execution_count": 263,
     "metadata": {},
     "output_type": "execute_result"
    }
   ],
   "source": [
    "# We can use the dir command to get a list of the object's methods.\n",
    "dir(Circle)"
   ]
  },
  {
   "cell_type": "code",
   "execution_count": 264,
   "id": "b4d1f58b-8cb8-4d2b-9684-d73e98fceb5a",
   "metadata": {},
   "outputs": [
    {
     "name": "stdout",
     "output_type": "stream",
     "text": [
      "red\n",
      "10\n"
     ]
    }
   ],
   "source": [
    "print(RedCircle.color)\n",
    "print(RedCircle.radius)"
   ]
  },
  {
   "cell_type": "code",
   "execution_count": 267,
   "id": "3d263d65-19f1-4c27-bbbe-f82135fabd27",
   "metadata": {},
   "outputs": [
    {
     "name": "stdout",
     "output_type": "stream",
     "text": [
      "20\n",
      "Blue\n"
     ]
    },
    {
     "data": {
      "image/png": "[encoded data removed]",
      "text/plain": [
       "<Figure size 432x288 with 1 Axes>"
      ]
     },
     "metadata": {
      "needs_background": "light"
     },
     "output_type": "display_data"
    }
   ],
   "source": [
    "BlueCircle = Circle(20, \"Blue\")\n",
    "\n",
    "print(BlueCircle.radius)\n",
    "print(BlueCircle.color)\n",
    "\n",
    "BlueCircle.drawCircle()"
   ]
  },
  {
   "cell_type": "code",
   "execution_count": 276,
   "id": "c77b779e-b0eb-4b2d-a2a3-1d30b0e0a2e6",
   "metadata": {},
   "outputs": [],
   "source": [
    "class Rectangle(object):\n",
    "    def __init__(self, height, width, color):\n",
    "        self.height = height;\n",
    "        self.width = width;\n",
    "        self.color = color;\n",
    "    \n",
    "    def drawRectangle(self):\n",
    "        plt.gca().add_patch(plt.Rectangle((0,0), width=self.width, height=self.height, color= self.color))\n",
    "        plt.axis('scaled')\n",
    "        plt.show()"
   ]
  },
  {
   "cell_type": "code",
   "execution_count": 277,
   "id": "78b225f3-6729-412c-8569-5b7b77f70039",
   "metadata": {
    "scrolled": true,
    "tags": []
   },
   "outputs": [
    {
     "data": {
      "image/png": "[encoded data removed]",
      "text/plain": [
       "<Figure size 432x288 with 1 Axes>"
      ]
     },
     "metadata": {
      "needs_background": "light"
     },
     "output_type": "display_data"
    }
   ],
   "source": [
    "yellowRectangle = Rectangle(5, 4, \"Yellow\")\n",
    "yellowRectangle.drawRectangle()"
   ]
  },
  {
   "cell_type": "code",
   "execution_count": 333,
   "id": "6c4db6e4-774e-41c1-95fc-0c68d74d19ac",
   "metadata": {},
   "outputs": [],
   "source": [
    "class analysedText(object):\n",
    "    \n",
    "    def __init__(self, text):\n",
    "        fmtText = text.lower().replace('!','').replace('.','').replace('?','').replace(',','');\n",
    "        self.fmtText = fmtText;      \n",
    "        \n",
    "    def freqAll(self):\n",
    "        wordList = self.fmtText.split(' ')\n",
    "        # return wordList\n",
    "        \n",
    "        #creating a dictionary\n",
    "        freqDist = {}\n",
    "        for word in set(wordList):\n",
    "            freqDist[word] = wordList.count(word)     \n",
    "        \n",
    "        return freqDist\n",
    "    \n",
    "    def freqOf(self, word):\n",
    "        freqDict = self.freqAll();\n",
    "        try:\n",
    "            if word in freqDict:\n",
    "                return freqDict[word]\n",
    "            else:\n",
    "                return 0\n",
    "        except:\n",
    "            print(\"key not found!\")  "
   ]
  },
  {
   "cell_type": "code",
   "execution_count": 335,
   "id": "148cba9b-d709-4e44-8e01-9d4cac175226",
   "metadata": {},
   "outputs": [
    {
     "data": {
      "text/plain": [
       "{'not': 1,\n",
       " 'interesting': 1,\n",
       " 'java': 1,\n",
       " 'python': 2,\n",
       " 'as': 1,\n",
       " 'is': 2,\n",
       " 'same': 1,\n",
       " 'language': 2}"
      ]
     },
     "execution_count": 335,
     "metadata": {},
     "output_type": "execute_result"
    }
   ],
   "source": [
    "text = analysedText('Python !is. inter!esting lan,guage! Python is no.t same lan?guage as Java!')\n",
    "text.freqAll()"
   ]
  },
  {
   "cell_type": "code",
   "execution_count": 338,
   "id": "55267c1b-f5e8-47a4-8271-dc50fbe1ea4c",
   "metadata": {},
   "outputs": [
    {
     "name": "stdout",
     "output_type": "stream",
     "text": [
      "2\n",
      "2\n"
     ]
    }
   ],
   "source": [
    "print(text.freqOf('language'))\n",
    "print(text.freqOf('python'))"
   ]
  },
  {
   "cell_type": "code",
   "execution_count": 341,
   "id": "af7ebcac-0884-415e-91d6-20064e068f6e",
   "metadata": {},
   "outputs": [],
   "source": [
    "file1 = open('file_test.txt','w')"
   ]
  },
  {
   "cell_type": "code",
   "execution_count": 343,
   "id": "8ff175b5-d794-4abf-863c-1a380bf42737",
   "metadata": {},
   "outputs": [],
   "source": [
    "file1.mode\n",
    "file1.close()"
   ]
  },
  {
   "cell_type": "code",
   "execution_count": 346,
   "id": "66a1d06d-b294-43d3-8dc1-ff1c4c8fa357",
   "metadata": {},
   "outputs": [
    {
     "name": "stdout",
     "output_type": "stream",
     "text": [
      "This is the 1st Line\n",
      "This is the 2nd Line\n",
      "This is the 3rd Line\n",
      "True\n"
     ]
    }
   ],
   "source": [
    "# another method to read and auto close the file is \"WITH\" method..\n",
    "with open(\"file_test.txt\") as file1:\n",
    "    file_stuff = file1.read()\n",
    "    print(file_stuff)\n",
    "\n",
    "print(file1.closed)\n"
   ]
  },
  {
   "cell_type": "code",
   "execution_count": 354,
   "id": "c4fdbfd9-98c0-4d5f-9cf3-6ee42ce8deeb",
   "metadata": {},
   "outputs": [
    {
     "name": "stdout",
     "output_type": "stream",
     "text": [
      "['This is the 1st Line\\n']\n",
      "['This is the 2nd Line\\n']\n",
      "True\n"
     ]
    }
   ],
   "source": [
    "with open(\"file_test.txt\") as file1:\n",
    "    # file_stuff = file1.readlines()\n",
    "    # print(file_stuff)\n",
    "    print(file1.readlines(16))\n",
    "    print(file1.readlines(5))\n",
    "print(file1.closed)\n"
   ]
  },
  {
   "cell_type": "code",
   "execution_count": 368,
   "id": "d332a1ed-1002-496e-af59-8148bb3fc846",
   "metadata": {},
   "outputs": [
    {
     "name": "stdout",
     "output_type": "stream",
     "text": [
      "True\n"
     ]
    }
   ],
   "source": [
    "# write test in python\n",
    "with open(\"write_test.txt\",\"a\") as file2:\n",
    "    file2.write(\"\\nThis is Line 3\")\n",
    "\n",
    "print(file2.closed)"
   ]
  },
  {
   "cell_type": "code",
   "execution_count": 369,
   "id": "909484ea-73cd-45b0-9815-4f9ed1e21176",
   "metadata": {},
   "outputs": [
    {
     "name": "stdout",
     "output_type": "stream",
     "text": [
      "This is Line 1\n",
      "This is Line 2\n",
      "This is Line 3\n"
     ]
    }
   ],
   "source": [
    "file_test = open(\"write_test.txt\",'r')\n",
    "print(file_test.read())"
   ]
  },
  {
   "cell_type": "code",
   "execution_count": 370,
   "id": "cd7e1b57-f03f-4fec-8be4-3d07d114189b",
   "metadata": {},
   "outputs": [],
   "source": [
    "with open(\"write_test.txt\",\"r\") as src_file:\n",
    "    with open(\"copy_file.txt\",\"w\") as tgt_file:\n",
    "        for line in src_file:\n",
    "            tgt_file.write(line)"
   ]
  },
  {
   "cell_type": "code",
   "execution_count": 373,
   "id": "41923061-7e19-4d5b-ae33-5f2fe6247ad2",
   "metadata": {},
   "outputs": [
    {
     "name": "stdout",
     "output_type": "stream",
     "text": [
      "This is Line 1\n",
      "This is Line 2\n",
      "This is Line 3\n"
     ]
    }
   ],
   "source": [
    "tgt_file = open(\"copy_file.txt\",\"r\")\n",
    "print(tgt_file.read())"
   ]
  },
  {
   "cell_type": "markdown",
   "id": "97417991-254f-43a9-9fe2-0e720aa0a7df",
   "metadata": {},
   "source": [
    "### Reading and wirting files in Python"
   ]
  },
  {
   "cell_type": "code",
   "execution_count": 397,
   "id": "5faa0e87-c88c-4829-9723-f53a655130fe",
   "metadata": {},
   "outputs": [
    {
     "data": {
      "text/plain": [
       "('Example1.txt', <http.client.HTTPMessage at 0x250bcc9f2e0>)"
      ]
     },
     "execution_count": 397,
     "metadata": {},
     "output_type": "execute_result"
    }
   ],
   "source": [
    "import urllib.request\n",
    "url = 'https://cf-courses-data.s3.us.cloud-object-storage.appdomain.cloud/IBMDeveloperSkillsNetwork-PY0101EN-SkillsNetwork/labs/Module%204/data/example1.txt'\n",
    "filename = 'Example1.txt'\n",
    "urllib.request.urlretrieve(url,filename)"
   ]
  },
  {
   "cell_type": "code",
   "execution_count": 398,
   "id": "64d2c9f0-d8f1-4438-a703-c4f6c7ee9017",
   "metadata": {},
   "outputs": [],
   "source": [
    "# !wget <download_path> <Source_path>\n",
    "!wget -o C:\\Users\\piyus\\data\\download\\Example1.txt https://cf-courses-data.s3.us.cloud-object-storage.appdomain.cloud/IBMDeveloperSkillsNetwork-PY0101EN-SkillsNetwork/labs/Module%204/data/example1.txt"
   ]
  },
  {
   "cell_type": "code",
   "execution_count": 401,
   "id": "776d68f8-6999-48fd-b8eb-39be7b5265cd",
   "metadata": {},
   "outputs": [
    {
     "data": {
      "text/plain": [
       "'C:\\\\Users\\\\piyus\\\\Data Science'"
      ]
     },
     "execution_count": 401,
     "metadata": {},
     "output_type": "execute_result"
    }
   ],
   "source": [
    "pwd"
   ]
  },
  {
   "cell_type": "code",
   "execution_count": 402,
   "id": "5c6a7b65-b8e2-4bb9-8dda-544f3248c1e6",
   "metadata": {},
   "outputs": [
    {
     "name": "stdout",
     "output_type": "stream",
     "text": [
      "C:\\Users\\piyus\\Data Science\\Coursera_IBM_data_science\\Notebooks For Practise\n"
     ]
    }
   ],
   "source": [
    "cd \"Coursera_IBM_data_science/Notebooks For Practise\""
   ]
  },
  {
   "cell_type": "code",
   "execution_count": 403,
   "id": "3a6ad09a-0db9-4fba-bb65-7b47a9c7ffe8",
   "metadata": {},
   "outputs": [
    {
     "name": "stdout",
     "output_type": "stream",
     "text": [
      "C:\\Users\\piyus\\Data Science\\Coursera_IBM_data_science\\Notebooks For Practise\\data\n"
     ]
    }
   ],
   "source": [
    "cd data/"
   ]
  },
  {
   "cell_type": "code",
   "execution_count": 404,
   "id": "dfaeb771-a2a4-4758-b22a-9bca34184ef8",
   "metadata": {},
   "outputs": [
    {
     "name": "stdout",
     "output_type": "stream",
     "text": [
      "C:\\Users\\piyus\n"
     ]
    }
   ],
   "source": [
    "cd C:\\Users\\piyus\\"
   ]
  },
  {
   "cell_type": "code",
   "execution_count": 405,
   "id": "84b1cc34-6fe7-4ba5-826b-caa73b9538fd",
   "metadata": {},
   "outputs": [
    {
     "name": "stdout",
     "output_type": "stream",
     "text": [
      "C:\\Users\\piyus\\data\\download\n"
     ]
    }
   ],
   "source": [
    "cd data/download/"
   ]
  },
  {
   "cell_type": "code",
   "execution_count": 410,
   "id": "736f9c0e-d343-4930-8c8d-bd229557d0ea",
   "metadata": {},
   "outputs": [
    {
     "data": {
      "text/plain": [
       "['Example1.txt']"
      ]
     },
     "execution_count": 410,
     "metadata": {},
     "output_type": "execute_result"
    }
   ],
   "source": [
    "import os\n",
    "import shutil\n",
    "os.listdir()"
   ]
  },
  {
   "cell_type": "code",
   "execution_count": 424,
   "id": "39c30149-9ef7-441f-b0c4-4d6d9843d45a",
   "metadata": {},
   "outputs": [
    {
     "data": {
      "text/plain": [
       "'C:\\\\Users\\\\piyus\\\\Data Science\\\\Coursera_IBM_data_science\\\\Notebooks For Practise\\\\data\\\\Example1.txt'"
      ]
     },
     "execution_count": 424,
     "metadata": {},
     "output_type": "execute_result"
    }
   ],
   "source": [
    "source_path = r\"C:\\Users\\piyus\\data\\download\\Example1.txt\"\n",
    "target_path = r\"C:\\Users\\piyus\\Data Science\\Coursera_IBM_data_science\\Notebooks For Practise\\data\\Example1.txt\"\n",
    "shutil.move (source_path, target_path)"
   ]
  },
  {
   "cell_type": "code",
   "execution_count": 428,
   "id": "cfef918f-2bd4-4240-917d-eca2af65f97a",
   "metadata": {},
   "outputs": [
    {
     "name": "stdout",
     "output_type": "stream",
     "text": [
      "C:\\Users\\piyus\\Data Science\\Coursera_IBM_data_science\n"
     ]
    }
   ],
   "source": [
    "cd Coursera_IBM_data_science/"
   ]
  },
  {
   "cell_type": "code",
   "execution_count": 429,
   "id": "c717abee-104b-4bc1-bb22-aa39a9b2de3b",
   "metadata": {},
   "outputs": [
    {
     "name": "stdout",
     "output_type": "stream",
     "text": [
      "C:\\Users\\piyus\\Data Science\\Coursera_IBM_data_science\\Notebooks For Practise\n"
     ]
    }
   ],
   "source": [
    "cd \"Notebooks For Practise\""
   ]
  },
  {
   "cell_type": "code",
   "execution_count": 430,
   "id": "fec5f50c-ea44-4ef5-abb0-d8491fe91353",
   "metadata": {},
   "outputs": [
    {
     "name": "stdout",
     "output_type": "stream",
     "text": [
      "C:\\Users\\piyus\\Data Science\\Coursera_IBM_data_science\\Notebooks For Practise\\data\n"
     ]
    }
   ],
   "source": [
    "cd data/"
   ]
  },
  {
   "cell_type": "code",
   "execution_count": 438,
   "id": "199e2d09-7cd8-4799-aad5-651877ee9fde",
   "metadata": {},
   "outputs": [
    {
     "name": "stdout",
     "output_type": "stream",
     "text": [
      "Example1.txt\n",
      "--2022-03-03 01:35:39--  https://cf-courses-data.s3.us.cloud-object-storage.appdomain.cloud/IBMDeveloperSkillsNetwork-PY0101EN-SkillsNetwork/labs/Module%204/data/example1.txt\n",
      "Resolving cf-courses-data.s3.us.cloud-object-storage.appdomain.cloud (cf-courses-data.s3.us.cloud-object-storage.appdomain.cloud)... 169.63.118.104\n",
      "Connecting to cf-courses-data.s3.us.cloud-object-storage.appdomain.cloud (cf-courses-data.s3.us.cloud-object-storage.appdomain.cloud)|169.63.118.104|:443... connected.\n",
      "HTTP request sent, awaiting response... 200 OK\n",
      "Length: 45 [text/plain]\n",
      "Saving to: 'example1.txt.1'\n",
      "\n",
      "     0K                                                       100% 15.9M=0s\n",
      "\n",
      "2022-03-03 01:35:39 (15.9 MB/s) - 'example1.txt.1' saved [45/45]\n",
      "\n",
      "\n",
      "\n",
      "<class 'str'>\n"
     ]
    },
    {
     "data": {
      "text/plain": [
       "True"
      ]
     },
     "execution_count": 438,
     "metadata": {},
     "output_type": "execute_result"
    }
   ],
   "source": [
    "with open(\"Example1.txt\",\"r\") as file:\n",
    "    print(file.name)\n",
    "    print(file.read())\n",
    "    print(file.readline())\n",
    "    print(type(file.read()))\n",
    "file.closed"
   ]
  },
  {
   "cell_type": "code",
   "execution_count": null,
   "id": "044977c2-89e9-4ea8-b852-14872649d9f8",
   "metadata": {},
   "outputs": [],
   "source": [
    "    "
   ]
  }
 ],
 "metadata": {
  "kernelspec": {
   "display_name": "Python 3 (ipykernel)",
   "language": "python",
   "name": "python3"
  },
  "language_info": {
   "codemirror_mode": {
    "name": "ipython",
    "version": 3
   },
   "file_extension": ".py",
   "mimetype": "text/x-python",
   "name": "python",
   "nbconvert_exporter": "python",
   "pygments_lexer": "ipython3",
   "version": "3.8.8"
  }
 },
 "nbformat": 4,
 "nbformat_minor": 5
}
