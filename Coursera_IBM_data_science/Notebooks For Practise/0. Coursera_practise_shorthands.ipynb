{
 "cells": [
  {
   "cell_type": "code",
   "execution_count": 2,
   "id": "2c5939dd-d99d-4a6b-bd35-7a2ff4d8b844",
   "metadata": {},
   "outputs": [
    {
     "data": {
      "text/plain": [
       "1.0"
      ]
     },
     "execution_count": 2,
     "metadata": {},
     "output_type": "execute_result"
    }
   ],
   "source": [
    "import math\n",
    "import numpy as np\n",
    "a= math.log10(10)\n",
    "a"
   ]
  },
  {
   "cell_type": "markdown",
   "id": "40e782b2-14cf-414a-b1dd-fc3d2b15d581",
   "metadata": {},
   "source": [
    "### [Follow my LinkedIn account](https://www.linkedin.com/in/piyush-sultania)"
   ]
  },
  {
   "cell_type": "markdown",
   "id": "bdbda8f9-ebad-4991-a6e3-1a0e39b71d32",
   "metadata": {},
   "source": [
    "Here's our logo (hover to see the title text):\n",
    "\n",
    "Inline-style: \n",
    "![alt text](https://github.com/adam-p/markdown-here/raw/master/src/common/images/icon48.png \"Logo Title Text 1\")\n",
    "\n",
    "Alt-H1\n",
    "\n",
    "[Cognitive Class](https://cognitiveclass.ai/?utm_medium=Exinfluencer&utm_source=Exinfluencer&utm_content=000026UJ&utm_term=10006555&utm_id=NA-SkillsNetwork-wwwcourseraorg-SkillsNetworkCoursesIBMDeveloperSkillsNetworkDS0105ENSkillsNetwork20083975-2021-01-01)"
   ]
  },
  {
   "cell_type": "markdown",
   "id": "58bf3bfc-efe4-46cd-895b-1d4a8e83809a",
   "metadata": {},
   "source": [
    "### Tables\n",
    "Tables aren't part of the core Markdown spec, but they are part of GFM and Markdown Here supports them. They are an easy way of adding tables to your email -- a task that would otherwise require copy-pasting from another application.\n",
    "\n",
    "| Employee ID     | Employee Name     | Date of Birth |\n",
    "| ----------------|:-----------------:|--------------:|\n",
    "| 1               | Piyush            | 01-Dec-1993   |\n",
    "| 2               | Ayush             | 12-Aug-1999   |\n",
    "| 3               | Amit Kumar        | 12-Aug-1922   |\n",
    "| 4               | Mark Adams        | 12-Aug-1123   |\n"
   ]
  },
  {
   "cell_type": "markdown",
   "id": "7a6443b8-828f-43cd-a954-c1fb8383d623",
   "metadata": {},
   "source": [
    "<dl>\n",
    "    <dt>  <strong>Definition list</strong> </dt>\n",
    "    <dd>Is something people use sometimes.</dd>\n",
    "</dl>    \n",
    "   <dt1> \n",
    "    <span class=\"bolded\">Markdown in HTML</span>\n",
    "    </dt1>\n",
    "    <dd>Does *not* work **very** well. Use HTML <tg>tags</tg>.</dd>\n",
    "</dl>      \n",
    "\n",
    "        "
   ]
  },
  {
   "cell_type": "code",
   "execution_count": 1,
   "id": "ae03fba3-484c-40aa-8a2f-2a7fb10e3273",
   "metadata": {},
   "outputs": [
    {
     "name": "stdout",
     "output_type": "stream",
     "text": [
      "Michael Jackson is \\ the best\n"
     ]
    },
    {
     "data": {
      "text/plain": [
       "'11'"
      ]
     },
     "execution_count": 1,
     "metadata": {},
     "output_type": "execute_result"
    }
   ],
   "source": [
    "name = \"Michael Jackson\"\n",
    "name[3]\n",
    "\n",
    "print(r\"Michael Jackson is \\ the best\")\n",
    "name.find(\"el\")\n",
    "name.find(\"Jack\")\n",
    "int(False)\n",
    "\n",
    "str(1) + str(1)"
   ]
  },
  {
   "cell_type": "code",
   "execution_count": 3,
   "id": "0a0ef535-d435-485c-ae43-b5298ffa51f2",
   "metadata": {},
   "outputs": [
    {
     "name": "stdout",
     "output_type": "stream",
     "text": [
      "('Mark', 1, 1.3)\n"
     ]
    }
   ],
   "source": [
    "Ratings = (1,2,3,4,5,6,7) #tuples\n",
    "Tuples1 = (\"Mark\", 1, 1.3)\n",
    "print(Tuples1)\n"
   ]
  },
  {
   "cell_type": "code",
   "execution_count": 5,
   "id": "60702386-55d4-41aa-8431-252ed0f008dc",
   "metadata": {},
   "outputs": [
    {
     "data": {
      "text/plain": [
       "'Mark'"
      ]
     },
     "execution_count": 5,
     "metadata": {},
     "output_type": "execute_result"
    }
   ],
   "source": [
    "Tuples1[0]"
   ]
  },
  {
   "cell_type": "code",
   "execution_count": 6,
   "id": "c91148eb-b5a6-4788-a0e5-f1d7e39800d8",
   "metadata": {},
   "outputs": [
    {
     "data": {
      "text/plain": [
       "3"
      ]
     },
     "execution_count": 6,
     "metadata": {},
     "output_type": "execute_result"
    }
   ],
   "source": [
    "len(Tuples1)"
   ]
  },
  {
   "cell_type": "code",
   "execution_count": 8,
   "id": "74607a38-05d0-4e2d-b4e8-3ae87ab96efd",
   "metadata": {},
   "outputs": [],
   "source": [
    "TP = (1, 2, (\"Mark\", \"Spencer\"), (1, 2), (\"Jim\", \"Bean\"))"
   ]
  },
  {
   "cell_type": "code",
   "execution_count": 9,
   "id": "2accb882-0901-4224-bdbf-734dc34f816f",
   "metadata": {},
   "outputs": [
    {
     "data": {
      "text/plain": [
       "('Mark', 'Spencer')"
      ]
     },
     "execution_count": 9,
     "metadata": {},
     "output_type": "execute_result"
    }
   ],
   "source": [
    "TP[2]"
   ]
  },
  {
   "cell_type": "code",
   "execution_count": 10,
   "id": "874c5271-12c6-4928-aea9-cdd2d7bbff31",
   "metadata": {},
   "outputs": [
    {
     "data": {
      "text/plain": [
       "'Mark'"
      ]
     },
     "execution_count": 10,
     "metadata": {},
     "output_type": "execute_result"
    }
   ],
   "source": [
    "TP[2][0]"
   ]
  },
  {
   "cell_type": "code",
   "execution_count": 28,
   "id": "c50ee85f-70b2-4037-9932-eefb6c16210d",
   "metadata": {},
   "outputs": [],
   "source": [
    "List = [1, 2, ['Mark', ['James', 'Mario']], 4]"
   ]
  },
  {
   "cell_type": "code",
   "execution_count": 16,
   "id": "d7c8b5c5-f6f4-4fbd-b403-59d524a1cac0",
   "metadata": {},
   "outputs": [
    {
     "data": {
      "text/plain": [
       "'Mario'"
      ]
     },
     "execution_count": 16,
     "metadata": {},
     "output_type": "execute_result"
    }
   ],
   "source": [
    "List[2][1][1]"
   ]
  },
  {
   "cell_type": "markdown",
   "id": "031a11c0-e2c9-433d-83eb-96187faf1f51",
   "metadata": {},
   "source": [
    "### Tuples are immutable while List is mutable\n",
    "### List and Tuple both can contain different data like integer, float, string and in any combination"
   ]
  },
  {
   "cell_type": "code",
   "execution_count": 35,
   "id": "79ec0aa8-bdfa-4593-a6ad-196409b2c529",
   "metadata": {},
   "outputs": [],
   "source": [
    "List1 = [10, 20, \"Adding New List\"]"
   ]
  },
  {
   "cell_type": "code",
   "execution_count": 29,
   "id": "06a97219-2117-48a1-968d-efbf0e6e47e0",
   "metadata": {},
   "outputs": [
    {
     "data": {
      "text/plain": [
       "[1, 2, ['Mark', ['James', 'Mario']], 4, 10, 20, 'Adding New List']"
      ]
     },
     "execution_count": 29,
     "metadata": {},
     "output_type": "execute_result"
    }
   ],
   "source": [
    "List + List1"
   ]
  },
  {
   "cell_type": "code",
   "execution_count": 36,
   "id": "4741f18b-1e39-4b80-a6f6-fb7f5ecc3627",
   "metadata": {},
   "outputs": [],
   "source": [
    "List1.extend([\"Extend The List\", 10 ,20]) #extending the list no need to crete new list add the elements\n",
    "#List1.append(['Append New List'])  #appends the list as an element"
   ]
  },
  {
   "cell_type": "code",
   "execution_count": 37,
   "id": "485b58d3-b730-4e43-9c63-e818ab55430f",
   "metadata": {},
   "outputs": [
    {
     "data": {
      "text/plain": [
       "[10, 20, 'Adding New List', 'Extend The List', 10, 20]"
      ]
     },
     "execution_count": 37,
     "metadata": {},
     "output_type": "execute_result"
    }
   ],
   "source": [
    "List1"
   ]
  },
  {
   "cell_type": "code",
   "execution_count": 41,
   "id": "89a7d0f9-1231-49df-b69e-7036f8f2a32a",
   "metadata": {},
   "outputs": [
    {
     "data": {
      "text/plain": [
       "[10, 20, 'Adding New List']"
      ]
     },
     "execution_count": 41,
     "metadata": {},
     "output_type": "execute_result"
    }
   ],
   "source": [
    "List1\n",
    "del(List1[3])\n",
    "List1"
   ]
  },
  {
   "cell_type": "markdown",
   "id": "1494b581-ed2b-4d03-a3d0-acb7c7a33d1b",
   "metadata": {},
   "source": [
    "### Lists are mutable, so changes persists in the list after operation like delete or append or extend!"
   ]
  },
  {
   "cell_type": "code",
   "execution_count": 44,
   "id": "5f1b8a32-e3c7-4dcc-b557-8aa2c9bf0d71",
   "metadata": {},
   "outputs": [],
   "source": [
    "string = \"My name is Piyush Kumar Sultania\""
   ]
  },
  {
   "cell_type": "code",
   "execution_count": 50,
   "id": "e1e38a79-6c08-44ec-baf1-552994616424",
   "metadata": {},
   "outputs": [
    {
     "name": "stdout",
     "output_type": "stream",
     "text": [
      "['My', 'name', 'is', 'Piyush', 'Kumar', 'Sultania']\n",
      "My\n",
      "['Piyush', 'Kumar', 'Sultania']\n"
     ]
    }
   ],
   "source": [
    "split_list = string.split()\n",
    "print(split_list)\n",
    "print(split_list[0])\n",
    "print(split_list[3:6])"
   ]
  },
  {
   "cell_type": "code",
   "execution_count": 87,
   "id": "571f6606-1ee2-4118-ae24-4c1ea8efe546",
   "metadata": {},
   "outputs": [
    {
     "data": {
      "text/plain": [
       "['Durgapur', ' Katihar', ' Pin - 998988 Phone=+123445678']"
      ]
     },
     "execution_count": 87,
     "metadata": {},
     "output_type": "execute_result"
    }
   ],
   "source": [
    "\"helloMike\".split()\n",
    "address = 'Durgapur, Katihar, Pin - 998988 Phone=+123445678'\n",
    "address\n",
    "\n",
    "new_list = address.split(',')\n",
    "new_list\n",
    "# print('New List is ' + str(new_list))"
   ]
  },
  {
   "cell_type": "code",
   "execution_count": 95,
   "id": "f6d727d4-944c-4bcc-8f5e-91dbe6b4ca9d",
   "metadata": {},
   "outputs": [
    {
     "data": {
      "text/plain": [
       "['Hard Rock', 10, 20]"
      ]
     },
     "execution_count": 95,
     "metadata": {},
     "output_type": "execute_result"
    }
   ],
   "source": [
    "A = ['Hard Rock', 10, 20]\n",
    "B = A\n",
    "A\n",
    "B"
   ]
  },
  {
   "cell_type": "code",
   "execution_count": 96,
   "id": "796a257c-580c-4e68-b4fe-5362c59318d7",
   "metadata": {},
   "outputs": [
    {
     "data": {
      "text/plain": [
       "['Changed to Banana', 10, 20]"
      ]
     },
     "execution_count": 96,
     "metadata": {},
     "output_type": "execute_result"
    }
   ],
   "source": [
    "A[0] = \"Changed to Banana\"\n",
    "A"
   ]
  },
  {
   "cell_type": "code",
   "execution_count": 97,
   "id": "e967c814-09ef-43da-bf95-925f3a2d6e4f",
   "metadata": {},
   "outputs": [
    {
     "data": {
      "text/plain": [
       "['Changed to Banana', 10, 20]"
      ]
     },
     "execution_count": 97,
     "metadata": {},
     "output_type": "execute_result"
    }
   ],
   "source": [
    "B"
   ]
  },
  {
   "cell_type": "code",
   "execution_count": 98,
   "id": "51d633da-e439-4b1e-b52b-46fd8679d3e2",
   "metadata": {},
   "outputs": [
    {
     "data": {
      "text/plain": [
       "['Changed to Banana', 10, 20]"
      ]
     },
     "execution_count": 98,
     "metadata": {},
     "output_type": "execute_result"
    }
   ],
   "source": [
    "B = A[:]\n",
    "B"
   ]
  },
  {
   "cell_type": "code",
   "execution_count": 99,
   "id": "e36ecef6-910d-4ca1-a835-c32f94b2e815",
   "metadata": {},
   "outputs": [
    {
     "data": {
      "text/plain": [
       "['Rebase to Hard Rock', 10, 20]"
      ]
     },
     "execution_count": 99,
     "metadata": {},
     "output_type": "execute_result"
    }
   ],
   "source": [
    "B[0] = \"Rebase to Hard Rock\"\n",
    "B"
   ]
  },
  {
   "cell_type": "code",
   "execution_count": 100,
   "id": "e9d4622f-c284-4c0b-aa60-818051ab0c1e",
   "metadata": {},
   "outputs": [
    {
     "data": {
      "text/plain": [
       "['Changed to Banana', 10, 20]"
      ]
     },
     "execution_count": 100,
     "metadata": {},
     "output_type": "execute_result"
    }
   ],
   "source": [
    "A"
   ]
  },
  {
   "cell_type": "code",
   "execution_count": 101,
   "id": "f732a78a-6a11-45fc-99c1-4d394feb629b",
   "metadata": {},
   "outputs": [
    {
     "name": "stdout",
     "output_type": "stream",
     "text": [
      "Help on list object:\n",
      "\n",
      "class list(object)\n",
      " |  list(iterable=(), /)\n",
      " |  \n",
      " |  Built-in mutable sequence.\n",
      " |  \n",
      " |  If no argument is given, the constructor creates a new empty list.\n",
      " |  The argument must be an iterable if specified.\n",
      " |  \n",
      " |  Methods defined here:\n",
      " |  \n",
      " |  __add__(self, value, /)\n",
      " |      Return self+value.\n",
      " |  \n",
      " |  __contains__(self, key, /)\n",
      " |      Return key in self.\n",
      " |  \n",
      " |  __delitem__(self, key, /)\n",
      " |      Delete self[key].\n",
      " |  \n",
      " |  __eq__(self, value, /)\n",
      " |      Return self==value.\n",
      " |  \n",
      " |  __ge__(self, value, /)\n",
      " |      Return self>=value.\n",
      " |  \n",
      " |  __getattribute__(self, name, /)\n",
      " |      Return getattr(self, name).\n",
      " |  \n",
      " |  __getitem__(...)\n",
      " |      x.__getitem__(y) <==> x[y]\n",
      " |  \n",
      " |  __gt__(self, value, /)\n",
      " |      Return self>value.\n",
      " |  \n",
      " |  __iadd__(self, value, /)\n",
      " |      Implement self+=value.\n",
      " |  \n",
      " |  __imul__(self, value, /)\n",
      " |      Implement self*=value.\n",
      " |  \n",
      " |  __init__(self, /, *args, **kwargs)\n",
      " |      Initialize self.  See help(type(self)) for accurate signature.\n",
      " |  \n",
      " |  __iter__(self, /)\n",
      " |      Implement iter(self).\n",
      " |  \n",
      " |  __le__(self, value, /)\n",
      " |      Return self<=value.\n",
      " |  \n",
      " |  __len__(self, /)\n",
      " |      Return len(self).\n",
      " |  \n",
      " |  __lt__(self, value, /)\n",
      " |      Return self<value.\n",
      " |  \n",
      " |  __mul__(self, value, /)\n",
      " |      Return self*value.\n",
      " |  \n",
      " |  __ne__(self, value, /)\n",
      " |      Return self!=value.\n",
      " |  \n",
      " |  __repr__(self, /)\n",
      " |      Return repr(self).\n",
      " |  \n",
      " |  __reversed__(self, /)\n",
      " |      Return a reverse iterator over the list.\n",
      " |  \n",
      " |  __rmul__(self, value, /)\n",
      " |      Return value*self.\n",
      " |  \n",
      " |  __setitem__(self, key, value, /)\n",
      " |      Set self[key] to value.\n",
      " |  \n",
      " |  __sizeof__(self, /)\n",
      " |      Return the size of the list in memory, in bytes.\n",
      " |  \n",
      " |  append(self, object, /)\n",
      " |      Append object to the end of the list.\n",
      " |  \n",
      " |  clear(self, /)\n",
      " |      Remove all items from list.\n",
      " |  \n",
      " |  copy(self, /)\n",
      " |      Return a shallow copy of the list.\n",
      " |  \n",
      " |  count(self, value, /)\n",
      " |      Return number of occurrences of value.\n",
      " |  \n",
      " |  extend(self, iterable, /)\n",
      " |      Extend list by appending elements from the iterable.\n",
      " |  \n",
      " |  index(self, value, start=0, stop=9223372036854775807, /)\n",
      " |      Return first index of value.\n",
      " |      \n",
      " |      Raises ValueError if the value is not present.\n",
      " |  \n",
      " |  insert(self, index, object, /)\n",
      " |      Insert object before index.\n",
      " |  \n",
      " |  pop(self, index=-1, /)\n",
      " |      Remove and return item at index (default last).\n",
      " |      \n",
      " |      Raises IndexError if list is empty or index is out of range.\n",
      " |  \n",
      " |  remove(self, value, /)\n",
      " |      Remove first occurrence of value.\n",
      " |      \n",
      " |      Raises ValueError if the value is not present.\n",
      " |  \n",
      " |  reverse(self, /)\n",
      " |      Reverse *IN PLACE*.\n",
      " |  \n",
      " |  sort(self, /, *, key=None, reverse=False)\n",
      " |      Sort the list in ascending order and return None.\n",
      " |      \n",
      " |      The sort is in-place (i.e. the list itself is modified) and stable (i.e. the\n",
      " |      order of two equal elements is maintained).\n",
      " |      \n",
      " |      If a key function is given, apply it once to each list item and sort them,\n",
      " |      ascending or descending, according to their function values.\n",
      " |      \n",
      " |      The reverse flag can be set to sort in descending order.\n",
      " |  \n",
      " |  ----------------------------------------------------------------------\n",
      " |  Static methods defined here:\n",
      " |  \n",
      " |  __new__(*args, **kwargs) from builtins.type\n",
      " |      Create and return a new object.  See help(type) for accurate signature.\n",
      " |  \n",
      " |  ----------------------------------------------------------------------\n",
      " |  Data and other attributes defined here:\n",
      " |  \n",
      " |  __hash__ = None\n",
      "\n"
     ]
    }
   ],
   "source": [
    "help(A)"
   ]
  },
  {
   "cell_type": "code",
   "execution_count": 103,
   "id": "a3b8cbe9-043e-4eb3-8525-ceca3dd163f8",
   "metadata": {},
   "outputs": [
    {
     "data": {
      "text/plain": [
       "[1, [2, 3, 4, 5]]"
      ]
     },
     "execution_count": 103,
     "metadata": {},
     "output_type": "execute_result"
    }
   ],
   "source": [
    "A = [1]\n",
    "A.append([2,3,4,5])\n",
    "len(A)\n",
    "A"
   ]
  },
  {
   "cell_type": "code",
   "execution_count": 33,
   "id": "8da0c783-be2d-4d04-8938-e4caa2267753",
   "metadata": {},
   "outputs": [
    {
     "data": {
      "text/plain": [
       "{'key1': 1,\n",
       " 'key2': '2',\n",
       " 'key3': [3, 3, 3],\n",
       " 'key4': (4, 4, 4),\n",
       " 'key5': 5,\n",
       " (0, 1): 6}"
      ]
     },
     "execution_count": 33,
     "metadata": {},
     "output_type": "execute_result"
    }
   ],
   "source": [
    "Dict = {\"key1\": 1, \"key2\": \"2\", \"key3\": [3, 3, 3], \"key4\": (4, 4, 4), ('key5'): 5, (0, 1): 6}\n",
    "Dict\n",
    "# print(Dict[\"key1\"])\n",
    "# print(Dict[\"key3\"])\n"
   ]
  },
  {
   "cell_type": "code",
   "execution_count": 31,
   "id": "2a8f7b85-222a-4cc4-af69-134944127bad",
   "metadata": {},
   "outputs": [
    {
     "data": {
      "text/plain": [
       "True"
      ]
     },
     "execution_count": 31,
     "metadata": {},
     "output_type": "execute_result"
    }
   ],
   "source": [
    "\"key1\" in Dict\n",
    "\"key2\" in Dict"
   ]
  },
  {
   "cell_type": "code",
   "execution_count": 28,
   "id": "d55aed98-7b6b-4ee8-ad98-b15d25a95f1a",
   "metadata": {},
   "outputs": [
    {
     "data": {
      "text/plain": [
       "dict_values([1, '2', [3, 3, 3], (4, 4, 4), 5, 6])"
      ]
     },
     "execution_count": 32,
     "metadata": {},
     "output_type": "execute_result"
    }
   ],
   "source": [
    "Dict.keys()\n",
    "Dict.values()"
   ]
  },
  {
   "cell_type": "code",
   "execution_count": 34,
   "id": "e89f40d9-c38d-4a04-bb65-48c84772534a",
   "metadata": {},
   "outputs": [
    {
     "data": {
      "text/plain": [
       "6"
      ]
     },
     "execution_count": 34,
     "metadata": {},
     "output_type": "execute_result"
    }
   ],
   "source": [
    "Dict[0,1]"
   ]
  },
  {
   "cell_type": "code",
   "execution_count": 35,
   "id": "adecfb8b-59e9-4a09-8f0f-4154c9aa9cff",
   "metadata": {},
   "outputs": [
    {
     "data": {
      "text/plain": [
       "{'Thriller': '1982',\n",
       " 'Back in Black': '1980',\n",
       " 'The Dark Side of the Moon': '1973',\n",
       " 'The Bodyguard': '1992',\n",
       " 'Bat Out of Hell': '1977',\n",
       " 'Their Greatest Hits (1971-1975)': '1976',\n",
       " 'Saturday Night Fever': '1977',\n",
       " 'Rumours': '1977'}"
      ]
     },
     "execution_count": 35,
     "metadata": {},
     "output_type": "execute_result"
    }
   ],
   "source": [
    "release_year_dict = {\"Thriller\": \"1982\", \"Back in Black\": \"1980\", \\\n",
    "                    \"The Dark Side of the Moon\": \"1973\", \"The Bodyguard\": \"1992\", \\\n",
    "                    \"Bat Out of Hell\": \"1977\", \"Their Greatest Hits (1971-1975)\": \"1976\", \\\n",
    "                    \"Saturday Night Fever\": \"1977\", \"Rumours\": \"1977\"}\n",
    "release_year_dict"
   ]
  },
  {
   "cell_type": "code",
   "execution_count": 40,
   "id": "53299d0a-8c76-4c1d-809c-872b9fa6a000",
   "metadata": {},
   "outputs": [],
   "source": [
    "release_year_dict['Thriller']\n",
    "release_year_dict.keys()\n",
    "release_year_dict.values()\n",
    "'Thriller' in release_year_dict # key in dictionary => True or False\n",
    "del(release_year_dict['Rumours'])"
   ]
  },
  {
   "cell_type": "code",
   "execution_count": 43,
   "id": "248e8b22-a5df-4746-9404-594362aacad8",
   "metadata": {},
   "outputs": [
    {
     "data": {
      "text/plain": [
       "{'Albums Back in Black': 50, 'The Bodyguard': 50, 'Thriller': 65}"
      ]
     },
     "execution_count": 43,
     "metadata": {},
     "output_type": "execute_result"
    }
   ],
   "source": [
    "album_sales_dict = {'Albums Back in Black':50, 'The Bodyguard':50, 'Thriller':65}\n",
    "album_sales_dict"
   ]
  },
  {
   "cell_type": "code",
   "execution_count": 45,
   "id": "5cc69cb6-254a-4a05-ba89-59b89302cacd",
   "metadata": {},
   "outputs": [
    {
     "data": {
      "text/plain": [
       "165"
      ]
     },
     "execution_count": 45,
     "metadata": {},
     "output_type": "execute_result"
    }
   ],
   "source": [
    "sum(album_sales_dict.values())"
   ]
  },
  {
   "cell_type": "code",
   "execution_count": null,
   "id": "8d6f72fa-dd4c-47bd-98e0-fcc9a5269c8d",
   "metadata": {},
   "outputs": [],
   "source": []
  }
 ],
 "metadata": {
  "kernelspec": {
   "display_name": "Python 3 (ipykernel)",
   "language": "python",
   "name": "python3"
  },
  "language_info": {
   "codemirror_mode": {
    "name": "ipython",
    "version": 3
   },
   "file_extension": ".py",
   "mimetype": "text/x-python",
   "name": "python",
   "nbconvert_exporter": "python",
   "pygments_lexer": "ipython3",
   "version": "3.8.8"
  }
 },
 "nbformat": 4,
 "nbformat_minor": 5
}
