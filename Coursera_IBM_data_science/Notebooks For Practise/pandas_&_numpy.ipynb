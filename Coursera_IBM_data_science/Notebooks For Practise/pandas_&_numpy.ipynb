{
 "cells": [
  {
   "cell_type": "code",
   "execution_count": 1,
   "id": "d5498745-430a-41a5-b560-890935475c8f",
   "metadata": {},
   "outputs": [],
   "source": [
    "import pandas as pd\n",
    "import numpy as np\n",
    "import matplotlib.pyplot as plt"
   ]
  },
  {
   "cell_type": "code",
   "execution_count": 2,
   "id": "38b1d172-f3d0-452d-9eee-e048b6c2a860",
   "metadata": {
    "scrolled": true,
    "tags": []
   },
   "outputs": [
    {
     "data": {
      "text/html": [
       "<div>\n",
       "<style scoped>\n",
       "    .dataframe tbody tr th:only-of-type {\n",
       "        vertical-align: middle;\n",
       "    }\n",
       "\n",
       "    .dataframe tbody tr th {\n",
       "        vertical-align: top;\n",
       "    }\n",
       "\n",
       "    .dataframe thead th {\n",
       "        text-align: right;\n",
       "    }\n",
       "</style>\n",
       "<table border=\"1\" class=\"dataframe\">\n",
       "  <thead>\n",
       "    <tr style=\"text-align: right;\">\n",
       "      <th></th>\n",
       "      <th>Tweet</th>\n",
       "      <th>UserScreenName</th>\n",
       "      <th>UserName</th>\n",
       "      <th>Timestamp</th>\n",
       "      <th>text</th>\n",
       "      <th>Emojis</th>\n",
       "      <th>Comments</th>\n",
       "      <th>Likes</th>\n",
       "      <th>Retweets</th>\n",
       "      <th>Image link</th>\n",
       "      <th>Tweet URL</th>\n",
       "    </tr>\n",
       "  </thead>\n",
       "  <tbody>\n",
       "    <tr>\n",
       "      <th>0</th>\n",
       "      <td>0</td>\n",
       "      <td>Elon Musk</td>\n",
       "      <td>@elonmusk</td>\n",
       "      <td>2010-06-04T18:31:57.000Z</td>\n",
       "      <td>Please ignore prior tweets, as that was someon...</td>\n",
       "      <td>NaN</td>\n",
       "      <td>873</td>\n",
       "      <td>648</td>\n",
       "      <td>5,453</td>\n",
       "      <td>[]</td>\n",
       "      <td>https://twitter.com/elonmusk/status/15434727182</td>\n",
       "    </tr>\n",
       "    <tr>\n",
       "      <th>1</th>\n",
       "      <td>1</td>\n",
       "      <td>Elon Musk</td>\n",
       "      <td>@elonmusk</td>\n",
       "      <td>2011-12-01T09:55:11.000Z</td>\n",
       "      <td>Went to Iceland on Sat to ride bumper cars on ...</td>\n",
       "      <td>NaN</td>\n",
       "      <td>30</td>\n",
       "      <td>24</td>\n",
       "      <td>188</td>\n",
       "      <td>['https://pbs.twimg.com/media/Afkf5DMCAAEJGFr?...</td>\n",
       "      <td>https://twitter.com/elonmusk/status/1421799282...</td>\n",
       "    </tr>\n",
       "    <tr>\n",
       "      <th>2</th>\n",
       "      <td>2</td>\n",
       "      <td>Elon Musk</td>\n",
       "      <td>@elonmusk</td>\n",
       "      <td>2011-12-01T10:29:04.000Z</td>\n",
       "      <td>I made the volume on the Model S http://ow.ly/...</td>\n",
       "      <td>NaN</td>\n",
       "      <td>29</td>\n",
       "      <td>17</td>\n",
       "      <td>78</td>\n",
       "      <td>[]</td>\n",
       "      <td>https://twitter.com/elonmusk/status/1421884581...</td>\n",
       "    </tr>\n",
       "    <tr>\n",
       "      <th>3</th>\n",
       "      <td>3</td>\n",
       "      <td>Elon Musk</td>\n",
       "      <td>@elonmusk</td>\n",
       "      <td>2011-12-03T08:20:28.000Z</td>\n",
       "      <td>Great Voltaire quote, arguably better than Twa...</td>\n",
       "      <td>NaN</td>\n",
       "      <td>23</td>\n",
       "      <td>30</td>\n",
       "      <td>44</td>\n",
       "      <td>[]</td>\n",
       "      <td>https://twitter.com/elonmusk/status/1428808713...</td>\n",
       "    </tr>\n",
       "    <tr>\n",
       "      <th>4</th>\n",
       "      <td>4</td>\n",
       "      <td>Elon Musk</td>\n",
       "      <td>@elonmusk</td>\n",
       "      <td>2011-12-03T08:22:07.000Z</td>\n",
       "      <td>That was a total non sequitur btw\\n26\\n14\\n50</td>\n",
       "      <td>NaN</td>\n",
       "      <td>26</td>\n",
       "      <td>14</td>\n",
       "      <td>50</td>\n",
       "      <td>[]</td>\n",
       "      <td>https://twitter.com/elonmusk/status/1428812840...</td>\n",
       "    </tr>\n",
       "  </tbody>\n",
       "</table>\n",
       "</div>"
      ],
      "text/plain": [
       "   Tweet UserScreenName   UserName                 Timestamp  \\\n",
       "0      0      Elon Musk  @elonmusk  2010-06-04T18:31:57.000Z   \n",
       "1      1      Elon Musk  @elonmusk  2011-12-01T09:55:11.000Z   \n",
       "2      2      Elon Musk  @elonmusk  2011-12-01T10:29:04.000Z   \n",
       "3      3      Elon Musk  @elonmusk  2011-12-03T08:20:28.000Z   \n",
       "4      4      Elon Musk  @elonmusk  2011-12-03T08:22:07.000Z   \n",
       "\n",
       "                                                text Emojis Comments Likes  \\\n",
       "0  Please ignore prior tweets, as that was someon...    NaN      873   648   \n",
       "1  Went to Iceland on Sat to ride bumper cars on ...    NaN       30    24   \n",
       "2  I made the volume on the Model S http://ow.ly/...    NaN       29    17   \n",
       "3  Great Voltaire quote, arguably better than Twa...    NaN       23    30   \n",
       "4      That was a total non sequitur btw\\n26\\n14\\n50    NaN       26    14   \n",
       "\n",
       "  Retweets                                         Image link  \\\n",
       "0    5,453                                                 []   \n",
       "1      188  ['https://pbs.twimg.com/media/Afkf5DMCAAEJGFr?...   \n",
       "2       78                                                 []   \n",
       "3       44                                                 []   \n",
       "4       50                                                 []   \n",
       "\n",
       "                                           Tweet URL  \n",
       "0    https://twitter.com/elonmusk/status/15434727182  \n",
       "1  https://twitter.com/elonmusk/status/1421799282...  \n",
       "2  https://twitter.com/elonmusk/status/1421884581...  \n",
       "3  https://twitter.com/elonmusk/status/1428808713...  \n",
       "4  https://twitter.com/elonmusk/status/1428812840...  "
      ]
     },
     "execution_count": 2,
     "metadata": {},
     "output_type": "execute_result"
    }
   ],
   "source": [
    "file_path = 'data/elonmusktweet.csv'\n",
    "df = pd.read_csv(file_path) # read_excel for .xlsx file\n",
    "df.head()"
   ]
  },
  {
   "cell_type": "code",
   "execution_count": 34,
   "id": "0c5252bc-de3b-4424-8ee5-65b6bb76b124",
   "metadata": {},
   "outputs": [],
   "source": [
    "# using dictionary for dataframe\n",
    "songs = {'Album':['Moonpie', 'Thriller', 'Provision PD', 'Star Wars', 'Jumanji'],\n",
    "        'Released':[1992, 1334, 1893, 2022, 2011],\n",
    "        'Length': ['00:12:22','33:44:32', '33:11:22', '43:01:23', '12:01:11']}\n",
    "songs_df = pd.DataFrame(songs)"
   ]
  },
  {
   "cell_type": "code",
   "execution_count": 36,
   "id": "a4a0e5f5-3a34-42f5-b4a0-b6bc2aa54572",
   "metadata": {},
   "outputs": [
    {
     "data": {
      "text/html": [
       "<div>\n",
       "<style scoped>\n",
       "    .dataframe tbody tr th:only-of-type {\n",
       "        vertical-align: middle;\n",
       "    }\n",
       "\n",
       "    .dataframe tbody tr th {\n",
       "        vertical-align: top;\n",
       "    }\n",
       "\n",
       "    .dataframe thead th {\n",
       "        text-align: right;\n",
       "    }\n",
       "</style>\n",
       "<table border=\"1\" class=\"dataframe\">\n",
       "  <thead>\n",
       "    <tr style=\"text-align: right;\">\n",
       "      <th></th>\n",
       "      <th>Album</th>\n",
       "      <th>Released</th>\n",
       "      <th>Length</th>\n",
       "    </tr>\n",
       "  </thead>\n",
       "  <tbody>\n",
       "    <tr>\n",
       "      <th>0</th>\n",
       "      <td>Moonpie</td>\n",
       "      <td>1992</td>\n",
       "      <td>00:12:22</td>\n",
       "    </tr>\n",
       "    <tr>\n",
       "      <th>1</th>\n",
       "      <td>Thriller</td>\n",
       "      <td>1334</td>\n",
       "      <td>33:44:32</td>\n",
       "    </tr>\n",
       "    <tr>\n",
       "      <th>2</th>\n",
       "      <td>Provision PD</td>\n",
       "      <td>1893</td>\n",
       "      <td>33:11:22</td>\n",
       "    </tr>\n",
       "    <tr>\n",
       "      <th>3</th>\n",
       "      <td>Star Wars</td>\n",
       "      <td>2022</td>\n",
       "      <td>43:01:23</td>\n",
       "    </tr>\n",
       "    <tr>\n",
       "      <th>4</th>\n",
       "      <td>Jumanji</td>\n",
       "      <td>2011</td>\n",
       "      <td>12:01:11</td>\n",
       "    </tr>\n",
       "  </tbody>\n",
       "</table>\n",
       "</div>"
      ],
      "text/plain": [
       "          Album  Released    Length\n",
       "0       Moonpie      1992  00:12:22\n",
       "1      Thriller      1334  33:44:32\n",
       "2  Provision PD      1893  33:11:22\n",
       "3     Star Wars      2022  43:01:23\n",
       "4       Jumanji      2011  12:01:11"
      ]
     },
     "execution_count": 36,
     "metadata": {},
     "output_type": "execute_result"
    }
   ],
   "source": [
    "songs_df\n",
    "# x=df[['UserName']]\n",
    "# x.UserName.unique()"
   ]
  },
  {
   "cell_type": "code",
   "execution_count": 5,
   "id": "7bfaff0c-2e33-46d6-903c-7c6e0b9b83f1",
   "metadata": {},
   "outputs": [
    {
     "data": {
      "text/html": [
       "<div>\n",
       "<style scoped>\n",
       "    .dataframe tbody tr th:only-of-type {\n",
       "        vertical-align: middle;\n",
       "    }\n",
       "\n",
       "    .dataframe tbody tr th {\n",
       "        vertical-align: top;\n",
       "    }\n",
       "\n",
       "    .dataframe thead th {\n",
       "        text-align: right;\n",
       "    }\n",
       "</style>\n",
       "<table border=\"1\" class=\"dataframe\">\n",
       "  <thead>\n",
       "    <tr style=\"text-align: right;\">\n",
       "      <th></th>\n",
       "      <th>Tweet</th>\n",
       "      <th>UserScreenName</th>\n",
       "      <th>UserName</th>\n",
       "      <th>Timestamp</th>\n",
       "      <th>text</th>\n",
       "      <th>Emojis</th>\n",
       "      <th>Comments</th>\n",
       "      <th>Likes</th>\n",
       "      <th>Retweets</th>\n",
       "      <th>Image link</th>\n",
       "      <th>Tweet URL</th>\n",
       "    </tr>\n",
       "  </thead>\n",
       "  <tbody>\n",
       "    <tr>\n",
       "      <th>0</th>\n",
       "      <td>0</td>\n",
       "      <td>Elon Musk</td>\n",
       "      <td>@elonmusk</td>\n",
       "      <td>2010-06-04T18:31:57.000Z</td>\n",
       "      <td>Please ignore prior tweets, as that was someon...</td>\n",
       "      <td>NaN</td>\n",
       "      <td>873</td>\n",
       "      <td>648</td>\n",
       "      <td>5,453</td>\n",
       "      <td>[]</td>\n",
       "      <td>https://twitter.com/elonmusk/status/15434727182</td>\n",
       "    </tr>\n",
       "    <tr>\n",
       "      <th>1</th>\n",
       "      <td>1</td>\n",
       "      <td>Elon Musk</td>\n",
       "      <td>@elonmusk</td>\n",
       "      <td>2011-12-01T09:55:11.000Z</td>\n",
       "      <td>Went to Iceland on Sat to ride bumper cars on ...</td>\n",
       "      <td>NaN</td>\n",
       "      <td>30</td>\n",
       "      <td>24</td>\n",
       "      <td>188</td>\n",
       "      <td>['https://pbs.twimg.com/media/Afkf5DMCAAEJGFr?...</td>\n",
       "      <td>https://twitter.com/elonmusk/status/1421799282...</td>\n",
       "    </tr>\n",
       "    <tr>\n",
       "      <th>2</th>\n",
       "      <td>2</td>\n",
       "      <td>Elon Musk</td>\n",
       "      <td>@elonmusk</td>\n",
       "      <td>2011-12-01T10:29:04.000Z</td>\n",
       "      <td>I made the volume on the Model S http://ow.ly/...</td>\n",
       "      <td>NaN</td>\n",
       "      <td>29</td>\n",
       "      <td>17</td>\n",
       "      <td>78</td>\n",
       "      <td>[]</td>\n",
       "      <td>https://twitter.com/elonmusk/status/1421884581...</td>\n",
       "    </tr>\n",
       "    <tr>\n",
       "      <th>3</th>\n",
       "      <td>3</td>\n",
       "      <td>Elon Musk</td>\n",
       "      <td>@elonmusk</td>\n",
       "      <td>2011-12-03T08:20:28.000Z</td>\n",
       "      <td>Great Voltaire quote, arguably better than Twa...</td>\n",
       "      <td>NaN</td>\n",
       "      <td>23</td>\n",
       "      <td>30</td>\n",
       "      <td>44</td>\n",
       "      <td>[]</td>\n",
       "      <td>https://twitter.com/elonmusk/status/1428808713...</td>\n",
       "    </tr>\n",
       "    <tr>\n",
       "      <th>4</th>\n",
       "      <td>4</td>\n",
       "      <td>Elon Musk</td>\n",
       "      <td>@elonmusk</td>\n",
       "      <td>2011-12-03T08:22:07.000Z</td>\n",
       "      <td>That was a total non sequitur btw\\n26\\n14\\n50</td>\n",
       "      <td>NaN</td>\n",
       "      <td>26</td>\n",
       "      <td>14</td>\n",
       "      <td>50</td>\n",
       "      <td>[]</td>\n",
       "      <td>https://twitter.com/elonmusk/status/1428812840...</td>\n",
       "    </tr>\n",
       "    <tr>\n",
       "      <th>...</th>\n",
       "      <td>...</td>\n",
       "      <td>...</td>\n",
       "      <td>...</td>\n",
       "      <td>...</td>\n",
       "      <td>...</td>\n",
       "      <td>...</td>\n",
       "      <td>...</td>\n",
       "      <td>...</td>\n",
       "      <td>...</td>\n",
       "      <td>...</td>\n",
       "      <td>...</td>\n",
       "    </tr>\n",
       "    <tr>\n",
       "      <th>12201</th>\n",
       "      <td>12201</td>\n",
       "      <td>Elon Musk</td>\n",
       "      <td>@elonmusk</td>\n",
       "      <td>2022-03-03T04:25:03.000Z</td>\n",
       "      <td>Replying to \\n@TheBabylonBee\\n515\\n464\\n14.5K</td>\n",
       "      <td>🤣</td>\n",
       "      <td>515</td>\n",
       "      <td>464</td>\n",
       "      <td>14.5K</td>\n",
       "      <td>[]</td>\n",
       "      <td>https://twitter.com/elonmusk/status/1499239406...</td>\n",
       "    </tr>\n",
       "    <tr>\n",
       "      <th>12202</th>\n",
       "      <td>12202</td>\n",
       "      <td>Elon Musk</td>\n",
       "      <td>@elonmusk</td>\n",
       "      <td>2022-03-03T08:13:32.000Z</td>\n",
       "      <td>Replying to \\n@OwenSparks_\\n @ICannot_Enough\\n...</td>\n",
       "      <td>NaN</td>\n",
       "      <td>286</td>\n",
       "      <td>204</td>\n",
       "      <td>4,003</td>\n",
       "      <td>[]</td>\n",
       "      <td>https://twitter.com/elonmusk/status/1499296906...</td>\n",
       "    </tr>\n",
       "    <tr>\n",
       "      <th>12203</th>\n",
       "      <td>12203</td>\n",
       "      <td>Elon Musk</td>\n",
       "      <td>@elonmusk</td>\n",
       "      <td>2022-03-02T03:15:03.000Z</td>\n",
       "      <td>Replying to \\n@DBurkland\\nInvestigating\\n350\\n...</td>\n",
       "      <td>NaN</td>\n",
       "      <td>350</td>\n",
       "      <td>165</td>\n",
       "      <td>5,133</td>\n",
       "      <td>[]</td>\n",
       "      <td>https://twitter.com/elonmusk/status/1498859400...</td>\n",
       "    </tr>\n",
       "    <tr>\n",
       "      <th>12204</th>\n",
       "      <td>12204</td>\n",
       "      <td>Elon Musk</td>\n",
       "      <td>@elonmusk</td>\n",
       "      <td>2022-03-04T21:40:29.000Z</td>\n",
       "      <td>Replying to \\n@RenataKonkoly\\n @MLUKBrandenbur...</td>\n",
       "      <td>NaN</td>\n",
       "      <td>233</td>\n",
       "      <td>185</td>\n",
       "      <td>4,191</td>\n",
       "      <td>[]</td>\n",
       "      <td>https://twitter.com/elonmusk/status/1499862369...</td>\n",
       "    </tr>\n",
       "    <tr>\n",
       "      <th>12205</th>\n",
       "      <td>12205</td>\n",
       "      <td>Elon Musk</td>\n",
       "      <td>@elonmusk</td>\n",
       "      <td>2022-03-04T19:17:16.000Z</td>\n",
       "      <td>Replying to \\n@MLUKBrandenburg\\n @gigafactory_...</td>\n",
       "      <td>NaN</td>\n",
       "      <td>620</td>\n",
       "      <td>822</td>\n",
       "      <td>11K</td>\n",
       "      <td>[]</td>\n",
       "      <td>https://twitter.com/elonmusk/status/1499826328...</td>\n",
       "    </tr>\n",
       "  </tbody>\n",
       "</table>\n",
       "<p>12206 rows × 11 columns</p>\n",
       "</div>"
      ],
      "text/plain": [
       "       Tweet UserScreenName   UserName                 Timestamp  \\\n",
       "0          0      Elon Musk  @elonmusk  2010-06-04T18:31:57.000Z   \n",
       "1          1      Elon Musk  @elonmusk  2011-12-01T09:55:11.000Z   \n",
       "2          2      Elon Musk  @elonmusk  2011-12-01T10:29:04.000Z   \n",
       "3          3      Elon Musk  @elonmusk  2011-12-03T08:20:28.000Z   \n",
       "4          4      Elon Musk  @elonmusk  2011-12-03T08:22:07.000Z   \n",
       "...      ...            ...        ...                       ...   \n",
       "12201  12201      Elon Musk  @elonmusk  2022-03-03T04:25:03.000Z   \n",
       "12202  12202      Elon Musk  @elonmusk  2022-03-03T08:13:32.000Z   \n",
       "12203  12203      Elon Musk  @elonmusk  2022-03-02T03:15:03.000Z   \n",
       "12204  12204      Elon Musk  @elonmusk  2022-03-04T21:40:29.000Z   \n",
       "12205  12205      Elon Musk  @elonmusk  2022-03-04T19:17:16.000Z   \n",
       "\n",
       "                                                    text Emojis Comments  \\\n",
       "0      Please ignore prior tweets, as that was someon...    NaN      873   \n",
       "1      Went to Iceland on Sat to ride bumper cars on ...    NaN       30   \n",
       "2      I made the volume on the Model S http://ow.ly/...    NaN       29   \n",
       "3      Great Voltaire quote, arguably better than Twa...    NaN       23   \n",
       "4          That was a total non sequitur btw\\n26\\n14\\n50    NaN       26   \n",
       "...                                                  ...    ...      ...   \n",
       "12201      Replying to \\n@TheBabylonBee\\n515\\n464\\n14.5K      🤣      515   \n",
       "12202  Replying to \\n@OwenSparks_\\n @ICannot_Enough\\n...    NaN      286   \n",
       "12203  Replying to \\n@DBurkland\\nInvestigating\\n350\\n...    NaN      350   \n",
       "12204  Replying to \\n@RenataKonkoly\\n @MLUKBrandenbur...    NaN      233   \n",
       "12205  Replying to \\n@MLUKBrandenburg\\n @gigafactory_...    NaN      620   \n",
       "\n",
       "      Likes Retweets                                         Image link  \\\n",
       "0       648    5,453                                                 []   \n",
       "1        24      188  ['https://pbs.twimg.com/media/Afkf5DMCAAEJGFr?...   \n",
       "2        17       78                                                 []   \n",
       "3        30       44                                                 []   \n",
       "4        14       50                                                 []   \n",
       "...     ...      ...                                                ...   \n",
       "12201   464    14.5K                                                 []   \n",
       "12202   204    4,003                                                 []   \n",
       "12203   165    5,133                                                 []   \n",
       "12204   185    4,191                                                 []   \n",
       "12205   822      11K                                                 []   \n",
       "\n",
       "                                               Tweet URL  \n",
       "0        https://twitter.com/elonmusk/status/15434727182  \n",
       "1      https://twitter.com/elonmusk/status/1421799282...  \n",
       "2      https://twitter.com/elonmusk/status/1421884581...  \n",
       "3      https://twitter.com/elonmusk/status/1428808713...  \n",
       "4      https://twitter.com/elonmusk/status/1428812840...  \n",
       "...                                                  ...  \n",
       "12201  https://twitter.com/elonmusk/status/1499239406...  \n",
       "12202  https://twitter.com/elonmusk/status/1499296906...  \n",
       "12203  https://twitter.com/elonmusk/status/1498859400...  \n",
       "12204  https://twitter.com/elonmusk/status/1499862369...  \n",
       "12205  https://twitter.com/elonmusk/status/1499826328...  \n",
       "\n",
       "[12206 rows x 11 columns]"
      ]
     },
     "execution_count": 5,
     "metadata": {},
     "output_type": "execute_result"
    }
   ],
   "source": [
    "df"
   ]
  },
  {
   "cell_type": "code",
   "execution_count": 55,
   "id": "6ed5df70-6f77-43c1-b085-3708b33b1693",
   "metadata": {},
   "outputs": [
    {
     "data": {
      "text/plain": [
       "4"
      ]
     },
     "execution_count": 55,
     "metadata": {},
     "output_type": "execute_result"
    }
   ],
   "source": [
    "df.iloc[2,1]\n",
    "df.loc[4,'Tweet']"
   ]
  },
  {
   "cell_type": "code",
   "execution_count": 16,
   "id": "837e12cd-1c5f-4d16-a05a-7a88b75bd713",
   "metadata": {},
   "outputs": [
    {
     "data": {
      "text/plain": [
       "array(['@elonmusk'], dtype=object)"
      ]
     },
     "execution_count": 16,
     "metadata": {},
     "output_type": "execute_result"
    }
   ],
   "source": [
    "# df['Emojis','UserName'].unique()\n",
    "df['UserName'].unique()"
   ]
  },
  {
   "cell_type": "code",
   "execution_count": 51,
   "id": "b19d8f8a-f680-46b5-9dc9-14c15e43a066",
   "metadata": {},
   "outputs": [],
   "source": [
    "df.dtypes\n",
    "# df['Comments' > 200]\n",
    "df1 = songs_df[songs_df['Released']>=2011]\n",
    "df1.to_csv('new_songs_released.csv')"
   ]
  },
  {
   "cell_type": "code",
   "execution_count": 52,
   "id": "1af95089-aeb4-4c6f-ae75-67235fee606a",
   "metadata": {},
   "outputs": [],
   "source": [
    "df1.to_json('new_songs_released.json')"
   ]
  },
  {
   "cell_type": "code",
   "execution_count": 61,
   "id": "d9fee2a2-9fff-4708-b8c3-bc0ec77fabdb",
   "metadata": {},
   "outputs": [
    {
     "data": {
      "text/plain": [
       "5"
      ]
     },
     "execution_count": 61,
     "metadata": {},
     "output_type": "execute_result"
    }
   ],
   "source": [
    "# Numpy - Arrays\n",
    "a = np.array([1, 2, 3, 4, 5])\n",
    "a.dtype\n",
    "type(a)\n",
    "a.size"
   ]
  },
  {
   "cell_type": "code",
   "execution_count": 64,
   "id": "93993d4a-2665-4421-84a0-1e62f9f0ef47",
   "metadata": {},
   "outputs": [],
   "source": [
    "# vector addition and subtraction\n",
    "u = [1,0] # vector denoted in terms of list\n",
    "v = [0,2]\n",
    "z = []\n",
    "for m,n in zip(u,v): #zip is used to create the list single item at a time (x+y)\n",
    "    z.append(m+n)"
   ]
  },
  {
   "cell_type": "code",
   "execution_count": 66,
   "id": "95267702-1488-4f69-a8f4-11576f8d8453",
   "metadata": {},
   "outputs": [
    {
     "data": {
      "text/plain": [
       "[1, 2]"
      ]
     },
     "execution_count": 66,
     "metadata": {},
     "output_type": "execute_result"
    }
   ],
   "source": [
    "z #(1+0/0+2) numeration sum / denominator sum"
   ]
  },
  {
   "cell_type": "code",
   "execution_count": 74,
   "id": "c2d5a3cf-23d5-42dc-8a4b-6c4cb9f6436b",
   "metadata": {},
   "outputs": [
    {
     "data": {
      "text/plain": [
       "array([2, 4])"
      ]
     },
     "execution_count": 74,
     "metadata": {},
     "output_type": "execute_result"
    }
   ],
   "source": [
    "c = np.array([1,2]) # multiple scalar to array\n",
    "x = 2 * c\n",
    "x"
   ]
  },
  {
   "cell_type": "code",
   "execution_count": 79,
   "id": "79b67992-81df-4d33-b9fe-407f1ab1e760",
   "metadata": {},
   "outputs": [
    {
     "data": {
      "text/plain": [
       "18"
      ]
     },
     "execution_count": 79,
     "metadata": {},
     "output_type": "execute_result"
    }
   ],
   "source": [
    "# dot product\n",
    "# u dot v = n1 * n2 + d1 * d2 (n -- > numerator, d --> denominator)\n",
    "\n",
    "u1 = np.array([2,3])\n",
    "v1 = np.array([3,4])\n",
    "\n",
    "dot_result= np.dot(u1,v1) # (2*3 + 3*4)\n",
    "dot_result\n"
   ]
  },
  {
   "cell_type": "code",
   "execution_count": 99,
   "id": "4d056b2b-7e04-41cc-b916-ee34825c7dd6",
   "metadata": {},
   "outputs": [
    {
     "name": "stdout",
     "output_type": "stream",
     "text": [
      "max: 5787 , min: 2\n"
     ]
    }
   ],
   "source": [
    "u1 = np.array([2,3, 3,5787,343,34])\n",
    "res = u1.max()\n",
    "res1 = u1.min()\n",
    "print('max:', res ,',', 'min:', res1)\n",
    "from numpy import int64"
   ]
  },
  {
   "cell_type": "code",
   "execution_count": 105,
   "id": "611e10e3-77a0-4bf4-b02a-10f4613cd4e5",
   "metadata": {},
   "outputs": [
    {
     "name": "stdout",
     "output_type": "stream",
     "text": [
      "3.141592653589793\n",
      "[0.         1.57079633 3.14159265]\n"
     ]
    },
    {
     "data": {
      "text/plain": [
       "array([0, 1, 0], dtype=int64)"
      ]
     },
     "execution_count": 105,
     "metadata": {},
     "output_type": "execute_result"
    }
   ],
   "source": [
    "print(np.pi)\n",
    "x = np.array([0, np.pi/2, np.pi])\n",
    "print(x)\n",
    "y = np.sin(x)\n",
    "y.astype(np.int64)"
   ]
  },
  {
   "cell_type": "code",
   "execution_count": 109,
   "id": "9c607d4c-f8c4-45ca-adac-098971e3413b",
   "metadata": {},
   "outputs": [
    {
     "data": {
      "text/plain": [
       "array([-2.        , -1.90697674, -1.81395349, -1.72093023, -1.62790698,\n",
       "       -1.53488372, -1.44186047, -1.34883721, -1.25581395, -1.1627907 ,\n",
       "       -1.06976744, -0.97674419, -0.88372093, -0.79069767, -0.69767442,\n",
       "       -0.60465116, -0.51162791, -0.41860465, -0.3255814 , -0.23255814,\n",
       "       -0.13953488, -0.04651163,  0.04651163,  0.13953488,  0.23255814,\n",
       "        0.3255814 ,  0.41860465,  0.51162791,  0.60465116,  0.69767442,\n",
       "        0.79069767,  0.88372093,  0.97674419,  1.06976744,  1.1627907 ,\n",
       "        1.25581395,  1.34883721,  1.44186047,  1.53488372,  1.62790698,\n",
       "        1.72093023,  1.81395349,  1.90697674,  2.        ])"
      ]
     },
     "execution_count": 109,
     "metadata": {},
     "output_type": "execute_result"
    }
   ],
   "source": [
    "# linspace - equal spacing between numbers for plotting \n",
    "x = np.linspace(-2, 2, 44) \n",
    "x"
   ]
  },
  {
   "cell_type": "code",
   "execution_count": 125,
   "id": "050b2f86-a2b5-45df-9656-ae8a54ff2a41",
   "metadata": {
    "tags": []
   },
   "outputs": [
    {
     "data": {
      "text/plain": [
       "[<matplotlib.lines.Line2D at 0x1ed68d44610>]"
      ]
     },
     "execution_count": 125,
     "metadata": {},
     "output_type": "execute_result"
    },
    {
     "data": {
      "image/png": "[encoded data removed]",
      "text/plain": [
       "<Figure size 432x288 with 1 Axes>"
      ]
     },
     "metadata": {
      "needs_background": "light"
     },
     "output_type": "display_data"
    }
   ],
   "source": [
    "x = np.linspace(0, 2*np.pi, 100) \n",
    "# print(x)\n",
    "y = np.sin(x)\n",
    "# print(y)\n",
    "\n",
    "from matplotlib import pyplot as plt\n",
    "# %matplotlib inline\n",
    "plt.plot(x,y,'red')"
   ]
  },
  {
   "cell_type": "code",
   "execution_count": 126,
   "id": "4ef92289-605c-4d90-bb34-37e0488abe3a",
   "metadata": {},
   "outputs": [],
   "source": [
    "import sys\n",
    "import time\n",
    "\n",
    "import matplotlib.pyplot as plt\n",
    "%matplotlib inline"
   ]
  },
  {
   "cell_type": "code",
   "execution_count": 148,
   "id": "5453989a-b919-453d-983e-b42314b39cb1",
   "metadata": {},
   "outputs": [],
   "source": [
    "# Plotting functions\n",
    "\n",
    "def Plotvec1(u, z, v):\n",
    "    \n",
    "    ax = plt.axes()\n",
    "    ax.arrow(0, 0, *u, head_width=0.05, color='r', head_length=0.1)\n",
    "    plt.text(*(u + 0.1), 'u')\n",
    "    \n",
    "    ax.arrow(0, 0, *v, head_width=0.05, color='b', head_length=0.1)\n",
    "    plt.text(*(v + 0.1), 'v')\n",
    "    ax.arrow(0, 0, *z, head_width=0.05, head_length=0.1)\n",
    "    plt.text(*(z + 0.1), 'z')\n",
    "    plt.ylim(-2, 2)\n",
    "    plt.xlim(-2, 2)\n",
    "\n",
    "def Plotvec2(a,b):\n",
    "    ax = plt.axes()\n",
    "    ax.arrow(0, 0, *a, head_width=0.05, color ='r', head_length=0.1)\n",
    "    plt.text(*(a + 0.1), 'a')\n",
    "    ax.arrow(0, 0, *b, head_width=0.05, color ='b', head_length=0.1)\n",
    "    plt.text(*(b + 0.1), 'b')\n",
    "    plt.ylim(0, 2)\n",
    "    plt.xlim(0, 2)"
   ]
  },
  {
   "cell_type": "code",
   "execution_count": 128,
   "id": "3aaf4b59-afc9-48fe-8b84-a5acfabf25d9",
   "metadata": {},
   "outputs": [
    {
     "data": {
      "text/plain": [
       "<AxesSubplot:>"
      ]
     },
     "execution_count": 129,
     "metadata": {},
     "output_type": "execute_result"
    },
    {
     "data": {
      "image/png": "[encoded data removed]",
      "text/plain": [
       "<Figure size 432x288 with 1 Axes>"
      ]
     },
     "metadata": {
      "needs_background": "light"
     },
     "output_type": "display_data"
    }
   ],
   "source": [
    "ax = plt.axes()\n",
    "a"
   ]
  },
  {
   "cell_type": "code",
   "execution_count": 138,
   "id": "876873e7-084d-40c7-9abc-306b0e1ead01",
   "metadata": {},
   "outputs": [
    {
     "data": {
      "text/plain": [
       "(-2.0, 2.0)"
      ]
     },
     "execution_count": 138,
     "metadata": {},
     "output_type": "execute_result"
    },
    {
     "data": {
      "image/png": "[encoded data removed]",
      "text/plain": [
       "<Figure size 432x288 with 1 Axes>"
      ]
     },
     "metadata": {
      "needs_background": "light"
     },
     "output_type": "display_data"
    }
   ],
   "source": [
    "u = np.array([1,0])\n",
    "ax.arrow(0, 0, *u, head_width=0.05, color='r', head_length=0.1)\n",
    "plt.text(*(u + 0.1), 'u')\n",
    "plt.ylim(-2, 2)\n",
    "plt.xlim(-2, 2)"
   ]
  },
  {
   "cell_type": "code",
   "execution_count": 149,
   "id": "db886c47-a5a7-451f-80ca-1a7c390788e1",
   "metadata": {},
   "outputs": [
    {
     "name": "stdout",
     "output_type": "stream",
     "text": [
      "The dot product is 0\n"
     ]
    },
    {
     "data": {
      "image/png": "[encoded data removed]",
      "text/plain": [
       "<Figure size 432x288 with 1 Axes>"
      ]
     },
     "metadata": {
      "needs_background": "light"
     },
     "output_type": "display_data"
    }
   ],
   "source": [
    "a = np.array([1, 0])\n",
    "b = np.array([0, 1])\n",
    "Plotvec2(a, b)\n",
    "print(\"The dot product is\", np.dot(a, b))"
   ]
  },
  {
   "cell_type": "code",
   "execution_count": 150,
   "id": "7c3d8398-c571-410a-b67a-a1ce7da91bbf",
   "metadata": {},
   "outputs": [
    {
     "name": "stdout",
     "output_type": "stream",
     "text": [
      "The dot product is 1\n"
     ]
    },
    {
     "data": {
      "image/png": "[encoded data removed]",
      "text/plain": [
       "<Figure size 432x288 with 1 Axes>"
      ]
     },
     "metadata": {
      "needs_background": "light"
     },
     "output_type": "display_data"
    }
   ],
   "source": [
    "a = np.array([1, 1])\n",
    "b = np.array([0, 1])\n",
    "Plotvec2(a, b)\n",
    "print(\"The dot product is\", np.dot(a, b))"
   ]
  },
  {
   "cell_type": "code",
   "execution_count": 175,
   "id": "73976828-f8d4-4123-9a85-77d8b11b783e",
   "metadata": {},
   "outputs": [
    {
     "data": {
      "image/png": "[encoded data removed]",
      "text/plain": [
       "<Figure size 432x288 with 1 Axes>"
      ]
     },
     "metadata": {
      "needs_background": "light"
     },
     "output_type": "display_data"
    }
   ],
   "source": [
    "x = np.array([2,3])\n",
    "y= np.array([2,0])\n",
    "ax = np.linspace(0,5, 10)\n",
    "def plotvec(x,y):\n",
    "    ax = plt.axes()\n",
    "    ax.arrow(0, 0, *x, head_length =0.10, head_width = 0.10, color ='red')\n",
    "    ax.arrow(0, 0, *y, head_length =0.10, head_width = 0.10, color ='blue')\n",
    "    plt.text(*(x + 0.1), 'x')\n",
    "    plt.text(*(y + 0.1), 'y')\n",
    "    plt.xlim(0,5)\n",
    "    plt.ylim(0,5)\n",
    "    plt.show()\n",
    "\n",
    "plotvec(x,y)\n",
    "    \n"
   ]
  },
  {
   "cell_type": "code",
   "execution_count": 177,
   "id": "4c6d471a-5796-4b50-ba95-10c658937a5a",
   "metadata": {},
   "outputs": [
    {
     "data": {
      "text/plain": [
       "array([[0, 2],\n",
       "       [0, 2]])"
      ]
     },
     "execution_count": 177,
     "metadata": {},
     "output_type": "execute_result"
    }
   ],
   "source": [
    "# Perform matrix multiplication with the numpy arrays A and B.\n",
    "A = np.array([[0,1,1],[1,0,1]])\n",
    "B = np.array([[1,1],[1,1],[-1,1]])\n",
    "C = np.dot(A,B)\n",
    "C"
   ]
  },
  {
   "cell_type": "code",
   "execution_count": 188,
   "id": "ade4a79e-859a-43cc-8ba1-73ad9513df20",
   "metadata": {},
   "outputs": [
    {
     "data": {
      "text/plain": [
       "array([0, 0])"
      ]
     },
     "execution_count": 188,
     "metadata": {},
     "output_type": "execute_result"
    }
   ],
   "source": [
    "A = np.array([-1,1])\n",
    "B = np.array([[1,1],[1,1]])\n",
    "A\n",
    "B\n",
    "C = np.dot(A,B)\n",
    "C"
   ]
  },
  {
   "cell_type": "code",
   "execution_count": 1,
   "id": "04d8c2a8-ed7b-4c2a-b548-d080e3a0646a",
   "metadata": {},
   "outputs": [],
   "source": [
    "import pandas as pd"
   ]
  },
  {
   "cell_type": "code",
   "execution_count": 16,
   "id": "a707f29d-f1f5-4d51-9c72-e8c6f80c383d",
   "metadata": {},
   "outputs": [],
   "source": [
    "df = pd.read_csv('./new_songs_released.csv', header=None) #using header = None to denote no header available"
   ]
  },
  {
   "cell_type": "code",
   "execution_count": 17,
   "id": "aa808301-167a-44bf-9064-548be58bcfce",
   "metadata": {},
   "outputs": [
    {
     "data": {
      "text/html": [
       "<div>\n",
       "<style scoped>\n",
       "    .dataframe tbody tr th:only-of-type {\n",
       "        vertical-align: middle;\n",
       "    }\n",
       "\n",
       "    .dataframe tbody tr th {\n",
       "        vertical-align: top;\n",
       "    }\n",
       "\n",
       "    .dataframe thead th {\n",
       "        text-align: right;\n",
       "    }\n",
       "</style>\n",
       "<table border=\"1\" class=\"dataframe\">\n",
       "  <thead>\n",
       "    <tr style=\"text-align: right;\">\n",
       "      <th></th>\n",
       "      <th>0</th>\n",
       "      <th>1</th>\n",
       "      <th>2</th>\n",
       "      <th>3</th>\n",
       "    </tr>\n",
       "  </thead>\n",
       "  <tbody>\n",
       "    <tr>\n",
       "      <th>0</th>\n",
       "      <td>1</td>\n",
       "      <td>Star Wars</td>\n",
       "      <td>2022</td>\n",
       "      <td>43:01:23</td>\n",
       "    </tr>\n",
       "    <tr>\n",
       "      <th>1</th>\n",
       "      <td>2</td>\n",
       "      <td>Jumanji</td>\n",
       "      <td>2011</td>\n",
       "      <td>12:01:11</td>\n",
       "    </tr>\n",
       "    <tr>\n",
       "      <th>2</th>\n",
       "      <td>3</td>\n",
       "      <td>Aciton Kame</td>\n",
       "      <td>2012</td>\n",
       "      <td>13:20:11</td>\n",
       "    </tr>\n",
       "    <tr>\n",
       "      <th>3</th>\n",
       "      <td>4</td>\n",
       "      <td>Ninja Turtle</td>\n",
       "      <td>2013</td>\n",
       "      <td>14:41:11</td>\n",
       "    </tr>\n",
       "    <tr>\n",
       "      <th>4</th>\n",
       "      <td>5</td>\n",
       "      <td>Captain America</td>\n",
       "      <td>2014</td>\n",
       "      <td>15:01:11</td>\n",
       "    </tr>\n",
       "  </tbody>\n",
       "</table>\n",
       "</div>"
      ],
      "text/plain": [
       "   0                1     2         3\n",
       "0  1        Star Wars  2022  43:01:23\n",
       "1  2          Jumanji  2011  12:01:11\n",
       "2  3      Aciton Kame  2012  13:20:11\n",
       "3  4     Ninja Turtle  2013  14:41:11\n",
       "4  5  Captain America  2014  15:01:11"
      ]
     },
     "execution_count": 17,
     "metadata": {},
     "output_type": "execute_result"
    }
   ],
   "source": [
    "df"
   ]
  },
  {
   "cell_type": "code",
   "execution_count": 14,
   "id": "c87fe242-0740-4e54-bbc7-8ade4692bb30",
   "metadata": {},
   "outputs": [],
   "source": [
    "df.columns = ['ID','Movie Name','Released','Duration']"
   ]
  },
  {
   "cell_type": "code",
   "execution_count": 15,
   "id": "7e9dde95-4783-4124-b413-0c9b8a6e4ed4",
   "metadata": {},
   "outputs": [
    {
     "data": {
      "text/html": [
       "<div>\n",
       "<style scoped>\n",
       "    .dataframe tbody tr th:only-of-type {\n",
       "        vertical-align: middle;\n",
       "    }\n",
       "\n",
       "    .dataframe tbody tr th {\n",
       "        vertical-align: top;\n",
       "    }\n",
       "\n",
       "    .dataframe thead th {\n",
       "        text-align: right;\n",
       "    }\n",
       "</style>\n",
       "<table border=\"1\" class=\"dataframe\">\n",
       "  <thead>\n",
       "    <tr style=\"text-align: right;\">\n",
       "      <th></th>\n",
       "      <th>ID</th>\n",
       "      <th>Movie Name</th>\n",
       "      <th>Released</th>\n",
       "      <th>Duration</th>\n",
       "    </tr>\n",
       "  </thead>\n",
       "  <tbody>\n",
       "    <tr>\n",
       "      <th>0</th>\n",
       "      <td>1</td>\n",
       "      <td>Star Wars</td>\n",
       "      <td>2022</td>\n",
       "      <td>43:01:23</td>\n",
       "    </tr>\n",
       "    <tr>\n",
       "      <th>1</th>\n",
       "      <td>2</td>\n",
       "      <td>Jumanji</td>\n",
       "      <td>2011</td>\n",
       "      <td>12:01:11</td>\n",
       "    </tr>\n",
       "    <tr>\n",
       "      <th>2</th>\n",
       "      <td>3</td>\n",
       "      <td>Aciton Kame</td>\n",
       "      <td>2012</td>\n",
       "      <td>13:20:11</td>\n",
       "    </tr>\n",
       "    <tr>\n",
       "      <th>3</th>\n",
       "      <td>4</td>\n",
       "      <td>Ninja Turtle</td>\n",
       "      <td>2013</td>\n",
       "      <td>14:41:11</td>\n",
       "    </tr>\n",
       "    <tr>\n",
       "      <th>4</th>\n",
       "      <td>5</td>\n",
       "      <td>Captain America</td>\n",
       "      <td>2014</td>\n",
       "      <td>15:01:11</td>\n",
       "    </tr>\n",
       "  </tbody>\n",
       "</table>\n",
       "</div>"
      ],
      "text/plain": [
       "   ID       Movie Name  Released  Duration\n",
       "0   1        Star Wars      2022  43:01:23\n",
       "1   2          Jumanji      2011  12:01:11\n",
       "2   3      Aciton Kame      2012  13:20:11\n",
       "3   4     Ninja Turtle      2013  14:41:11\n",
       "4   5  Captain America      2014  15:01:11"
      ]
     },
     "execution_count": 15,
     "metadata": {},
     "output_type": "execute_result"
    }
   ],
   "source": [
    "df"
   ]
  },
  {
   "cell_type": "code",
   "execution_count": 21,
   "id": "85711164-5fe6-46c2-8b07-709498372acb",
   "metadata": {},
   "outputs": [
    {
     "name": "stdout",
     "output_type": "stream",
     "text": [
      "{'Album': {'3': 'Star Wars', '4': 'Jumanji'}, 'Released': {'3': 2022, '4': 2011}, 'Length': {'3': '43:01:23', '4': '12:01:11'}}\n"
     ]
    }
   ],
   "source": [
    "# reading json file\n",
    "import json\n",
    "\n",
    "with open('./new_songs_released.json',\"r\") as read_json:\n",
    "    json_data = json.load(read_json)\n",
    "print(json_data)"
   ]
  },
  {
   "cell_type": "code",
   "execution_count": 40,
   "id": "4778844c-f81d-467d-ac16-e0b629a575f0",
   "metadata": {},
   "outputs": [],
   "source": [
    "#reading xml files\n",
    "import pandas as pd\n",
    "import xml.etree.ElementTree as etree\n",
    "\n",
    "tree = etree.parse('./xml_file_load_sample.xml')\n",
    "root = tree.getroot()\n",
    "\n",
    "columns = ['To','From','Reminder','Message']\n",
    "df = pd.DataFrame(columns=columns)"
   ]
  },
  {
   "cell_type": "code",
   "execution_count": 41,
   "id": "d8270b82-12eb-440a-8c31-e900433c9693",
   "metadata": {},
   "outputs": [],
   "source": [
    "for node in root:\n",
    "        To = getattr(node.find('to'), 'text', None)\n",
    "        From = getattr(node.find('from'), 'text', None)\n",
    "        Reminder = getattr(node.find('heading'), 'text', None)\n",
    "        Message = getattr(node.find('body'), 'text', None)\n",
    "df = df.append(pd.Series([To, From, Reminder, Message], index = columns), ignore_index = True)        \n",
    "        \n",
    "# To = node.find('To').text \n",
    "# From = node.find('From').text\n",
    "#     Reminder = node.find('Reminder').text\n",
    "#     Message = nodee.find('Message').text"
   ]
  },
  {
   "cell_type": "code",
   "execution_count": 42,
   "id": "52e58284-e950-4779-beef-56b1773db985",
   "metadata": {},
   "outputs": [
    {
     "data": {
      "text/html": [
       "<div>\n",
       "<style scoped>\n",
       "    .dataframe tbody tr th:only-of-type {\n",
       "        vertical-align: middle;\n",
       "    }\n",
       "\n",
       "    .dataframe tbody tr th {\n",
       "        vertical-align: top;\n",
       "    }\n",
       "\n",
       "    .dataframe thead th {\n",
       "        text-align: right;\n",
       "    }\n",
       "</style>\n",
       "<table border=\"1\" class=\"dataframe\">\n",
       "  <thead>\n",
       "    <tr style=\"text-align: right;\">\n",
       "      <th></th>\n",
       "      <th>To</th>\n",
       "      <th>From</th>\n",
       "      <th>Reminder</th>\n",
       "      <th>Message</th>\n",
       "    </tr>\n",
       "  </thead>\n",
       "  <tbody>\n",
       "    <tr>\n",
       "      <th>0</th>\n",
       "      <td>None</td>\n",
       "      <td>None</td>\n",
       "      <td>None</td>\n",
       "      <td>None</td>\n",
       "    </tr>\n",
       "  </tbody>\n",
       "</table>\n",
       "</div>"
      ],
      "text/plain": [
       "     To  From Reminder Message\n",
       "0  None  None     None    None"
      ]
     },
     "execution_count": 42,
     "metadata": {},
     "output_type": "execute_result"
    }
   ],
   "source": [
    "df"
   ]
  },
  {
   "cell_type": "code",
   "execution_count": 44,
   "id": "77542868-0bc9-4f9f-8bc7-2f62b47791b9",
   "metadata": {},
   "outputs": [
    {
     "name": "stdout",
     "output_type": "stream",
     "text": [
      "0246\n"
     ]
    }
   ],
   "source": [
    "var = \"01234567\"\n",
    "print(var[::2])"
   ]
  },
  {
   "cell_type": "code",
   "execution_count": 45,
   "id": "bdb5a7f7-ea7a-406b-a320-8d4a05e5440f",
   "metadata": {},
   "outputs": [
    {
     "data": {
      "text/plain": [
       "'11'"
      ]
     },
     "execution_count": 45,
     "metadata": {},
     "output_type": "execute_result"
    }
   ],
   "source": [
    "def add(x): return(x+x) \n",
    "\n",
    "add('1') "
   ]
  },
  {
   "cell_type": "code",
   "execution_count": 47,
   "id": "5a44bc0a-f241-471e-8ba3-9e7a1f1399b9",
   "metadata": {},
   "outputs": [
    {
     "name": "stdout",
     "output_type": "stream",
     "text": [
      "11\n",
      "22\n",
      "33\n"
     ]
    }
   ],
   "source": [
    "\n",
    "A=['1','2','3'] \n",
    "for a in A: print(2*a) "
   ]
  },
  {
   "cell_type": "code",
   "execution_count": null,
   "id": "082e58a7-71a4-4e92-84e3-fe9eac4a9a96",
   "metadata": {},
   "outputs": [],
   "source": [
    "class Rectangle(object): \n",
    "    def __init__(self,width=2,height =3,color='r'): \n",
    "        self.height=height \n",
    "        self.width=width \n",
    "        self.color=color \n",
    "    def drawRectangle(self): \n",
    "        import matplotlib.pyplot as plt \n",
    "        plt.gca().add_patch(plt.Rectangle((0, 0),self.width, self.height ,fc=self.color)) \n",
    "        plt.axis('scaled') \n",
    "        plt.show() "
   ]
  }
 ],
 "metadata": {
  "kernelspec": {
   "display_name": "Python 3 (ipykernel)",
   "language": "python",
   "name": "python3"
  },
  "language_info": {
   "codemirror_mode": {
    "name": "ipython",
    "version": 3
   },
   "file_extension": ".py",
   "mimetype": "text/x-python",
   "name": "python",
   "nbconvert_exporter": "python",
   "pygments_lexer": "ipython3",
   "version": "3.8.8"
  }
 },
 "nbformat": 4,
 "nbformat_minor": 5
}
