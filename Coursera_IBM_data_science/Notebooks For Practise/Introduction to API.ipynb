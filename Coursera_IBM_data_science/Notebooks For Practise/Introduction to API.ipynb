{
 "cells": [
  {
   "cell_type": "code",
   "execution_count": null,
   "id": "dabb2199-c8f4-4aa1-b60a-a256b587c9d2",
   "metadata": {},
   "outputs": [],
   "source": [
    "!pip install pycoingecko\n",
    "!pip install plotly\n",
    "!pip install mplfinance"
   ]
  },
  {
   "cell_type": "code",
   "execution_count": 1,
   "id": "7b786ce8-cefb-4760-b954-62da7fa53e86",
   "metadata": {},
   "outputs": [
    {
     "name": "stdout",
     "output_type": "stream",
     "text": [
      "Requirement already satisfied: ibm_watson in c:\\users\\piyus\\anaconda3\\lib\\site-packages (5.3.1)\n",
      "Requirement already satisfied: wget in c:\\users\\piyus\\anaconda3\\lib\\site-packages (3.2)\n",
      "Requirement already satisfied: websocket-client==1.1.0 in c:\\users\\piyus\\anaconda3\\lib\\site-packages (from ibm_watson) (1.1.0)\n",
      "Requirement already satisfied: requests<3.0,>=2.0 in c:\\users\\piyus\\anaconda3\\lib\\site-packages (from ibm_watson) (2.27.1)\n",
      "Requirement already satisfied: python-dateutil>=2.5.3 in c:\\users\\piyus\\anaconda3\\lib\\site-packages (from ibm_watson) (2.8.2)\n",
      "Requirement already satisfied: ibm-cloud-sdk-core==3.*,>=3.3.6 in c:\\users\\piyus\\anaconda3\\lib\\site-packages (from ibm_watson) (3.14.0)\n",
      "Requirement already satisfied: PyJWT<3.0.0,>=2.0.1 in c:\\users\\piyus\\anaconda3\\lib\\site-packages (from ibm-cloud-sdk-core==3.*,>=3.3.6->ibm_watson) (2.1.0)\n",
      "Requirement already satisfied: urllib3<2.0.0,>=1.26.0 in c:\\users\\piyus\\anaconda3\\lib\\site-packages (from ibm-cloud-sdk-core==3.*,>=3.3.6->ibm_watson) (1.26.7)\n",
      "Requirement already satisfied: six>=1.5 in c:\\users\\piyus\\anaconda3\\lib\\site-packages (from python-dateutil>=2.5.3->ibm_watson) (1.16.0)\n",
      "Requirement already satisfied: charset-normalizer~=2.0.0 in c:\\users\\piyus\\anaconda3\\lib\\site-packages (from requests<3.0,>=2.0->ibm_watson) (2.0.4)\n",
      "Requirement already satisfied: certifi>=2017.4.17 in c:\\users\\piyus\\anaconda3\\lib\\site-packages (from requests<3.0,>=2.0->ibm_watson) (2021.10.8)\n",
      "Requirement already satisfied: idna<4,>=2.5 in c:\\users\\piyus\\anaconda3\\lib\\site-packages (from requests<3.0,>=2.0->ibm_watson) (3.3)\n"
     ]
    }
   ],
   "source": [
    "#you will need the following library \n",
    "!pip install ibm_watson wget"
   ]
  },
  {
   "cell_type": "code",
   "execution_count": 2,
   "id": "d6779995-d74a-4740-a2df-ecaf9af60b77",
   "metadata": {},
   "outputs": [],
   "source": [
    "from ibm_watson import SpeechToTextV1 # for speeh to text conversion package/module\n",
    "import json\n",
    "from ibm_cloud_sdk_core.authenticators import IAMAuthenticator # for API key authentication"
   ]
  },
  {
   "cell_type": "code",
   "execution_count": 3,
   "id": "07b2ebfa-e3a8-4e97-a3a1-dd401602dad8",
   "metadata": {},
   "outputs": [],
   "source": [
    "# The service endpoint is based on the location of the service instance, we store the information in the variable URL. To find out which URL to use, view the service credentials and paste the url here.\n",
    "url_s2t = \"https://api.us-south.speech-to-text.watson.cloud.ibm.com/instances/d3748b09-2e32-4414-95b6-8b38bbd2e828\""
   ]
  },
  {
   "cell_type": "code",
   "execution_count": 4,
   "id": "a8db7349-bb30-4996-a7a9-d23c4872bd9d",
   "metadata": {},
   "outputs": [],
   "source": [
    "#ou require an API key, and you can obtain the key on the Dashboard .\n",
    "iam_apikey_s2t = \"03qXEplItp9bs71Z59iYHstBbnfEqybGhfRluBqkdUrl\""
   ]
  },
  {
   "cell_type": "code",
   "execution_count": 7,
   "id": "1b6b9974-f852-479b-b805-e320f743ec27",
   "metadata": {},
   "outputs": [
    {
     "data": {
      "text/plain": [
       "<ibm_watson.speech_to_text_v1_adapter.SpeechToTextV1Adapter at 0x1cc3111d250>"
      ]
     },
     "execution_count": 7,
     "metadata": {},
     "output_type": "execute_result"
    }
   ],
   "source": [
    "#You create a Speech To Text Adapter object the parameters are the endpoint and API key.\n",
    "authenticator = IAMAuthenticator(iam_apikey_s2t)\n",
    "s2t = SpeechToTextV1(authenticator=authenticator)\n",
    "s2t.set_service_url(url_s2t)\n",
    "s2t"
   ]
  },
  {
   "cell_type": "code",
   "execution_count": 8,
   "id": "dfb551ef-dbb1-4cee-9e95-c40ec455d54a",
   "metadata": {
    "scrolled": true,
    "tags": []
   },
   "outputs": [
    {
     "name": "stderr",
     "output_type": "stream",
     "text": [
      "--2022-03-06 22:37:22--  https://cf-courses-data.s3.us.cloud-object-storage.appdomain.cloud/IBMDeveloperSkillsNetwork-PY0101EN-SkillsNetwork/labs/Module%205/data/PolynomialRegressionandPipelines.mp3\n",
      "Resolving cf-courses-data.s3.us.cloud-object-storage.appdomain.cloud (cf-courses-data.s3.us.cloud-object-storage.appdomain.cloud)... 169.63.118.104\n",
      "Connecting to cf-courses-data.s3.us.cloud-object-storage.appdomain.cloud (cf-courses-data.s3.us.cloud-object-storage.appdomain.cloud)|169.63.118.104|:443... connected.\n",
      "HTTP request sent, awaiting response... 200 OK\n",
      "Length: 4234179 (4.0M) [audio/mpeg]\n",
      "Saving to: 'PolynomialRegressionandPipelines.mp3'\n",
      "\n",
      "     0K .......... .......... .......... .......... ..........  1%  994K 4s\n",
      "    50K .......... .......... .......... .......... ..........  2% 1.87M 3s\n",
      "   100K .......... .......... .......... .......... ..........  3% 1.91M 3s\n",
      "   150K .......... .......... .......... .......... ..........  4% 9.17M 2s\n",
      "   200K .......... .......... .......... .......... ..........  6% 1.68M 2s\n",
      "   250K .......... .......... .......... .......... ..........  7% 2.25M 2s\n",
      "   300K .......... .......... .......... .......... ..........  8% 2.15M 2s\n",
      "   350K .......... .......... .......... .......... ..........  9% 8.90M 2s\n",
      "   400K .......... .......... .......... .......... .......... 10% 2.95M 2s\n",
      "   450K .......... .......... .......... .......... .......... 12% 8.89M 2s\n",
      "   500K .......... .......... .......... .......... .......... 13% 22.6M 1s\n",
      "   550K .......... .......... .......... .......... .......... 14% 2.77M 1s\n",
      "   600K .......... .......... .......... .......... .......... 15%  223M 1s\n",
      "   650K .......... .......... .......... .......... .......... 16% 8.72M 1s\n",
      "   700K .......... .......... .......... .......... .......... 18% 4.96M 1s\n",
      "   750K .......... .......... .......... .......... .......... 19% 5.27M 1s\n",
      "   800K .......... .......... .......... .......... .......... 20% 27.8M 1s\n",
      "   850K .......... .......... .......... .......... .......... 21%  379M 1s\n",
      "   900K .......... .......... .......... .......... .......... 22% 18.9M 1s\n",
      "   950K .......... .......... .......... .......... .......... 24% 3.41M 1s\n",
      "  1000K .......... .......... .......... .......... .......... 25% 57.4M 1s\n",
      "  1050K .......... .......... .......... .......... .......... 26% 15.3M 1s\n",
      "  1100K .......... .......... .......... .......... .......... 27% 12.6M 1s\n",
      "  1150K .......... .......... .......... .......... .......... 29% 11.4M 1s\n",
      "  1200K .......... .......... .......... .......... .......... 30%  120M 1s\n",
      "  1250K .......... .......... .......... .......... .......... 31%  114M 1s\n",
      "  1300K .......... .......... .......... .......... .......... 32% 6.12M 1s\n",
      "  1350K .......... .......... .......... .......... .......... 33% 7.98M 1s\n",
      "  1400K .......... .......... .......... .......... .......... 35% 51.9M 1s\n",
      "  1450K .......... .......... .......... .......... .......... 36%  208M 1s\n",
      "  1500K .......... .......... .......... .......... .......... 37% 8.48M 1s\n",
      "  1550K .......... .......... .......... .......... .......... 38% 7.44M 0s\n",
      "  1600K .......... .......... .......... .......... .......... 39% 63.9M 0s\n",
      "  1650K .......... .......... .......... .......... .......... 41%  154M 0s\n",
      "  1700K .......... .......... .......... .......... .......... 42% 9.19M 0s\n",
      "  1750K .......... .......... .......... .......... .......... 43% 12.8M 0s\n",
      "  1800K .......... .......... .......... .......... .......... 44%  107M 0s\n",
      "  1850K .......... .......... .......... .......... .......... 45%  215M 0s\n",
      "  1900K .......... .......... .......... .......... .......... 47% 41.5M 0s\n",
      "  1950K .......... .......... .......... .......... .......... 48% 11.3M 0s\n",
      "  2000K .......... .......... .......... .......... .......... 49% 11.1M 0s\n",
      "  2050K .......... .......... .......... .......... .......... 50% 67.3M 0s\n",
      "  2100K .......... .......... .......... .......... .......... 51%  107M 0s\n",
      "  2150K .......... .......... .......... .......... .......... 53% 9.01M 0s\n",
      "  2200K .......... .......... .......... .......... .......... 54% 10.9M 0s\n",
      "  2250K .......... .......... .......... .......... .......... 55% 16.4M 0s\n",
      "  2300K .......... .......... .......... .......... .......... 56% 68.0M 0s\n",
      "  2350K .......... .......... .......... .......... .......... 58%  133M 0s\n",
      "  2400K .......... .......... .......... .......... .......... 59% 23.2M 0s\n",
      "  2450K .......... .......... .......... .......... .......... 60% 8.47M 0s\n",
      "  2500K .......... .......... .......... .......... .......... 61% 66.2M 0s\n",
      "  2550K .......... .......... .......... .......... .......... 62% 22.7M 0s\n",
      "  2600K .......... .......... .......... .......... .......... 64%  287M 0s\n",
      "  2650K .......... .......... .......... .......... .......... 65% 13.6M 0s\n",
      "  2700K .......... .......... .......... .......... .......... 66% 11.6M 0s\n",
      "  2750K .......... .......... .......... .......... .......... 67% 18.6M 0s\n",
      "  2800K .......... .......... .......... .......... .......... 68% 16.9M 0s\n",
      "  2850K .......... .......... .......... .......... .......... 70%  222M 0s\n",
      "  2900K .......... .......... .......... .......... .......... 71% 68.3M 0s\n",
      "  2950K .......... .......... .......... .......... .......... 72% 22.2M 0s\n",
      "  3000K .......... .......... .......... .......... .......... 73% 76.9M 0s\n",
      "  3050K .......... .......... .......... .......... .......... 74% 6.12M 0s\n",
      "  3100K .......... .......... .......... .......... .......... 76%  114M 0s\n",
      "  3150K .......... .......... .......... .......... .......... 77%  329M 0s\n",
      "  3200K .......... .......... .......... .......... .......... 78% 6.88M 0s\n",
      "  3250K .......... .......... .......... .......... .......... 79% 21.6M 0s\n",
      "  3300K .......... .......... .......... .......... .......... 81%  199M 0s\n",
      "  3350K .......... .......... .......... .......... .......... 82% 9.61M 0s\n",
      "  3400K .......... .......... .......... .......... .......... 83% 45.0M 0s\n",
      "  3450K .......... .......... .......... .......... .......... 84%  117M 0s\n",
      "  3500K .......... .......... .......... .......... .......... 85% 69.1M 0s\n",
      "  3550K .......... .......... .......... .......... .......... 87% 7.93M 0s\n",
      "  3600K .......... .......... .......... .......... .......... 88% 22.4M 0s\n",
      "  3650K .......... .......... .......... .......... .......... 89% 6.55M 0s\n",
      "  3700K .......... .......... .......... .......... .......... 90% 20.1M 0s\n",
      "  3750K .......... .......... .......... .......... .......... 91% 5.20M 0s\n",
      "  3800K .......... .......... .......... .......... .......... 93%  164M 0s\n",
      "  3850K .......... .......... .......... .......... .......... 94% 10.8M 0s\n",
      "  3900K .......... .......... .......... .......... .......... 95% 3.83M 0s\n",
      "  3950K .......... .......... .......... .......... .......... 96% 9.31M 0s\n",
      "  4000K .......... .......... .......... .......... .......... 97% 1.32M 0s\n",
      "  4050K .......... .......... .......... .......... .......... 99% 19.1M 0s\n",
      "  4100K .......... .......... .......... ....                 100%  101M=0.5s\n",
      "\n",
      "2022-03-06 22:37:23 (8.21 MB/s) - 'PolynomialRegressionandPipelines.mp3' saved [4234179/4234179]\n",
      "\n"
     ]
    }
   ],
   "source": [
    "!wget -O PolynomialRegressionandPipelines.mp3  https://cf-courses-data.s3.us.cloud-object-storage.appdomain.cloud/IBMDeveloperSkillsNetwork-PY0101EN-SkillsNetwork/labs/Module%205/data/PolynomialRegressionandPipelines.mp3\n"
   ]
  },
  {
   "cell_type": "code",
   "execution_count": 9,
   "id": "ae312d18-e2ec-4727-8bc8-acc8dd04bf44",
   "metadata": {},
   "outputs": [],
   "source": [
    "filename='PolynomialRegressionandPipelines.mp3'"
   ]
  },
  {
   "cell_type": "markdown",
   "id": "af970bf3-1370-4d0c-8866-a64876fa59f1",
   "metadata": {},
   "source": [
    "### We create the file object wav with the wav file using open. We set the mode to \"rb\" , this is similar to read mode, but it ensures the file is in binary mode. We use the method recognize to return the recognized text. The parameter audio is the file object wav, the parameter content_type is the format of the audio file."
   ]
  },
  {
   "cell_type": "code",
   "execution_count": 11,
   "id": "930560c5-fed1-48a1-8c42-feaa177d84f8",
   "metadata": {},
   "outputs": [
    {
     "ename": "ValueError",
     "evalue": "The service_url is required",
     "output_type": "error",
     "traceback": [
      "\u001b[1;31m---------------------------------------------------------------------------\u001b[0m",
      "\u001b[1;31mValueError\u001b[0m                                Traceback (most recent call last)",
      "\u001b[1;32m~\\AppData\\Local\\Temp/ipykernel_21308/3676975318.py\u001b[0m in \u001b[0;36m<module>\u001b[1;34m\u001b[0m\n\u001b[0;32m      1\u001b[0m \u001b[1;32mwith\u001b[0m \u001b[0mopen\u001b[0m\u001b[1;33m(\u001b[0m\u001b[0mfilename\u001b[0m\u001b[1;33m,\u001b[0m \u001b[1;34m\"rb\"\u001b[0m\u001b[1;33m)\u001b[0m \u001b[1;32mas\u001b[0m \u001b[0mwav\u001b[0m\u001b[1;33m:\u001b[0m\u001b[1;33m\u001b[0m\u001b[1;33m\u001b[0m\u001b[0m\n\u001b[1;32m----> 2\u001b[1;33m     \u001b[0mresponse\u001b[0m\u001b[1;33m=\u001b[0m\u001b[0ms2t\u001b[0m\u001b[1;33m.\u001b[0m\u001b[0mrecognize\u001b[0m\u001b[1;33m(\u001b[0m\u001b[0maudio\u001b[0m \u001b[1;33m=\u001b[0m \u001b[0mwav\u001b[0m\u001b[1;33m,\u001b[0m \u001b[0mcontent_type\u001b[0m\u001b[1;33m=\u001b[0m\u001b[1;34m'audio/mp3'\u001b[0m\u001b[1;33m,\u001b[0m \u001b[0murl\u001b[0m \u001b[1;33m=\u001b[0m\u001b[0murl_s2t\u001b[0m\u001b[1;33m)\u001b[0m\u001b[1;33m\u001b[0m\u001b[1;33m\u001b[0m\u001b[0m\n\u001b[0m",
      "\u001b[1;32m~\\anaconda3\\lib\\site-packages\\ibm_watson\\speech_to_text_v1.py\u001b[0m in \u001b[0;36mrecognize\u001b[1;34m(self, audio, content_type, model, language_customization_id, acoustic_customization_id, base_model_version, customization_weight, inactivity_timeout, keywords, keywords_threshold, max_alternatives, word_alternatives_threshold, word_confidence, timestamps, profanity_filter, smart_formatting, speaker_labels, customization_id, grammar_name, redaction, audio_metrics, end_of_phrase_silence_time, split_transcript_at_phrase_end, speech_detector_sensitivity, background_audio_suppression, low_latency, **kwargs)\u001b[0m\n\u001b[0;32m    558\u001b[0m \u001b[1;33m\u001b[0m\u001b[0m\n\u001b[0;32m    559\u001b[0m         \u001b[0murl\u001b[0m \u001b[1;33m=\u001b[0m \u001b[1;34m'/v1/recognize'\u001b[0m\u001b[1;33m\u001b[0m\u001b[1;33m\u001b[0m\u001b[0m\n\u001b[1;32m--> 560\u001b[1;33m         request = self.prepare_request(method='POST',\n\u001b[0m\u001b[0;32m    561\u001b[0m                                        \u001b[0murl\u001b[0m\u001b[1;33m=\u001b[0m\u001b[0murl\u001b[0m\u001b[1;33m,\u001b[0m\u001b[1;33m\u001b[0m\u001b[1;33m\u001b[0m\u001b[0m\n\u001b[0;32m    562\u001b[0m                                        \u001b[0mheaders\u001b[0m\u001b[1;33m=\u001b[0m\u001b[0mheaders\u001b[0m\u001b[1;33m,\u001b[0m\u001b[1;33m\u001b[0m\u001b[1;33m\u001b[0m\u001b[0m\n",
      "\u001b[1;32m~\\anaconda3\\lib\\site-packages\\ibm_cloud_sdk_core\\base_service.py\u001b[0m in \u001b[0;36mprepare_request\u001b[1;34m(self, method, url, headers, params, data, files, **kwargs)\u001b[0m\n\u001b[0;32m    373\u001b[0m         \u001b[1;31m# validate the service url is set\u001b[0m\u001b[1;33m\u001b[0m\u001b[1;33m\u001b[0m\u001b[1;33m\u001b[0m\u001b[0m\n\u001b[0;32m    374\u001b[0m         \u001b[1;32mif\u001b[0m \u001b[1;32mnot\u001b[0m \u001b[0mself\u001b[0m\u001b[1;33m.\u001b[0m\u001b[0mservice_url\u001b[0m\u001b[1;33m:\u001b[0m\u001b[1;33m\u001b[0m\u001b[1;33m\u001b[0m\u001b[0m\n\u001b[1;32m--> 375\u001b[1;33m             \u001b[1;32mraise\u001b[0m \u001b[0mValueError\u001b[0m\u001b[1;33m(\u001b[0m\u001b[1;34m'The service_url is required'\u001b[0m\u001b[1;33m)\u001b[0m\u001b[1;33m\u001b[0m\u001b[1;33m\u001b[0m\u001b[0m\n\u001b[0m\u001b[0;32m    376\u001b[0m \u001b[1;33m\u001b[0m\u001b[0m\n\u001b[0;32m    377\u001b[0m         \u001b[1;31m# Combine the service_url and operation path to form the request url.\u001b[0m\u001b[1;33m\u001b[0m\u001b[1;33m\u001b[0m\u001b[1;33m\u001b[0m\u001b[0m\n",
      "\u001b[1;31mValueError\u001b[0m: The service_url is required"
     ]
    }
   ],
   "source": [
    "with open(filename, \"rb\") as wav:\n",
    "    response=s2t.recognize(audio = wav, content_type='audio/mp3', url =url_s2t)"
   ]
  },
  {
   "cell_type": "code",
   "execution_count": null,
   "id": "57978f4e-74e6-4b48-ad7c-b808d6cdc0c5",
   "metadata": {},
   "outputs": [],
   "source": []
  }
 ],
 "metadata": {
  "kernelspec": {
   "display_name": "Python 3 (ipykernel)",
   "language": "python",
   "name": "python3"
  },
  "language_info": {
   "codemirror_mode": {
    "name": "ipython",
    "version": 3
   },
   "file_extension": ".py",
   "mimetype": "text/x-python",
   "name": "python",
   "nbconvert_exporter": "python",
   "pygments_lexer": "ipython3",
   "version": "3.8.8"
  }
 },
 "nbformat": 4,
 "nbformat_minor": 5
}
