{
 "cells": [
  {
   "cell_type": "code",
   "execution_count": 1,
   "id": "dabb2199-c8f4-4aa1-b60a-a256b587c9d2",
   "metadata": {},
   "outputs": [
    {
     "name": "stdout",
     "output_type": "stream",
     "text": [
      "Requirement already satisfied: pycoingecko in c:\\users\\piyus\\anaconda3\\lib\\site-packages (2.2.0)\n",
      "Requirement already satisfied: requests in c:\\users\\piyus\\anaconda3\\lib\\site-packages (from pycoingecko) (2.27.1)\n",
      "Requirement already satisfied: certifi>=2017.4.17 in c:\\users\\piyus\\anaconda3\\lib\\site-packages (from requests->pycoingecko) (2021.10.8)\n",
      "Requirement already satisfied: idna<4,>=2.5 in c:\\users\\piyus\\anaconda3\\lib\\site-packages (from requests->pycoingecko) (3.3)\n",
      "Requirement already satisfied: charset-normalizer~=2.0.0 in c:\\users\\piyus\\anaconda3\\lib\\site-packages (from requests->pycoingecko) (2.0.4)\n",
      "Requirement already satisfied: urllib3<1.27,>=1.21.1 in c:\\users\\piyus\\anaconda3\\lib\\site-packages (from requests->pycoingecko) (1.26.7)\n",
      "Requirement already satisfied: plotly in c:\\users\\piyus\\anaconda3\\lib\\site-packages (5.6.0)\n",
      "Requirement already satisfied: six in c:\\users\\piyus\\anaconda3\\lib\\site-packages (from plotly) (1.16.0)\n",
      "Requirement already satisfied: tenacity>=6.2.0 in c:\\users\\piyus\\anaconda3\\lib\\site-packages (from plotly) (8.0.1)\n",
      "Requirement already satisfied: mplfinance in c:\\users\\piyus\\anaconda3\\lib\\site-packages (0.12.8b9)\n",
      "Requirement already satisfied: matplotlib in c:\\users\\piyus\\anaconda3\\lib\\site-packages (from mplfinance) (3.5.0)\n",
      "Requirement already satisfied: pandas in c:\\users\\piyus\\anaconda3\\lib\\site-packages (from mplfinance) (1.3.5)\n",
      "Requirement already satisfied: numpy>=1.17 in c:\\users\\piyus\\anaconda3\\lib\\site-packages (from matplotlib->mplfinance) (1.20.3)\n",
      "Requirement already satisfied: pyparsing>=2.2.1 in c:\\users\\piyus\\anaconda3\\lib\\site-packages (from matplotlib->mplfinance) (3.0.4)\n",
      "Requirement already satisfied: pillow>=6.2.0 in c:\\users\\piyus\\anaconda3\\lib\\site-packages (from matplotlib->mplfinance) (8.4.0)\n",
      "Requirement already satisfied: python-dateutil>=2.7 in c:\\users\\piyus\\anaconda3\\lib\\site-packages (from matplotlib->mplfinance) (2.8.2)\n",
      "Requirement already satisfied: packaging>=20.0 in c:\\users\\piyus\\anaconda3\\lib\\site-packages (from matplotlib->mplfinance) (21.3)\n",
      "Requirement already satisfied: fonttools>=4.22.0 in c:\\users\\piyus\\anaconda3\\lib\\site-packages (from matplotlib->mplfinance) (4.25.0)\n",
      "Requirement already satisfied: kiwisolver>=1.0.1 in c:\\users\\piyus\\anaconda3\\lib\\site-packages (from matplotlib->mplfinance) (1.3.1)\n",
      "Requirement already satisfied: cycler>=0.10 in c:\\users\\piyus\\anaconda3\\lib\\site-packages (from matplotlib->mplfinance) (0.11.0)\n",
      "Requirement already satisfied: six>=1.5 in c:\\users\\piyus\\anaconda3\\lib\\site-packages (from python-dateutil>=2.7->matplotlib->mplfinance) (1.16.0)\n",
      "Requirement already satisfied: pytz>=2017.3 in c:\\users\\piyus\\anaconda3\\lib\\site-packages (from pandas->mplfinance) (2021.3)\n"
     ]
    }
   ],
   "source": [
    "!pip install pycoingecko\n",
    "!pip install plotly\n",
    "!pip install mplfinance"
   ]
  },
  {
   "cell_type": "code",
   "execution_count": 2,
   "id": "7b786ce8-cefb-4760-b954-62da7fa53e86",
   "metadata": {},
   "outputs": [
    {
     "name": "stdout",
     "output_type": "stream",
     "text": [
      "Requirement already satisfied: ibm_watson in c:\\users\\piyus\\anaconda3\\lib\\site-packages (5.3.1)\n",
      "Requirement already satisfied: wget in c:\\users\\piyus\\anaconda3\\lib\\site-packages (3.2)\n",
      "Requirement already satisfied: requests<3.0,>=2.0 in c:\\users\\piyus\\anaconda3\\lib\\site-packages (from ibm_watson) (2.27.1)\n",
      "Requirement already satisfied: python-dateutil>=2.5.3 in c:\\users\\piyus\\anaconda3\\lib\\site-packages (from ibm_watson) (2.8.2)\n",
      "Requirement already satisfied: websocket-client==1.1.0 in c:\\users\\piyus\\anaconda3\\lib\\site-packages (from ibm_watson) (1.1.0)\n",
      "Requirement already satisfied: ibm-cloud-sdk-core==3.*,>=3.3.6 in c:\\users\\piyus\\anaconda3\\lib\\site-packages (from ibm_watson) (3.14.0)\n",
      "Requirement already satisfied: PyJWT<3.0.0,>=2.0.1 in c:\\users\\piyus\\anaconda3\\lib\\site-packages (from ibm-cloud-sdk-core==3.*,>=3.3.6->ibm_watson) (2.1.0)\n",
      "Requirement already satisfied: urllib3<2.0.0,>=1.26.0 in c:\\users\\piyus\\anaconda3\\lib\\site-packages (from ibm-cloud-sdk-core==3.*,>=3.3.6->ibm_watson) (1.26.7)\n",
      "Requirement already satisfied: six>=1.5 in c:\\users\\piyus\\anaconda3\\lib\\site-packages (from python-dateutil>=2.5.3->ibm_watson) (1.16.0)\n",
      "Requirement already satisfied: charset-normalizer~=2.0.0 in c:\\users\\piyus\\anaconda3\\lib\\site-packages (from requests<3.0,>=2.0->ibm_watson) (2.0.4)\n",
      "Requirement already satisfied: certifi>=2017.4.17 in c:\\users\\piyus\\anaconda3\\lib\\site-packages (from requests<3.0,>=2.0->ibm_watson) (2021.10.8)\n",
      "Requirement already satisfied: idna<4,>=2.5 in c:\\users\\piyus\\anaconda3\\lib\\site-packages (from requests<3.0,>=2.0->ibm_watson) (3.3)\n"
     ]
    }
   ],
   "source": [
    "#you will need the following library \n",
    "!pip install ibm_watson wget"
   ]
  },
  {
   "cell_type": "code",
   "execution_count": null,
   "id": "d6779995-d74a-4740-a2df-ecaf9af60b77",
   "metadata": {},
   "outputs": [],
   "source": [
    "from ibm_watson import SpeechToTextV1 # for speeh to text conversion package/module\n",
    "import json\n",
    "from ibm_cloud_sdk_core.authenticators import IAMAuthenticator # for API key authentication"
   ]
  },
  {
   "cell_type": "code",
   "execution_count": null,
   "id": "07b2ebfa-e3a8-4e97-a3a1-dd401602dad8",
   "metadata": {},
   "outputs": [],
   "source": [
    "# The service endpoint is based on the location of the service instance, we store the information in the variable URL. To find out which URL to use, view the service credentials and paste the url here.\n",
    "url_s2t = \"\""
   ]
  },
  {
   "cell_type": "code",
   "execution_count": null,
   "id": "a8db7349-bb30-4996-a7a9-d23c4872bd9d",
   "metadata": {},
   "outputs": [],
   "source": [
    "#ou require an API key, and you can obtain the key on the Dashboard .\n",
    "iam_apikey_s2t = \"\""
   ]
  },
  {
   "cell_type": "code",
   "execution_count": null,
   "id": "1b6b9974-f852-479b-b805-e320f743ec27",
   "metadata": {},
   "outputs": [],
   "source": [
    "#You create a Speech To Text Adapter object the parameters are the endpoint and API key.\n",
    "authenticator = IAMAuthenticator(iam_apikey_s2t)\n",
    "s2t = SpeechToTextV1(authenticator=authenticator)\n",
    "s2t.set_service_url(url_s2t)\n",
    "s2t"
   ]
  },
  {
   "cell_type": "code",
   "execution_count": null,
   "id": "dfb551ef-dbb1-4cee-9e95-c40ec455d54a",
   "metadata": {
    "scrolled": true,
    "tags": []
   },
   "outputs": [],
   "source": [
    "!wget -O PolynomialRegressionandPipelines.mp3  https://cf-courses-data.s3.us.cloud-object-storage.appdomain.cloud/IBMDeveloperSkillsNetwork-PY0101EN-SkillsNetwork/labs/Module%205/data/PolynomialRegressionandPipelines.mp3\n"
   ]
  },
  {
   "cell_type": "code",
   "execution_count": null,
   "id": "ae312d18-e2ec-4727-8bc8-acc8dd04bf44",
   "metadata": {},
   "outputs": [],
   "source": [
    "filename='PolynomialRegressionandPipelines.mp3'"
   ]
  },
  {
   "cell_type": "markdown",
   "id": "af970bf3-1370-4d0c-8866-a64876fa59f1",
   "metadata": {},
   "source": [
    "### We create the file object wav with the wav file using open. We set the mode to \"rb\" , this is similar to read mode, but it ensures the file is in binary mode. We use the method recognize to return the recognized text. The parameter audio is the file object wav, the parameter content_type is the format of the audio file."
   ]
  },
  {
   "cell_type": "code",
   "execution_count": null,
   "id": "930560c5-fed1-48a1-8c42-feaa177d84f8",
   "metadata": {},
   "outputs": [],
   "source": [
    "with open(filename, \"rb\") as wav:\n",
    "    response=s2t.recognize(audio = wav, content_type='audio/mp3', url =url_s2t)"
   ]
  },
  {
   "cell_type": "code",
   "execution_count": null,
   "id": "57978f4e-74e6-4b48-ad7c-b808d6cdc0c5",
   "metadata": {},
   "outputs": [],
   "source": [
    "response.result"
   ]
  },
  {
   "cell_type": "code",
   "execution_count": 2,
   "id": "aae29af8-0982-410a-9ab4-1d79b0ecf317",
   "metadata": {},
   "outputs": [
    {
     "data": {
      "text/plain": [
       "{'User-Agent': 'python-requests/2.27.1', 'Accept-Encoding': 'gzip, deflate, br', 'Accept': '*/*', 'Connection': 'keep-alive', 'Cookie': '_abck=9D85E7249292B1B34F19988D6B49E7CC~-1~YAAQrnEmFxOaklF/AQAA+W6eYgdbWZYrFT4G6hDaLPoaD91Ud5ncIdu9x3/EpSzcHOGilNONyuGTNun1wOjzSMhTdv5Qo2d16kCAEEHGHhaLXXoqYKQjM3nMRyhOIxx+EYdkUSFKasSEXjLpR+HBDPDIpAuVYpLPLYtq2pThP94zvozgzzXXIo+DQYKalnTHEQzbL6X/ww8aAMFvI/oeFSE3IfUS1lglpaDD7NoPK50G6k7DnKJOeSsiddV1JB7S+3fhQ/4GJxl5Ko6D6V8NUgzJBNhca+XNPHxQtSpa+2xPz/7cAQZS0jC3R+DC37hA2Qmp9w/WNvAtNacVCweN4ijCWAhNDhbZb9tZ5tjMbG0aj+5GfvQ=~-1~-1~-1; bm_sz=3C09A539E673C12011BA719326AF3A4E~YAAQrnEmFxSaklF/AQAA+W6eYg+KzatXKz7muGwB+7mu2S0DDFR+Se6bFVzCbPpEY9/3zRkwcMPArYseuM5mch/bMW4PVKa2Clw+q2kqBFT8CtvGEovriiCmoDPQLn9LphbkcR6+DlGofdmhvOa+CABabLX2xsLcMh7rW7G6fAfxWjy+i4ci6y349SX7aA6FBxCaWBMZcbbGCRVrvaxq8B2Fa82/7addVBr46RMuoV3MLaaRdprcIHhop2dzYhcLixD2ym5FHPY/NfR24i5SH6UKWU1NJe1vx7TsnlxgbVI=~3555910~3486520'}"
      ]
     },
     "execution_count": 2,
     "metadata": {},
     "output_type": "execute_result"
    }
   ],
   "source": [
    "import requests\n",
    "url = 'https://www.ibm.com'\n",
    "r = requests.get(url)\n",
    "r.status_code:200\n",
    "\n",
    "r.request.headers"
   ]
  },
  {
   "cell_type": "code",
   "execution_count": 3,
   "id": "ad89e3e4-f0c9-4939-a506-43c10dbde453",
   "metadata": {},
   "outputs": [],
   "source": [
    "r.request.body"
   ]
  },
  {
   "cell_type": "code",
   "execution_count": 8,
   "id": "95eccd69-fe7e-4e93-b622-192386f81c5c",
   "metadata": {},
   "outputs": [
    {
     "data": {
      "text/plain": [
       "{'Cache-Control': 'max-age=301', 'Expires': 'Fri, 04 Mar 2022 15:52:13 GMT', 'Last-Modified': 'Wed, 02 Mar 2022 18:31:53 GMT', 'ETag': '\"1902d-5d9407ee6778c\"', 'Accept-Ranges': 'bytes', 'Content-Encoding': 'gzip', 'Content-Type': 'text/html', 'X-Akamai-Transformed': '9 20523 0 pmb=mTOE,1', 'Date': 'Mon, 07 Mar 2022 04:23:44 GMT', 'Content-Length': '20605', 'Connection': 'keep-alive', 'Vary': 'Accept-Encoding', 'x-content-type-options': 'nosniff', 'X-XSS-Protection': '1; mode=block', 'Content-Security-Policy': 'upgrade-insecure-requests', 'Strict-Transport-Security': 'max-age=31536000'}"
      ]
     },
     "execution_count": 8,
     "metadata": {},
     "output_type": "execute_result"
    }
   ],
   "source": [
    "header = r.headers\n",
    "header\n",
    "# header['Date']\n",
    "# header['Modified Date']"
   ]
  },
  {
   "cell_type": "code",
   "execution_count": 10,
   "id": "607ba130-2b2d-4ce5-ac71-1df2f16488de",
   "metadata": {},
   "outputs": [
    {
     "data": {
      "text/plain": [
       "'http://httpbin.org/get?name=Jojseph&ID=123'"
      ]
     },
     "execution_count": 10,
     "metadata": {},
     "output_type": "execute_result"
    }
   ],
   "source": [
    "# Get requests\n",
    "url_get = 'http://httpbin.org/get'\n",
    "payload={\"name\":\"Joseph\", \"ID\":\"123\"}\n",
    "r=requests.get(url_get,params = payload)\n",
    "r.url"
   ]
  },
  {
   "cell_type": "code",
   "execution_count": 11,
   "id": "ec839c8d-0d2b-4240-b821-51df343b3967",
   "metadata": {},
   "outputs": [],
   "source": [
    "r.request.body"
   ]
  },
  {
   "cell_type": "code",
   "execution_count": 16,
   "id": "19461dbd-5509-4e8a-80c9-ed55db0dfe4a",
   "metadata": {},
   "outputs": [
    {
     "data": {
      "text/plain": [
       "{'args': {'ID': '123', 'name': 'Jojseph'},\n",
       " 'headers': {'Accept': '*/*',\n",
       "  'Accept-Encoding': 'gzip, deflate, br',\n",
       "  'Host': 'httpbin.org',\n",
       "  'User-Agent': 'python-requests/2.27.1',\n",
       "  'X-Amzn-Trace-Id': 'Root=1-62258a74-4dd2b27847aaeae90222b644'},\n",
       " 'origin': '24.61.20.12',\n",
       " 'url': 'http://httpbin.org/get?name=Jojseph&ID=123'}"
      ]
     },
     "execution_count": 16,
     "metadata": {},
     "output_type": "execute_result"
    }
   ],
   "source": [
    "r.status_code\n",
    "r.text\n",
    "r.json()"
   ]
  },
  {
   "cell_type": "code",
   "execution_count": 17,
   "id": "965d8cf9-de8d-4bab-9cc9-b485d76a2028",
   "metadata": {},
   "outputs": [
    {
     "data": {
      "text/plain": [
       "'http://httpbin.org/post?name=Jojseph&ID=123'"
      ]
     },
     "execution_count": 17,
     "metadata": {},
     "output_type": "execute_result"
    }
   ],
   "source": [
    "# Post requests\n",
    "url_get = 'http://httpbin.org/post'\n",
    "r=requests.post(url_get,params = payload)\n",
    "r.url"
   ]
  },
  {
   "cell_type": "markdown",
   "id": "6c958602-e5a2-42c6-af16-8189f70c0a4b",
   "metadata": {},
   "source": [
    "### Requests in Python"
   ]
  },
  {
   "cell_type": "code",
   "execution_count": 19,
   "id": "a80ef65a-c560-41bf-a3c2-ba902a403a2b",
   "metadata": {},
   "outputs": [],
   "source": [
    "import requests\n",
    "import os\n",
    "from PIL import Image\n",
    "from IPython.display import IFrame"
   ]
  },
  {
   "cell_type": "markdown",
   "id": "7ae83720-e7cd-48b2-ba51-f01fb1340266",
   "metadata": {},
   "source": [
    "You can make a GET request via the method get to www.ibm.com:"
   ]
  },
  {
   "cell_type": "code",
   "execution_count": 21,
   "id": "1213ad3b-2335-4c1f-a649-268424be0475",
   "metadata": {},
   "outputs": [],
   "source": [
    "url = \"https://www.ibm.com\"\n",
    "r = requests.get(url)"
   ]
  },
  {
   "cell_type": "code",
   "execution_count": 23,
   "id": "c84ae27d-544d-4899-a7b9-44bc65b9185b",
   "metadata": {},
   "outputs": [
    {
     "data": {
      "text/plain": [
       "200"
      ]
     },
     "execution_count": 23,
     "metadata": {},
     "output_type": "execute_result"
    }
   ],
   "source": [
    "r.status_code # status code for the response object r"
   ]
  },
  {
   "cell_type": "code",
   "execution_count": 29,
   "id": "883c90d3-bad2-45e9-9f9c-1c44a55905d3",
   "metadata": {},
   "outputs": [
    {
     "name": "stdout",
     "output_type": "stream",
     "text": [
      "{'User-Agent': 'python-requests/2.27.1', 'Accept-Encoding': 'gzip, deflate, br', 'Accept': '*/*', 'Connection': 'keep-alive', 'Cookie': '_abck=A29724C6AB9B354109764301C4696B3F~-1~YAAQrnEmF8OrmFF/AQAANYV6Zge9iiroaqpRDmlN9hIlORVsCcwPjU9Kn1OSBhiVbjN0m0WbH4wVJ4AbVhbzsZijS0cyt7DGvqbPDQFjp66waFdcCrGDdXkT7QEab//IFn/mu3SvmjtlRxzmvofsvxzy3vx+qc3ic9yvbnrHxIc64olmGYatoTt4wkmeosiCzQHqulLUVtoZnt5f0uXeUHuwTaG9gGS5uasYpTUZTWnEdRd9bcs9NJdc3opXa/zp5qsMBomWpYdWS1XK/kFJ0xEubK7bF2oM1eqejnKao0cN4+LxDEm5WxhMht5XzyEOeXQL1T+eEcDQz+EsnpNWooSV9Of2rWrE2rwktqAGuGOwfEt9eD0=~-1~-1~-1; bm_sz=9BD4B24F9BFFEFCDAD20D41650DEE7BB~YAAQrnEmF8SrmFF/AQAANYV6Zg+C8r7lKe2KKJpTF+ocx8F4fb5P89X3emwIK/f+wgNKTF1fNFgwk8a49NMVaAF0hsmlmDvrF4QptcNRRHW9A4O4B+9a2IzeS3UjVFqCwpf9xAZUmyf1252TEMhXWOfPTlX74iabDcO2yja7gfzVFqvDdWp2w3s3AoNGH2az9mgaep9w6cpdqUdWGN8kAWIqiuF0u0uQ2mPH4CP+RBvkxkCdMnYa/UhppIIB8PyMgjY6+PfjF+w1OfD/uW5PXSBx4mAkCDJ60DL1L1lnUbg=~4534338~3752247'}\n",
      "\n",
      " None\n"
     ]
    }
   ],
   "source": [
    "print(r.request.headers)\n",
    "print(\"\\n\", r.request.body)"
   ]
  },
  {
   "cell_type": "code",
   "execution_count": 35,
   "id": "4d657247-f193-47cb-996e-1479c77ef9ef",
   "metadata": {},
   "outputs": [
    {
     "name": "stdout",
     "output_type": "stream",
     "text": [
      "{'Cache-Control': 'max-age=301', 'Expires': 'Mon, 07 Mar 2022 14:47:55 GMT', 'Last-Modified': 'Mon, 07 Mar 2022 13:50:55 GMT', 'ETag': '\"19575-5d9a127457b13\"', 'Accept-Ranges': 'bytes', 'Content-Encoding': 'gzip', 'Content-Type': 'text/html', 'X-Akamai-Transformed': '9 20778 0 pmb=mTOE,1', 'Date': 'Mon, 07 Mar 2022 22:22:59 GMT', 'Content-Length': '20856', 'Connection': 'keep-alive', 'Vary': 'Accept-Encoding', 'x-content-type-options': 'nosniff', 'X-XSS-Protection': '1; mode=block', 'Content-Security-Policy': 'upgrade-insecure-requests', 'Strict-Transport-Security': 'max-age=31536000'}\n",
      "Mon, 07 Mar 2022 22:22:59 GMT\n",
      "text/html\n"
     ]
    }
   ],
   "source": [
    "res_headers = r.headers\n",
    "print(res_headers)\n",
    "\n",
    "res_headers.keys()\n",
    "print(res_headers['date'])\n",
    "print(res_headers['Content-Type'])"
   ]
  },
  {
   "cell_type": "code",
   "execution_count": 36,
   "id": "dfbc1dfe-763b-432b-9025-da57ebd8abd6",
   "metadata": {},
   "outputs": [
    {
     "data": {
      "text/plain": [
       "'ISO-8859-1'"
      ]
     },
     "execution_count": 36,
     "metadata": {},
     "output_type": "execute_result"
    }
   ],
   "source": [
    "r.encoding"
   ]
  },
  {
   "cell_type": "code",
   "execution_count": 38,
   "id": "a180cd1e-0e16-4fc4-8d0c-2e389192288d",
   "metadata": {},
   "outputs": [
    {
     "data": {
      "text/plain": [
       "'<!DOCTYPE html><html lang=\"en-US\"><head><meta name=\"viewport\" content=\"width=device-width\"/><meta charSet=\"utf-8\"/><title>IBM - United States</title><link rel=\"canonical\" href=\"https://www.ibm.com/us-en/\"/><meta name=\"robots\" content=\"index,follow\"/><meta name=\"description\" content=\"For more than a century IBM has been dedicated to every client&#x27;s success and to creating innovations that matter for the world\"/><meta name=\"keywords\" content=\"IBM\"/><meta http-equiv=\"X-UA-Compatible\" content=\"IE=Edge\"/><meta http-equiv=\"Cache-Control\" content=\"no-cache, no-store, must-revalidate\"/><meta http-equiv=\"Pragma\" content=\"no-cache\"/><meta http-equiv=\"Expires\" content=\"0\"/><link rel=\"icon\" href=\"//www.ibm.com/favicon.ico\"/><meta name=\"ibmdotcom.version.react\" content=\"^1.31.0\"/><meta name=\"ibmdotcom.version.styles\" content=\"^1.31.0\"/><meta name=\"ibmdotcom.build.time\" content=\"2022-03-07T13:50:20.760Z\"/><meta name=\"dcterms.date\" content=\"2015-10-01\"/><meta name=\"dcterms.rights\" content=\"Â© Cop'"
      ]
     },
     "execution_count": 38,
     "metadata": {},
     "output_type": "execute_result"
    }
   ],
   "source": [
    "r.text[0:1000] # first 1000 characters"
   ]
  },
  {
   "cell_type": "code",
   "execution_count": 41,
   "id": "8475073b-6e22-41f8-ae70-95ccb549563e",
   "metadata": {},
   "outputs": [],
   "source": [
    "# Use single quotation marks for defining string\n",
    "url='https://cf-courses-data.s3.us.cloud-object-storage.appdomain.cloud/IBMDeveloperSkillsNetwork-PY0101EN-SkillsNetwork/IDSNlogo.png'"
   ]
  },
  {
   "cell_type": "code",
   "execution_count": 42,
   "id": "4bf9c09c-4357-45ad-bfb3-841870af2878",
   "metadata": {},
   "outputs": [
    {
     "data": {
      "text/plain": [
       "200"
      ]
     },
     "execution_count": 42,
     "metadata": {},
     "output_type": "execute_result"
    }
   ],
   "source": [
    "r = requests.get(url)\n",
    "r.status_code\n",
    "r.content # image data "
   ]
  },
  {
   "cell_type": "code",
   "execution_count": 43,
   "id": "6d63425f-34d9-484d-93fa-11288c9524dd",
   "metadata": {},
   "outputs": [
    {
     "data": {
      "text/plain": [
       "{'Date': 'Mon, 07 Mar 2022 22:30:24 GMT', 'X-Clv-Request-Id': '362a907c-cd42-46ea-9773-4cfb3246f90b', 'Server': 'Cleversafe', 'X-Clv-S3-Version': '2.5', 'Accept-Ranges': 'bytes', 'x-amz-request-id': '362a907c-cd42-46ea-9773-4cfb3246f90b', 'Cache-Control': 'max-age=0,public', 'ETag': '\"a831e767d02efd21b904ec485ac0c769\"', 'Content-Type': 'image/png', 'Last-Modified': 'Thu, 24 Feb 2022 12:40:34 GMT', 'Content-Length': '21590'}"
      ]
     },
     "execution_count": 43,
     "metadata": {},
     "output_type": "execute_result"
    }
   ],
   "source": [
    "r.headers"
   ]
  },
  {
   "cell_type": "code",
   "execution_count": 55,
   "id": "3a8970ad-8c5a-4d8c-a19a-9414dc9c6cd5",
   "metadata": {},
   "outputs": [
    {
     "data": {
      "text/plain": [
       "'Cleversafe'"
      ]
     },
     "execution_count": 55,
     "metadata": {},
     "output_type": "execute_result"
    }
   ],
   "source": [
    "r.headers['Server']\n",
    "# r.content"
   ]
  },
  {
   "cell_type": "code",
   "execution_count": 46,
   "id": "f1fe0480-b6a1-473b-a922-8d08f262b58d",
   "metadata": {},
   "outputs": [
    {
     "data": {
      "text/plain": [
       "'C:\\\\Users\\\\piyus\\\\Data Science\\\\Coursera_IBM_data_science\\\\Notebooks For Practise\\\\image.png'"
      ]
     },
     "execution_count": 46,
     "metadata": {},
     "output_type": "execute_result"
    }
   ],
   "source": [
    "path=os.path.join(os.getcwd(),'image.png')\n",
    "path"
   ]
  },
  {
   "cell_type": "code",
   "execution_count": 53,
   "id": "1667248e-0199-48d7-958b-9d6721c165ca",
   "metadata": {},
   "outputs": [
    {
     "data": {
      "text/plain": [
       "'C:\\\\Users\\\\piyus\\\\Data Science\\\\Coursera_IBM_data_science\\\\Notebooks For Practise'"
      ]
     },
     "execution_count": 53,
     "metadata": {},
     "output_type": "execute_result"
    }
   ],
   "source": [
    "os.getcwd()"
   ]
  },
  {
   "cell_type": "code",
   "execution_count": 62,
   "id": "ba862309-e55c-4b5d-99c5-8c2bc5e5b088",
   "metadata": {},
   "outputs": [
    {
     "ename": "FileNotFoundError",
     "evalue": "[Errno 2] No such file or directory: 'C:\\\\Users\\\\piyus\\\\Data Science\\\\Coursera_IBM_data_science\\\\Notebooks For Practise\\\\image.png'",
     "output_type": "error",
     "traceback": [
      "\u001b[1;31m---------------------------------------------------------------------------\u001b[0m",
      "\u001b[1;31mFileNotFoundError\u001b[0m                         Traceback (most recent call last)",
      "\u001b[1;32m~\\AppData\\Local\\Temp/ipykernel_29464/3825575595.py\u001b[0m in \u001b[0;36m<module>\u001b[1;34m\u001b[0m\n\u001b[1;32m----> 1\u001b[1;33m \u001b[1;32mwith\u001b[0m \u001b[0mopen\u001b[0m\u001b[1;33m(\u001b[0m\u001b[0mpath\u001b[0m\u001b[1;33m,\u001b[0m \u001b[1;34m'rb'\u001b[0m\u001b[1;33m)\u001b[0m \u001b[1;32mas\u001b[0m \u001b[0mfile\u001b[0m\u001b[1;33m:\u001b[0m\u001b[1;33m\u001b[0m\u001b[1;33m\u001b[0m\u001b[0m\n\u001b[0m\u001b[0;32m      2\u001b[0m     \u001b[0mfile\u001b[0m\u001b[1;33m.\u001b[0m\u001b[0mwrite\u001b[0m\u001b[1;33m(\u001b[0m\u001b[0mr\u001b[0m\u001b[1;33m.\u001b[0m\u001b[0mcontent\u001b[0m\u001b[1;33m)\u001b[0m \u001b[1;31m# copying the image to file image.png\u001b[0m\u001b[1;33m\u001b[0m\u001b[1;33m\u001b[0m\u001b[0m\n",
      "\u001b[1;31mFileNotFoundError\u001b[0m: [Errno 2] No such file or directory: 'C:\\\\Users\\\\piyus\\\\Data Science\\\\Coursera_IBM_data_science\\\\Notebooks For Practise\\\\image.png'"
     ]
    }
   ],
   "source": [
    "with open(path, 'rb') as file:\n",
    "    file.write(r.content) # copying the image to file image.png"
   ]
  },
  {
   "cell_type": "code",
   "execution_count": 63,
   "id": "12a05d6c-b0cb-4918-a686-c427e4e38754",
   "metadata": {},
   "outputs": [
    {
     "ename": "FileNotFoundError",
     "evalue": "[Errno 2] No such file or directory: 'C:\\\\Users\\\\piyus\\\\Data Science\\\\Coursera_IBM_data_science\\\\Notebooks For Practise\\\\image.png'",
     "output_type": "error",
     "traceback": [
      "\u001b[1;31m---------------------------------------------------------------------------\u001b[0m",
      "\u001b[1;31mFileNotFoundError\u001b[0m                         Traceback (most recent call last)",
      "\u001b[1;32m~\\AppData\\Local\\Temp/ipykernel_29464/1028834159.py\u001b[0m in \u001b[0;36m<module>\u001b[1;34m\u001b[0m\n\u001b[1;32m----> 1\u001b[1;33m \u001b[0mImage\u001b[0m\u001b[1;33m.\u001b[0m\u001b[0mopen\u001b[0m\u001b[1;33m(\u001b[0m\u001b[0mpath\u001b[0m\u001b[1;33m)\u001b[0m\u001b[1;33m\u001b[0m\u001b[1;33m\u001b[0m\u001b[0m\n\u001b[0m",
      "\u001b[1;32m~\\anaconda3\\lib\\site-packages\\PIL\\Image.py\u001b[0m in \u001b[0;36mopen\u001b[1;34m(fp, mode, formats)\u001b[0m\n\u001b[0;32m   2973\u001b[0m \u001b[1;33m\u001b[0m\u001b[0m\n\u001b[0;32m   2974\u001b[0m     \u001b[1;32mif\u001b[0m \u001b[0mfilename\u001b[0m\u001b[1;33m:\u001b[0m\u001b[1;33m\u001b[0m\u001b[1;33m\u001b[0m\u001b[0m\n\u001b[1;32m-> 2975\u001b[1;33m         \u001b[0mfp\u001b[0m \u001b[1;33m=\u001b[0m \u001b[0mbuiltins\u001b[0m\u001b[1;33m.\u001b[0m\u001b[0mopen\u001b[0m\u001b[1;33m(\u001b[0m\u001b[0mfilename\u001b[0m\u001b[1;33m,\u001b[0m \u001b[1;34m\"rb\"\u001b[0m\u001b[1;33m)\u001b[0m\u001b[1;33m\u001b[0m\u001b[1;33m\u001b[0m\u001b[0m\n\u001b[0m\u001b[0;32m   2976\u001b[0m         \u001b[0mexclusive_fp\u001b[0m \u001b[1;33m=\u001b[0m \u001b[1;32mTrue\u001b[0m\u001b[1;33m\u001b[0m\u001b[1;33m\u001b[0m\u001b[0m\n\u001b[0;32m   2977\u001b[0m \u001b[1;33m\u001b[0m\u001b[0m\n",
      "\u001b[1;31mFileNotFoundError\u001b[0m: [Errno 2] No such file or directory: 'C:\\\\Users\\\\piyus\\\\Data Science\\\\Coursera_IBM_data_science\\\\Notebooks For Practise\\\\image.png'"
     ]
    }
   ],
   "source": [
    "Image.open(path)"
   ]
  },
  {
   "cell_type": "code",
   "execution_count": 64,
   "id": "a3815b22-d7ee-4a6a-959d-b0b4cba7eb60",
   "metadata": {},
   "outputs": [],
   "source": [
    "url_post='http://httpbin.org/post'\n"
   ]
  },
  {
   "cell_type": "markdown",
   "id": "06f5d421-d4d9-4422-8eab-d763484849da",
   "metadata": {},
   "source": [
    "<a href=\"https://www.ibm.com\"> IBM Website </a>"
   ]
  },
  {
   "cell_type": "markdown",
   "id": "9d7019a8-afc2-4241-b06f-002c06401b7c",
   "metadata": {},
   "source": [
    "<table>\n",
    "    <tr>\n",
    "        <td>Restaurant</td>\n",
    "        <td>Order</td>\n",
    "        <td>Amount</td>\n",
    "    </tr>\n",
    "    <tr>\n",
    "        <td>Pizza Place</td>\n",
    "        <td>Garlic  Bread</td>\n",
    "        <td>100</td>\n",
    "    </tr>\n",
    "</table>"
   ]
  },
  {
   "cell_type": "code",
   "execution_count": null,
   "id": "97b7929b-d308-4327-abdb-fa3051f3fc73",
   "metadata": {},
   "outputs": [],
   "source": []
  }
 ],
 "metadata": {
  "kernelspec": {
   "display_name": "Python 3 (ipykernel)",
   "language": "python",
   "name": "python3"
  },
  "language_info": {
   "codemirror_mode": {
    "name": "ipython",
    "version": 3
   },
   "file_extension": ".py",
   "mimetype": "text/x-python",
   "name": "python",
   "nbconvert_exporter": "python",
   "pygments_lexer": "ipython3",
   "version": "3.8.8"
  }
 },
 "nbformat": 4,
 "nbformat_minor": 5
}
