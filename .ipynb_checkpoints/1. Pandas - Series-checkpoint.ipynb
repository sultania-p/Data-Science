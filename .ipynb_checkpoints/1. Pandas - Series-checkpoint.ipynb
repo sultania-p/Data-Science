{
 "cells": [
  {
   "cell_type": "markdown",
   "id": "fb39a646-6f23-41d4-b60b-a1a5e156d980",
   "metadata": {},
   "source": [
    "![rmotr](https://user-images.githubusercontent.com/7065401/52071918-bda15380-2562-11e9-828c-7f95297e4a82.png)\n",
    "<hr style=\"margin-bottom: 40px;\">\n",
    "\n",
    "<img src=\"https://user-images.githubusercontent.com/7065401/75165824-badf4680-5701-11ea-9c5b-5475b0a33abf.png\"\n",
    "    style=\"width:300px; float: right; margin: 0 40px 40px 40px;\"></img>\n",
    "\n",
    "# Pandas - Series"
   ]
  },
  {
   "cell_type": "markdown",
   "id": "42058b55-9501-435e-820a-ecf39c1e1dc8",
   "metadata": {},
   "source": [
    "![purple-divider](https://user-images.githubusercontent.com/7065401/52071927-c1cd7100-2562-11e9-908a-dde91ba14e59.png)\n",
    "\n",
    "## Hands on! "
   ]
  },
  {
   "cell_type": "code",
   "execution_count": 2,
   "id": "e815223d-4699-422b-b41e-357405dfc85e",
   "metadata": {},
   "outputs": [],
   "source": [
    "import numpy as np\n",
    "import pandas as pd"
   ]
  },
  {
   "cell_type": "code",
   "execution_count": 4,
   "id": "ee6585de-467c-4e16-83c7-9eb591bdaa37",
   "metadata": {},
   "outputs": [],
   "source": [
    "g7_pop = pd.Series([35.467, 63.951, 80.940, 60.665, 127.061, 64.511, 318.523])"
   ]
  },
  {
   "cell_type": "code",
   "execution_count": 5,
   "id": "c5d6fc0a-90b9-4846-a7bf-f93596ea9484",
   "metadata": {},
   "outputs": [
    {
     "data": {
      "text/plain": [
       "0     35.467\n",
       "1     63.951\n",
       "2     80.940\n",
       "3     60.665\n",
       "4    127.061\n",
       "5     64.511\n",
       "6    318.523\n",
       "dtype: float64"
      ]
     },
     "execution_count": 5,
     "metadata": {},
     "output_type": "execute_result"
    }
   ],
   "source": [
    "g7_pop"
   ]
  },
  {
   "cell_type": "code",
   "execution_count": 6,
   "id": "4e92c9c6-c500-44b1-a763-43c9a40477a4",
   "metadata": {},
   "outputs": [],
   "source": [
    "g7_pop.name = 'G7 Population in millions'"
   ]
  },
  {
   "cell_type": "code",
   "execution_count": 7,
   "id": "0ea0c207-3851-43b1-8a82-d88ea817eeb9",
   "metadata": {},
   "outputs": [
    {
     "data": {
      "text/plain": [
       "0     35.467\n",
       "1     63.951\n",
       "2     80.940\n",
       "3     60.665\n",
       "4    127.061\n",
       "5     64.511\n",
       "6    318.523\n",
       "Name: G7 Population in millions, dtype: float64"
      ]
     },
     "execution_count": 7,
     "metadata": {},
     "output_type": "execute_result"
    }
   ],
   "source": [
    "g7_pop"
   ]
  },
  {
   "cell_type": "code",
   "execution_count": 8,
   "id": "74b23265-3e37-4060-b3e4-b2d766f4ba8e",
   "metadata": {},
   "outputs": [
    {
     "data": {
      "text/plain": [
       "array([ 35.467,  63.951,  80.94 ,  60.665, 127.061,  64.511, 318.523])"
      ]
     },
     "execution_count": 8,
     "metadata": {},
     "output_type": "execute_result"
    }
   ],
   "source": [
    "g7_pop.values"
   ]
  },
  {
   "cell_type": "code",
   "execution_count": 9,
   "id": "d4a68ce7-71e9-4228-9077-20896953b2a9",
   "metadata": {},
   "outputs": [
    {
     "data": {
      "text/plain": [
       "numpy.ndarray"
      ]
     },
     "execution_count": 9,
     "metadata": {},
     "output_type": "execute_result"
    }
   ],
   "source": [
    "type(g7_pop.values)"
   ]
  },
  {
   "cell_type": "code",
   "execution_count": 10,
   "id": "a6187b46-d41e-414c-b51e-7cd807afa971",
   "metadata": {},
   "outputs": [
    {
     "data": {
      "text/plain": [
       "63.951"
      ]
     },
     "execution_count": 10,
     "metadata": {},
     "output_type": "execute_result"
    }
   ],
   "source": [
    "g7_pop[1]"
   ]
  },
  {
   "cell_type": "code",
   "execution_count": 11,
   "id": "9bc6ba11-ca0f-4355-86e2-a3b962de8199",
   "metadata": {},
   "outputs": [
    {
     "data": {
      "text/plain": [
       "35.467"
      ]
     },
     "execution_count": 11,
     "metadata": {},
     "output_type": "execute_result"
    }
   ],
   "source": [
    "g7_pop[0]"
   ]
  },
  {
   "cell_type": "code",
   "execution_count": 12,
   "id": "0d655089-cfc3-4adb-8112-3f1f2ff7ebf1",
   "metadata": {},
   "outputs": [
    {
     "data": {
      "text/plain": [
       "RangeIndex(start=0, stop=7, step=1)"
      ]
     },
     "execution_count": 12,
     "metadata": {},
     "output_type": "execute_result"
    }
   ],
   "source": [
    "g7_pop.index"
   ]
  },
  {
   "cell_type": "code",
   "execution_count": 13,
   "id": "af7f9801-d7e3-4b86-bdcd-b35db47fb015",
   "metadata": {},
   "outputs": [
    {
     "data": {
      "text/plain": [
       "0     35.467\n",
       "1     63.951\n",
       "2     80.940\n",
       "3     60.665\n",
       "4    127.061\n",
       "5     64.511\n",
       "6    318.523\n",
       "Name: G7 Population in millions, dtype: float64"
      ]
     },
     "execution_count": 13,
     "metadata": {},
     "output_type": "execute_result"
    }
   ],
   "source": [
    "g7_pop"
   ]
  },
  {
   "cell_type": "code",
   "execution_count": 14,
   "id": "7b4f72b9-f0a8-400e-bdb8-704007d41704",
   "metadata": {},
   "outputs": [],
   "source": [
    "g7_pop.index = [\n",
    "    'Canada',\n",
    "    'United States',\n",
    "    'India',\n",
    "    'France',\n",
    "    'Korea',\n",
    "    'Germany',\n",
    "    'Italy'    \n",
    "]"
   ]
  },
  {
   "cell_type": "code",
   "execution_count": 15,
   "id": "4c98e955-cfaf-4b8a-9c44-c0b9a7baa23b",
   "metadata": {},
   "outputs": [
    {
     "data": {
      "text/plain": [
       "Canada            35.467\n",
       "United States     63.951\n",
       "India             80.940\n",
       "France            60.665\n",
       "Korea            127.061\n",
       "Germany           64.511\n",
       "Italy            318.523\n",
       "Name: G7 Population in millions, dtype: float64"
      ]
     },
     "execution_count": 15,
     "metadata": {},
     "output_type": "execute_result"
    }
   ],
   "source": [
    "g7_pop"
   ]
  },
  {
   "cell_type": "code",
   "execution_count": 16,
   "id": "5ad8b970-ebee-441b-b1ac-c3dc0a6d5f25",
   "metadata": {},
   "outputs": [
    {
     "data": {
      "text/plain": [
       "Canada             35.467\n",
       "France             63.951\n",
       "Germany            80.940\n",
       "Italy              60.665\n",
       "Japan             127.061\n",
       "United Kingdom     64.511\n",
       "United States     318.523\n",
       "Name: G7 Population in millions, dtype: float64"
      ]
     },
     "execution_count": 16,
     "metadata": {},
     "output_type": "execute_result"
    }
   ],
   "source": [
    "pd.Series({\n",
    "    'Canada': 35.467,\n",
    "    'France': 63.951,\n",
    "    'Germany': 80.94,\n",
    "    'Italy': 60.665,\n",
    "    'Japan': 127.061,\n",
    "    'United Kingdom': 64.511,\n",
    "    'United States': 318.523\n",
    "}, name='G7 Population in millions')"
   ]
  },
  {
   "cell_type": "code",
   "execution_count": 17,
   "id": "c9a63e9b-5c2e-4ca0-b3f2-167bb0e3fbe5",
   "metadata": {},
   "outputs": [
    {
     "data": {
      "text/plain": [
       "Canada            35.467\n",
       "United States     63.951\n",
       "India             80.940\n",
       "France            60.665\n",
       "Korea            127.061\n",
       "Germany           64.511\n",
       "Italy            318.523\n",
       "Name: G7 Population in millions, dtype: float64"
      ]
     },
     "execution_count": 17,
     "metadata": {},
     "output_type": "execute_result"
    }
   ],
   "source": [
    "g7_pop"
   ]
  },
  {
   "cell_type": "code",
   "execution_count": 21,
   "id": "3bd2a3d1-3162-41b1-bc9a-fa41d9555dbe",
   "metadata": {},
   "outputs": [
    {
     "data": {
      "text/plain": [
       "Canada     35.467\n",
       "Korea     127.061\n",
       "France     60.665\n",
       "Italy     318.523\n",
       "Spain         NaN\n",
       "Name: G7 Population in millions, dtype: float64"
      ]
     },
     "execution_count": 21,
     "metadata": {},
     "output_type": "execute_result"
    }
   ],
   "source": [
    "pd.Series(g7_pop, index = ['Canada', 'Korea', 'France', 'Italy', 'Spain'])"
   ]
  },
  {
   "cell_type": "code",
   "execution_count": 24,
   "id": "4c436671-3330-4ecf-9ce4-d8640c6b4766",
   "metadata": {},
   "outputs": [
    {
     "data": {
      "text/plain": [
       "35.467"
      ]
     },
     "execution_count": 24,
     "metadata": {},
     "output_type": "execute_result"
    }
   ],
   "source": [
    "g7_pop['Canada']"
   ]
  },
  {
   "cell_type": "code",
   "execution_count": 26,
   "id": "3deb7921-f6b3-413c-8c89-5009b3914da5",
   "metadata": {},
   "outputs": [
    {
     "data": {
      "text/plain": [
       "35.467"
      ]
     },
     "execution_count": 26,
     "metadata": {},
     "output_type": "execute_result"
    }
   ],
   "source": [
    "g7_pop['Canada']"
   ]
  },
  {
   "cell_type": "code",
   "execution_count": 27,
   "id": "1e5ff060-da55-4fd5-a36a-08befbe90437",
   "metadata": {},
   "outputs": [
    {
     "data": {
      "text/plain": [
       "35.467"
      ]
     },
     "execution_count": 27,
     "metadata": {},
     "output_type": "execute_result"
    }
   ],
   "source": [
    "g7_pop.iloc[0]"
   ]
  },
  {
   "cell_type": "code",
   "execution_count": 29,
   "id": "25c9f09f-e86c-4bf2-9370-f464cfd3d949",
   "metadata": {},
   "outputs": [
    {
     "data": {
      "text/plain": [
       "Canada            35.467\n",
       "United States     63.951\n",
       "India             80.940\n",
       "France            60.665\n",
       "Korea            127.061\n",
       "Germany           64.511\n",
       "Italy            318.523\n",
       "Name: G7 Population in millions, dtype: float64"
      ]
     },
     "execution_count": 29,
     "metadata": {},
     "output_type": "execute_result"
    }
   ],
   "source": [
    "g7_pop"
   ]
  },
  {
   "cell_type": "code",
   "execution_count": 28,
   "id": "7c093cd7-8c20-4b91-aa9f-369000549744",
   "metadata": {},
   "outputs": [
    {
     "data": {
      "text/plain": [
       "318.523"
      ]
     },
     "execution_count": 28,
     "metadata": {},
     "output_type": "execute_result"
    }
   ],
   "source": [
    "g7_pop.iloc[-1]"
   ]
  },
  {
   "cell_type": "code",
   "execution_count": 30,
   "id": "3cfd67f6-7bd5-4fae-9bb0-8d6f5aa53cbd",
   "metadata": {},
   "outputs": [
    {
     "data": {
      "text/plain": [
       "63.951"
      ]
     },
     "execution_count": 30,
     "metadata": {},
     "output_type": "execute_result"
    }
   ],
   "source": [
    "g7_pop.iloc[1]"
   ]
  },
  {
   "cell_type": "code",
   "execution_count": 32,
   "id": "3af961da-75b7-420a-800f-d1250e018005",
   "metadata": {},
   "outputs": [
    {
     "data": {
      "text/plain": [
       "France     60.665\n",
       "Korea     127.061\n",
       "Name: G7 Population in millions, dtype: float64"
      ]
     },
     "execution_count": 32,
     "metadata": {},
     "output_type": "execute_result"
    }
   ],
   "source": [
    "g7_pop[['France','Korea']] # we can get multi values by using multi indices"
   ]
  },
  {
   "cell_type": "markdown",
   "id": "883e6875-3af4-4c50-a04b-e83b958b5380",
   "metadata": {},
   "source": [
    "### _The result is selecting multiple values using multiple indices_"
   ]
  },
  {
   "cell_type": "code",
   "execution_count": 36,
   "id": "b6142c01-3899-4e9b-afbe-8d03fec00c65",
   "metadata": {},
   "outputs": [
    {
     "data": {
      "text/plain": [
       "Canada    35.467\n",
       "France    60.665\n",
       "Name: G7 Population in millions, dtype: float64"
      ]
     },
     "execution_count": 36,
     "metadata": {},
     "output_type": "execute_result"
    }
   ],
   "source": [
    "g7_pop[[0,3]]"
   ]
  },
  {
   "cell_type": "markdown",
   "id": "e3d87f97-ccd9-49f5-bcf9-0d0a0ef2a86d",
   "metadata": {},
   "source": [
    "### In Pandas for slicing the UPPER limit is also included"
   ]
  },
  {
   "cell_type": "code",
   "execution_count": 35,
   "id": "59fc2db8-7b29-4d76-8a1a-3d8070733fcc",
   "metadata": {},
   "outputs": [
    {
     "data": {
      "text/plain": [
       "Canada           35.467\n",
       "United States    63.951\n",
       "India            80.940\n",
       "France           60.665\n",
       "Name: G7 Population in millions, dtype: float64"
      ]
     },
     "execution_count": 35,
     "metadata": {},
     "output_type": "execute_result"
    }
   ],
   "source": [
    "g7_pop['Canada': 'France']"
   ]
  },
  {
   "cell_type": "markdown",
   "id": "31ca6e3f-2361-4ef0-b2d4-8baeb25f9af5",
   "metadata": {},
   "source": [
    "## <font color='Maroon'> Conditional Selection (Boolean Series) </font>\n",
    "\n"
   ]
  },
  {
   "cell_type": "code",
   "execution_count": 37,
   "id": "c2d8772a-a685-46be-9879-4c9b8cfec5c2",
   "metadata": {},
   "outputs": [
    {
     "data": {
      "text/plain": [
       "Canada            35.467\n",
       "United States     63.951\n",
       "India             80.940\n",
       "France            60.665\n",
       "Korea            127.061\n",
       "Germany           64.511\n",
       "Italy            318.523\n",
       "Name: G7 Population in millions, dtype: float64"
      ]
     },
     "execution_count": 37,
     "metadata": {},
     "output_type": "execute_result"
    }
   ],
   "source": [
    "g7_pop"
   ]
  },
  {
   "cell_type": "code",
   "execution_count": 41,
   "id": "283898ab-1873-4218-ae89-91e26bf549e7",
   "metadata": {},
   "outputs": [
    {
     "data": {
      "text/plain": [
       "Canada           False\n",
       "United States    False\n",
       "India             True\n",
       "France           False\n",
       "Korea             True\n",
       "Germany          False\n",
       "Italy             True\n",
       "Name: G7 Population in millions, dtype: bool"
      ]
     },
     "execution_count": 41,
     "metadata": {},
     "output_type": "execute_result"
    }
   ],
   "source": [
    "g7_pop > 80"
   ]
  },
  {
   "cell_type": "code",
   "execution_count": 43,
   "id": "01be9a0e-1dc0-4388-a820-5adcbf6b05f4",
   "metadata": {},
   "outputs": [
    {
     "data": {
      "text/plain": [
       "India     80.940\n",
       "Korea    127.061\n",
       "Italy    318.523\n",
       "Name: G7 Population in millions, dtype: float64"
      ]
     },
     "execution_count": 43,
     "metadata": {},
     "output_type": "execute_result"
    }
   ],
   "source": [
    "g7_pop[g7_pop > 80] # here inner series gives the indices for outer series result"
   ]
  },
  {
   "cell_type": "code",
   "execution_count": 44,
   "id": "f2a075b1-1e02-4189-a854-56f062abb685",
   "metadata": {},
   "outputs": [
    {
     "data": {
      "text/plain": [
       "107.30257142857144"
      ]
     },
     "execution_count": 44,
     "metadata": {},
     "output_type": "execute_result"
    }
   ],
   "source": [
    "g7_pop.mean()"
   ]
  },
  {
   "cell_type": "code",
   "execution_count": 47,
   "id": "085483f5-a9b3-49a9-87e1-8a70afb7c70e",
   "metadata": {},
   "outputs": [
    {
     "data": {
      "text/plain": [
       "318.523"
      ]
     },
     "execution_count": 47,
     "metadata": {},
     "output_type": "execute_result"
    }
   ],
   "source": [
    "g7_pop.max()"
   ]
  },
  {
   "cell_type": "code",
   "execution_count": 48,
   "id": "570b013e-2994-4331-ab25-dc029bb26a54",
   "metadata": {},
   "outputs": [
    {
     "data": {
      "text/plain": [
       "35.467"
      ]
     },
     "execution_count": 48,
     "metadata": {},
     "output_type": "execute_result"
    }
   ],
   "source": [
    "g7_pop.min()"
   ]
  },
  {
   "cell_type": "code",
   "execution_count": 49,
   "id": "c8ca9a7a-1902-4e07-80e7-680fe1de817d",
   "metadata": {},
   "outputs": [
    {
     "data": {
      "text/plain": [
       "97.24996987121581"
      ]
     },
     "execution_count": 49,
     "metadata": {},
     "output_type": "execute_result"
    }
   ],
   "source": [
    "g7_pop.std()"
   ]
  },
  {
   "cell_type": "code",
   "execution_count": 50,
   "id": "2997f237-fcf8-489c-bd53-fb9d565357af",
   "metadata": {},
   "outputs": [
    {
     "data": {
      "text/plain": [
       "Korea    127.061\n",
       "Italy    318.523\n",
       "Name: G7 Population in millions, dtype: float64"
      ]
     },
     "execution_count": 50,
     "metadata": {},
     "output_type": "execute_result"
    }
   ],
   "source": [
    "g7_pop[g7_pop > g7_pop.mean()]"
   ]
  },
  {
   "cell_type": "markdown",
   "id": "82d0f80c-415b-4f84-bacf-44bb77328cf5",
   "metadata": {},
   "source": [
    "![green-divider](https://user-images.githubusercontent.com/7065401/52071924-c003ad80-2562-11e9-8297-1c6595f8a7ff.png)"
   ]
  },
  {
   "cell_type": "markdown",
   "id": "7d0cd581-ccc3-4c2b-b611-2a4d62082331",
   "metadata": {},
   "source": [
    "### Operations and methods"
   ]
  },
  {
   "cell_type": "code",
   "execution_count": 54,
   "id": "320e237d-b45b-4d2e-868a-cd40c9776fa8",
   "metadata": {},
   "outputs": [
    {
     "data": {
      "text/plain": [
       "Canada            3546700.0\n",
       "United States     6395100.0\n",
       "India             8094000.0\n",
       "France            6066500.0\n",
       "Korea            12706100.0\n",
       "Germany           6451100.0\n",
       "Italy            31852300.0\n",
       "Name: G7 Population in millions, dtype: float64"
      ]
     },
     "execution_count": 54,
     "metadata": {},
     "output_type": "execute_result"
    }
   ],
   "source": [
    "g7_pop * 100000"
   ]
  },
  {
   "cell_type": "code",
   "execution_count": 55,
   "id": "aa374b98-0888-432d-9ea6-ce24c0771059",
   "metadata": {},
   "outputs": [
    {
     "data": {
      "text/plain": [
       "107.30257142857144"
      ]
     },
     "execution_count": 55,
     "metadata": {},
     "output_type": "execute_result"
    }
   ],
   "source": [
    "g7_pop.mean()"
   ]
  },
  {
   "cell_type": "code",
   "execution_count": 62,
   "id": "95a12a31-5fe0-4f2e-a118-490761dc8da9",
   "metadata": {},
   "outputs": [
    {
     "data": {
      "text/plain": [
       "Canada           35.467\n",
       "United States    63.951\n",
       "France           60.665\n",
       "Germany          64.511\n",
       "Name: G7 Population in millions, dtype: float64"
      ]
     },
     "execution_count": 62,
     "metadata": {},
     "output_type": "execute_result"
    }
   ],
   "source": [
    "g7_pop[~(g7_pop > 80)]"
   ]
  },
  {
   "cell_type": "code",
   "execution_count": 65,
   "id": "7ac42942-715b-489c-baf9-00e273371038",
   "metadata": {},
   "outputs": [
    {
     "data": {
      "text/plain": [
       "Canada           1.549824\n",
       "United States    1.805847\n",
       "India            1.908163\n",
       "France           1.782938\n",
       "Korea            2.104012\n",
       "Germany          1.809634\n",
       "Italy            2.503141\n",
       "Name: G7 Population in millions, dtype: float64"
      ]
     },
     "execution_count": 65,
     "metadata": {},
     "output_type": "execute_result"
    }
   ],
   "source": [
    "np.log10(g7_pop)"
   ]
  },
  {
   "cell_type": "code",
   "execution_count": 66,
   "id": "8dba19bd-3bc9-416c-8301-2c857b4aed55",
   "metadata": {},
   "outputs": [
    {
     "data": {
      "text/plain": [
       "Canada            35.467\n",
       "United States     63.951\n",
       "India             80.940\n",
       "France            60.665\n",
       "Korea            127.061\n",
       "Germany           64.511\n",
       "Italy            318.523\n",
       "Name: G7 Population in millions, dtype: float64"
      ]
     },
     "execution_count": 66,
     "metadata": {},
     "output_type": "execute_result"
    }
   ],
   "source": [
    "g7_pop"
   ]
  },
  {
   "cell_type": "code",
   "execution_count": 72,
   "id": "2c83116b-dcb4-485c-aca9-870ae43ef991",
   "metadata": {},
   "outputs": [
    {
     "data": {
      "text/plain": [
       "60.11933333333334"
      ]
     },
     "execution_count": 72,
     "metadata": {},
     "output_type": "execute_result"
    }
   ],
   "source": [
    "g7_pop['Canada':'India'].mean()"
   ]
  },
  {
   "cell_type": "code",
   "execution_count": 73,
   "id": "78b163b8-3e16-4a3b-91c4-33d25e854e3d",
   "metadata": {},
   "outputs": [
    {
     "data": {
      "text/plain": [
       "Canada            35.467\n",
       "United States     63.951\n",
       "India             80.940\n",
       "France            60.665\n",
       "Korea            127.061\n",
       "Germany           64.511\n",
       "Italy            318.523\n",
       "Name: G7 Population in millions, dtype: float64"
      ]
     },
     "execution_count": 73,
     "metadata": {},
     "output_type": "execute_result"
    }
   ],
   "source": [
    "g7_pop"
   ]
  },
  {
   "cell_type": "code",
   "execution_count": 75,
   "id": "3bb351b5-8f86-4ed4-807c-a8b927b379a3",
   "metadata": {},
   "outputs": [
    {
     "data": {
      "text/plain": [
       "United States    63.951\n",
       "India            80.940\n",
       "France           60.665\n",
       "Germany          64.511\n",
       "Name: G7 Population in millions, dtype: float64"
      ]
     },
     "execution_count": 75,
     "metadata": {},
     "output_type": "execute_result"
    }
   ],
   "source": [
    "g7_pop[(g7_pop > 60) & (g7_pop < 100)]"
   ]
  },
  {
   "cell_type": "code",
   "execution_count": 80,
   "id": "b1263eb9-8489-4023-804a-cb75360148ad",
   "metadata": {},
   "outputs": [
    {
     "data": {
      "text/plain": [
       "Canada     35.467\n",
       "India      80.940\n",
       "Korea     127.061\n",
       "Italy     318.523\n",
       "Name: G7 Population in millions, dtype: float64"
      ]
     },
     "execution_count": 80,
     "metadata": {},
     "output_type": "execute_result"
    }
   ],
   "source": [
    "g7_pop[(g7_pop > 80) | (g7_pop < 40)] # | is OR operator"
   ]
  },
  {
   "cell_type": "code",
   "execution_count": 81,
   "id": "c0edc0f6-4700-4f46-9417-43ed135eba07",
   "metadata": {},
   "outputs": [
    {
     "data": {
      "text/plain": [
       "Canada            35.467\n",
       "United States     63.951\n",
       "India             80.940\n",
       "France            60.665\n",
       "Korea            127.061\n",
       "Germany           64.511\n",
       "Italy            318.523\n",
       "Name: G7 Population in millions, dtype: float64"
      ]
     },
     "execution_count": 81,
     "metadata": {},
     "output_type": "execute_result"
    }
   ],
   "source": [
    "g7_pop"
   ]
  },
  {
   "cell_type": "code",
   "execution_count": 84,
   "id": "cee6fb14-c447-4780-9b83-4ae360c0171d",
   "metadata": {},
   "outputs": [],
   "source": [
    "g7_pop['Canada'] = 23.5 # assigning the value to series element"
   ]
  },
  {
   "cell_type": "code",
   "execution_count": 85,
   "id": "2dc104ac-2a33-4804-84f0-a545191a4767",
   "metadata": {},
   "outputs": [
    {
     "data": {
      "text/plain": [
       "Canada            23.500\n",
       "United States     63.951\n",
       "India             80.940\n",
       "France            60.665\n",
       "Korea            127.061\n",
       "Germany           64.511\n",
       "Italy            318.523\n",
       "Name: G7 Population in millions, dtype: float64"
      ]
     },
     "execution_count": 85,
     "metadata": {},
     "output_type": "execute_result"
    }
   ],
   "source": [
    "g7_pop"
   ]
  },
  {
   "cell_type": "code",
   "execution_count": 89,
   "id": "8feadee7-917e-4ad5-bd55-3fd2a14be967",
   "metadata": {},
   "outputs": [
    {
     "data": {
      "text/plain": [
       "63.951"
      ]
     },
     "execution_count": 89,
     "metadata": {},
     "output_type": "execute_result"
    }
   ],
   "source": [
    "g7_pop.iloc[1]"
   ]
  },
  {
   "cell_type": "code",
   "execution_count": 90,
   "id": "aa49c23b-3001-4226-8745-97746110749f",
   "metadata": {},
   "outputs": [
    {
     "data": {
      "text/plain": [
       "23.5"
      ]
     },
     "execution_count": 90,
     "metadata": {},
     "output_type": "execute_result"
    }
   ],
   "source": [
    "g7_pop.iloc[0]"
   ]
  },
  {
   "cell_type": "code",
   "execution_count": 91,
   "id": "bc310a59-a7be-4a80-8734-cfc34330610e",
   "metadata": {},
   "outputs": [],
   "source": [
    "g7_pop.iloc[-1] = 200.445"
   ]
  },
  {
   "cell_type": "code",
   "execution_count": 92,
   "id": "f12cadca-723c-4571-aea5-1233719af9c0",
   "metadata": {},
   "outputs": [
    {
     "data": {
      "text/plain": [
       "Canada            23.500\n",
       "United States     63.951\n",
       "India             80.940\n",
       "France            60.665\n",
       "Korea            127.061\n",
       "Germany           64.511\n",
       "Italy            200.445\n",
       "Name: G7 Population in millions, dtype: float64"
      ]
     },
     "execution_count": 92,
     "metadata": {},
     "output_type": "execute_result"
    }
   ],
   "source": [
    "g7_pop"
   ]
  },
  {
   "cell_type": "code",
   "execution_count": 93,
   "id": "51e1fde3-57d3-4406-a8f1-e8d381716ee0",
   "metadata": {},
   "outputs": [],
   "source": [
    "g7_pop[g7_pop >100] = 99.99"
   ]
  },
  {
   "cell_type": "code",
   "execution_count": 94,
   "id": "13cc3c54-85be-4605-a69b-ff97f235b73e",
   "metadata": {},
   "outputs": [
    {
     "data": {
      "text/plain": [
       "Canada           23.500\n",
       "United States    63.951\n",
       "India            80.940\n",
       "France           60.665\n",
       "Korea            99.990\n",
       "Germany          64.511\n",
       "Italy            99.990\n",
       "Name: G7 Population in millions, dtype: float64"
      ]
     },
     "execution_count": 94,
     "metadata": {},
     "output_type": "execute_result"
    }
   ],
   "source": [
    "g7_pop"
   ]
  },
  {
   "cell_type": "code",
   "execution_count": 95,
   "id": "85e81add-602b-4bf2-842b-fb2dbd75ae72",
   "metadata": {},
   "outputs": [],
   "source": [
    "g7_pop['Korea'] = 223.445"
   ]
  },
  {
   "cell_type": "code",
   "execution_count": 98,
   "id": "aa11da6c-5f1b-44c4-90c3-36ad1ff723ca",
   "metadata": {},
   "outputs": [
    {
     "name": "stdout",
     "output_type": "stream",
     "text": [
      "Wall time: 1.01 ms\n"
     ]
    },
    {
     "data": {
      "text/plain": [
       "Canada            23.500\n",
       "United States     63.951\n",
       "India             80.940\n",
       "France            60.665\n",
       "Korea            223.445\n",
       "Germany           64.511\n",
       "Italy             99.990\n",
       "Name: G7 Population in millions, dtype: float64"
      ]
     },
     "execution_count": 98,
     "metadata": {},
     "output_type": "execute_result"
    }
   ],
   "source": [
    "%time g7_pop"
   ]
  },
  {
   "cell_type": "markdown",
   "id": "eaeb5f9f-6d44-411b-82e0-5567017a5dd0",
   "metadata": {},
   "source": [
    "## <font color = 'red'>Dataframes in Pandas </font>\n",
    "\n",
    "> ### _DF are more like a table_"
   ]
  },
  {
   "cell_type": "code",
   "execution_count": 108,
   "id": "248f7c72-2a7d-4b3e-bcca-c6097191f9ab",
   "metadata": {},
   "outputs": [],
   "source": [
    "df = pd.DataFrame({\n",
    "    'Population' : [23.445, 44.445, 33.656, 66.565, 67.445],\n",
    "    'GDP' : [\n",
    "        123456,\n",
    "         233443,\n",
    "         234234,\n",
    "         324324,\n",
    "         766767           \n",
    "    ],\n",
    "    'Surface Area' : [\n",
    "        342343,\n",
    "        23423424,\n",
    "        657567,\n",
    "        565464,\n",
    "        879878        \n",
    "    ],\n",
    "    'HDI' : [\n",
    "        0.556,\n",
    "        0.784,\n",
    "        0.556,\n",
    "        0.895,\n",
    "        0.578        \n",
    "    ],\n",
    "    'Continent' : [\n",
    "        'America',\n",
    "        'Europe',\n",
    "        'Europe',\n",
    "        'Europe',\n",
    "        'Asia'        \n",
    "    ]\n",
    "    \n",
    "}, columns=['Population','GDP','Surface Area','HDI','Continent'])"
   ]
  },
  {
   "cell_type": "markdown",
   "id": "afc6b97d-560c-4be7-aee3-1c8ac9d6e049",
   "metadata": {},
   "source": [
    "#### _Columns are kept to keep the column orders in same sequence._"
   ]
  },
  {
   "cell_type": "code",
   "execution_count": 109,
   "id": "fc18ec21-4f19-43d1-842e-2fd3d00b2c0a",
   "metadata": {},
   "outputs": [
    {
     "data": {
      "text/html": [
       "<div>\n",
       "<style scoped>\n",
       "    .dataframe tbody tr th:only-of-type {\n",
       "        vertical-align: middle;\n",
       "    }\n",
       "\n",
       "    .dataframe tbody tr th {\n",
       "        vertical-align: top;\n",
       "    }\n",
       "\n",
       "    .dataframe thead th {\n",
       "        text-align: right;\n",
       "    }\n",
       "</style>\n",
       "<table border=\"1\" class=\"dataframe\">\n",
       "  <thead>\n",
       "    <tr style=\"text-align: right;\">\n",
       "      <th></th>\n",
       "      <th>Population</th>\n",
       "      <th>GDP</th>\n",
       "      <th>Surface Area</th>\n",
       "      <th>HDI</th>\n",
       "      <th>Continent</th>\n",
       "    </tr>\n",
       "  </thead>\n",
       "  <tbody>\n",
       "    <tr>\n",
       "      <th>0</th>\n",
       "      <td>23.445</td>\n",
       "      <td>123456</td>\n",
       "      <td>342343</td>\n",
       "      <td>0.556</td>\n",
       "      <td>America</td>\n",
       "    </tr>\n",
       "    <tr>\n",
       "      <th>1</th>\n",
       "      <td>44.445</td>\n",
       "      <td>233443</td>\n",
       "      <td>23423424</td>\n",
       "      <td>0.784</td>\n",
       "      <td>Europe</td>\n",
       "    </tr>\n",
       "    <tr>\n",
       "      <th>2</th>\n",
       "      <td>33.656</td>\n",
       "      <td>234234</td>\n",
       "      <td>657567</td>\n",
       "      <td>0.556</td>\n",
       "      <td>Europe</td>\n",
       "    </tr>\n",
       "    <tr>\n",
       "      <th>3</th>\n",
       "      <td>66.565</td>\n",
       "      <td>324324</td>\n",
       "      <td>565464</td>\n",
       "      <td>0.895</td>\n",
       "      <td>Europe</td>\n",
       "    </tr>\n",
       "    <tr>\n",
       "      <th>4</th>\n",
       "      <td>67.445</td>\n",
       "      <td>766767</td>\n",
       "      <td>879878</td>\n",
       "      <td>0.578</td>\n",
       "      <td>Asia</td>\n",
       "    </tr>\n",
       "  </tbody>\n",
       "</table>\n",
       "</div>"
      ],
      "text/plain": [
       "   Population     GDP  Surface Area    HDI Continent\n",
       "0      23.445  123456        342343  0.556   America\n",
       "1      44.445  233443      23423424  0.784    Europe\n",
       "2      33.656  234234        657567  0.556    Europe\n",
       "3      66.565  324324        565464  0.895    Europe\n",
       "4      67.445  766767        879878  0.578      Asia"
      ]
     },
     "execution_count": 109,
     "metadata": {},
     "output_type": "execute_result"
    }
   ],
   "source": [
    "df"
   ]
  },
  {
   "cell_type": "code",
   "execution_count": 110,
   "id": "de054489-3b39-4483-8da5-790aa9e62a65",
   "metadata": {},
   "outputs": [],
   "source": [
    "df.index = [\n",
    "    'Canada',\n",
    "    'France',\n",
    "    'Germany',\n",
    "    'Italy',\n",
    "    'China'\n",
    "]"
   ]
  },
  {
   "cell_type": "code",
   "execution_count": 111,
   "id": "50ef8ef1-76cd-4079-8d91-2b8264bf8463",
   "metadata": {},
   "outputs": [
    {
     "data": {
      "text/html": [
       "<div>\n",
       "<style scoped>\n",
       "    .dataframe tbody tr th:only-of-type {\n",
       "        vertical-align: middle;\n",
       "    }\n",
       "\n",
       "    .dataframe tbody tr th {\n",
       "        vertical-align: top;\n",
       "    }\n",
       "\n",
       "    .dataframe thead th {\n",
       "        text-align: right;\n",
       "    }\n",
       "</style>\n",
       "<table border=\"1\" class=\"dataframe\">\n",
       "  <thead>\n",
       "    <tr style=\"text-align: right;\">\n",
       "      <th></th>\n",
       "      <th>Population</th>\n",
       "      <th>GDP</th>\n",
       "      <th>Surface Area</th>\n",
       "      <th>HDI</th>\n",
       "      <th>Continent</th>\n",
       "    </tr>\n",
       "  </thead>\n",
       "  <tbody>\n",
       "    <tr>\n",
       "      <th>Canada</th>\n",
       "      <td>23.445</td>\n",
       "      <td>123456</td>\n",
       "      <td>342343</td>\n",
       "      <td>0.556</td>\n",
       "      <td>America</td>\n",
       "    </tr>\n",
       "    <tr>\n",
       "      <th>France</th>\n",
       "      <td>44.445</td>\n",
       "      <td>233443</td>\n",
       "      <td>23423424</td>\n",
       "      <td>0.784</td>\n",
       "      <td>Europe</td>\n",
       "    </tr>\n",
       "    <tr>\n",
       "      <th>Germany</th>\n",
       "      <td>33.656</td>\n",
       "      <td>234234</td>\n",
       "      <td>657567</td>\n",
       "      <td>0.556</td>\n",
       "      <td>Europe</td>\n",
       "    </tr>\n",
       "    <tr>\n",
       "      <th>Italy</th>\n",
       "      <td>66.565</td>\n",
       "      <td>324324</td>\n",
       "      <td>565464</td>\n",
       "      <td>0.895</td>\n",
       "      <td>Europe</td>\n",
       "    </tr>\n",
       "    <tr>\n",
       "      <th>China</th>\n",
       "      <td>67.445</td>\n",
       "      <td>766767</td>\n",
       "      <td>879878</td>\n",
       "      <td>0.578</td>\n",
       "      <td>Asia</td>\n",
       "    </tr>\n",
       "  </tbody>\n",
       "</table>\n",
       "</div>"
      ],
      "text/plain": [
       "         Population     GDP  Surface Area    HDI Continent\n",
       "Canada       23.445  123456        342343  0.556   America\n",
       "France       44.445  233443      23423424  0.784    Europe\n",
       "Germany      33.656  234234        657567  0.556    Europe\n",
       "Italy        66.565  324324        565464  0.895    Europe\n",
       "China        67.445  766767        879878  0.578      Asia"
      ]
     },
     "execution_count": 111,
     "metadata": {},
     "output_type": "execute_result"
    }
   ],
   "source": [
    "df"
   ]
  },
  {
   "cell_type": "code",
   "execution_count": 112,
   "id": "62f3525c-91ec-4f75-bd5d-8d01e6f59d95",
   "metadata": {},
   "outputs": [
    {
     "data": {
      "text/plain": [
       "Index(['Population', 'GDP', 'Surface Area', 'HDI', 'Continent'], dtype='object')"
      ]
     },
     "execution_count": 112,
     "metadata": {},
     "output_type": "execute_result"
    }
   ],
   "source": [
    "df.columns"
   ]
  },
  {
   "cell_type": "code",
   "execution_count": 114,
   "id": "866c2d43-f802-4edd-a5ef-f7dbeaad78f3",
   "metadata": {},
   "outputs": [
    {
     "data": {
      "text/plain": [
       "Index(['Canada', 'France', 'Germany', 'Italy', 'China'], dtype='object')"
      ]
     },
     "execution_count": 114,
     "metadata": {},
     "output_type": "execute_result"
    }
   ],
   "source": [
    " df.index"
   ]
  },
  {
   "cell_type": "code",
   "execution_count": 116,
   "id": "701d8c91-f191-45a8-b657-64b47f05c3da",
   "metadata": {},
   "outputs": [
    {
     "name": "stdout",
     "output_type": "stream",
     "text": [
      "<class 'pandas.core.frame.DataFrame'>\n",
      "Index: 5 entries, Canada to China\n",
      "Data columns (total 5 columns):\n",
      " #   Column        Non-Null Count  Dtype  \n",
      "---  ------        --------------  -----  \n",
      " 0   Population    5 non-null      float64\n",
      " 1   GDP           5 non-null      int64  \n",
      " 2   Surface Area  5 non-null      int64  \n",
      " 3   HDI           5 non-null      float64\n",
      " 4   Continent     5 non-null      object \n",
      "dtypes: float64(2), int64(2), object(1)\n",
      "memory usage: 240.0+ bytes\n"
     ]
    }
   ],
   "source": [
    "df.info()"
   ]
  },
  {
   "cell_type": "code",
   "execution_count": 117,
   "id": "f24f237e-f466-4e0c-a353-db917cfee2f8",
   "metadata": {},
   "outputs": [
    {
     "data": {
      "text/plain": [
       "(5, 5)"
      ]
     },
     "execution_count": 117,
     "metadata": {},
     "output_type": "execute_result"
    }
   ],
   "source": [
    " df.shape"
   ]
  },
  {
   "cell_type": "code",
   "execution_count": 120,
   "id": "1592a19a-d20f-47d1-aa1c-6dc0a9e39925",
   "metadata": {},
   "outputs": [
    {
     "data": {
      "text/html": [
       "<div>\n",
       "<style scoped>\n",
       "    .dataframe tbody tr th:only-of-type {\n",
       "        vertical-align: middle;\n",
       "    }\n",
       "\n",
       "    .dataframe tbody tr th {\n",
       "        vertical-align: top;\n",
       "    }\n",
       "\n",
       "    .dataframe thead th {\n",
       "        text-align: right;\n",
       "    }\n",
       "</style>\n",
       "<table border=\"1\" class=\"dataframe\">\n",
       "  <thead>\n",
       "    <tr style=\"text-align: right;\">\n",
       "      <th></th>\n",
       "      <th>Population</th>\n",
       "      <th>GDP</th>\n",
       "      <th>Surface Area</th>\n",
       "      <th>HDI</th>\n",
       "      <th>Continent</th>\n",
       "    </tr>\n",
       "  </thead>\n",
       "  <tbody>\n",
       "    <tr>\n",
       "      <th>Canada</th>\n",
       "      <td>23.445</td>\n",
       "      <td>123456</td>\n",
       "      <td>342343</td>\n",
       "      <td>0.556</td>\n",
       "      <td>America</td>\n",
       "    </tr>\n",
       "    <tr>\n",
       "      <th>France</th>\n",
       "      <td>44.445</td>\n",
       "      <td>233443</td>\n",
       "      <td>23423424</td>\n",
       "      <td>0.784</td>\n",
       "      <td>Europe</td>\n",
       "    </tr>\n",
       "    <tr>\n",
       "      <th>Germany</th>\n",
       "      <td>33.656</td>\n",
       "      <td>234234</td>\n",
       "      <td>657567</td>\n",
       "      <td>0.556</td>\n",
       "      <td>Europe</td>\n",
       "    </tr>\n",
       "    <tr>\n",
       "      <th>Italy</th>\n",
       "      <td>66.565</td>\n",
       "      <td>324324</td>\n",
       "      <td>565464</td>\n",
       "      <td>0.895</td>\n",
       "      <td>Europe</td>\n",
       "    </tr>\n",
       "    <tr>\n",
       "      <th>China</th>\n",
       "      <td>67.445</td>\n",
       "      <td>766767</td>\n",
       "      <td>879878</td>\n",
       "      <td>0.578</td>\n",
       "      <td>Asia</td>\n",
       "    </tr>\n",
       "  </tbody>\n",
       "</table>\n",
       "</div>"
      ],
      "text/plain": [
       "         Population     GDP  Surface Area    HDI Continent\n",
       "Canada       23.445  123456        342343  0.556   America\n",
       "France       44.445  233443      23423424  0.784    Europe\n",
       "Germany      33.656  234234        657567  0.556    Europe\n",
       "Italy        66.565  324324        565464  0.895    Europe\n",
       "China        67.445  766767        879878  0.578      Asia"
      ]
     },
     "execution_count": 120,
     "metadata": {},
     "output_type": "execute_result"
    }
   ],
   "source": [
    "df"
   ]
  },
  {
   "cell_type": "code",
   "execution_count": 119,
   "id": "4c52fcd2-c368-445f-a1b1-2b4f69adf5ad",
   "metadata": {},
   "outputs": [
    {
     "data": {
      "text/html": [
       "<div>\n",
       "<style scoped>\n",
       "    .dataframe tbody tr th:only-of-type {\n",
       "        vertical-align: middle;\n",
       "    }\n",
       "\n",
       "    .dataframe tbody tr th {\n",
       "        vertical-align: top;\n",
       "    }\n",
       "\n",
       "    .dataframe thead th {\n",
       "        text-align: right;\n",
       "    }\n",
       "</style>\n",
       "<table border=\"1\" class=\"dataframe\">\n",
       "  <thead>\n",
       "    <tr style=\"text-align: right;\">\n",
       "      <th></th>\n",
       "      <th>Population</th>\n",
       "      <th>GDP</th>\n",
       "      <th>Surface Area</th>\n",
       "      <th>HDI</th>\n",
       "    </tr>\n",
       "  </thead>\n",
       "  <tbody>\n",
       "    <tr>\n",
       "      <th>count</th>\n",
       "      <td>5.000000</td>\n",
       "      <td>5.000000</td>\n",
       "      <td>5.000000e+00</td>\n",
       "      <td>5.000000</td>\n",
       "    </tr>\n",
       "    <tr>\n",
       "      <th>mean</th>\n",
       "      <td>47.111200</td>\n",
       "      <td>336444.800000</td>\n",
       "      <td>5.173735e+06</td>\n",
       "      <td>0.673800</td>\n",
       "    </tr>\n",
       "    <tr>\n",
       "      <th>std</th>\n",
       "      <td>19.622397</td>\n",
       "      <td>250870.861685</td>\n",
       "      <td>1.020371e+07</td>\n",
       "      <td>0.156529</td>\n",
       "    </tr>\n",
       "    <tr>\n",
       "      <th>min</th>\n",
       "      <td>23.445000</td>\n",
       "      <td>123456.000000</td>\n",
       "      <td>3.423430e+05</td>\n",
       "      <td>0.556000</td>\n",
       "    </tr>\n",
       "    <tr>\n",
       "      <th>25%</th>\n",
       "      <td>33.656000</td>\n",
       "      <td>233443.000000</td>\n",
       "      <td>5.654640e+05</td>\n",
       "      <td>0.556000</td>\n",
       "    </tr>\n",
       "    <tr>\n",
       "      <th>50%</th>\n",
       "      <td>44.445000</td>\n",
       "      <td>234234.000000</td>\n",
       "      <td>6.575670e+05</td>\n",
       "      <td>0.578000</td>\n",
       "    </tr>\n",
       "    <tr>\n",
       "      <th>75%</th>\n",
       "      <td>66.565000</td>\n",
       "      <td>324324.000000</td>\n",
       "      <td>8.798780e+05</td>\n",
       "      <td>0.784000</td>\n",
       "    </tr>\n",
       "    <tr>\n",
       "      <th>max</th>\n",
       "      <td>67.445000</td>\n",
       "      <td>766767.000000</td>\n",
       "      <td>2.342342e+07</td>\n",
       "      <td>0.895000</td>\n",
       "    </tr>\n",
       "  </tbody>\n",
       "</table>\n",
       "</div>"
      ],
      "text/plain": [
       "       Population            GDP  Surface Area       HDI\n",
       "count    5.000000       5.000000  5.000000e+00  5.000000\n",
       "mean    47.111200  336444.800000  5.173735e+06  0.673800\n",
       "std     19.622397  250870.861685  1.020371e+07  0.156529\n",
       "min     23.445000  123456.000000  3.423430e+05  0.556000\n",
       "25%     33.656000  233443.000000  5.654640e+05  0.556000\n",
       "50%     44.445000  234234.000000  6.575670e+05  0.578000\n",
       "75%     66.565000  324324.000000  8.798780e+05  0.784000\n",
       "max     67.445000  766767.000000  2.342342e+07  0.895000"
      ]
     },
     "execution_count": 119,
     "metadata": {},
     "output_type": "execute_result"
    }
   ],
   "source": [
    "df.describe() # only visible for numeric columns/ statistic fields"
   ]
  },
  {
   "cell_type": "code",
   "execution_count": 125,
   "id": "88c22b87-efac-4f8c-9352-0d9f19321142",
   "metadata": {},
   "outputs": [
    {
     "data": {
      "text/plain": [
       "Population      float64\n",
       "GDP               int64\n",
       "Surface Area      int64\n",
       "HDI             float64\n",
       "Continent        object\n",
       "dtype: object"
      ]
     },
     "execution_count": 125,
     "metadata": {},
     "output_type": "execute_result"
    }
   ],
   "source": [
    "df.dtypes # data types of fields"
   ]
  },
  {
   "cell_type": "code",
   "execution_count": 128,
   "id": "e84aa6c9-0d79-49d2-a5ea-982025eda70f",
   "metadata": {},
   "outputs": [
    {
     "data": {
      "text/plain": [
       "25"
      ]
     },
     "execution_count": 128,
     "metadata": {},
     "output_type": "execute_result"
    }
   ],
   "source": [
    "df.size"
   ]
  },
  {
   "cell_type": "code",
   "execution_count": 130,
   "id": "4188d814-0580-4740-a7d9-3f6baae06650",
   "metadata": {},
   "outputs": [
    {
     "data": {
      "text/plain": [
       "int64      2\n",
       "float64    2\n",
       "object     1\n",
       "dtype: int64"
      ]
     },
     "execution_count": 130,
     "metadata": {},
     "output_type": "execute_result"
    }
   ],
   "source": [
    "df.dtypes.value_counts()"
   ]
  },
  {
   "cell_type": "markdown",
   "id": "dd712837-883d-4ea5-920d-4723b30d16c2",
   "metadata": {},
   "source": [
    "![green-divider](https://user-images.githubusercontent.com/7065401/52071924-c003ad80-2562-11e9-8297-1c6595f8a7ff.png)\n",
    "\n",
    "## Indexing, Slicing and Selection"
   ]
  },
  {
   "cell_type": "code",
   "execution_count": 131,
   "id": "69e37872-c819-4b64-a65b-517a19374dea",
   "metadata": {},
   "outputs": [
    {
     "data": {
      "text/html": [
       "<div>\n",
       "<style scoped>\n",
       "    .dataframe tbody tr th:only-of-type {\n",
       "        vertical-align: middle;\n",
       "    }\n",
       "\n",
       "    .dataframe tbody tr th {\n",
       "        vertical-align: top;\n",
       "    }\n",
       "\n",
       "    .dataframe thead th {\n",
       "        text-align: right;\n",
       "    }\n",
       "</style>\n",
       "<table border=\"1\" class=\"dataframe\">\n",
       "  <thead>\n",
       "    <tr style=\"text-align: right;\">\n",
       "      <th></th>\n",
       "      <th>Population</th>\n",
       "      <th>GDP</th>\n",
       "      <th>Surface Area</th>\n",
       "      <th>HDI</th>\n",
       "      <th>Continent</th>\n",
       "    </tr>\n",
       "  </thead>\n",
       "  <tbody>\n",
       "    <tr>\n",
       "      <th>Canada</th>\n",
       "      <td>23.445</td>\n",
       "      <td>123456</td>\n",
       "      <td>342343</td>\n",
       "      <td>0.556</td>\n",
       "      <td>America</td>\n",
       "    </tr>\n",
       "    <tr>\n",
       "      <th>France</th>\n",
       "      <td>44.445</td>\n",
       "      <td>233443</td>\n",
       "      <td>23423424</td>\n",
       "      <td>0.784</td>\n",
       "      <td>Europe</td>\n",
       "    </tr>\n",
       "    <tr>\n",
       "      <th>Germany</th>\n",
       "      <td>33.656</td>\n",
       "      <td>234234</td>\n",
       "      <td>657567</td>\n",
       "      <td>0.556</td>\n",
       "      <td>Europe</td>\n",
       "    </tr>\n",
       "    <tr>\n",
       "      <th>Italy</th>\n",
       "      <td>66.565</td>\n",
       "      <td>324324</td>\n",
       "      <td>565464</td>\n",
       "      <td>0.895</td>\n",
       "      <td>Europe</td>\n",
       "    </tr>\n",
       "    <tr>\n",
       "      <th>China</th>\n",
       "      <td>67.445</td>\n",
       "      <td>766767</td>\n",
       "      <td>879878</td>\n",
       "      <td>0.578</td>\n",
       "      <td>Asia</td>\n",
       "    </tr>\n",
       "  </tbody>\n",
       "</table>\n",
       "</div>"
      ],
      "text/plain": [
       "         Population     GDP  Surface Area    HDI Continent\n",
       "Canada       23.445  123456        342343  0.556   America\n",
       "France       44.445  233443      23423424  0.784    Europe\n",
       "Germany      33.656  234234        657567  0.556    Europe\n",
       "Italy        66.565  324324        565464  0.895    Europe\n",
       "China        67.445  766767        879878  0.578      Asia"
      ]
     },
     "execution_count": 131,
     "metadata": {},
     "output_type": "execute_result"
    }
   ],
   "source": [
    "df"
   ]
  },
  {
   "cell_type": "code",
   "execution_count": 149,
   "id": "142cb263-e8e0-4286-889c-d399c1582daf",
   "metadata": {},
   "outputs": [
    {
     "data": {
      "text/plain": [
       "Population       23.445\n",
       "GDP              123456\n",
       "Surface Area     342343\n",
       "HDI               0.556\n",
       "Continent       America\n",
       "Name: Canada, dtype: object"
      ]
     },
     "execution_count": 149,
     "metadata": {},
     "output_type": "execute_result"
    }
   ],
   "source": [
    "df.loc['Canada'] #loc does a transpose of the dataframe"
   ]
  },
  {
   "cell_type": "code",
   "execution_count": 144,
   "id": "33ec98c6-4375-4592-868b-1823899fd365",
   "metadata": {},
   "outputs": [
    {
     "data": {
      "text/plain": [
       "Population      66.565\n",
       "GDP             324324\n",
       "Surface Area    565464\n",
       "HDI              0.895\n",
       "Continent       Europe\n",
       "Name: Italy, dtype: object"
      ]
     },
     "execution_count": 144,
     "metadata": {},
     "output_type": "execute_result"
    }
   ],
   "source": [
    "df.loc['Italy'] #horizontal data filter"
   ]
  },
  {
   "cell_type": "code",
   "execution_count": 145,
   "id": "60264c2f-b61a-4c5f-a598-b802589cddd1",
   "metadata": {},
   "outputs": [
    {
     "data": {
      "text/plain": [
       "Population        44.445\n",
       "GDP               233443\n",
       "Surface Area    23423424\n",
       "HDI                0.784\n",
       "Continent         Europe\n",
       "Name: France, dtype: object"
      ]
     },
     "execution_count": 145,
     "metadata": {},
     "output_type": "execute_result"
    }
   ],
   "source": [
    "df.iloc[1] #iloc allows to feed the numerical index #horizontal data filter"
   ]
  },
  {
   "cell_type": "code",
   "execution_count": 146,
   "id": "4b51423e-7221-41c9-9087-6bbb75d08bac",
   "metadata": {},
   "outputs": [
    {
     "data": {
      "text/plain": [
       "Canada     23.445\n",
       "France     44.445\n",
       "Germany    33.656\n",
       "Italy      66.565\n",
       "China      67.445\n",
       "Name: Population, dtype: float64"
      ]
     },
     "execution_count": 146,
     "metadata": {},
     "output_type": "execute_result"
    }
   ],
   "source": [
    "df['Population'] # column level data for all the rows #vertical data filter"
   ]
  },
  {
   "cell_type": "code",
   "execution_count": 153,
   "id": "53b11b18-c0eb-4bbb-bfee-1d30eab8d9d4",
   "metadata": {},
   "outputs": [
    {
     "data": {
      "text/html": [
       "<div>\n",
       "<style scoped>\n",
       "    .dataframe tbody tr th:only-of-type {\n",
       "        vertical-align: middle;\n",
       "    }\n",
       "\n",
       "    .dataframe tbody tr th {\n",
       "        vertical-align: top;\n",
       "    }\n",
       "\n",
       "    .dataframe thead th {\n",
       "        text-align: right;\n",
       "    }\n",
       "</style>\n",
       "<table border=\"1\" class=\"dataframe\">\n",
       "  <thead>\n",
       "    <tr style=\"text-align: right;\">\n",
       "      <th></th>\n",
       "      <th>Population</th>\n",
       "      <th>GDP</th>\n",
       "      <th>Surface Area</th>\n",
       "      <th>HDI</th>\n",
       "      <th>Continent</th>\n",
       "    </tr>\n",
       "  </thead>\n",
       "  <tbody>\n",
       "    <tr>\n",
       "      <th>Canada</th>\n",
       "      <td>23.445</td>\n",
       "      <td>123456</td>\n",
       "      <td>342343</td>\n",
       "      <td>0.556</td>\n",
       "      <td>America</td>\n",
       "    </tr>\n",
       "    <tr>\n",
       "      <th>France</th>\n",
       "      <td>44.445</td>\n",
       "      <td>233443</td>\n",
       "      <td>23423424</td>\n",
       "      <td>0.784</td>\n",
       "      <td>Europe</td>\n",
       "    </tr>\n",
       "    <tr>\n",
       "      <th>Germany</th>\n",
       "      <td>33.656</td>\n",
       "      <td>234234</td>\n",
       "      <td>657567</td>\n",
       "      <td>0.556</td>\n",
       "      <td>Europe</td>\n",
       "    </tr>\n",
       "    <tr>\n",
       "      <th>Italy</th>\n",
       "      <td>66.565</td>\n",
       "      <td>324324</td>\n",
       "      <td>565464</td>\n",
       "      <td>0.895</td>\n",
       "      <td>Europe</td>\n",
       "    </tr>\n",
       "    <tr>\n",
       "      <th>China</th>\n",
       "      <td>67.445</td>\n",
       "      <td>766767</td>\n",
       "      <td>879878</td>\n",
       "      <td>0.578</td>\n",
       "      <td>Asia</td>\n",
       "    </tr>\n",
       "  </tbody>\n",
       "</table>\n",
       "</div>"
      ],
      "text/plain": [
       "         Population     GDP  Surface Area    HDI Continent\n",
       "Canada       23.445  123456        342343  0.556   America\n",
       "France       44.445  233443      23423424  0.784    Europe\n",
       "Germany      33.656  234234        657567  0.556    Europe\n",
       "Italy        66.565  324324        565464  0.895    Europe\n",
       "China        67.445  766767        879878  0.578      Asia"
      ]
     },
     "execution_count": 153,
     "metadata": {},
     "output_type": "execute_result"
    }
   ],
   "source": [
    "df"
   ]
  },
  {
   "cell_type": "code",
   "execution_count": 155,
   "id": "d7c3852d-de07-41de-be40-7927a9d0346d",
   "metadata": {},
   "outputs": [
    {
     "data": {
      "text/html": [
       "<div>\n",
       "<style scoped>\n",
       "    .dataframe tbody tr th:only-of-type {\n",
       "        vertical-align: middle;\n",
       "    }\n",
       "\n",
       "    .dataframe tbody tr th {\n",
       "        vertical-align: top;\n",
       "    }\n",
       "\n",
       "    .dataframe thead th {\n",
       "        text-align: right;\n",
       "    }\n",
       "</style>\n",
       "<table border=\"1\" class=\"dataframe\">\n",
       "  <thead>\n",
       "    <tr style=\"text-align: right;\">\n",
       "      <th></th>\n",
       "      <th>Population</th>\n",
       "    </tr>\n",
       "  </thead>\n",
       "  <tbody>\n",
       "    <tr>\n",
       "      <th>Canada</th>\n",
       "      <td>23.445</td>\n",
       "    </tr>\n",
       "    <tr>\n",
       "      <th>France</th>\n",
       "      <td>44.445</td>\n",
       "    </tr>\n",
       "    <tr>\n",
       "      <th>Germany</th>\n",
       "      <td>33.656</td>\n",
       "    </tr>\n",
       "    <tr>\n",
       "      <th>Italy</th>\n",
       "      <td>66.565</td>\n",
       "    </tr>\n",
       "    <tr>\n",
       "      <th>China</th>\n",
       "      <td>67.445</td>\n",
       "    </tr>\n",
       "  </tbody>\n",
       "</table>\n",
       "</div>"
      ],
      "text/plain": [
       "         Population\n",
       "Canada       23.445\n",
       "France       44.445\n",
       "Germany      33.656\n",
       "Italy        66.565\n",
       "China        67.445"
      ]
     },
     "execution_count": 155,
     "metadata": {},
     "output_type": "execute_result"
    }
   ],
   "source": [
    "# we can use to_Frame to see the output series data in DataFrame format itself..\n",
    "df['Population'].to_frame()"
   ]
  },
  {
   "cell_type": "code",
   "execution_count": 159,
   "id": "e6d9a087-661f-45b3-9780-012265a8ee8d",
   "metadata": {},
   "outputs": [
    {
     "data": {
      "text/html": [
       "<div>\n",
       "<style scoped>\n",
       "    .dataframe tbody tr th:only-of-type {\n",
       "        vertical-align: middle;\n",
       "    }\n",
       "\n",
       "    .dataframe tbody tr th {\n",
       "        vertical-align: top;\n",
       "    }\n",
       "\n",
       "    .dataframe thead th {\n",
       "        text-align: right;\n",
       "    }\n",
       "</style>\n",
       "<table border=\"1\" class=\"dataframe\">\n",
       "  <thead>\n",
       "    <tr style=\"text-align: right;\">\n",
       "      <th></th>\n",
       "      <th>Population</th>\n",
       "      <th>GDP</th>\n",
       "    </tr>\n",
       "  </thead>\n",
       "  <tbody>\n",
       "    <tr>\n",
       "      <th>Canada</th>\n",
       "      <td>23.445</td>\n",
       "      <td>123456</td>\n",
       "    </tr>\n",
       "    <tr>\n",
       "      <th>France</th>\n",
       "      <td>44.445</td>\n",
       "      <td>233443</td>\n",
       "    </tr>\n",
       "    <tr>\n",
       "      <th>Germany</th>\n",
       "      <td>33.656</td>\n",
       "      <td>234234</td>\n",
       "    </tr>\n",
       "    <tr>\n",
       "      <th>Italy</th>\n",
       "      <td>66.565</td>\n",
       "      <td>324324</td>\n",
       "    </tr>\n",
       "    <tr>\n",
       "      <th>China</th>\n",
       "      <td>67.445</td>\n",
       "      <td>766767</td>\n",
       "    </tr>\n",
       "  </tbody>\n",
       "</table>\n",
       "</div>"
      ],
      "text/plain": [
       "         Population     GDP\n",
       "Canada       23.445  123456\n",
       "France       44.445  233443\n",
       "Germany      33.656  234234\n",
       "Italy        66.565  324324\n",
       "China        67.445  766767"
      ]
     },
     "execution_count": 159,
     "metadata": {},
     "output_type": "execute_result"
    }
   ],
   "source": [
    "df[['Population','GDP']] # can be selected multiple columns from dataframe"
   ]
  },
  {
   "cell_type": "code",
   "execution_count": 161,
   "id": "21789ff3-0f3b-4694-b45a-ffa2efdf808b",
   "metadata": {},
   "outputs": [
    {
     "data": {
      "text/plain": [
       "Population       23.445\n",
       "GDP              123456\n",
       "Surface Area     342343\n",
       "HDI               0.556\n",
       "Continent       America\n",
       "Name: Canada, dtype: object"
      ]
     },
     "execution_count": 161,
     "metadata": {},
     "output_type": "execute_result"
    }
   ],
   "source": [
    "df.iloc[0]"
   ]
  },
  {
   "cell_type": "code",
   "execution_count": 162,
   "id": "0167d4fa-410c-443d-ab5b-12fb1c0ccbb6",
   "metadata": {},
   "outputs": [
    {
     "data": {
      "text/plain": [
       "Population      67.445\n",
       "GDP             766767\n",
       "Surface Area    879878\n",
       "HDI              0.578\n",
       "Continent         Asia\n",
       "Name: China, dtype: object"
      ]
     },
     "execution_count": 162,
     "metadata": {},
     "output_type": "execute_result"
    }
   ],
   "source": [
    "df.loc['China']"
   ]
  },
  {
   "cell_type": "code",
   "execution_count": null,
   "id": "52074e68-fb72-44dd-850e-d1bf369b61ee",
   "metadata": {},
   "outputs": [],
   "source": [
    "df['Population','Continent'].to_frame() # multiple need not be used with to_frame function"
   ]
  },
  {
   "cell_type": "code",
   "execution_count": 168,
   "id": "39ec0826-1db6-46a6-bad1-92bf1c716a66",
   "metadata": {},
   "outputs": [
    {
     "data": {
      "text/html": [
       "<div>\n",
       "<style scoped>\n",
       "    .dataframe tbody tr th:only-of-type {\n",
       "        vertical-align: middle;\n",
       "    }\n",
       "\n",
       "    .dataframe tbody tr th {\n",
       "        vertical-align: top;\n",
       "    }\n",
       "\n",
       "    .dataframe thead th {\n",
       "        text-align: right;\n",
       "    }\n",
       "</style>\n",
       "<table border=\"1\" class=\"dataframe\">\n",
       "  <thead>\n",
       "    <tr style=\"text-align: right;\">\n",
       "      <th></th>\n",
       "      <th>Population</th>\n",
       "      <th>GDP</th>\n",
       "      <th>Surface Area</th>\n",
       "      <th>HDI</th>\n",
       "      <th>Continent</th>\n",
       "    </tr>\n",
       "  </thead>\n",
       "  <tbody>\n",
       "    <tr>\n",
       "      <th>Canada</th>\n",
       "      <td>23.445</td>\n",
       "      <td>123456</td>\n",
       "      <td>342343</td>\n",
       "      <td>0.556</td>\n",
       "      <td>America</td>\n",
       "    </tr>\n",
       "    <tr>\n",
       "      <th>France</th>\n",
       "      <td>44.445</td>\n",
       "      <td>233443</td>\n",
       "      <td>23423424</td>\n",
       "      <td>0.784</td>\n",
       "      <td>Europe</td>\n",
       "    </tr>\n",
       "    <tr>\n",
       "      <th>Germany</th>\n",
       "      <td>33.656</td>\n",
       "      <td>234234</td>\n",
       "      <td>657567</td>\n",
       "      <td>0.556</td>\n",
       "      <td>Europe</td>\n",
       "    </tr>\n",
       "    <tr>\n",
       "      <th>Italy</th>\n",
       "      <td>66.565</td>\n",
       "      <td>324324</td>\n",
       "      <td>565464</td>\n",
       "      <td>0.895</td>\n",
       "      <td>Europe</td>\n",
       "    </tr>\n",
       "    <tr>\n",
       "      <th>China</th>\n",
       "      <td>67.445</td>\n",
       "      <td>766767</td>\n",
       "      <td>879878</td>\n",
       "      <td>0.578</td>\n",
       "      <td>Asia</td>\n",
       "    </tr>\n",
       "  </tbody>\n",
       "</table>\n",
       "</div>"
      ],
      "text/plain": [
       "         Population     GDP  Surface Area    HDI Continent\n",
       "Canada       23.445  123456        342343  0.556   America\n",
       "France       44.445  233443      23423424  0.784    Europe\n",
       "Germany      33.656  234234        657567  0.556    Europe\n",
       "Italy        66.565  324324        565464  0.895    Europe\n",
       "China        67.445  766767        879878  0.578      Asia"
      ]
     },
     "execution_count": 168,
     "metadata": {},
     "output_type": "execute_result"
    }
   ],
   "source": [
    "df"
   ]
  },
  {
   "cell_type": "code",
   "execution_count": 169,
   "id": "b31f8b6e-16e7-448d-8118-fc632851dc77",
   "metadata": {},
   "outputs": [
    {
     "data": {
      "text/html": [
       "<div>\n",
       "<style scoped>\n",
       "    .dataframe tbody tr th:only-of-type {\n",
       "        vertical-align: middle;\n",
       "    }\n",
       "\n",
       "    .dataframe tbody tr th {\n",
       "        vertical-align: top;\n",
       "    }\n",
       "\n",
       "    .dataframe thead th {\n",
       "        text-align: right;\n",
       "    }\n",
       "</style>\n",
       "<table border=\"1\" class=\"dataframe\">\n",
       "  <thead>\n",
       "    <tr style=\"text-align: right;\">\n",
       "      <th></th>\n",
       "      <th>Population</th>\n",
       "      <th>GDP</th>\n",
       "      <th>Surface Area</th>\n",
       "      <th>HDI</th>\n",
       "      <th>Continent</th>\n",
       "    </tr>\n",
       "  </thead>\n",
       "  <tbody>\n",
       "    <tr>\n",
       "      <th>France</th>\n",
       "      <td>44.445</td>\n",
       "      <td>233443</td>\n",
       "      <td>23423424</td>\n",
       "      <td>0.784</td>\n",
       "      <td>Europe</td>\n",
       "    </tr>\n",
       "    <tr>\n",
       "      <th>Germany</th>\n",
       "      <td>33.656</td>\n",
       "      <td>234234</td>\n",
       "      <td>657567</td>\n",
       "      <td>0.556</td>\n",
       "      <td>Europe</td>\n",
       "    </tr>\n",
       "  </tbody>\n",
       "</table>\n",
       "</div>"
      ],
      "text/plain": [
       "         Population     GDP  Surface Area    HDI Continent\n",
       "France       44.445  233443      23423424  0.784    Europe\n",
       "Germany      33.656  234234        657567  0.556    Europe"
      ]
     },
     "execution_count": 169,
     "metadata": {},
     "output_type": "execute_result"
    }
   ],
   "source": [
    "df[1:3] #hifger limit is not included"
   ]
  },
  {
   "cell_type": "code",
   "execution_count": 171,
   "id": "8db40064-99cd-4f2d-b336-c4a3ba221020",
   "metadata": {},
   "outputs": [
    {
     "data": {
      "text/html": [
       "<div>\n",
       "<style scoped>\n",
       "    .dataframe tbody tr th:only-of-type {\n",
       "        vertical-align: middle;\n",
       "    }\n",
       "\n",
       "    .dataframe tbody tr th {\n",
       "        vertical-align: top;\n",
       "    }\n",
       "\n",
       "    .dataframe thead th {\n",
       "        text-align: right;\n",
       "    }\n",
       "</style>\n",
       "<table border=\"1\" class=\"dataframe\">\n",
       "  <thead>\n",
       "    <tr style=\"text-align: right;\">\n",
       "      <th></th>\n",
       "      <th>Population</th>\n",
       "      <th>GDP</th>\n",
       "      <th>Surface Area</th>\n",
       "      <th>HDI</th>\n",
       "      <th>Continent</th>\n",
       "    </tr>\n",
       "  </thead>\n",
       "  <tbody>\n",
       "    <tr>\n",
       "      <th>Canada</th>\n",
       "      <td>23.445</td>\n",
       "      <td>123456</td>\n",
       "      <td>342343</td>\n",
       "      <td>0.556</td>\n",
       "      <td>America</td>\n",
       "    </tr>\n",
       "    <tr>\n",
       "      <th>France</th>\n",
       "      <td>44.445</td>\n",
       "      <td>233443</td>\n",
       "      <td>23423424</td>\n",
       "      <td>0.784</td>\n",
       "      <td>Europe</td>\n",
       "    </tr>\n",
       "    <tr>\n",
       "      <th>Germany</th>\n",
       "      <td>33.656</td>\n",
       "      <td>234234</td>\n",
       "      <td>657567</td>\n",
       "      <td>0.556</td>\n",
       "      <td>Europe</td>\n",
       "    </tr>\n",
       "    <tr>\n",
       "      <th>Italy</th>\n",
       "      <td>66.565</td>\n",
       "      <td>324324</td>\n",
       "      <td>565464</td>\n",
       "      <td>0.895</td>\n",
       "      <td>Europe</td>\n",
       "    </tr>\n",
       "  </tbody>\n",
       "</table>\n",
       "</div>"
      ],
      "text/plain": [
       "         Population     GDP  Surface Area    HDI Continent\n",
       "Canada       23.445  123456        342343  0.556   America\n",
       "France       44.445  233443      23423424  0.784    Europe\n",
       "Germany      33.656  234234        657567  0.556    Europe\n",
       "Italy        66.565  324324        565464  0.895    Europe"
      ]
     },
     "execution_count": 171,
     "metadata": {},
     "output_type": "execute_result"
    }
   ],
   "source": [
    " df['Canada' : 'Italy']"
   ]
  },
  {
   "cell_type": "code",
   "execution_count": 174,
   "id": "40ed0eda-c8bd-4bbb-a08c-a84a36000c03",
   "metadata": {},
   "outputs": [
    {
     "data": {
      "text/html": [
       "<div>\n",
       "<style scoped>\n",
       "    .dataframe tbody tr th:only-of-type {\n",
       "        vertical-align: middle;\n",
       "    }\n",
       "\n",
       "    .dataframe tbody tr th {\n",
       "        vertical-align: top;\n",
       "    }\n",
       "\n",
       "    .dataframe thead th {\n",
       "        text-align: right;\n",
       "    }\n",
       "</style>\n",
       "<table border=\"1\" class=\"dataframe\">\n",
       "  <thead>\n",
       "    <tr style=\"text-align: right;\">\n",
       "      <th></th>\n",
       "      <th>Population</th>\n",
       "    </tr>\n",
       "  </thead>\n",
       "  <tbody>\n",
       "    <tr>\n",
       "      <th>Canada</th>\n",
       "      <td>23.445</td>\n",
       "    </tr>\n",
       "    <tr>\n",
       "      <th>France</th>\n",
       "      <td>44.445</td>\n",
       "    </tr>\n",
       "    <tr>\n",
       "      <th>Germany</th>\n",
       "      <td>33.656</td>\n",
       "    </tr>\n",
       "    <tr>\n",
       "      <th>Italy</th>\n",
       "      <td>66.565</td>\n",
       "    </tr>\n",
       "  </tbody>\n",
       "</table>\n",
       "</div>"
      ],
      "text/plain": [
       "         Population\n",
       "Canada       23.445\n",
       "France       44.445\n",
       "Germany      33.656\n",
       "Italy        66.565"
      ]
     },
     "execution_count": 174,
     "metadata": {},
     "output_type": "execute_result"
    }
   ],
   "source": [
    "df.loc['Canada' : 'Italy' , 'Population'].to_frame()"
   ]
  },
  {
   "cell_type": "code",
   "execution_count": null,
   "id": "1d50593a-056d-433e-9ae9-707c9e4649b7",
   "metadata": {},
   "outputs": [],
   "source": []
  }
 ],
 "metadata": {
  "kernelspec": {
   "display_name": "Python 3",
   "language": "python",
   "name": "python3"
  },
  "language_info": {
   "codemirror_mode": {
    "name": "ipython",
    "version": 3
   },
   "file_extension": ".py",
   "mimetype": "text/x-python",
   "name": "python",
   "nbconvert_exporter": "python",
   "pygments_lexer": "ipython3",
   "version": "3.8.8"
  }
 },
 "nbformat": 4,
 "nbformat_minor": 5
}
