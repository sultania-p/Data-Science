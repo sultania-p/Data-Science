{
 "cells": [
  {
   "cell_type": "code",
   "execution_count": 1,
   "id": "2c5939dd-d99d-4a6b-bd35-7a2ff4d8b844",
   "metadata": {},
   "outputs": [
    {
     "data": {
      "text/plain": [
       "1.0"
      ]
     },
     "execution_count": 1,
     "metadata": {},
     "output_type": "execute_result"
    }
   ],
   "source": [
    "import math\n",
    "import numpy as np\n",
    "a= math.log10(10)\n",
    "a"
   ]
  },
  {
   "cell_type": "markdown",
   "id": "40e782b2-14cf-414a-b1dd-fc3d2b15d581",
   "metadata": {},
   "source": [
    "### [Follow my LinkedIn account](https://www.linkedin.com/in/piyush-sultania)"
   ]
  },
  {
   "cell_type": "markdown",
   "id": "bdbda8f9-ebad-4991-a6e3-1a0e39b71d32",
   "metadata": {},
   "source": [
    "Here's our logo (hover to see the title text):\n",
    "\n",
    "Inline-style: \n",
    "![alt text](https://github.com/adam-p/markdown-here/raw/master/src/common/images/icon48.png \"Logo Title Text 1\")\n",
    "\n",
    "Alt-H1\n",
    "\n",
    "[Cognitive Class](https://cognitiveclass.ai/?utm_medium=Exinfluencer&utm_source=Exinfluencer&utm_content=000026UJ&utm_term=10006555&utm_id=NA-SkillsNetwork-wwwcourseraorg-SkillsNetworkCoursesIBMDeveloperSkillsNetworkDS0105ENSkillsNetwork20083975-2021-01-01)"
   ]
  },
  {
   "cell_type": "markdown",
   "id": "58bf3bfc-efe4-46cd-895b-1d4a8e83809a",
   "metadata": {},
   "source": [
    "### Tables\n",
    "Tables aren't part of the core Markdown spec, but they are part of GFM and Markdown Here supports them. They are an easy way of adding tables to your email -- a task that would otherwise require copy-pasting from another application.\n",
    "\n",
    "| Employee ID     | Employee Name     | Date of Birth |\n",
    "| ----------------|:-----------------:|--------------:|\n",
    "| 1               | Piyush            | 01-Dec-1993   |\n",
    "| 2               | Ayush             | 12-Aug-1999   |\n",
    "| 3               | Amit Kumar        | 12-Aug-1922   |\n",
    "| 4               | Mark Adams        | 12-Aug-1123   |\n"
   ]
  },
  {
   "cell_type": "markdown",
   "id": "7a6443b8-828f-43cd-a954-c1fb8383d623",
   "metadata": {},
   "source": [
    "<dl>\n",
    "    <dt>  <strong>Definition list</strong> </dt>\n",
    "    <dd>Is something people use sometimes.</dd>\n",
    "</dl>    \n",
    "   <dt1> \n",
    "    <span class=\"bolded\">Markdown in HTML</span>\n",
    "    </dt1>\n",
    "    <dd>Does *not* work **very** well. Use HTML <tg>tags</tg>.</dd>\n",
    "</dl>      \n",
    "\n",
    "        "
   ]
  },
  {
   "cell_type": "code",
   "execution_count": null,
   "id": "ae03fba3-484c-40aa-8a2f-2a7fb10e3273",
   "metadata": {},
   "outputs": [],
   "source": []
  }
 ],
 "metadata": {
  "kernelspec": {
   "display_name": "Python 3 (ipykernel)",
   "language": "python",
   "name": "python3"
  },
  "language_info": {
   "codemirror_mode": {
    "name": "ipython",
    "version": 3
   },
   "file_extension": ".py",
   "mimetype": "text/x-python",
   "name": "python",
   "nbconvert_exporter": "python",
   "pygments_lexer": "ipython3",
   "version": "3.8.8"
  }
 },
 "nbformat": 4,
 "nbformat_minor": 5
}
