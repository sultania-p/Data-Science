{
 "cells": [
  {
   "cell_type": "markdown",
   "id": "e2a2e9b3-5075-4512-8aff-db68b9e6a6ca",
   "metadata": {},
   "source": [
    "## Figure skating analytics\n",
    "\n",
    " (Links to an external site.)\n",
    " ### Question 1 (20 points) Here are the latest skater standings (Links to an external site.) for women, men, pairs, and dance pairs.\n",
    "\n",
    "Given these standings, what is the Probability Distribution detailing the chances of each one of the following countries: Russia, US, China, Japan, Canada, and Italy to win the Olympics men's event? The women's event?\n",
    "\n",
    "To do that, you are going to find the two top skaters for the countries above to represent their country's chance at winning the gold. You are going to create a probability distribution for each one of these skaters for the women, and another distribution for the men.\n",
    "\n",
    "Note that Shan Ashley Lin is the other skater for China (together with Zhu Yi), but it may be hard to find her on the standings. You will find her if you click on CN next to Zhu Yi's listing. Also note that the top skaters from the Web site above may not really match with the real skaters competing, but that's ok.\n",
    "\n",
    "What is the probability for the US to win both the men's and the women's event?\n",
    "\n",
    "What is the probability for the US to win at least one of these two events?"
   ]
  },
  {
   "cell_type": "code",
   "execution_count": 3,
   "id": "379ec9eb-77af-4bb4-9024-da87ec75e9e5",
   "metadata": {},
   "outputs": [],
   "source": [
    "# Countries --> Russia, US, China, Japan, Canada, and Italy\n",
    "\n",
    "# Mens:-------------\n",
    "# United States\n",
    "# Nathan Chen \tUS #3964\n",
    "# Jason Brown \tUS #2976\n",
    "\n",
    "# Japan\n",
    "# Yuma Kagiyama-\tJP #3564\n",
    "# Shoma Uno \tJP #3330\n",
    "\n",
    "# Russia\n",
    "# Dmitiri Aliev \tRU #2299\n",
    "# Andrev Mozalev \t RU #2294\n",
    "\n",
    "# Italy\n",
    "# Daniel Grassl \tIT #3031\n",
    "# Matteo Rizzo\tIT #2507\n",
    "\n",
    "# China\n",
    "# Boyang Jin\tCN #2219\n",
    "# Han Yan \tCN #819\n",
    "\n",
    "# Canada\n",
    "# Keegan Messing\tCA #2722\n",
    "# Nam Nguyen\tCA #1126\n",
    "\n",
    "\n",
    "# Womens: -------------\n",
    "# United States\n",
    "# Karen Chen\tUS #2291\n",
    "# Alysa Liu\tUS #1834\n",
    "\n",
    "# Japan\n",
    "# Kaori Sakamoto\tJP #2609\n",
    "# Rika Kihira \tJP #2271\n",
    "\n",
    "# Russia\n",
    "# Anna Scherbakova\tRU #3975\n",
    "# Alex Trusova\tRU #3246\n",
    "\n",
    "# Italy\n",
    "# Lara Naki Gutmann \t IT #1045\n",
    "# Alessia Tornaghi \t IT #827\n",
    "\n",
    "# China\n",
    "# Hongyi Chen \tCN #485\n",
    "# Yi Zhu\tCN #166\n",
    "\n",
    "# Canada\n",
    "# Madeline Schizas\tCA #1072\n",
    "# Emily Bausback\tCA #683\n"
   ]
  },
  {
   "cell_type": "code",
   "execution_count": 7,
   "id": "6032e922-0649-440a-9e46-4ccfea7924fd",
   "metadata": {},
   "outputs": [],
   "source": [
    "# Probability Distribution for Mens:\n",
    "MFS = ProbDist(NC=3964, JB=2976, #USA\n",
    "              YK=3564, SU=3330, #japan\n",
    "              DA=2299, AM=2294, #Russia\n",
    "              DG=3031, MR=2507, #italy\n",
    "              BJ=2219, HY=819, #China\n",
    "              KM=2722, NN=1126, #Canada\n",
    "              )\n",
    "\n",
    "\n",
    "\n",
    "# Probability Distribution for Women:\n",
    "WFS = ProbDist(KC=2291, AL=1834, #USA\n",
    "              KS=2609, RK=2271, #japan\n",
    "              AS=3975, AT=3246, #Russia\n",
    "              LG=1045, ALT=827, #italy\n",
    "              HC=485, YZ=166, #China\n",
    "              MS=1072, EB=683, #Canada\n",
    "              )"
   ]
  },
  {
   "cell_type": "code",
   "execution_count": 6,
   "id": "8a6e4919-1638-466c-922e-9ec219161310",
   "metadata": {},
   "outputs": [
    {
     "data": {
      "text/plain": [
       "{'KC': 0.11173429574717128,\n",
       " 'AL': 0.08944596176355833,\n",
       " 'KS': 0.12724346468981662,\n",
       " 'RK': 0.11075887631681623,\n",
       " 'AS': 0.19386461178306671,\n",
       " 'AT': 0.15831057354662506,\n",
       " 'LG': 0.050965665236051505,\n",
       " 'ALT': 0.04033359344518143,\n",
       " 'HC': 0.023653921186110028,\n",
       " 'YZ': 0.008095981271946938,\n",
       " 'MS': 0.05228248146703082,\n",
       " 'EB': 0.03331057354662505}"
      ]
     },
     "execution_count": 6,
     "metadata": {},
     "output_type": "execute_result"
    }
   ],
   "source": [
    "WFS"
   ]
  },
  {
   "cell_type": "code",
   "execution_count": 8,
   "id": "c801c1c3-09f7-489f-aab0-803b80bbb39b",
   "metadata": {},
   "outputs": [
    {
     "data": {
      "text/plain": [
       "{'NC': 0.1284885417004311,\n",
       " 'JB': 0.09646364785582315,\n",
       " 'YK': 0.1155229976337882,\n",
       " 'SU': 0.10793815435480211,\n",
       " 'DA': 0.07451946452303004,\n",
       " 'AM': 0.07435739522219702,\n",
       " 'DG': 0.09824641016498654,\n",
       " 'MR': 0.08126154743768435,\n",
       " 'BJ': 0.07192635570970146,\n",
       " 'HY': 0.02654695147645133,\n",
       " 'KM': 0.08823052737350491,\n",
       " 'NN': 0.03649800654759976}"
      ]
     },
     "execution_count": 8,
     "metadata": {},
     "output_type": "execute_result"
    }
   ],
   "source": [
    "MFS"
   ]
  },
  {
   "cell_type": "code",
   "execution_count": 44,
   "id": "ac0595ca-8c6c-4641-ad8f-af156fabb1e8",
   "metadata": {},
   "outputs": [],
   "source": [
    "# creating probdist fucnction\n",
    "\n",
    "class ProbDist(dict):\n",
    "    \"A Probability Distribution; an {outcome: probability} mapping.\"\n",
    "    def __init__(self, mapping=(), **kwargs):\n",
    "        self.update(mapping, **kwargs)\n",
    "        # Make probabilities sum to 1.0; assert no negative probabilities\n",
    "        total = sum(self.values())\n",
    "        for outcome in self:\n",
    "            self[outcome] = self[outcome] / total\n",
    "            assert self[outcome] >= 0"
   ]
  },
  {
   "cell_type": "code",
   "execution_count": 45,
   "id": "23b7051e-ce24-4290-812a-4ca6368c1727",
   "metadata": {},
   "outputs": [],
   "source": [
    "def p(event, space): \n",
    "    \"\"\"The probability of an event, given a sample space of equiprobable outcomes. \n",
    "    event: a collection of outcomes, or a predicate that is true of outcomes in the event. \n",
    "    space: a set of outcomes or a probability distribution of {outcome: frequency} pairs.\"\"\"\n",
    "    # branch on the type of the first argument\n",
    "    if is_predicate(event):\n",
    "        # transform the mapping (untangible) 'event' into the collection (tangible) 'event'\n",
    "        event = such_that(event, space)\n",
    "        \n",
    "    if isinstance(space, ProbDist):\n",
    "        # if space is a dictionary of distinct probabilities, where each item does not count as the same amount\n",
    "        return sum(space[o] for o in space if o in event)\n",
    "    else:\n",
    "        # space is not a dictionary but a collection, let's fall back to our original division\n",
    "        return Fraction(len(event & space), len(space))\n",
    "\n",
    "is_predicate = callable\n",
    "\n",
    "def such_that(predicate, space): \n",
    "    \"\"\"The outcomes in the sample pace for which the predicate is true.\n",
    "    If space is a set, return a subset {outcome,...} with outcomes where predicate(element) is true;\n",
    "    if space is a ProbDist, return a ProbDist {outcome: frequency,...} with outcomes where predicate(element) is true.\"\"\"\n",
    "    if isinstance(space, ProbDist):\n",
    "        return ProbDist({o:space[o] for o in space if predicate(o)})\n",
    "    else:\n",
    "        return {o for o in space if predicate(o)}"
   ]
  },
  {
   "cell_type": "code",
   "execution_count": 46,
   "id": "e1f2b963-5e51-4f74-b593-7fbf33b946fe",
   "metadata": {},
   "outputs": [],
   "source": [
    "def US_GOLD(outcome): \n",
    "    return outcome[1] == 'NC'"
   ]
  },
  {
   "cell_type": "code",
   "execution_count": 47,
   "id": "926fdc7b-02b1-42b4-9d9b-ca915f5955ad",
   "metadata": {},
   "outputs": [
    {
     "ename": "TypeError",
     "evalue": "unsupported operand type(s) for &: 'set' and 'ProbDist'",
     "output_type": "error",
     "traceback": [
      "\u001b[1;31m---------------------------------------------------------------------------\u001b[0m",
      "\u001b[1;31mTypeError\u001b[0m                                 Traceback (most recent call last)",
      "\u001b[1;32m~\\AppData\\Local\\Temp/ipykernel_16256/45926677.py\u001b[0m in \u001b[0;36m<module>\u001b[1;34m\u001b[0m\n\u001b[1;32m----> 1\u001b[1;33m \u001b[0mP\u001b[0m\u001b[1;33m(\u001b[0m\u001b[0mUS_GOLD\u001b[0m\u001b[1;33m,\u001b[0m \u001b[0mMFS\u001b[0m\u001b[1;33m)\u001b[0m\u001b[1;33m\u001b[0m\u001b[1;33m\u001b[0m\u001b[0m\n\u001b[0m",
      "\u001b[1;32m~\\AppData\\Local\\Temp/ipykernel_16256/798194718.py\u001b[0m in \u001b[0;36mP\u001b[1;34m(event, space)\u001b[0m\n\u001b[0;32m      9\u001b[0m         \u001b[1;32mreturn\u001b[0m \u001b[0msum\u001b[0m\u001b[1;33m(\u001b[0m\u001b[0mspace\u001b[0m\u001b[1;33m[\u001b[0m\u001b[0mo\u001b[0m\u001b[1;33m]\u001b[0m \u001b[1;32mfor\u001b[0m \u001b[0mo\u001b[0m \u001b[1;32min\u001b[0m \u001b[0mspace\u001b[0m \u001b[1;32mif\u001b[0m \u001b[0mo\u001b[0m \u001b[1;32min\u001b[0m \u001b[0mevent\u001b[0m\u001b[1;33m)\u001b[0m\u001b[1;33m\u001b[0m\u001b[1;33m\u001b[0m\u001b[0m\n\u001b[0;32m     10\u001b[0m     \u001b[1;32melse\u001b[0m\u001b[1;33m:\u001b[0m\u001b[1;33m\u001b[0m\u001b[1;33m\u001b[0m\u001b[0m\n\u001b[1;32m---> 11\u001b[1;33m         \u001b[1;32mreturn\u001b[0m \u001b[0mFraction\u001b[0m\u001b[1;33m(\u001b[0m\u001b[0mlen\u001b[0m\u001b[1;33m(\u001b[0m\u001b[0mevent\u001b[0m \u001b[1;33m&\u001b[0m \u001b[0mspace\u001b[0m\u001b[1;33m)\u001b[0m\u001b[1;33m,\u001b[0m \u001b[0mlen\u001b[0m\u001b[1;33m(\u001b[0m\u001b[0mspace\u001b[0m\u001b[1;33m)\u001b[0m\u001b[1;33m)\u001b[0m\u001b[1;33m\u001b[0m\u001b[1;33m\u001b[0m\u001b[0m\n\u001b[0m\u001b[0;32m     12\u001b[0m \u001b[1;33m\u001b[0m\u001b[0m\n\u001b[0;32m     13\u001b[0m \u001b[0mis_predicate\u001b[0m \u001b[1;33m=\u001b[0m \u001b[0mcallable\u001b[0m\u001b[1;33m\u001b[0m\u001b[1;33m\u001b[0m\u001b[0m\n",
      "\u001b[1;31mTypeError\u001b[0m: unsupported operand type(s) for &: 'set' and 'ProbDist'"
     ]
    }
   ],
   "source": [
    "P(US_GOLD, MFS)"
   ]
  },
  {
   "cell_type": "code",
   "execution_count": null,
   "id": "addea408-22af-418f-b359-ec01f3fdc977",
   "metadata": {},
   "outputs": [],
   "source": []
  }
 ],
 "metadata": {
  "kernelspec": {
   "display_name": "Python 3 (ipykernel)",
   "language": "python",
   "name": "python3"
  },
  "language_info": {
   "codemirror_mode": {
    "name": "ipython",
    "version": 3
   },
   "file_extension": ".py",
   "mimetype": "text/x-python",
   "name": "python",
   "nbconvert_exporter": "python",
   "pygments_lexer": "ipython3",
   "version": "3.8.8"
  }
 },
 "nbformat": 4,
 "nbformat_minor": 5
}
