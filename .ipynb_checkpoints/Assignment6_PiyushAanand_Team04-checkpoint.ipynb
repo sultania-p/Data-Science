{
 "cells": [
  {
   "cell_type": "markdown",
   "id": "ea44e460",
   "metadata": {},
   "source": [
    "## Figure skating analytics\n",
    "\n",
    " (Links to an external site.)<br>\n",
    "**Question 1** (20 points) <br> Here are the latest skater standings (Links to an external site.) for women, men, pairs, and dance pairs.\n",
    "\n",
    "Given these standings, what is the Probability Distribution detailing the chances of each one of the following countries: Russia, US, China, Japan, Canada, and Italy to win the Olympics men's event? The women's event?\n",
    "\n",
    "To do that, you are going to find the two top skaters for the countries above to represent their country's chance at winning the gold. You are going to create a probability distribution for each one of these skaters for the women, and another distribution for the men.\n",
    "\n",
    "Note that Shan Ashley Lin is the other skater for China (together with Zhu Yi), but it may be hard to find her on the standings. You will find her if you click on CN next to Zhu Yi's listing. Also note that the top skaters from the Web site above may not really match with the real skaters competing, but that's ok.\n",
    "\n",
    "What is the probability for the US to win both the men's and the women's event?\n",
    "\n",
    "What is the probability for the US to win at least one of these two events?\n",
    "\n",
    "**Question 2** (30 points)<br> If the US wins the men's event, what is the probability that the US wins the women's event? If the US wins at least one of these two events, what is the probability the US wins both events (not necessarily the first one)? How about Canada, China, and the ROC? Which nations are more likely to win both events if they win one of them?\n",
    "\n",
    "**Question 3** (50 points)<br> The US wins at least one of these two events the same day that the US team of the same sex wins the hockey event gold medal. What is the probability the US wins both events assuming that the teams in contention to win the gold medal for the hockey event for both men and women are USA, China, Russia, Canada, and Japan and that men and women teams have the same probability to win hockey gold?\n",
    "\n",
    "You need to provide proof for your answers.\n",
    "\n",
    "Hint: We use WFS to denote the Probability Distribution for women and MFS for the men. We use name initials as keys and points as values in a dictionary that we pass to our function ProbDist\n",
    "\n",
    "The introduction of Beijing 2022 skating game is in the W4L2/probability1-22-start.ipynb. Please review it carefully before you start code.\n",
    "\n",
    " \n",
    "\n",
    "You will work in a group of two.\n",
    "\n",
    "Upload your Jupyter notebook with the name in the following format:\n",
    "\n",
    " Assignment6_YourFullName_TeamNumber.ipynb"
   ]
  },
  {
   "cell_type": "code",
   "execution_count": null,
   "id": "9f025312",
   "metadata": {},
   "outputs": [],
   "source": [
    "# MENS\n",
    "# \n",
    "\n",
    "MFS = ProbDist(DA=2299,AM=2294, # Russia\n",
    "               YK=3564,SU=3330, # Japan\n",
    "               NC=3964,JB=2976, # USA\n",
    "               DG=3031,MR=2507, # Italy\n",
    "               KM=2722,NN=1126, # Canada\n",
    "               BJ=2219,HY=819   # China\n",
    "              )\n",
    "\n",
    "# US\n",
    "# Nathan Chen 3964\n",
    "# Jason Brown 2976\n",
    "\n",
    "# # Russia\n",
    "# Dmitri Aliev 2299\n",
    "# Andrei Mozalev 2294\n",
    "\n",
    "# # China\n",
    "# Boyang Jin 2219\n",
    "# Han Yan 819\n",
    "\n",
    "# # Japan\n",
    "# Yuma Kagiyama 3564\n",
    "# Shoma Uno 3330\n",
    "\n",
    "# # Canada\n",
    "# Keegan Messing 2722\n",
    "# Nam Nguyen 1126\n",
    "\n",
    "# # Italy\n",
    "# Daniel Grassl 3031\n",
    "# Matteo Rizzo 2507"
   ]
  },
  {
   "cell_type": "code",
   "execution_count": null,
   "id": "43c33825",
   "metadata": {},
   "outputs": [],
   "source": [
    "# Women\n",
    "# https://skatingscores.com/isu/standings/2122/women/\n",
    "\n",
    "WFS = ProbDist(AS=3975,AT=3246, # Russia\n",
    "               KS=2609,RK=2271, # Japan\n",
    "               KC=2291,AL=1834, # USA\n",
    "               LN=1045,ATo=827, # Italy\n",
    "               EB=683,MS=1072,  # Canada\n",
    "               HC=485,YZ=166)   # China\n",
    "\n",
    "## Russia\n",
    "# Anna Shcherbakova 3975\n",
    "# Alexandra Trusova 3246\n",
    "\n",
    "## Japan\n",
    "# Kaori Sakamoto 2609\n",
    "# Rika Kihira 2271\n",
    "\n",
    "## US\n",
    "# Alysa Liu 1834\n",
    "# Bradie Tennell 1802\n",
    "\n",
    "## China\n",
    "# Yi Zhu 166\n",
    "# Shan Ashley LIN 157.85\n",
    "\n",
    "## Canada\n",
    "# Alexia Paganini 1465\n",
    "# Madeline Schizas 1072\n",
    "\n",
    "## Italy\n",
    "# Lara Naki Gutmann 1045\n",
    "# Alessia Tornaghi 827"
   ]
  },
  {
   "cell_type": "markdown",
   "id": "cc65a3d3",
   "metadata": {},
   "source": [
    "## Inputs"
   ]
  },
  {
   "cell_type": "markdown",
   "id": "2a667eed",
   "metadata": {},
   "source": [
    "## Player's Name\n",
    "My Dataset organized by Countries and Gender:\n",
    "\n",
    "#### Women:\n",
    "Anna Scherbakova RU   <br>\n",
    "Alexandra Trusova RU <br>\n",
    "Karen Chen US <br>\n",
    "Alysa Liu US <br>\n",
    "Kaori Sakamoto JP <br>\n",
    "Rika K JP <br>\n",
    "Madeline S CA <br>\n",
    "Emily B CA <br>\n",
    "Hingye Chen CN <br>\n",
    "Yi Zhu CN <br>\n",
    "Lara Naki IT <br>\n",
    "Alessa To IT <br>\n",
    "WFS = ProbDist(AS=3975,AT=3246,KS=2609,RK=2271,KC=2291,AL=1834,LN=1045,ATo=827,EB=683,MS=1072,HC=485,YZ=166)\n",
    "\n",
    "#### Men:\n",
    "Nathan Chen US     <br>\n",
    "Jason Brown US   <br>\n",
    "Yuma Kagiyama JP  <br>\n",
    "Shoma Uno JP <br>\n",
    "Daniel Grassl IT <br>\n",
    "Matteo Rizzo IT <br>\n",
    "Keegan Messing CA <br>\n",
    "Nam Ngyugen CA <br>\n",
    "Dmitri Aliev RU <br>\n",
    "Andrei Mozalev RU <br>\n",
    "Boyang Jin CN <br>\n",
    "Han Yan CN <br>\n",
    "MFS = ProbDist(NC=3964,JB=2976,DA=2299,AM=2294,YK=3564,SU=3330,DG=3031,MR=2507,KM=2722,NN=1126,BJ=2219,HY=819)"
   ]
  },
  {
   "cell_type": "code",
   "execution_count": 17,
   "id": "2340aa65",
   "metadata": {},
   "outputs": [],
   "source": [
    "# IMP\n",
    "class ProbDist(dict):\n",
    "    \"\"\"A Probability Distribution; an {outcome: probability} mapping.\"\"\"\n",
    "    def __init__(self, mapping=(), **kwargs):\n",
    "        self.update(mapping, **kwargs)\n",
    "        # Make probabilities sum to 1.0; assert no negative probabilities\n",
    "        total = sum(self.values())\n",
    "        for outcome in self:\n",
    "            self[outcome] = self[outcome] / total\n",
    "            assert self[outcome] >= 0"
   ]
  },
  {
   "cell_type": "code",
   "execution_count": 62,
   "id": "c21024ca",
   "metadata": {},
   "outputs": [],
   "source": [
    "## IMP\n",
    "def p(event, space): \n",
    "    \"\"\"The probability of an event, given a sample space of equiprobable outcomes. \n",
    "    event: a collection of outcomes, or a predicate that is true of outcomes in the event. \n",
    "    space: a set of outcomes or a probability distribution of {outcome: frequency} pairs.\"\"\"\n",
    "    # branch on the type of the first argument\n",
    "    if is_predicate(event):\n",
    "        # transform the mapping (untangible) 'event' into the collection (tangible) 'event'\n",
    "        event = such_that(event, space)\n",
    "        \n",
    "    if isinstance(space, ProbDist):\n",
    "        # if space is a dictionary of distinct probabilities, where each item does not count as the same amount\n",
    "        return sum(space[o] for o in space if o in event)\n",
    "    else:\n",
    "        # space is not a dictionary but a collection, let's fall back to our original division\n",
    "        return Fraction(len(event & space), len(space))\n",
    "\n",
    "is_predicate = callable\n",
    "\n",
    "def such_that(predicate, space): \n",
    "    \"\"\"The outcomes in the sample pace for which the predicate is true.\n",
    "    If space is a set, return a subset {outcome,...} with outcomes where predicate(element) is true;\n",
    "    if space is a ProbDist, return a ProbDist {outcome: frequency,...} with outcomes where predicate(element) is true.\"\"\"\n",
    "    if isinstance(space, ProbDist):\n",
    "        return ProbDist({o:space[o] for o in space if predicate(o)})\n",
    "    else:\n",
    "        return {o for o in space if predicate(o)}"
   ]
  },
  {
   "cell_type": "code",
   "execution_count": 78,
   "id": "531275fe",
   "metadata": {},
   "outputs": [
    {
     "name": "stdout",
     "output_type": "stream",
     "text": [
      "1.0\n"
     ]
    }
   ],
   "source": [
    "# Two WOMEN's members from each country\n",
    "WFS = ProbDist(AS=3975,AT=3246, # Russia\n",
    "               KS=2609,RK=2271, # Japan\n",
    "               #KC=2291,AL=1834, # USA\n",
    "               KC=2291,AL=1833, # USA\n",
    "               LN=1045,ATo=827, # Italy\n",
    "               EB=683,MS=1072,  # Canada\n",
    "               HC=485,YZ=166)   # China\n",
    "WFS\n",
    "print(sum(WFS.values()))"
   ]
  },
  {
   "cell_type": "code",
   "execution_count": 64,
   "id": "8c75866c",
   "metadata": {},
   "outputs": [
    {
     "name": "stdout",
     "output_type": "stream",
     "text": [
      "0.9999999999999999\n"
     ]
    }
   ],
   "source": [
    "print(sum(WFS.values()))"
   ]
  },
  {
   "cell_type": "code",
   "execution_count": 70,
   "id": "98944e37",
   "metadata": {},
   "outputs": [
    {
     "name": "stdout",
     "output_type": "stream",
     "text": [
      "1.0\n"
     ]
    }
   ],
   "source": [
    "# Two MEN's members from each country\n",
    "MFS = ProbDist(DA=2299, AM=2294, # Russia\n",
    "               YK=3564, SU=3330, # Japan\n",
    "               NC=3964, JB=2976, # USA\n",
    "               DG=3031, MR=2507, # Italy\n",
    "               KM=2722, NN=1126, # Canada\n",
    "               BJ=2219, HY=819)  # China\n",
    "MFS"
   ]
  },
  {
   "cell_type": "code",
   "execution_count": 66,
   "id": "df3522d6",
   "metadata": {},
   "outputs": [
    {
     "name": "stdout",
     "output_type": "stream",
     "text": [
      "1.0\n"
     ]
    }
   ],
   "source": [
    "print(sum(MFS.values()))"
   ]
  },
  {
   "cell_type": "code",
   "execution_count": 67,
   "id": "c4a0f1c6",
   "metadata": {},
   "outputs": [],
   "source": [
    "def win_men_russia(outcome): return outcome == 'DA' or outcome == 'AM'\n",
    "def win_men_japan(outcome): return outcome == 'YK' or outcome == 'SU'\n",
    "def win_men_usa(outcome): return outcome == 'NC' or outcome == 'JB'\n",
    "def win_men_italy(outcome): return outcome == 'DG' or outcome == 'MR'\n",
    "def win_men_canada(outcome): return outcome == 'KM' or outcome == 'NN'\n",
    "def win_men_china(outcome): return outcome == 'BJ' or outcome == 'HY'\n",
    "\n",
    "def win_women_russia(outcome): return outcome == 'AS' or outcome == 'AT'\n",
    "def win_women_japan(outcome): return outcome == 'KS' or outcome == 'RK'\n",
    "def win_women_usa(outcome): return outcome == 'KC' or outcome == 'AL'\n",
    "def win_women_italy(outcome): return outcome == 'LN' or outcome == 'ATo'\n",
    "def win_women_canada(outcome): return outcome == 'EB' or outcome == 'MS'\n",
    "def win_women_china(outcome): return outcome == 'HC' or outcome == 'YZ'"
   ]
  },
  {
   "cell_type": "code",
   "execution_count": 80,
   "id": "6d85dc0c",
   "metadata": {},
   "outputs": [
    {
     "name": "stdout",
     "output_type": "stream",
     "text": [
      "P of countries winning the Men's Event :-\n",
      "Russia:\t 0.14768891197091666\n",
      "Japan:\t 0.22377304596208775\n",
      "USA:\t 0.22526616463256297\n",
      "Italy:\t 0.1797585042846014\n",
      "Canada:\t 0.12490262269540378\n",
      "China:\t 0.09861075045442742\n",
      "\n",
      "P of countries winning the Women's Event :-\n",
      "Russia:\t 0.35219236209335214\n",
      "Japan:\t 0.23801394917816904\n",
      "USA:\t 0.20114129639564943\n",
      "Italy:\t 0.09130371165195338\n",
      "Canada:\t 0.08559722967370628\n",
      "China:\t 0.03175145100716968\n"
     ]
    }
   ],
   "source": [
    "# Given these standings, what is the Probability Distribution detailing the chances of each one \n",
    "# of the following countries: Russia, US, China, Japan, Canada, and Italy to win the Olympics men's event? \n",
    "# The women's event?\n",
    "\n",
    "print(\"P of countries winning the Men's Event :-\")\n",
    "print(\"Russia:\\t\", p(win_men_russia,MFS))\n",
    "print(\"Japan:\\t\", p(win_men_japan,MFS))\n",
    "print(\"USA:\\t\", p(win_men_usa,MFS))\n",
    "print(\"Italy:\\t\", p(win_men_italy,MFS))\n",
    "print(\"Canada:\\t\", p(win_men_canada,MFS))\n",
    "print(\"China:\\t\", p(win_men_china,MFS))\n",
    "\n",
    "print(\"\\nP of countries winning the Women's Event :-\")\n",
    "print(\"Russia:\\t\", p(win_women_russia,WFS))\n",
    "print(\"Japan:\\t\", p(win_women_japan,WFS))\n",
    "print(\"USA:\\t\", p(win_women_usa,WFS))\n",
    "print(\"Italy:\\t\", p(win_women_italy,WFS))\n",
    "print(\"Canada:\\t\", p(win_women_canada,WFS))\n",
    "print(\"China:\\t\", p(win_women_china,WFS))"
   ]
  },
  {
   "cell_type": "code",
   "execution_count": 83,
   "id": "aee3204e",
   "metadata": {},
   "outputs": [
    {
     "name": "stdout",
     "output_type": "stream",
     "text": [
      "P of USA winning both Men and Women event :-\n",
      " 0.42640746102821236\n"
     ]
    },
    {
     "data": {
      "text/plain": [
       "(0.22526616463256297, 0.20114129639564943)"
      ]
     },
     "execution_count": 83,
     "metadata": {},
     "output_type": "execute_result"
    }
   ],
   "source": [
    "# What is the probability for the US to win both the men's and the women's event?\n",
    "p(win_men_usa,MFS), p(win_women_usa,WFS)\n",
    "print(\"P of USA winning both Men and Women event :-\\n\",p(win_men_usa,MFS)+p(win_women_usa,WFS))\n",
    "\n",
    "# What is the probability for the US to win at least one of these two events?\n",
    "p(win_men_usa,MFS), p(win_women_usa,WFS)"
   ]
  },
  {
   "cell_type": "code",
   "execution_count": 31,
   "id": "0d2ca4e5",
   "metadata": {},
   "outputs": [
    {
     "data": {
      "text/plain": [
       "{'GG': 0.23840384261560926,\n",
       " 'GB': 0.24826679089140383,\n",
       " 'BG': 0.24882071317004043,\n",
       " 'BB': 0.2645086533229465}"
      ]
     },
     "execution_count": 31,
     "metadata": {},
     "output_type": "execute_result"
    }
   ],
   "source": [
    "DK = ProbDist(GG=121801, GB=126840,\n",
    "              BG=127123, BB=135138)\n",
    "DK"
   ]
  },
  {
   "cell_type": "code",
   "execution_count": 32,
   "id": "684a73ed",
   "metadata": {},
   "outputs": [],
   "source": [
    "def first_girl(outcome):  return outcome[0] == 'G'\n",
    "def first_boy(outcome):   return outcome[0] == 'B'\n",
    "def second_girl(outcome): return outcome[1] == 'G'\n",
    "def second_boy(outcome):  return outcome[1] == 'B'\n",
    "def two_girls(outcome):   return outcome    == 'GG'"
   ]
  },
  {
   "cell_type": "code",
   "execution_count": 35,
   "id": "612b8189",
   "metadata": {},
   "outputs": [
    {
     "data": {
      "text/plain": [
       "0.4866706335070131"
      ]
     },
     "execution_count": 35,
     "metadata": {},
     "output_type": "execute_result"
    }
   ],
   "source": [
    "p(first_girl,DK)"
   ]
  },
  {
   "cell_type": "code",
   "execution_count": null,
   "id": "b846b54e",
   "metadata": {},
   "outputs": [],
   "source": [
    "def joint(A, B, sep=''):\n",
    "    \"\"\"The joint distribution of two independent probability distributions. \n",
    "    Result is all entries of the form {a+sep+b: P(a)*P(b)}\"\"\"\n",
    "    return ProbDist({a + sep + b: A[a] * B[b]\n",
    "                    for a in A\n",
    "                    for b in B})\n",
    "\n",
    "# MM = joint(bag94, bag96, ' ')\n",
    "# MM"
   ]
  },
  {
   "cell_type": "code",
   "execution_count": null,
   "id": "b0c68b46",
   "metadata": {},
   "outputs": [],
   "source": [
    "MW = joint(MFS,WFS, '')\n",
    "MW"
   ]
  },
  {
   "cell_type": "markdown",
   "id": "939697cf",
   "metadata": {},
   "source": [
    "## Ignore Below"
   ]
  },
  {
   "cell_type": "code",
   "execution_count": null,
   "id": "cac3891a",
   "metadata": {},
   "outputs": [],
   "source": [
    "from fractions import Fraction\n",
    "\n",
    "\n",
    "def p(event, space):\n",
    "\n",
    "\n",
    "    \"\"\"The probability of an event, given a sample space of equiprobable outcomes.\n",
    "    event can be either a set of outcomes, or a predicate (true for outcomes in the event).\"\"\"\n",
    "if is_predicate(event):\n",
    "    event = such_that(event, space)\n",
    "return Fraction(len(event & space), len(space))\n",
    "\n",
    "is_predicate = callable\n",
    "\n",
    "\n",
    "def such_that(predicate, collection):\n",
    "\n",
    "\n",
    "    return {x for x in collection if predicate(x)}\n"
   ]
  },
  {
   "cell_type": "code",
   "execution_count": null,
   "id": "801e51e4",
   "metadata": {},
   "outputs": [],
   "source": [
    "class ProbDist(dict):\n",
    "\n",
    "\n",
    "    \"\"\"A Probability Distribution; an {outcome: probability} mapping.\"\"\"\n",
    "\n",
    "\n",
    "def __init__(self, mapping=(), **kwargs):\n",
    "\n",
    "\n",
    "    self.update(mapping, **kwargs)\n",
    "# Make probabilities sum to 1.0; assert no negative probabilities\n",
    "total = sum(self.values())\n",
    "for outcome in self:\n",
    "    self[outcome] = self[outcome] / total\n",
    "assert self[outcome] >= 0\n"
   ]
  },
  {
   "cell_type": "code",
   "execution_count": null,
   "id": "3776e391",
   "metadata": {},
   "outputs": [],
   "source": [
    "def p(event, space):\n",
    "    \"\"\"The probability of an event, given a sample space of equiprobable outcomes.\n",
    "    event: a collection of outcomes, or a predicate that is true of outcomes in the event.\n",
    "    space: a set of outcomes or a probability distribution of {outcome: frequency} pairs.\"\"\"\n",
    "\n",
    "\n",
    "# branch on the type of the first argument\n",
    "if is_predicate(event):\n",
    "# transform the mapping (untangible) 'event' into the collection (tangible) 'event'\n",
    "event = such_that(event, space)\n",
    "if isinstance(space, ProbDist):\n",
    "# if space is a dictionary of distinct probabilities, where each item does not count as the same amount\n",
    "return sum([space[o] for o in space if o in event])\n",
    "else:\n",
    "# space is not a dictionary but a collection, let's fall back to our original division\n",
    "return Fraction(len(event & space), len(space))\n"
   ]
  },
  {
   "cell_type": "code",
   "execution_count": null,
   "id": "5fc935af",
   "metadata": {},
   "outputs": [],
   "source": [
    "def such_that(predicate, space):\n",
    "\n",
    "\n",
    "    \"\"\"The outcomes in the sample pace for which the predicate is true.\n",
    "    If space is a set, return a subset {outcome,...} with outcomes where predicate(element) is true;\n",
    "    if space is a ProbDist, return a ProbDist {outcome: frequency,...} with outcomes where predicate(element) is true.\"\"\"\n",
    "if isinstance(space, ProbDist):\n",
    "    return ProbDist({o: space[o] for o in space if predicate(o)})\n",
    "else:\n",
    "    return {o for o in space if predicate(o)}\n"
   ]
  },
  {
   "cell_type": "code",
   "execution_count": null,
   "id": "9cada8ac",
   "metadata": {},
   "outputs": [],
   "source": [
    "DK = ProbDist(GG=121801, GB=126840,\n",
    "              BG=127123, BB=135138)\n",
    "DK"
   ]
  }
 ],
 "metadata": {
  "kernelspec": {
   "display_name": "Python 3 (ipykernel)",
   "language": "python",
   "name": "python3"
  },
  "language_info": {
   "codemirror_mode": {
    "name": "ipython",
    "version": 3
   },
   "file_extension": ".py",
   "mimetype": "text/x-python",
   "name": "python",
   "nbconvert_exporter": "python",
   "pygments_lexer": "ipython3",
   "version": "3.9.7"
  }
 },
 "nbformat": 4,
 "nbformat_minor": 5
}
