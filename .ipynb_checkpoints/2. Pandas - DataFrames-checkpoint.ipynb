{
 "cells": [
  {
   "cell_type": "markdown",
   "id": "1dac69c6-f196-4c22-890e-ceb053bda139",
   "metadata": {},
   "source": [
    "## <font color = 'red'>Dataframes in Pandas </font>\n",
    "\n",
    "> ### _DF are more like a table_"
   ]
  },
  {
   "cell_type": "code",
   "execution_count": 31,
   "id": "42f693a5-45a6-4452-ab5c-3d3f5483a58e",
   "metadata": {},
   "outputs": [],
   "source": [
    "import numpy as np\n",
    "import pandas as pd"
   ]
  },
  {
   "cell_type": "code",
   "execution_count": 32,
   "id": "0c94fc58-7bdb-43de-9c14-977bfb4d730c",
   "metadata": {},
   "outputs": [],
   "source": [
    "df = pd.DataFrame({\n",
    "    'Population' : [23.445, 44.445, 33.656, 66.565, 67.445],\n",
    "    'GDP' : [\n",
    "        123456,\n",
    "         233443,\n",
    "         234234,\n",
    "         324324,\n",
    "         766767           \n",
    "    ],\n",
    "    'Surface Area' : [\n",
    "        342343,\n",
    "        23423424,\n",
    "        657567,\n",
    "        565464,\n",
    "        879878        \n",
    "    ],\n",
    "    'HDI' : [\n",
    "        0.556,\n",
    "        0.784,\n",
    "        0.556,\n",
    "        0.895,\n",
    "        0.578        \n",
    "    ],\n",
    "    'Continent' : [\n",
    "        'America',\n",
    "        'Europe',\n",
    "        'Europe',\n",
    "        'Europe',\n",
    "        'Asia'        \n",
    "    ]\n",
    "    \n",
    "}, columns=['Population','GDP','Surface Area','HDI','Continent'])"
   ]
  },
  {
   "cell_type": "markdown",
   "id": "77651047-4a8b-4c90-8378-d647bdf61d43",
   "metadata": {},
   "source": [
    "#### _Columns are kept to keep the column orders in same sequence._"
   ]
  },
  {
   "cell_type": "code",
   "execution_count": 33,
   "id": "1743964e-db70-412f-b76b-5533fc593fe8",
   "metadata": {},
   "outputs": [
    {
     "data": {
      "text/html": [
       "<div>\n",
       "<style scoped>\n",
       "    .dataframe tbody tr th:only-of-type {\n",
       "        vertical-align: middle;\n",
       "    }\n",
       "\n",
       "    .dataframe tbody tr th {\n",
       "        vertical-align: top;\n",
       "    }\n",
       "\n",
       "    .dataframe thead th {\n",
       "        text-align: right;\n",
       "    }\n",
       "</style>\n",
       "<table border=\"1\" class=\"dataframe\">\n",
       "  <thead>\n",
       "    <tr style=\"text-align: right;\">\n",
       "      <th></th>\n",
       "      <th>Population</th>\n",
       "      <th>GDP</th>\n",
       "      <th>Surface Area</th>\n",
       "      <th>HDI</th>\n",
       "      <th>Continent</th>\n",
       "    </tr>\n",
       "  </thead>\n",
       "  <tbody>\n",
       "    <tr>\n",
       "      <th>0</th>\n",
       "      <td>23.445</td>\n",
       "      <td>123456</td>\n",
       "      <td>342343</td>\n",
       "      <td>0.556</td>\n",
       "      <td>America</td>\n",
       "    </tr>\n",
       "    <tr>\n",
       "      <th>1</th>\n",
       "      <td>44.445</td>\n",
       "      <td>233443</td>\n",
       "      <td>23423424</td>\n",
       "      <td>0.784</td>\n",
       "      <td>Europe</td>\n",
       "    </tr>\n",
       "    <tr>\n",
       "      <th>2</th>\n",
       "      <td>33.656</td>\n",
       "      <td>234234</td>\n",
       "      <td>657567</td>\n",
       "      <td>0.556</td>\n",
       "      <td>Europe</td>\n",
       "    </tr>\n",
       "    <tr>\n",
       "      <th>3</th>\n",
       "      <td>66.565</td>\n",
       "      <td>324324</td>\n",
       "      <td>565464</td>\n",
       "      <td>0.895</td>\n",
       "      <td>Europe</td>\n",
       "    </tr>\n",
       "    <tr>\n",
       "      <th>4</th>\n",
       "      <td>67.445</td>\n",
       "      <td>766767</td>\n",
       "      <td>879878</td>\n",
       "      <td>0.578</td>\n",
       "      <td>Asia</td>\n",
       "    </tr>\n",
       "  </tbody>\n",
       "</table>\n",
       "</div>"
      ],
      "text/plain": [
       "   Population     GDP  Surface Area    HDI Continent\n",
       "0      23.445  123456        342343  0.556   America\n",
       "1      44.445  233443      23423424  0.784    Europe\n",
       "2      33.656  234234        657567  0.556    Europe\n",
       "3      66.565  324324        565464  0.895    Europe\n",
       "4      67.445  766767        879878  0.578      Asia"
      ]
     },
     "execution_count": 33,
     "metadata": {},
     "output_type": "execute_result"
    }
   ],
   "source": [
    "df"
   ]
  },
  {
   "cell_type": "code",
   "execution_count": 38,
   "id": "f2650ce6-6550-4fb3-9995-0915047e8242",
   "metadata": {},
   "outputs": [],
   "source": [
    "df.index = [\n",
    "    'Canada',\n",
    "    'France',\n",
    "    'Germany',\n",
    "    'Italy',\n",
    "    'China'\n",
    "]"
   ]
  },
  {
   "cell_type": "code",
   "execution_count": 39,
   "id": "0fd3721e-3da5-4a8a-965c-ee85259d531c",
   "metadata": {},
   "outputs": [
    {
     "data": {
      "text/html": [
       "<div>\n",
       "<style scoped>\n",
       "    .dataframe tbody tr th:only-of-type {\n",
       "        vertical-align: middle;\n",
       "    }\n",
       "\n",
       "    .dataframe tbody tr th {\n",
       "        vertical-align: top;\n",
       "    }\n",
       "\n",
       "    .dataframe thead th {\n",
       "        text-align: right;\n",
       "    }\n",
       "</style>\n",
       "<table border=\"1\" class=\"dataframe\">\n",
       "  <thead>\n",
       "    <tr style=\"text-align: right;\">\n",
       "      <th></th>\n",
       "      <th>Population</th>\n",
       "      <th>GDP</th>\n",
       "      <th>Surface Area</th>\n",
       "      <th>HDI</th>\n",
       "      <th>Continent</th>\n",
       "    </tr>\n",
       "  </thead>\n",
       "  <tbody>\n",
       "    <tr>\n",
       "      <th>Canada</th>\n",
       "      <td>23.445</td>\n",
       "      <td>123456</td>\n",
       "      <td>342343</td>\n",
       "      <td>0.556</td>\n",
       "      <td>America</td>\n",
       "    </tr>\n",
       "    <tr>\n",
       "      <th>France</th>\n",
       "      <td>44.445</td>\n",
       "      <td>233443</td>\n",
       "      <td>23423424</td>\n",
       "      <td>0.784</td>\n",
       "      <td>Europe</td>\n",
       "    </tr>\n",
       "    <tr>\n",
       "      <th>Germany</th>\n",
       "      <td>33.656</td>\n",
       "      <td>234234</td>\n",
       "      <td>657567</td>\n",
       "      <td>0.556</td>\n",
       "      <td>Europe</td>\n",
       "    </tr>\n",
       "    <tr>\n",
       "      <th>Italy</th>\n",
       "      <td>66.565</td>\n",
       "      <td>324324</td>\n",
       "      <td>565464</td>\n",
       "      <td>0.895</td>\n",
       "      <td>Europe</td>\n",
       "    </tr>\n",
       "    <tr>\n",
       "      <th>China</th>\n",
       "      <td>67.445</td>\n",
       "      <td>766767</td>\n",
       "      <td>879878</td>\n",
       "      <td>0.578</td>\n",
       "      <td>Asia</td>\n",
       "    </tr>\n",
       "  </tbody>\n",
       "</table>\n",
       "</div>"
      ],
      "text/plain": [
       "         Population     GDP  Surface Area    HDI Continent\n",
       "Canada       23.445  123456        342343  0.556   America\n",
       "France       44.445  233443      23423424  0.784    Europe\n",
       "Germany      33.656  234234        657567  0.556    Europe\n",
       "Italy        66.565  324324        565464  0.895    Europe\n",
       "China        67.445  766767        879878  0.578      Asia"
      ]
     },
     "execution_count": 39,
     "metadata": {},
     "output_type": "execute_result"
    }
   ],
   "source": [
    "df"
   ]
  },
  {
   "cell_type": "code",
   "execution_count": 6,
   "id": "871bec6c-e0d6-4022-ab38-99b72727917f",
   "metadata": {},
   "outputs": [
    {
     "data": {
      "text/plain": [
       "Index(['Population', 'GDP', 'Surface Area', 'HDI', 'Continent'], dtype='object')"
      ]
     },
     "execution_count": 6,
     "metadata": {},
     "output_type": "execute_result"
    }
   ],
   "source": [
    "df.columns"
   ]
  },
  {
   "cell_type": "code",
   "execution_count": 7,
   "id": "4bc6c230-e546-43e3-9ff1-aeb87b10fb5e",
   "metadata": {},
   "outputs": [
    {
     "data": {
      "text/plain": [
       "Index(['Canada', 'France', 'Germany', 'Italy', 'China'], dtype='object')"
      ]
     },
     "execution_count": 7,
     "metadata": {},
     "output_type": "execute_result"
    }
   ],
   "source": [
    " df.index"
   ]
  },
  {
   "cell_type": "code",
   "execution_count": 8,
   "id": "88d0f488-a16d-4371-8d7e-687248bab393",
   "metadata": {},
   "outputs": [
    {
     "name": "stdout",
     "output_type": "stream",
     "text": [
      "<class 'pandas.core.frame.DataFrame'>\n",
      "Index: 5 entries, Canada to China\n",
      "Data columns (total 5 columns):\n",
      " #   Column        Non-Null Count  Dtype  \n",
      "---  ------        --------------  -----  \n",
      " 0   Population    5 non-null      float64\n",
      " 1   GDP           5 non-null      int64  \n",
      " 2   Surface Area  5 non-null      int64  \n",
      " 3   HDI           5 non-null      float64\n",
      " 4   Continent     5 non-null      object \n",
      "dtypes: float64(2), int64(2), object(1)\n",
      "memory usage: 240.0+ bytes\n"
     ]
    }
   ],
   "source": [
    "df.info()"
   ]
  },
  {
   "cell_type": "code",
   "execution_count": 11,
   "id": "3ac20b9c-d5de-4d4c-84d7-768f691d532f",
   "metadata": {},
   "outputs": [
    {
     "data": {
      "text/plain": [
       "(5, 5)"
      ]
     },
     "execution_count": 11,
     "metadata": {},
     "output_type": "execute_result"
    }
   ],
   "source": [
    " df.shape"
   ]
  },
  {
   "cell_type": "code",
   "execution_count": 10,
   "id": "df5c29c9-00ba-4283-af34-9547c53548de",
   "metadata": {},
   "outputs": [
    {
     "data": {
      "text/html": [
       "<div>\n",
       "<style scoped>\n",
       "    .dataframe tbody tr th:only-of-type {\n",
       "        vertical-align: middle;\n",
       "    }\n",
       "\n",
       "    .dataframe tbody tr th {\n",
       "        vertical-align: top;\n",
       "    }\n",
       "\n",
       "    .dataframe thead th {\n",
       "        text-align: right;\n",
       "    }\n",
       "</style>\n",
       "<table border=\"1\" class=\"dataframe\">\n",
       "  <thead>\n",
       "    <tr style=\"text-align: right;\">\n",
       "      <th></th>\n",
       "      <th>Population</th>\n",
       "      <th>GDP</th>\n",
       "      <th>Surface Area</th>\n",
       "      <th>HDI</th>\n",
       "      <th>Continent</th>\n",
       "    </tr>\n",
       "  </thead>\n",
       "  <tbody>\n",
       "    <tr>\n",
       "      <th>Canada</th>\n",
       "      <td>23.445</td>\n",
       "      <td>123456</td>\n",
       "      <td>342343</td>\n",
       "      <td>0.556</td>\n",
       "      <td>America</td>\n",
       "    </tr>\n",
       "    <tr>\n",
       "      <th>France</th>\n",
       "      <td>44.445</td>\n",
       "      <td>233443</td>\n",
       "      <td>23423424</td>\n",
       "      <td>0.784</td>\n",
       "      <td>Europe</td>\n",
       "    </tr>\n",
       "    <tr>\n",
       "      <th>Germany</th>\n",
       "      <td>33.656</td>\n",
       "      <td>234234</td>\n",
       "      <td>657567</td>\n",
       "      <td>0.556</td>\n",
       "      <td>Europe</td>\n",
       "    </tr>\n",
       "    <tr>\n",
       "      <th>Italy</th>\n",
       "      <td>66.565</td>\n",
       "      <td>324324</td>\n",
       "      <td>565464</td>\n",
       "      <td>0.895</td>\n",
       "      <td>Europe</td>\n",
       "    </tr>\n",
       "    <tr>\n",
       "      <th>China</th>\n",
       "      <td>67.445</td>\n",
       "      <td>766767</td>\n",
       "      <td>879878</td>\n",
       "      <td>0.578</td>\n",
       "      <td>Asia</td>\n",
       "    </tr>\n",
       "  </tbody>\n",
       "</table>\n",
       "</div>"
      ],
      "text/plain": [
       "         Population     GDP  Surface Area    HDI Continent\n",
       "Canada       23.445  123456        342343  0.556   America\n",
       "France       44.445  233443      23423424  0.784    Europe\n",
       "Germany      33.656  234234        657567  0.556    Europe\n",
       "Italy        66.565  324324        565464  0.895    Europe\n",
       "China        67.445  766767        879878  0.578      Asia"
      ]
     },
     "execution_count": 10,
     "metadata": {},
     "output_type": "execute_result"
    }
   ],
   "source": [
    "df"
   ]
  },
  {
   "cell_type": "code",
   "execution_count": 11,
   "id": "00686259-1f99-40f5-ad61-14ae6343f421",
   "metadata": {},
   "outputs": [
    {
     "data": {
      "text/html": [
       "<div>\n",
       "<style scoped>\n",
       "    .dataframe tbody tr th:only-of-type {\n",
       "        vertical-align: middle;\n",
       "    }\n",
       "\n",
       "    .dataframe tbody tr th {\n",
       "        vertical-align: top;\n",
       "    }\n",
       "\n",
       "    .dataframe thead th {\n",
       "        text-align: right;\n",
       "    }\n",
       "</style>\n",
       "<table border=\"1\" class=\"dataframe\">\n",
       "  <thead>\n",
       "    <tr style=\"text-align: right;\">\n",
       "      <th></th>\n",
       "      <th>Population</th>\n",
       "      <th>GDP</th>\n",
       "      <th>Surface Area</th>\n",
       "      <th>HDI</th>\n",
       "    </tr>\n",
       "  </thead>\n",
       "  <tbody>\n",
       "    <tr>\n",
       "      <th>count</th>\n",
       "      <td>5.000000</td>\n",
       "      <td>5.000000</td>\n",
       "      <td>5.000000e+00</td>\n",
       "      <td>5.000000</td>\n",
       "    </tr>\n",
       "    <tr>\n",
       "      <th>mean</th>\n",
       "      <td>47.111200</td>\n",
       "      <td>336444.800000</td>\n",
       "      <td>5.173735e+06</td>\n",
       "      <td>0.673800</td>\n",
       "    </tr>\n",
       "    <tr>\n",
       "      <th>std</th>\n",
       "      <td>19.622397</td>\n",
       "      <td>250870.861685</td>\n",
       "      <td>1.020371e+07</td>\n",
       "      <td>0.156529</td>\n",
       "    </tr>\n",
       "    <tr>\n",
       "      <th>min</th>\n",
       "      <td>23.445000</td>\n",
       "      <td>123456.000000</td>\n",
       "      <td>3.423430e+05</td>\n",
       "      <td>0.556000</td>\n",
       "    </tr>\n",
       "    <tr>\n",
       "      <th>25%</th>\n",
       "      <td>33.656000</td>\n",
       "      <td>233443.000000</td>\n",
       "      <td>5.654640e+05</td>\n",
       "      <td>0.556000</td>\n",
       "    </tr>\n",
       "    <tr>\n",
       "      <th>50%</th>\n",
       "      <td>44.445000</td>\n",
       "      <td>234234.000000</td>\n",
       "      <td>6.575670e+05</td>\n",
       "      <td>0.578000</td>\n",
       "    </tr>\n",
       "    <tr>\n",
       "      <th>75%</th>\n",
       "      <td>66.565000</td>\n",
       "      <td>324324.000000</td>\n",
       "      <td>8.798780e+05</td>\n",
       "      <td>0.784000</td>\n",
       "    </tr>\n",
       "    <tr>\n",
       "      <th>max</th>\n",
       "      <td>67.445000</td>\n",
       "      <td>766767.000000</td>\n",
       "      <td>2.342342e+07</td>\n",
       "      <td>0.895000</td>\n",
       "    </tr>\n",
       "  </tbody>\n",
       "</table>\n",
       "</div>"
      ],
      "text/plain": [
       "       Population            GDP  Surface Area       HDI\n",
       "count    5.000000       5.000000  5.000000e+00  5.000000\n",
       "mean    47.111200  336444.800000  5.173735e+06  0.673800\n",
       "std     19.622397  250870.861685  1.020371e+07  0.156529\n",
       "min     23.445000  123456.000000  3.423430e+05  0.556000\n",
       "25%     33.656000  233443.000000  5.654640e+05  0.556000\n",
       "50%     44.445000  234234.000000  6.575670e+05  0.578000\n",
       "75%     66.565000  324324.000000  8.798780e+05  0.784000\n",
       "max     67.445000  766767.000000  2.342342e+07  0.895000"
      ]
     },
     "execution_count": 11,
     "metadata": {},
     "output_type": "execute_result"
    }
   ],
   "source": [
    "df.describe() # only visible for numeric columns/ statistic fields"
   ]
  },
  {
   "cell_type": "code",
   "execution_count": 12,
   "id": "99aa79a5-87a8-4ee1-b753-1e2b489174d1",
   "metadata": {},
   "outputs": [
    {
     "data": {
      "text/plain": [
       "Population      float64\n",
       "GDP               int64\n",
       "Surface Area      int64\n",
       "HDI             float64\n",
       "Continent        object\n",
       "dtype: object"
      ]
     },
     "execution_count": 12,
     "metadata": {},
     "output_type": "execute_result"
    }
   ],
   "source": [
    "df.dtypes # data types of fields"
   ]
  },
  {
   "cell_type": "code",
   "execution_count": 13,
   "id": "28b88660-4bc6-4d53-9ff2-6664b30e13d5",
   "metadata": {},
   "outputs": [
    {
     "data": {
      "text/plain": [
       "25"
      ]
     },
     "execution_count": 13,
     "metadata": {},
     "output_type": "execute_result"
    }
   ],
   "source": [
    "df.size"
   ]
  },
  {
   "cell_type": "code",
   "execution_count": 14,
   "id": "9773fb2f-0416-4771-9bdf-373dc293d313",
   "metadata": {},
   "outputs": [
    {
     "data": {
      "text/plain": [
       "int64      2\n",
       "float64    2\n",
       "object     1\n",
       "dtype: int64"
      ]
     },
     "execution_count": 14,
     "metadata": {},
     "output_type": "execute_result"
    }
   ],
   "source": [
    "df.dtypes.value_counts()"
   ]
  },
  {
   "cell_type": "markdown",
   "id": "e11edd15-da06-4044-825d-55ec7e36bb40",
   "metadata": {},
   "source": [
    "![green-divider](https://user-images.githubusercontent.com/7065401/52071924-c003ad80-2562-11e9-8297-1c6595f8a7ff.png)\n",
    "\n",
    "## Indexing, Slicing and Selection"
   ]
  },
  {
   "cell_type": "code",
   "execution_count": 40,
   "id": "caff5865-2160-4c2e-9155-f89cf560664e",
   "metadata": {},
   "outputs": [
    {
     "data": {
      "text/html": [
       "<div>\n",
       "<style scoped>\n",
       "    .dataframe tbody tr th:only-of-type {\n",
       "        vertical-align: middle;\n",
       "    }\n",
       "\n",
       "    .dataframe tbody tr th {\n",
       "        vertical-align: top;\n",
       "    }\n",
       "\n",
       "    .dataframe thead th {\n",
       "        text-align: right;\n",
       "    }\n",
       "</style>\n",
       "<table border=\"1\" class=\"dataframe\">\n",
       "  <thead>\n",
       "    <tr style=\"text-align: right;\">\n",
       "      <th></th>\n",
       "      <th>Population</th>\n",
       "      <th>GDP</th>\n",
       "      <th>Surface Area</th>\n",
       "      <th>HDI</th>\n",
       "      <th>Continent</th>\n",
       "    </tr>\n",
       "  </thead>\n",
       "  <tbody>\n",
       "    <tr>\n",
       "      <th>Canada</th>\n",
       "      <td>23.445</td>\n",
       "      <td>123456</td>\n",
       "      <td>342343</td>\n",
       "      <td>0.556</td>\n",
       "      <td>America</td>\n",
       "    </tr>\n",
       "    <tr>\n",
       "      <th>France</th>\n",
       "      <td>44.445</td>\n",
       "      <td>233443</td>\n",
       "      <td>23423424</td>\n",
       "      <td>0.784</td>\n",
       "      <td>Europe</td>\n",
       "    </tr>\n",
       "    <tr>\n",
       "      <th>Germany</th>\n",
       "      <td>33.656</td>\n",
       "      <td>234234</td>\n",
       "      <td>657567</td>\n",
       "      <td>0.556</td>\n",
       "      <td>Europe</td>\n",
       "    </tr>\n",
       "    <tr>\n",
       "      <th>Italy</th>\n",
       "      <td>66.565</td>\n",
       "      <td>324324</td>\n",
       "      <td>565464</td>\n",
       "      <td>0.895</td>\n",
       "      <td>Europe</td>\n",
       "    </tr>\n",
       "    <tr>\n",
       "      <th>China</th>\n",
       "      <td>67.445</td>\n",
       "      <td>766767</td>\n",
       "      <td>879878</td>\n",
       "      <td>0.578</td>\n",
       "      <td>Asia</td>\n",
       "    </tr>\n",
       "  </tbody>\n",
       "</table>\n",
       "</div>"
      ],
      "text/plain": [
       "         Population     GDP  Surface Area    HDI Continent\n",
       "Canada       23.445  123456        342343  0.556   America\n",
       "France       44.445  233443      23423424  0.784    Europe\n",
       "Germany      33.656  234234        657567  0.556    Europe\n",
       "Italy        66.565  324324        565464  0.895    Europe\n",
       "China        67.445  766767        879878  0.578      Asia"
      ]
     },
     "execution_count": 40,
     "metadata": {},
     "output_type": "execute_result"
    }
   ],
   "source": [
    "df"
   ]
  },
  {
   "cell_type": "code",
   "execution_count": 41,
   "id": "f0be57c1-3b8d-4941-b7b1-7f2d46cc4532",
   "metadata": {},
   "outputs": [
    {
     "data": {
      "text/plain": [
       "Population       23.445\n",
       "GDP              123456\n",
       "Surface Area     342343\n",
       "HDI               0.556\n",
       "Continent       America\n",
       "Name: Canada, dtype: object"
      ]
     },
     "execution_count": 41,
     "metadata": {},
     "output_type": "execute_result"
    }
   ],
   "source": [
    "df.loc['Canada'] #loc does a transpose of the dataframe"
   ]
  },
  {
   "cell_type": "code",
   "execution_count": 42,
   "id": "35b717ab-2199-47bf-9f84-018adc294d90",
   "metadata": {},
   "outputs": [
    {
     "data": {
      "text/plain": [
       "Population      66.565\n",
       "GDP             324324\n",
       "Surface Area    565464\n",
       "HDI              0.895\n",
       "Continent       Europe\n",
       "Name: Italy, dtype: object"
      ]
     },
     "execution_count": 42,
     "metadata": {},
     "output_type": "execute_result"
    }
   ],
   "source": [
    "df.loc['Italy'] #horizontal data filter"
   ]
  },
  {
   "cell_type": "code",
   "execution_count": 35,
   "id": "440b4c97-042f-4a6d-8fd4-c6aaa46ce754",
   "metadata": {},
   "outputs": [
    {
     "data": {
      "text/plain": [
       "Population        44.445\n",
       "GDP               233443\n",
       "Surface Area    23423424\n",
       "HDI                0.784\n",
       "Continent         Europe\n",
       "Name: 1, dtype: object"
      ]
     },
     "execution_count": 35,
     "metadata": {},
     "output_type": "execute_result"
    }
   ],
   "source": [
    "df.iloc[1] #iloc allows to feed the numerical index #horizontal data filter"
   ]
  },
  {
   "cell_type": "code",
   "execution_count": 36,
   "id": "13c19d8e-b635-400c-ac3d-82da35f5007d",
   "metadata": {},
   "outputs": [
    {
     "data": {
      "text/plain": [
       "0    23.445\n",
       "1    44.445\n",
       "2    33.656\n",
       "3    66.565\n",
       "4    67.445\n",
       "Name: Population, dtype: float64"
      ]
     },
     "execution_count": 36,
     "metadata": {},
     "output_type": "execute_result"
    }
   ],
   "source": [
    "df['Population'] # column level data for all the rows #vertical data filter"
   ]
  },
  {
   "cell_type": "code",
   "execution_count": 20,
   "id": "106d3f7f-daee-4923-9c4b-34a5c72deb01",
   "metadata": {},
   "outputs": [
    {
     "data": {
      "text/html": [
       "<div>\n",
       "<style scoped>\n",
       "    .dataframe tbody tr th:only-of-type {\n",
       "        vertical-align: middle;\n",
       "    }\n",
       "\n",
       "    .dataframe tbody tr th {\n",
       "        vertical-align: top;\n",
       "    }\n",
       "\n",
       "    .dataframe thead th {\n",
       "        text-align: right;\n",
       "    }\n",
       "</style>\n",
       "<table border=\"1\" class=\"dataframe\">\n",
       "  <thead>\n",
       "    <tr style=\"text-align: right;\">\n",
       "      <th></th>\n",
       "      <th>Population</th>\n",
       "      <th>GDP</th>\n",
       "      <th>Surface Area</th>\n",
       "      <th>HDI</th>\n",
       "      <th>Continent</th>\n",
       "    </tr>\n",
       "  </thead>\n",
       "  <tbody>\n",
       "    <tr>\n",
       "      <th>Canada</th>\n",
       "      <td>23.445</td>\n",
       "      <td>123456</td>\n",
       "      <td>342343</td>\n",
       "      <td>0.556</td>\n",
       "      <td>America</td>\n",
       "    </tr>\n",
       "    <tr>\n",
       "      <th>France</th>\n",
       "      <td>44.445</td>\n",
       "      <td>233443</td>\n",
       "      <td>23423424</td>\n",
       "      <td>0.784</td>\n",
       "      <td>Europe</td>\n",
       "    </tr>\n",
       "    <tr>\n",
       "      <th>Germany</th>\n",
       "      <td>33.656</td>\n",
       "      <td>234234</td>\n",
       "      <td>657567</td>\n",
       "      <td>0.556</td>\n",
       "      <td>Europe</td>\n",
       "    </tr>\n",
       "    <tr>\n",
       "      <th>Italy</th>\n",
       "      <td>66.565</td>\n",
       "      <td>324324</td>\n",
       "      <td>565464</td>\n",
       "      <td>0.895</td>\n",
       "      <td>Europe</td>\n",
       "    </tr>\n",
       "    <tr>\n",
       "      <th>China</th>\n",
       "      <td>67.445</td>\n",
       "      <td>766767</td>\n",
       "      <td>879878</td>\n",
       "      <td>0.578</td>\n",
       "      <td>Asia</td>\n",
       "    </tr>\n",
       "  </tbody>\n",
       "</table>\n",
       "</div>"
      ],
      "text/plain": [
       "         Population     GDP  Surface Area    HDI Continent\n",
       "Canada       23.445  123456        342343  0.556   America\n",
       "France       44.445  233443      23423424  0.784    Europe\n",
       "Germany      33.656  234234        657567  0.556    Europe\n",
       "Italy        66.565  324324        565464  0.895    Europe\n",
       "China        67.445  766767        879878  0.578      Asia"
      ]
     },
     "execution_count": 20,
     "metadata": {},
     "output_type": "execute_result"
    }
   ],
   "source": [
    "df"
   ]
  },
  {
   "cell_type": "code",
   "execution_count": 21,
   "id": "d7be1896-6ae0-4693-875d-9b79d2686ade",
   "metadata": {},
   "outputs": [
    {
     "data": {
      "text/html": [
       "<div>\n",
       "<style scoped>\n",
       "    .dataframe tbody tr th:only-of-type {\n",
       "        vertical-align: middle;\n",
       "    }\n",
       "\n",
       "    .dataframe tbody tr th {\n",
       "        vertical-align: top;\n",
       "    }\n",
       "\n",
       "    .dataframe thead th {\n",
       "        text-align: right;\n",
       "    }\n",
       "</style>\n",
       "<table border=\"1\" class=\"dataframe\">\n",
       "  <thead>\n",
       "    <tr style=\"text-align: right;\">\n",
       "      <th></th>\n",
       "      <th>Population</th>\n",
       "    </tr>\n",
       "  </thead>\n",
       "  <tbody>\n",
       "    <tr>\n",
       "      <th>Canada</th>\n",
       "      <td>23.445</td>\n",
       "    </tr>\n",
       "    <tr>\n",
       "      <th>France</th>\n",
       "      <td>44.445</td>\n",
       "    </tr>\n",
       "    <tr>\n",
       "      <th>Germany</th>\n",
       "      <td>33.656</td>\n",
       "    </tr>\n",
       "    <tr>\n",
       "      <th>Italy</th>\n",
       "      <td>66.565</td>\n",
       "    </tr>\n",
       "    <tr>\n",
       "      <th>China</th>\n",
       "      <td>67.445</td>\n",
       "    </tr>\n",
       "  </tbody>\n",
       "</table>\n",
       "</div>"
      ],
      "text/plain": [
       "         Population\n",
       "Canada       23.445\n",
       "France       44.445\n",
       "Germany      33.656\n",
       "Italy        66.565\n",
       "China        67.445"
      ]
     },
     "execution_count": 21,
     "metadata": {},
     "output_type": "execute_result"
    }
   ],
   "source": [
    "# we can use to_Frame to see the output series data in DataFrame format itself..\n",
    "df['Population'].to_frame()"
   ]
  },
  {
   "cell_type": "code",
   "execution_count": 22,
   "id": "314274d7-082d-46da-9795-70ea8635910a",
   "metadata": {},
   "outputs": [
    {
     "data": {
      "text/html": [
       "<div>\n",
       "<style scoped>\n",
       "    .dataframe tbody tr th:only-of-type {\n",
       "        vertical-align: middle;\n",
       "    }\n",
       "\n",
       "    .dataframe tbody tr th {\n",
       "        vertical-align: top;\n",
       "    }\n",
       "\n",
       "    .dataframe thead th {\n",
       "        text-align: right;\n",
       "    }\n",
       "</style>\n",
       "<table border=\"1\" class=\"dataframe\">\n",
       "  <thead>\n",
       "    <tr style=\"text-align: right;\">\n",
       "      <th></th>\n",
       "      <th>Population</th>\n",
       "      <th>GDP</th>\n",
       "    </tr>\n",
       "  </thead>\n",
       "  <tbody>\n",
       "    <tr>\n",
       "      <th>Canada</th>\n",
       "      <td>23.445</td>\n",
       "      <td>123456</td>\n",
       "    </tr>\n",
       "    <tr>\n",
       "      <th>France</th>\n",
       "      <td>44.445</td>\n",
       "      <td>233443</td>\n",
       "    </tr>\n",
       "    <tr>\n",
       "      <th>Germany</th>\n",
       "      <td>33.656</td>\n",
       "      <td>234234</td>\n",
       "    </tr>\n",
       "    <tr>\n",
       "      <th>Italy</th>\n",
       "      <td>66.565</td>\n",
       "      <td>324324</td>\n",
       "    </tr>\n",
       "    <tr>\n",
       "      <th>China</th>\n",
       "      <td>67.445</td>\n",
       "      <td>766767</td>\n",
       "    </tr>\n",
       "  </tbody>\n",
       "</table>\n",
       "</div>"
      ],
      "text/plain": [
       "         Population     GDP\n",
       "Canada       23.445  123456\n",
       "France       44.445  233443\n",
       "Germany      33.656  234234\n",
       "Italy        66.565  324324\n",
       "China        67.445  766767"
      ]
     },
     "execution_count": 22,
     "metadata": {},
     "output_type": "execute_result"
    }
   ],
   "source": [
    "df[['Population','GDP']] # can be selected multiple columns from dataframe"
   ]
  },
  {
   "cell_type": "code",
   "execution_count": 23,
   "id": "4a0e0003-ce13-4aa0-b95d-6a1deb13d8d9",
   "metadata": {},
   "outputs": [
    {
     "data": {
      "text/plain": [
       "Population       23.445\n",
       "GDP              123456\n",
       "Surface Area     342343\n",
       "HDI               0.556\n",
       "Continent       America\n",
       "Name: Canada, dtype: object"
      ]
     },
     "execution_count": 23,
     "metadata": {},
     "output_type": "execute_result"
    }
   ],
   "source": [
    "df.iloc[0]"
   ]
  },
  {
   "cell_type": "code",
   "execution_count": 43,
   "id": "04fe6179-181d-4f24-a5ea-5d1f57d5372a",
   "metadata": {},
   "outputs": [
    {
     "data": {
      "text/plain": [
       "Population      67.445\n",
       "GDP             766767\n",
       "Surface Area    879878\n",
       "HDI              0.578\n",
       "Continent         Asia\n",
       "Name: China, dtype: object"
      ]
     },
     "execution_count": 43,
     "metadata": {},
     "output_type": "execute_result"
    }
   ],
   "source": [
    "df.loc['China']"
   ]
  },
  {
   "cell_type": "code",
   "execution_count": 44,
   "id": "b37f3d79-2c19-4367-9a5b-88faa5cf6baa",
   "metadata": {},
   "outputs": [
    {
     "ename": "KeyError",
     "evalue": "('Population', 'Continent')",
     "output_type": "error",
     "traceback": [
      "\u001b[1;31m---------------------------------------------------------------------------\u001b[0m",
      "\u001b[1;31mKeyError\u001b[0m                                  Traceback (most recent call last)",
      "\u001b[1;32m~\\anaconda3\\lib\\site-packages\\pandas\\core\\indexes\\base.py\u001b[0m in \u001b[0;36mget_loc\u001b[1;34m(self, key, method, tolerance)\u001b[0m\n\u001b[0;32m   3079\u001b[0m             \u001b[1;32mif\u001b[0m \u001b[0mself\u001b[0m\u001b[1;33m.\u001b[0m\u001b[0mhas_duplicates\u001b[0m\u001b[1;33m:\u001b[0m\u001b[1;33m\u001b[0m\u001b[1;33m\u001b[0m\u001b[0m\n\u001b[1;32m-> 3080\u001b[1;33m                 \u001b[1;32mreturn\u001b[0m \u001b[0mself\u001b[0m\u001b[1;33m.\u001b[0m\u001b[0munique\u001b[0m\u001b[1;33m(\u001b[0m\u001b[1;33m)\u001b[0m\u001b[1;33m.\u001b[0m\u001b[0m_get_reconciled_name_object\u001b[0m\u001b[1;33m(\u001b[0m\u001b[0mother\u001b[0m\u001b[1;33m)\u001b[0m\u001b[1;33m\u001b[0m\u001b[1;33m\u001b[0m\u001b[0m\n\u001b[0m\u001b[0;32m   3081\u001b[0m             \u001b[1;32mreturn\u001b[0m \u001b[0mself\u001b[0m\u001b[1;33m.\u001b[0m\u001b[0m_get_reconciled_name_object\u001b[0m\u001b[1;33m(\u001b[0m\u001b[0mother\u001b[0m\u001b[1;33m)\u001b[0m\u001b[1;33m\u001b[0m\u001b[1;33m\u001b[0m\u001b[0m\n",
      "\u001b[1;32m~\\anaconda3\\lib\\site-packages\\pandas\\_libs\\index.pyx\u001b[0m in \u001b[0;36mpandas._libs.index.IndexEngine.get_loc\u001b[1;34m()\u001b[0m\n",
      "\u001b[1;32m~\\anaconda3\\lib\\site-packages\\pandas\\_libs\\index.pyx\u001b[0m in \u001b[0;36mpandas._libs.index.IndexEngine.get_loc\u001b[1;34m()\u001b[0m\n",
      "\u001b[1;32mpandas\\_libs\\hashtable_class_helper.pxi\u001b[0m in \u001b[0;36mpandas._libs.hashtable.PyObjectHashTable.get_item\u001b[1;34m()\u001b[0m\n",
      "\u001b[1;32mpandas\\_libs\\hashtable_class_helper.pxi\u001b[0m in \u001b[0;36mpandas._libs.hashtable.PyObjectHashTable.get_item\u001b[1;34m()\u001b[0m\n",
      "\u001b[1;31mKeyError\u001b[0m: ('Population', 'Continent')",
      "\nThe above exception was the direct cause of the following exception:\n",
      "\u001b[1;31mKeyError\u001b[0m                                  Traceback (most recent call last)",
      "\u001b[1;32m<ipython-input-44-9997c44ad647>\u001b[0m in \u001b[0;36m<module>\u001b[1;34m\u001b[0m\n\u001b[1;32m----> 1\u001b[1;33m \u001b[0mdf\u001b[0m\u001b[1;33m[\u001b[0m\u001b[1;34m'Population'\u001b[0m\u001b[1;33m,\u001b[0m\u001b[1;34m'Continent'\u001b[0m\u001b[1;33m]\u001b[0m\u001b[1;33m.\u001b[0m\u001b[0mto_frame\u001b[0m\u001b[1;33m(\u001b[0m\u001b[1;33m)\u001b[0m \u001b[1;31m# multiple need not be used with to_frame function\u001b[0m\u001b[1;33m\u001b[0m\u001b[1;33m\u001b[0m\u001b[0m\n\u001b[0m",
      "\u001b[1;32m~\\anaconda3\\lib\\site-packages\\pandas\\core\\frame.py\u001b[0m in \u001b[0;36m__getitem__\u001b[1;34m(self, key)\u001b[0m\n\u001b[0;32m   3022\u001b[0m             \u001b[1;36m1\u001b[0m        \u001b[1;36m2\u001b[0m     \u001b[0mbeta\u001b[0m       \u001b[1;36m0.25\u001b[0m\u001b[1;33m\u001b[0m\u001b[1;33m\u001b[0m\u001b[0m\n\u001b[0;32m   3023\u001b[0m             \u001b[1;36m2\u001b[0m        \u001b[1;36m3\u001b[0m    \u001b[0mgamma\u001b[0m       \u001b[1;36m0.50\u001b[0m\u001b[1;33m\u001b[0m\u001b[1;33m\u001b[0m\u001b[0m\n\u001b[1;32m-> 3024\u001b[1;33m             \u001b[1;36m3\u001b[0m        \u001b[1;36m4\u001b[0m    \u001b[0mdelta\u001b[0m       \u001b[1;36m0.75\u001b[0m\u001b[1;33m\u001b[0m\u001b[1;33m\u001b[0m\u001b[0m\n\u001b[0m\u001b[0;32m   3025\u001b[0m             \u001b[1;36m4\u001b[0m        \u001b[1;36m5\u001b[0m  \u001b[0mepsilon\u001b[0m       \u001b[1;36m1.00\u001b[0m\u001b[1;33m\u001b[0m\u001b[1;33m\u001b[0m\u001b[0m\n\u001b[0;32m   3026\u001b[0m \u001b[1;33m\u001b[0m\u001b[0m\n",
      "\u001b[1;32m~\\anaconda3\\lib\\site-packages\\pandas\\core\\indexes\\base.py\u001b[0m in \u001b[0;36mget_loc\u001b[1;34m(self, key, method, tolerance)\u001b[0m\n\u001b[0;32m   3080\u001b[0m                 \u001b[1;32mreturn\u001b[0m \u001b[0mself\u001b[0m\u001b[1;33m.\u001b[0m\u001b[0munique\u001b[0m\u001b[1;33m(\u001b[0m\u001b[1;33m)\u001b[0m\u001b[1;33m.\u001b[0m\u001b[0m_get_reconciled_name_object\u001b[0m\u001b[1;33m(\u001b[0m\u001b[0mother\u001b[0m\u001b[1;33m)\u001b[0m\u001b[1;33m\u001b[0m\u001b[1;33m\u001b[0m\u001b[0m\n\u001b[0;32m   3081\u001b[0m             \u001b[1;32mreturn\u001b[0m \u001b[0mself\u001b[0m\u001b[1;33m.\u001b[0m\u001b[0m_get_reconciled_name_object\u001b[0m\u001b[1;33m(\u001b[0m\u001b[0mother\u001b[0m\u001b[1;33m)\u001b[0m\u001b[1;33m\u001b[0m\u001b[1;33m\u001b[0m\u001b[0m\n\u001b[1;32m-> 3082\u001b[1;33m \u001b[1;33m\u001b[0m\u001b[0m\n\u001b[0m\u001b[0;32m   3083\u001b[0m         \u001b[1;32melif\u001b[0m \u001b[1;32mnot\u001b[0m \u001b[0mself\u001b[0m\u001b[1;33m.\u001b[0m\u001b[0m_should_compare\u001b[0m\u001b[1;33m(\u001b[0m\u001b[0mother\u001b[0m\u001b[1;33m)\u001b[0m\u001b[1;33m:\u001b[0m\u001b[1;33m\u001b[0m\u001b[1;33m\u001b[0m\u001b[0m\n\u001b[0;32m   3084\u001b[0m             \u001b[1;31m# We can infer that the intersection is empty.\u001b[0m\u001b[1;33m\u001b[0m\u001b[1;33m\u001b[0m\u001b[1;33m\u001b[0m\u001b[0m\n",
      "\u001b[1;31mKeyError\u001b[0m: ('Population', 'Continent')"
     ]
    }
   ],
   "source": [
    "df['Population','Continent'].to_frame() # multiple need not be used with to_frame function"
   ]
  },
  {
   "cell_type": "code",
   "execution_count": 31,
   "id": "20ad64f5-f2fc-4bf2-9c65-77c30d970684",
   "metadata": {},
   "outputs": [
    {
     "data": {
      "text/html": [
       "<div>\n",
       "<style scoped>\n",
       "    .dataframe tbody tr th:only-of-type {\n",
       "        vertical-align: middle;\n",
       "    }\n",
       "\n",
       "    .dataframe tbody tr th {\n",
       "        vertical-align: top;\n",
       "    }\n",
       "\n",
       "    .dataframe thead th {\n",
       "        text-align: right;\n",
       "    }\n",
       "</style>\n",
       "<table border=\"1\" class=\"dataframe\">\n",
       "  <thead>\n",
       "    <tr style=\"text-align: right;\">\n",
       "      <th></th>\n",
       "      <th>Population</th>\n",
       "      <th>GDP</th>\n",
       "      <th>Surface Area</th>\n",
       "      <th>HDI</th>\n",
       "      <th>Continent</th>\n",
       "    </tr>\n",
       "  </thead>\n",
       "  <tbody>\n",
       "    <tr>\n",
       "      <th>Canada</th>\n",
       "      <td>23.445</td>\n",
       "      <td>123456</td>\n",
       "      <td>342343</td>\n",
       "      <td>0.556</td>\n",
       "      <td>America</td>\n",
       "    </tr>\n",
       "    <tr>\n",
       "      <th>France</th>\n",
       "      <td>44.445</td>\n",
       "      <td>233443</td>\n",
       "      <td>23423424</td>\n",
       "      <td>0.784</td>\n",
       "      <td>Europe</td>\n",
       "    </tr>\n",
       "    <tr>\n",
       "      <th>Germany</th>\n",
       "      <td>33.656</td>\n",
       "      <td>234234</td>\n",
       "      <td>657567</td>\n",
       "      <td>0.556</td>\n",
       "      <td>Europe</td>\n",
       "    </tr>\n",
       "    <tr>\n",
       "      <th>Italy</th>\n",
       "      <td>66.565</td>\n",
       "      <td>324324</td>\n",
       "      <td>565464</td>\n",
       "      <td>0.895</td>\n",
       "      <td>Europe</td>\n",
       "    </tr>\n",
       "    <tr>\n",
       "      <th>China</th>\n",
       "      <td>67.445</td>\n",
       "      <td>766767</td>\n",
       "      <td>879878</td>\n",
       "      <td>0.578</td>\n",
       "      <td>Asia</td>\n",
       "    </tr>\n",
       "  </tbody>\n",
       "</table>\n",
       "</div>"
      ],
      "text/plain": [
       "         Population     GDP  Surface Area    HDI Continent\n",
       "Canada       23.445  123456        342343  0.556   America\n",
       "France       44.445  233443      23423424  0.784    Europe\n",
       "Germany      33.656  234234        657567  0.556    Europe\n",
       "Italy        66.565  324324        565464  0.895    Europe\n",
       "China        67.445  766767        879878  0.578      Asia"
      ]
     },
     "execution_count": 31,
     "metadata": {},
     "output_type": "execute_result"
    }
   ],
   "source": [
    "df"
   ]
  },
  {
   "cell_type": "code",
   "execution_count": 32,
   "id": "c4ada848-1ef0-44c8-8363-cd12e31d7624",
   "metadata": {},
   "outputs": [
    {
     "data": {
      "text/html": [
       "<div>\n",
       "<style scoped>\n",
       "    .dataframe tbody tr th:only-of-type {\n",
       "        vertical-align: middle;\n",
       "    }\n",
       "\n",
       "    .dataframe tbody tr th {\n",
       "        vertical-align: top;\n",
       "    }\n",
       "\n",
       "    .dataframe thead th {\n",
       "        text-align: right;\n",
       "    }\n",
       "</style>\n",
       "<table border=\"1\" class=\"dataframe\">\n",
       "  <thead>\n",
       "    <tr style=\"text-align: right;\">\n",
       "      <th></th>\n",
       "      <th>Population</th>\n",
       "      <th>GDP</th>\n",
       "      <th>Surface Area</th>\n",
       "      <th>HDI</th>\n",
       "      <th>Continent</th>\n",
       "    </tr>\n",
       "  </thead>\n",
       "  <tbody>\n",
       "    <tr>\n",
       "      <th>France</th>\n",
       "      <td>44.445</td>\n",
       "      <td>233443</td>\n",
       "      <td>23423424</td>\n",
       "      <td>0.784</td>\n",
       "      <td>Europe</td>\n",
       "    </tr>\n",
       "    <tr>\n",
       "      <th>Germany</th>\n",
       "      <td>33.656</td>\n",
       "      <td>234234</td>\n",
       "      <td>657567</td>\n",
       "      <td>0.556</td>\n",
       "      <td>Europe</td>\n",
       "    </tr>\n",
       "  </tbody>\n",
       "</table>\n",
       "</div>"
      ],
      "text/plain": [
       "         Population     GDP  Surface Area    HDI Continent\n",
       "France       44.445  233443      23423424  0.784    Europe\n",
       "Germany      33.656  234234        657567  0.556    Europe"
      ]
     },
     "execution_count": 32,
     "metadata": {},
     "output_type": "execute_result"
    }
   ],
   "source": [
    "df[1:3] #hifger limit is not included"
   ]
  },
  {
   "cell_type": "code",
   "execution_count": 33,
   "id": "5566d379-bc3b-46e2-8246-1b6b66e10209",
   "metadata": {},
   "outputs": [
    {
     "data": {
      "text/html": [
       "<div>\n",
       "<style scoped>\n",
       "    .dataframe tbody tr th:only-of-type {\n",
       "        vertical-align: middle;\n",
       "    }\n",
       "\n",
       "    .dataframe tbody tr th {\n",
       "        vertical-align: top;\n",
       "    }\n",
       "\n",
       "    .dataframe thead th {\n",
       "        text-align: right;\n",
       "    }\n",
       "</style>\n",
       "<table border=\"1\" class=\"dataframe\">\n",
       "  <thead>\n",
       "    <tr style=\"text-align: right;\">\n",
       "      <th></th>\n",
       "      <th>Population</th>\n",
       "      <th>GDP</th>\n",
       "      <th>Surface Area</th>\n",
       "      <th>HDI</th>\n",
       "      <th>Continent</th>\n",
       "    </tr>\n",
       "  </thead>\n",
       "  <tbody>\n",
       "    <tr>\n",
       "      <th>Canada</th>\n",
       "      <td>23.445</td>\n",
       "      <td>123456</td>\n",
       "      <td>342343</td>\n",
       "      <td>0.556</td>\n",
       "      <td>America</td>\n",
       "    </tr>\n",
       "    <tr>\n",
       "      <th>France</th>\n",
       "      <td>44.445</td>\n",
       "      <td>233443</td>\n",
       "      <td>23423424</td>\n",
       "      <td>0.784</td>\n",
       "      <td>Europe</td>\n",
       "    </tr>\n",
       "    <tr>\n",
       "      <th>Germany</th>\n",
       "      <td>33.656</td>\n",
       "      <td>234234</td>\n",
       "      <td>657567</td>\n",
       "      <td>0.556</td>\n",
       "      <td>Europe</td>\n",
       "    </tr>\n",
       "    <tr>\n",
       "      <th>Italy</th>\n",
       "      <td>66.565</td>\n",
       "      <td>324324</td>\n",
       "      <td>565464</td>\n",
       "      <td>0.895</td>\n",
       "      <td>Europe</td>\n",
       "    </tr>\n",
       "  </tbody>\n",
       "</table>\n",
       "</div>"
      ],
      "text/plain": [
       "         Population     GDP  Surface Area    HDI Continent\n",
       "Canada       23.445  123456        342343  0.556   America\n",
       "France       44.445  233443      23423424  0.784    Europe\n",
       "Germany      33.656  234234        657567  0.556    Europe\n",
       "Italy        66.565  324324        565464  0.895    Europe"
      ]
     },
     "execution_count": 33,
     "metadata": {},
     "output_type": "execute_result"
    }
   ],
   "source": [
    " df['Canada' : 'Italy']"
   ]
  },
  {
   "cell_type": "code",
   "execution_count": 34,
   "id": "35788fd2-fff4-4d67-9c5b-d86aa5e1c063",
   "metadata": {},
   "outputs": [
    {
     "data": {
      "text/html": [
       "<div>\n",
       "<style scoped>\n",
       "    .dataframe tbody tr th:only-of-type {\n",
       "        vertical-align: middle;\n",
       "    }\n",
       "\n",
       "    .dataframe tbody tr th {\n",
       "        vertical-align: top;\n",
       "    }\n",
       "\n",
       "    .dataframe thead th {\n",
       "        text-align: right;\n",
       "    }\n",
       "</style>\n",
       "<table border=\"1\" class=\"dataframe\">\n",
       "  <thead>\n",
       "    <tr style=\"text-align: right;\">\n",
       "      <th></th>\n",
       "      <th>Population</th>\n",
       "    </tr>\n",
       "  </thead>\n",
       "  <tbody>\n",
       "    <tr>\n",
       "      <th>Canada</th>\n",
       "      <td>23.445</td>\n",
       "    </tr>\n",
       "    <tr>\n",
       "      <th>France</th>\n",
       "      <td>44.445</td>\n",
       "    </tr>\n",
       "    <tr>\n",
       "      <th>Germany</th>\n",
       "      <td>33.656</td>\n",
       "    </tr>\n",
       "    <tr>\n",
       "      <th>Italy</th>\n",
       "      <td>66.565</td>\n",
       "    </tr>\n",
       "  </tbody>\n",
       "</table>\n",
       "</div>"
      ],
      "text/plain": [
       "         Population\n",
       "Canada       23.445\n",
       "France       44.445\n",
       "Germany      33.656\n",
       "Italy        66.565"
      ]
     },
     "execution_count": 34,
     "metadata": {},
     "output_type": "execute_result"
    }
   ],
   "source": [
    "df.loc['Canada' : 'Italy' , 'Population'].to_frame()"
   ]
  },
  {
   "cell_type": "code",
   "execution_count": 35,
   "id": "1ad4b4bf-e7b7-4279-9cae-8b8d23ac08ee",
   "metadata": {},
   "outputs": [
    {
     "data": {
      "text/html": [
       "<div>\n",
       "<style scoped>\n",
       "    .dataframe tbody tr th:only-of-type {\n",
       "        vertical-align: middle;\n",
       "    }\n",
       "\n",
       "    .dataframe tbody tr th {\n",
       "        vertical-align: top;\n",
       "    }\n",
       "\n",
       "    .dataframe thead th {\n",
       "        text-align: right;\n",
       "    }\n",
       "</style>\n",
       "<table border=\"1\" class=\"dataframe\">\n",
       "  <thead>\n",
       "    <tr style=\"text-align: right;\">\n",
       "      <th></th>\n",
       "      <th>Population</th>\n",
       "      <th>GDP</th>\n",
       "    </tr>\n",
       "  </thead>\n",
       "  <tbody>\n",
       "    <tr>\n",
       "      <th>Canada</th>\n",
       "      <td>23.445</td>\n",
       "      <td>123456</td>\n",
       "    </tr>\n",
       "    <tr>\n",
       "      <th>France</th>\n",
       "      <td>44.445</td>\n",
       "      <td>233443</td>\n",
       "    </tr>\n",
       "    <tr>\n",
       "      <th>Germany</th>\n",
       "      <td>33.656</td>\n",
       "      <td>234234</td>\n",
       "    </tr>\n",
       "    <tr>\n",
       "      <th>Italy</th>\n",
       "      <td>66.565</td>\n",
       "      <td>324324</td>\n",
       "    </tr>\n",
       "  </tbody>\n",
       "</table>\n",
       "</div>"
      ],
      "text/plain": [
       "         Population     GDP\n",
       "Canada       23.445  123456\n",
       "France       44.445  233443\n",
       "Germany      33.656  234234\n",
       "Italy        66.565  324324"
      ]
     },
     "execution_count": 35,
     "metadata": {},
     "output_type": "execute_result"
    }
   ],
   "source": [
    "df.loc['Canada':'Italy', ['Population','GDP']]"
   ]
  },
  {
   "cell_type": "code",
   "execution_count": 36,
   "id": "290acb1f-e0c4-4f21-8fa8-029a9d6efeef",
   "metadata": {},
   "outputs": [
    {
     "data": {
      "text/html": [
       "<div>\n",
       "<style scoped>\n",
       "    .dataframe tbody tr th:only-of-type {\n",
       "        vertical-align: middle;\n",
       "    }\n",
       "\n",
       "    .dataframe tbody tr th {\n",
       "        vertical-align: top;\n",
       "    }\n",
       "\n",
       "    .dataframe thead th {\n",
       "        text-align: right;\n",
       "    }\n",
       "</style>\n",
       "<table border=\"1\" class=\"dataframe\">\n",
       "  <thead>\n",
       "    <tr style=\"text-align: right;\">\n",
       "      <th></th>\n",
       "      <th>Canada</th>\n",
       "    </tr>\n",
       "  </thead>\n",
       "  <tbody>\n",
       "    <tr>\n",
       "      <th>Population</th>\n",
       "      <td>23.445</td>\n",
       "    </tr>\n",
       "    <tr>\n",
       "      <th>GDP</th>\n",
       "      <td>123456</td>\n",
       "    </tr>\n",
       "    <tr>\n",
       "      <th>Surface Area</th>\n",
       "      <td>342343</td>\n",
       "    </tr>\n",
       "    <tr>\n",
       "      <th>HDI</th>\n",
       "      <td>0.556</td>\n",
       "    </tr>\n",
       "    <tr>\n",
       "      <th>Continent</th>\n",
       "      <td>America</td>\n",
       "    </tr>\n",
       "  </tbody>\n",
       "</table>\n",
       "</div>"
      ],
      "text/plain": [
       "               Canada\n",
       "Population     23.445\n",
       "GDP            123456\n",
       "Surface Area   342343\n",
       "HDI             0.556\n",
       "Continent     America"
      ]
     },
     "execution_count": 36,
     "metadata": {},
     "output_type": "execute_result"
    }
   ],
   "source": [
    "df.iloc[0].to_frame()"
   ]
  },
  {
   "cell_type": "code",
   "execution_count": 37,
   "id": "43bbeedb-35f8-4757-838d-f57e041c9e98",
   "metadata": {},
   "outputs": [
    {
     "data": {
      "text/plain": [
       "Population      67.445\n",
       "GDP             766767\n",
       "Surface Area    879878\n",
       "HDI              0.578\n",
       "Continent         Asia\n",
       "Name: China, dtype: object"
      ]
     },
     "execution_count": 37,
     "metadata": {},
     "output_type": "execute_result"
    }
   ],
   "source": [
    "df.iloc[-1]"
   ]
  },
  {
   "cell_type": "code",
   "execution_count": 38,
   "id": "782e62db-0b5e-48fd-9faa-45352734fe54",
   "metadata": {},
   "outputs": [
    {
     "data": {
      "text/html": [
       "<div>\n",
       "<style scoped>\n",
       "    .dataframe tbody tr th:only-of-type {\n",
       "        vertical-align: middle;\n",
       "    }\n",
       "\n",
       "    .dataframe tbody tr th {\n",
       "        vertical-align: top;\n",
       "    }\n",
       "\n",
       "    .dataframe thead th {\n",
       "        text-align: right;\n",
       "    }\n",
       "</style>\n",
       "<table border=\"1\" class=\"dataframe\">\n",
       "  <thead>\n",
       "    <tr style=\"text-align: right;\">\n",
       "      <th></th>\n",
       "      <th>Population</th>\n",
       "      <th>GDP</th>\n",
       "      <th>Surface Area</th>\n",
       "      <th>HDI</th>\n",
       "      <th>Continent</th>\n",
       "    </tr>\n",
       "  </thead>\n",
       "  <tbody>\n",
       "    <tr>\n",
       "      <th>Canada</th>\n",
       "      <td>23.445</td>\n",
       "      <td>123456</td>\n",
       "      <td>342343</td>\n",
       "      <td>0.556</td>\n",
       "      <td>America</td>\n",
       "    </tr>\n",
       "    <tr>\n",
       "      <th>France</th>\n",
       "      <td>44.445</td>\n",
       "      <td>233443</td>\n",
       "      <td>23423424</td>\n",
       "      <td>0.784</td>\n",
       "      <td>Europe</td>\n",
       "    </tr>\n",
       "    <tr>\n",
       "      <th>Germany</th>\n",
       "      <td>33.656</td>\n",
       "      <td>234234</td>\n",
       "      <td>657567</td>\n",
       "      <td>0.556</td>\n",
       "      <td>Europe</td>\n",
       "    </tr>\n",
       "    <tr>\n",
       "      <th>China</th>\n",
       "      <td>67.445</td>\n",
       "      <td>766767</td>\n",
       "      <td>879878</td>\n",
       "      <td>0.578</td>\n",
       "      <td>Asia</td>\n",
       "    </tr>\n",
       "  </tbody>\n",
       "</table>\n",
       "</div>"
      ],
      "text/plain": [
       "         Population     GDP  Surface Area    HDI Continent\n",
       "Canada       23.445  123456        342343  0.556   America\n",
       "France       44.445  233443      23423424  0.784    Europe\n",
       "Germany      33.656  234234        657567  0.556    Europe\n",
       "China        67.445  766767        879878  0.578      Asia"
      ]
     },
     "execution_count": 38,
     "metadata": {},
     "output_type": "execute_result"
    }
   ],
   "source": [
    "df.iloc[[0,1, 2, -1]] # multi indices selection"
   ]
  },
  {
   "cell_type": "code",
   "execution_count": 39,
   "id": "ec4a1e8d-6515-4afa-9dc7-aaa5428ad74e",
   "metadata": {},
   "outputs": [
    {
     "data": {
      "text/html": [
       "<div>\n",
       "<style scoped>\n",
       "    .dataframe tbody tr th:only-of-type {\n",
       "        vertical-align: middle;\n",
       "    }\n",
       "\n",
       "    .dataframe tbody tr th {\n",
       "        vertical-align: top;\n",
       "    }\n",
       "\n",
       "    .dataframe thead th {\n",
       "        text-align: right;\n",
       "    }\n",
       "</style>\n",
       "<table border=\"1\" class=\"dataframe\">\n",
       "  <thead>\n",
       "    <tr style=\"text-align: right;\">\n",
       "      <th></th>\n",
       "      <th>Population</th>\n",
       "      <th>GDP</th>\n",
       "      <th>Surface Area</th>\n",
       "      <th>HDI</th>\n",
       "      <th>Continent</th>\n",
       "    </tr>\n",
       "  </thead>\n",
       "  <tbody>\n",
       "    <tr>\n",
       "      <th>Canada</th>\n",
       "      <td>23.445</td>\n",
       "      <td>123456</td>\n",
       "      <td>342343</td>\n",
       "      <td>0.556</td>\n",
       "      <td>America</td>\n",
       "    </tr>\n",
       "    <tr>\n",
       "      <th>France</th>\n",
       "      <td>44.445</td>\n",
       "      <td>233443</td>\n",
       "      <td>23423424</td>\n",
       "      <td>0.784</td>\n",
       "      <td>Europe</td>\n",
       "    </tr>\n",
       "    <tr>\n",
       "      <th>Germany</th>\n",
       "      <td>33.656</td>\n",
       "      <td>234234</td>\n",
       "      <td>657567</td>\n",
       "      <td>0.556</td>\n",
       "      <td>Europe</td>\n",
       "    </tr>\n",
       "    <tr>\n",
       "      <th>Italy</th>\n",
       "      <td>66.565</td>\n",
       "      <td>324324</td>\n",
       "      <td>565464</td>\n",
       "      <td>0.895</td>\n",
       "      <td>Europe</td>\n",
       "    </tr>\n",
       "    <tr>\n",
       "      <th>China</th>\n",
       "      <td>67.445</td>\n",
       "      <td>766767</td>\n",
       "      <td>879878</td>\n",
       "      <td>0.578</td>\n",
       "      <td>Asia</td>\n",
       "    </tr>\n",
       "  </tbody>\n",
       "</table>\n",
       "</div>"
      ],
      "text/plain": [
       "         Population     GDP  Surface Area    HDI Continent\n",
       "Canada       23.445  123456        342343  0.556   America\n",
       "France       44.445  233443      23423424  0.784    Europe\n",
       "Germany      33.656  234234        657567  0.556    Europe\n",
       "Italy        66.565  324324        565464  0.895    Europe\n",
       "China        67.445  766767        879878  0.578      Asia"
      ]
     },
     "execution_count": 39,
     "metadata": {},
     "output_type": "execute_result"
    }
   ],
   "source": [
    "df"
   ]
  },
  {
   "cell_type": "code",
   "execution_count": 40,
   "id": "eed87f71-3f6c-4660-b3ec-f8f719a39c13",
   "metadata": {},
   "outputs": [
    {
     "data": {
      "text/html": [
       "<div>\n",
       "<style scoped>\n",
       "    .dataframe tbody tr th:only-of-type {\n",
       "        vertical-align: middle;\n",
       "    }\n",
       "\n",
       "    .dataframe tbody tr th {\n",
       "        vertical-align: top;\n",
       "    }\n",
       "\n",
       "    .dataframe thead th {\n",
       "        text-align: right;\n",
       "    }\n",
       "</style>\n",
       "<table border=\"1\" class=\"dataframe\">\n",
       "  <thead>\n",
       "    <tr style=\"text-align: right;\">\n",
       "      <th></th>\n",
       "      <th>Population</th>\n",
       "      <th>GDP</th>\n",
       "      <th>Surface Area</th>\n",
       "      <th>HDI</th>\n",
       "      <th>Continent</th>\n",
       "    </tr>\n",
       "  </thead>\n",
       "  <tbody>\n",
       "    <tr>\n",
       "      <th>Canada</th>\n",
       "      <td>23.445</td>\n",
       "      <td>123456</td>\n",
       "      <td>342343</td>\n",
       "      <td>0.556</td>\n",
       "      <td>America</td>\n",
       "    </tr>\n",
       "    <tr>\n",
       "      <th>France</th>\n",
       "      <td>44.445</td>\n",
       "      <td>233443</td>\n",
       "      <td>23423424</td>\n",
       "      <td>0.784</td>\n",
       "      <td>Europe</td>\n",
       "    </tr>\n",
       "    <tr>\n",
       "      <th>Germany</th>\n",
       "      <td>33.656</td>\n",
       "      <td>234234</td>\n",
       "      <td>657567</td>\n",
       "      <td>0.556</td>\n",
       "      <td>Europe</td>\n",
       "    </tr>\n",
       "    <tr>\n",
       "      <th>Italy</th>\n",
       "      <td>66.565</td>\n",
       "      <td>324324</td>\n",
       "      <td>565464</td>\n",
       "      <td>0.895</td>\n",
       "      <td>Europe</td>\n",
       "    </tr>\n",
       "  </tbody>\n",
       "</table>\n",
       "</div>"
      ],
      "text/plain": [
       "         Population     GDP  Surface Area    HDI Continent\n",
       "Canada       23.445  123456        342343  0.556   America\n",
       "France       44.445  233443      23423424  0.784    Europe\n",
       "Germany      33.656  234234        657567  0.556    Europe\n",
       "Italy        66.565  324324        565464  0.895    Europe"
      ]
     },
     "execution_count": 40,
     "metadata": {},
     "output_type": "execute_result"
    }
   ],
   "source": [
    "df.iloc[0:-1]"
   ]
  },
  {
   "cell_type": "code",
   "execution_count": 41,
   "id": "832e95be-21e8-478f-aafb-9816d369f0f7",
   "metadata": {},
   "outputs": [
    {
     "data": {
      "text/html": [
       "<div>\n",
       "<style scoped>\n",
       "    .dataframe tbody tr th:only-of-type {\n",
       "        vertical-align: middle;\n",
       "    }\n",
       "\n",
       "    .dataframe tbody tr th {\n",
       "        vertical-align: top;\n",
       "    }\n",
       "\n",
       "    .dataframe thead th {\n",
       "        text-align: right;\n",
       "    }\n",
       "</style>\n",
       "<table border=\"1\" class=\"dataframe\">\n",
       "  <thead>\n",
       "    <tr style=\"text-align: right;\">\n",
       "      <th></th>\n",
       "      <th>Population</th>\n",
       "      <th>Surface Area</th>\n",
       "      <th>HDI</th>\n",
       "      <th>Continent</th>\n",
       "    </tr>\n",
       "  </thead>\n",
       "  <tbody>\n",
       "    <tr>\n",
       "      <th>Canada</th>\n",
       "      <td>23.445</td>\n",
       "      <td>342343</td>\n",
       "      <td>0.556</td>\n",
       "      <td>America</td>\n",
       "    </tr>\n",
       "    <tr>\n",
       "      <th>France</th>\n",
       "      <td>44.445</td>\n",
       "      <td>23423424</td>\n",
       "      <td>0.784</td>\n",
       "      <td>Europe</td>\n",
       "    </tr>\n",
       "    <tr>\n",
       "      <th>Germany</th>\n",
       "      <td>33.656</td>\n",
       "      <td>657567</td>\n",
       "      <td>0.556</td>\n",
       "      <td>Europe</td>\n",
       "    </tr>\n",
       "  </tbody>\n",
       "</table>\n",
       "</div>"
      ],
      "text/plain": [
       "         Population  Surface Area    HDI Continent\n",
       "Canada       23.445        342343  0.556   America\n",
       "France       44.445      23423424  0.784    Europe\n",
       "Germany      33.656        657567  0.556    Europe"
      ]
     },
     "execution_count": 41,
     "metadata": {},
     "output_type": "execute_result"
    }
   ],
   "source": [
    "df.iloc[0:3, [0,2,3,4]]"
   ]
  },
  {
   "cell_type": "code",
   "execution_count": 42,
   "id": "8adf9d9f-f0da-4ce8-8a6a-3bc6a26af1a0",
   "metadata": {},
   "outputs": [
    {
     "data": {
      "text/html": [
       "<div>\n",
       "<style scoped>\n",
       "    .dataframe tbody tr th:only-of-type {\n",
       "        vertical-align: middle;\n",
       "    }\n",
       "\n",
       "    .dataframe tbody tr th {\n",
       "        vertical-align: top;\n",
       "    }\n",
       "\n",
       "    .dataframe thead th {\n",
       "        text-align: right;\n",
       "    }\n",
       "</style>\n",
       "<table border=\"1\" class=\"dataframe\">\n",
       "  <thead>\n",
       "    <tr style=\"text-align: right;\">\n",
       "      <th></th>\n",
       "      <th>GDP</th>\n",
       "      <th>Surface Area</th>\n",
       "    </tr>\n",
       "  </thead>\n",
       "  <tbody>\n",
       "    <tr>\n",
       "      <th>Canada</th>\n",
       "      <td>123456</td>\n",
       "      <td>342343</td>\n",
       "    </tr>\n",
       "    <tr>\n",
       "      <th>France</th>\n",
       "      <td>233443</td>\n",
       "      <td>23423424</td>\n",
       "    </tr>\n",
       "    <tr>\n",
       "      <th>Germany</th>\n",
       "      <td>234234</td>\n",
       "      <td>657567</td>\n",
       "    </tr>\n",
       "  </tbody>\n",
       "</table>\n",
       "</div>"
      ],
      "text/plain": [
       "            GDP  Surface Area\n",
       "Canada   123456        342343\n",
       "France   233443      23423424\n",
       "Germany  234234        657567"
      ]
     },
     "execution_count": 42,
     "metadata": {},
     "output_type": "execute_result"
    }
   ],
   "source": [
    "df.iloc[0:3, 1:3] # Upper limit is not considered in both row and column slicing in dataframe isf iloc is used for selection"
   ]
  },
  {
   "cell_type": "markdown",
   "id": "7886bc3e-8e08-4a19-8d72-3e32feb7776a",
   "metadata": {},
   "source": [
    "> #### <font color ='green'>**RECOMMENDATION: Always use iloc and loc especially with dataframe numerical indexes.**</font>"
   ]
  },
  {
   "cell_type": "code",
   "execution_count": 44,
   "id": "d914bba6-4f00-4d2c-a253-5682b7d86d12",
   "metadata": {},
   "outputs": [
    {
     "data": {
      "text/html": [
       "<div>\n",
       "<style scoped>\n",
       "    .dataframe tbody tr th:only-of-type {\n",
       "        vertical-align: middle;\n",
       "    }\n",
       "\n",
       "    .dataframe tbody tr th {\n",
       "        vertical-align: top;\n",
       "    }\n",
       "\n",
       "    .dataframe thead th {\n",
       "        text-align: right;\n",
       "    }\n",
       "</style>\n",
       "<table border=\"1\" class=\"dataframe\">\n",
       "  <thead>\n",
       "    <tr style=\"text-align: right;\">\n",
       "      <th></th>\n",
       "      <th>Canada</th>\n",
       "    </tr>\n",
       "  </thead>\n",
       "  <tbody>\n",
       "    <tr>\n",
       "      <th>Population</th>\n",
       "      <td>23.445</td>\n",
       "    </tr>\n",
       "    <tr>\n",
       "      <th>GDP</th>\n",
       "      <td>123456</td>\n",
       "    </tr>\n",
       "    <tr>\n",
       "      <th>Surface Area</th>\n",
       "      <td>342343</td>\n",
       "    </tr>\n",
       "    <tr>\n",
       "      <th>HDI</th>\n",
       "      <td>0.556</td>\n",
       "    </tr>\n",
       "    <tr>\n",
       "      <th>Continent</th>\n",
       "      <td>America</td>\n",
       "    </tr>\n",
       "  </tbody>\n",
       "</table>\n",
       "</div>"
      ],
      "text/plain": [
       "               Canada\n",
       "Population     23.445\n",
       "GDP            123456\n",
       "Surface Area   342343\n",
       "HDI             0.556\n",
       "Continent     America"
      ]
     },
     "execution_count": 44,
     "metadata": {},
     "output_type": "execute_result"
    }
   ],
   "source": [
    "df.iloc[0].to_frame()"
   ]
  },
  {
   "cell_type": "code",
   "execution_count": 45,
   "id": "e2a6fd47-23d0-40de-a314-ca8048f189cb",
   "metadata": {},
   "outputs": [
    {
     "data": {
      "text/html": [
       "<div>\n",
       "<style scoped>\n",
       "    .dataframe tbody tr th:only-of-type {\n",
       "        vertical-align: middle;\n",
       "    }\n",
       "\n",
       "    .dataframe tbody tr th {\n",
       "        vertical-align: top;\n",
       "    }\n",
       "\n",
       "    .dataframe thead th {\n",
       "        text-align: right;\n",
       "    }\n",
       "</style>\n",
       "<table border=\"1\" class=\"dataframe\">\n",
       "  <thead>\n",
       "    <tr style=\"text-align: right;\">\n",
       "      <th></th>\n",
       "      <th>Population</th>\n",
       "      <th>GDP</th>\n",
       "      <th>Continent</th>\n",
       "    </tr>\n",
       "  </thead>\n",
       "  <tbody>\n",
       "    <tr>\n",
       "      <th>Canada</th>\n",
       "      <td>23.445</td>\n",
       "      <td>123456</td>\n",
       "      <td>America</td>\n",
       "    </tr>\n",
       "    <tr>\n",
       "      <th>France</th>\n",
       "      <td>44.445</td>\n",
       "      <td>233443</td>\n",
       "      <td>Europe</td>\n",
       "    </tr>\n",
       "  </tbody>\n",
       "</table>\n",
       "</div>"
      ],
      "text/plain": [
       "        Population     GDP Continent\n",
       "Canada      23.445  123456   America\n",
       "France      44.445  233443    Europe"
      ]
     },
     "execution_count": 45,
     "metadata": {},
     "output_type": "execute_result"
    }
   ],
   "source": [
    "df.iloc[0:2,[0,1,4]]"
   ]
  },
  {
   "cell_type": "markdown",
   "id": "722dbe64-13ef-4de3-9b1b-ddb10a983b99",
   "metadata": {},
   "source": [
    "![purple-divider](https://user-images.githubusercontent.com/7065401/52071927-c1cd7100-2562-11e9-908a-dde91ba14e59.png)\n",
    "\n",
    "## Conditional Selection (boolean Arrays)\n",
    "\n",
    "> #### <font color='Gray'>Like Series in Pandas, boolean selection also work with dataframe</font>"
   ]
  },
  {
   "cell_type": "code",
   "execution_count": 47,
   "id": "311df582-b902-4445-8965-33f5683bfc62",
   "metadata": {},
   "outputs": [
    {
     "data": {
      "text/html": [
       "<div>\n",
       "<style scoped>\n",
       "    .dataframe tbody tr th:only-of-type {\n",
       "        vertical-align: middle;\n",
       "    }\n",
       "\n",
       "    .dataframe tbody tr th {\n",
       "        vertical-align: top;\n",
       "    }\n",
       "\n",
       "    .dataframe thead th {\n",
       "        text-align: right;\n",
       "    }\n",
       "</style>\n",
       "<table border=\"1\" class=\"dataframe\">\n",
       "  <thead>\n",
       "    <tr style=\"text-align: right;\">\n",
       "      <th></th>\n",
       "      <th>Population</th>\n",
       "      <th>GDP</th>\n",
       "      <th>Surface Area</th>\n",
       "      <th>HDI</th>\n",
       "      <th>Continent</th>\n",
       "    </tr>\n",
       "  </thead>\n",
       "  <tbody>\n",
       "    <tr>\n",
       "      <th>Canada</th>\n",
       "      <td>23.445</td>\n",
       "      <td>123456</td>\n",
       "      <td>342343</td>\n",
       "      <td>0.556</td>\n",
       "      <td>America</td>\n",
       "    </tr>\n",
       "    <tr>\n",
       "      <th>France</th>\n",
       "      <td>44.445</td>\n",
       "      <td>233443</td>\n",
       "      <td>23423424</td>\n",
       "      <td>0.784</td>\n",
       "      <td>Europe</td>\n",
       "    </tr>\n",
       "    <tr>\n",
       "      <th>Germany</th>\n",
       "      <td>33.656</td>\n",
       "      <td>234234</td>\n",
       "      <td>657567</td>\n",
       "      <td>0.556</td>\n",
       "      <td>Europe</td>\n",
       "    </tr>\n",
       "    <tr>\n",
       "      <th>Italy</th>\n",
       "      <td>66.565</td>\n",
       "      <td>324324</td>\n",
       "      <td>565464</td>\n",
       "      <td>0.895</td>\n",
       "      <td>Europe</td>\n",
       "    </tr>\n",
       "    <tr>\n",
       "      <th>China</th>\n",
       "      <td>67.445</td>\n",
       "      <td>766767</td>\n",
       "      <td>879878</td>\n",
       "      <td>0.578</td>\n",
       "      <td>Asia</td>\n",
       "    </tr>\n",
       "  </tbody>\n",
       "</table>\n",
       "</div>"
      ],
      "text/plain": [
       "         Population     GDP  Surface Area    HDI Continent\n",
       "Canada       23.445  123456        342343  0.556   America\n",
       "France       44.445  233443      23423424  0.784    Europe\n",
       "Germany      33.656  234234        657567  0.556    Europe\n",
       "Italy        66.565  324324        565464  0.895    Europe\n",
       "China        67.445  766767        879878  0.578      Asia"
      ]
     },
     "execution_count": 47,
     "metadata": {},
     "output_type": "execute_result"
    }
   ],
   "source": [
    "df"
   ]
  },
  {
   "cell_type": "code",
   "execution_count": 53,
   "id": "c347182e-c430-4e9c-a1f2-50e22445fd1a",
   "metadata": {},
   "outputs": [
    {
     "data": {
      "text/plain": [
       "Canada     False\n",
       "France     False\n",
       "Germany    False\n",
       "Italy       True\n",
       "China       True\n",
       "Name: Population, dtype: bool"
      ]
     },
     "execution_count": 53,
     "metadata": {},
     "output_type": "execute_result"
    }
   ],
   "source": [
    "df['Population'] > 50 # it gives the index satisfying the condition"
   ]
  },
  {
   "cell_type": "markdown",
   "id": "3b43dfe0-9f3e-4bf2-8029-e4baf9551c55",
   "metadata": {},
   "source": [
    "#### **Above the index received for filtered data matches with the main dataframe, althought these are 2 different datasets.**"
   ]
  },
  {
   "cell_type": "code",
   "execution_count": 19,
   "id": "8707e0ec-1508-444d-bf2c-1055d258b928",
   "metadata": {},
   "outputs": [
    {
     "data": {
      "text/html": [
       "<div>\n",
       "<style scoped>\n",
       "    .dataframe tbody tr th:only-of-type {\n",
       "        vertical-align: middle;\n",
       "    }\n",
       "\n",
       "    .dataframe tbody tr th {\n",
       "        vertical-align: top;\n",
       "    }\n",
       "\n",
       "    .dataframe thead th {\n",
       "        text-align: right;\n",
       "    }\n",
       "</style>\n",
       "<table border=\"1\" class=\"dataframe\">\n",
       "  <thead>\n",
       "    <tr style=\"text-align: right;\">\n",
       "      <th></th>\n",
       "      <th>Population</th>\n",
       "      <th>GDP</th>\n",
       "      <th>Continent</th>\n",
       "    </tr>\n",
       "  </thead>\n",
       "  <tbody>\n",
       "    <tr>\n",
       "      <th>3</th>\n",
       "      <td>66.565</td>\n",
       "      <td>324324</td>\n",
       "      <td>Europe</td>\n",
       "    </tr>\n",
       "    <tr>\n",
       "      <th>4</th>\n",
       "      <td>67.445</td>\n",
       "      <td>766767</td>\n",
       "      <td>Asia</td>\n",
       "    </tr>\n",
       "  </tbody>\n",
       "</table>\n",
       "</div>"
      ],
      "text/plain": [
       "   Population     GDP Continent\n",
       "3      66.565  324324    Europe\n",
       "4      67.445  766767      Asia"
      ]
     },
     "execution_count": 19,
     "metadata": {},
     "output_type": "execute_result"
    }
   ],
   "source": [
    "df.loc[df['Population'] > 50 , ['Population','GDP','Continent']]"
   ]
  },
  {
   "cell_type": "code",
   "execution_count": 23,
   "id": "55060654-cc3c-4f36-af8f-f86174d60318",
   "metadata": {},
   "outputs": [
    {
     "data": {
      "text/html": [
       "<div>\n",
       "<style scoped>\n",
       "    .dataframe tbody tr th:only-of-type {\n",
       "        vertical-align: middle;\n",
       "    }\n",
       "\n",
       "    .dataframe tbody tr th {\n",
       "        vertical-align: top;\n",
       "    }\n",
       "\n",
       "    .dataframe thead th {\n",
       "        text-align: right;\n",
       "    }\n",
       "</style>\n",
       "<table border=\"1\" class=\"dataframe\">\n",
       "  <thead>\n",
       "    <tr style=\"text-align: right;\">\n",
       "      <th></th>\n",
       "      <th>Population</th>\n",
       "      <th>GDP</th>\n",
       "      <th>Surface Area</th>\n",
       "      <th>HDI</th>\n",
       "      <th>Continent</th>\n",
       "    </tr>\n",
       "  </thead>\n",
       "  <tbody>\n",
       "    <tr>\n",
       "      <th>0</th>\n",
       "      <td>23.445</td>\n",
       "      <td>123456</td>\n",
       "      <td>342343</td>\n",
       "      <td>0.556</td>\n",
       "      <td>America</td>\n",
       "    </tr>\n",
       "    <tr>\n",
       "      <th>1</th>\n",
       "      <td>44.445</td>\n",
       "      <td>233443</td>\n",
       "      <td>23423424</td>\n",
       "      <td>0.784</td>\n",
       "      <td>Europe</td>\n",
       "    </tr>\n",
       "    <tr>\n",
       "      <th>2</th>\n",
       "      <td>33.656</td>\n",
       "      <td>234234</td>\n",
       "      <td>657567</td>\n",
       "      <td>0.556</td>\n",
       "      <td>Europe</td>\n",
       "    </tr>\n",
       "    <tr>\n",
       "      <th>3</th>\n",
       "      <td>66.565</td>\n",
       "      <td>324324</td>\n",
       "      <td>565464</td>\n",
       "      <td>0.895</td>\n",
       "      <td>Europe</td>\n",
       "    </tr>\n",
       "    <tr>\n",
       "      <th>4</th>\n",
       "      <td>67.445</td>\n",
       "      <td>766767</td>\n",
       "      <td>879878</td>\n",
       "      <td>0.578</td>\n",
       "      <td>Asia</td>\n",
       "    </tr>\n",
       "  </tbody>\n",
       "</table>\n",
       "</div>"
      ],
      "text/plain": [
       "   Population     GDP  Surface Area    HDI Continent\n",
       "0      23.445  123456        342343  0.556   America\n",
       "1      44.445  233443      23423424  0.784    Europe\n",
       "2      33.656  234234        657567  0.556    Europe\n",
       "3      66.565  324324        565464  0.895    Europe\n",
       "4      67.445  766767        879878  0.578      Asia"
      ]
     },
     "execution_count": 23,
     "metadata": {},
     "output_type": "execute_result"
    }
   ],
   "source": [
    "df"
   ]
  },
  {
   "cell_type": "markdown",
   "id": "7578a9de-d7aa-42f5-aab9-ae8d2905d426",
   "metadata": {},
   "source": [
    "![purple-divider](https://user-images.githubusercontent.com/7065401/52071927-c1cd7100-2562-11e9-908a-dde91ba14e59.png)\n",
    "\n",
    "## Conditional Selection (boolean Arrays)\n",
    "\n",
    "> #### <font color='Gray'>Like Series in Pandas, boolean selection also work with dataframe</font>"
   ]
  },
  {
   "cell_type": "code",
   "execution_count": 25,
   "id": "f84dffd9-19c0-4231-94f3-1edd0523029b",
   "metadata": {},
   "outputs": [
    {
     "data": {
      "text/html": [
       "<div>\n",
       "<style scoped>\n",
       "    .dataframe tbody tr th:only-of-type {\n",
       "        vertical-align: middle;\n",
       "    }\n",
       "\n",
       "    .dataframe tbody tr th {\n",
       "        vertical-align: top;\n",
       "    }\n",
       "\n",
       "    .dataframe thead th {\n",
       "        text-align: right;\n",
       "    }\n",
       "</style>\n",
       "<table border=\"1\" class=\"dataframe\">\n",
       "  <thead>\n",
       "    <tr style=\"text-align: right;\">\n",
       "      <th></th>\n",
       "      <th>Population</th>\n",
       "      <th>GDP</th>\n",
       "      <th>Surface Area</th>\n",
       "      <th>HDI</th>\n",
       "      <th>Continent</th>\n",
       "    </tr>\n",
       "  </thead>\n",
       "  <tbody>\n",
       "    <tr>\n",
       "      <th>0</th>\n",
       "      <td>23.445</td>\n",
       "      <td>123456</td>\n",
       "      <td>342343</td>\n",
       "      <td>0.556</td>\n",
       "      <td>America</td>\n",
       "    </tr>\n",
       "    <tr>\n",
       "      <th>1</th>\n",
       "      <td>44.445</td>\n",
       "      <td>233443</td>\n",
       "      <td>23423424</td>\n",
       "      <td>0.784</td>\n",
       "      <td>Europe</td>\n",
       "    </tr>\n",
       "    <tr>\n",
       "      <th>2</th>\n",
       "      <td>33.656</td>\n",
       "      <td>234234</td>\n",
       "      <td>657567</td>\n",
       "      <td>0.556</td>\n",
       "      <td>Europe</td>\n",
       "    </tr>\n",
       "    <tr>\n",
       "      <th>3</th>\n",
       "      <td>66.565</td>\n",
       "      <td>324324</td>\n",
       "      <td>565464</td>\n",
       "      <td>0.895</td>\n",
       "      <td>Europe</td>\n",
       "    </tr>\n",
       "    <tr>\n",
       "      <th>4</th>\n",
       "      <td>67.445</td>\n",
       "      <td>766767</td>\n",
       "      <td>879878</td>\n",
       "      <td>0.578</td>\n",
       "      <td>Asia</td>\n",
       "    </tr>\n",
       "  </tbody>\n",
       "</table>\n",
       "</div>"
      ],
      "text/plain": [
       "   Population     GDP  Surface Area    HDI Continent\n",
       "0      23.445  123456        342343  0.556   America\n",
       "1      44.445  233443      23423424  0.784    Europe\n",
       "2      33.656  234234        657567  0.556    Europe\n",
       "3      66.565  324324        565464  0.895    Europe\n",
       "4      67.445  766767        879878  0.578      Asia"
      ]
     },
     "execution_count": 25,
     "metadata": {},
     "output_type": "execute_result"
    }
   ],
   "source": [
    "df"
   ]
  },
  {
   "cell_type": "code",
   "execution_count": 26,
   "id": "3caa2d3e-f664-4c6e-b314-b0e68774bb3d",
   "metadata": {},
   "outputs": [
    {
     "data": {
      "text/plain": [
       "Population      67.445\n",
       "GDP             766767\n",
       "Surface Area    879878\n",
       "HDI              0.578\n",
       "Continent         Asia\n",
       "Name: 4, dtype: object"
      ]
     },
     "execution_count": 26,
     "metadata": {},
     "output_type": "execute_result"
    }
   ],
   "source": [
    "df.iloc[-1]"
   ]
  },
  {
   "cell_type": "code",
   "execution_count": 46,
   "id": "3470293b-3665-46b2-9208-19f1820078f4",
   "metadata": {},
   "outputs": [
    {
     "data": {
      "text/plain": [
       "Population       23.445\n",
       "GDP              123456\n",
       "Surface Area     342343\n",
       "HDI               0.556\n",
       "Continent       America\n",
       "Name: Canada, dtype: object"
      ]
     },
     "execution_count": 46,
     "metadata": {},
     "output_type": "execute_result"
    }
   ],
   "source": [
    "df.loc['Canada']"
   ]
  },
  {
   "cell_type": "code",
   "execution_count": 47,
   "id": "f5a502d2-1383-4c95-bdee-8cfe2037a7ba",
   "metadata": {},
   "outputs": [
    {
     "data": {
      "text/html": [
       "<div>\n",
       "<style scoped>\n",
       "    .dataframe tbody tr th:only-of-type {\n",
       "        vertical-align: middle;\n",
       "    }\n",
       "\n",
       "    .dataframe tbody tr th {\n",
       "        vertical-align: top;\n",
       "    }\n",
       "\n",
       "    .dataframe thead th {\n",
       "        text-align: right;\n",
       "    }\n",
       "</style>\n",
       "<table border=\"1\" class=\"dataframe\">\n",
       "  <thead>\n",
       "    <tr style=\"text-align: right;\">\n",
       "      <th></th>\n",
       "      <th>Population</th>\n",
       "      <th>GDP</th>\n",
       "      <th>Surface Area</th>\n",
       "      <th>HDI</th>\n",
       "      <th>Continent</th>\n",
       "    </tr>\n",
       "  </thead>\n",
       "  <tbody>\n",
       "    <tr>\n",
       "      <th>Canada</th>\n",
       "      <td>23.445</td>\n",
       "      <td>123456</td>\n",
       "      <td>342343</td>\n",
       "      <td>0.556</td>\n",
       "      <td>America</td>\n",
       "    </tr>\n",
       "    <tr>\n",
       "      <th>France</th>\n",
       "      <td>44.445</td>\n",
       "      <td>233443</td>\n",
       "      <td>23423424</td>\n",
       "      <td>0.784</td>\n",
       "      <td>Europe</td>\n",
       "    </tr>\n",
       "    <tr>\n",
       "      <th>Germany</th>\n",
       "      <td>33.656</td>\n",
       "      <td>234234</td>\n",
       "      <td>657567</td>\n",
       "      <td>0.556</td>\n",
       "      <td>Europe</td>\n",
       "    </tr>\n",
       "    <tr>\n",
       "      <th>Italy</th>\n",
       "      <td>66.565</td>\n",
       "      <td>324324</td>\n",
       "      <td>565464</td>\n",
       "      <td>0.895</td>\n",
       "      <td>Europe</td>\n",
       "    </tr>\n",
       "    <tr>\n",
       "      <th>China</th>\n",
       "      <td>67.445</td>\n",
       "      <td>766767</td>\n",
       "      <td>879878</td>\n",
       "      <td>0.578</td>\n",
       "      <td>Asia</td>\n",
       "    </tr>\n",
       "  </tbody>\n",
       "</table>\n",
       "</div>"
      ],
      "text/plain": [
       "         Population     GDP  Surface Area    HDI Continent\n",
       "Canada       23.445  123456        342343  0.556   America\n",
       "France       44.445  233443      23423424  0.784    Europe\n",
       "Germany      33.656  234234        657567  0.556    Europe\n",
       "Italy        66.565  324324        565464  0.895    Europe\n",
       "China        67.445  766767        879878  0.578      Asia"
      ]
     },
     "execution_count": 47,
     "metadata": {},
     "output_type": "execute_result"
    }
   ],
   "source": [
    "df"
   ]
  },
  {
   "cell_type": "code",
   "execution_count": 49,
   "id": "c415a664-4abc-48e6-b19c-7afb54ef25fd",
   "metadata": {},
   "outputs": [
    {
     "data": {
      "text/plain": [
       "Population       23.445\n",
       "GDP              123456\n",
       "Surface Area     342343\n",
       "HDI               0.556\n",
       "Continent       America\n",
       "Name: Canada, dtype: object"
      ]
     },
     "execution_count": 49,
     "metadata": {},
     "output_type": "execute_result"
    }
   ],
   "source": [
    "df.iloc[0]"
   ]
  },
  {
   "cell_type": "markdown",
   "id": "8459fef9-df52-4255-974a-70e9fd9a16c6",
   "metadata": {},
   "source": [
    "![purple-divider](https://user-images.githubusercontent.com/7065401/52071927-c1cd7100-2562-11e9-908a-dde91ba14e59.png)\n",
    "\n",
    "## Dropping Stuffs....\n",
    "\n",
    "> #### <font color='Gray'>Instead of dropping values we can point which to drop (does not drop the elements from the dataframe</font>"
   ]
  },
  {
   "cell_type": "code",
   "execution_count": 50,
   "id": "e40620c7-8478-43f4-8640-d515bc5a5438",
   "metadata": {},
   "outputs": [
    {
     "data": {
      "text/html": [
       "<div>\n",
       "<style scoped>\n",
       "    .dataframe tbody tr th:only-of-type {\n",
       "        vertical-align: middle;\n",
       "    }\n",
       "\n",
       "    .dataframe tbody tr th {\n",
       "        vertical-align: top;\n",
       "    }\n",
       "\n",
       "    .dataframe thead th {\n",
       "        text-align: right;\n",
       "    }\n",
       "</style>\n",
       "<table border=\"1\" class=\"dataframe\">\n",
       "  <thead>\n",
       "    <tr style=\"text-align: right;\">\n",
       "      <th></th>\n",
       "      <th>Population</th>\n",
       "      <th>GDP</th>\n",
       "      <th>Surface Area</th>\n",
       "      <th>HDI</th>\n",
       "      <th>Continent</th>\n",
       "    </tr>\n",
       "  </thead>\n",
       "  <tbody>\n",
       "    <tr>\n",
       "      <th>Canada</th>\n",
       "      <td>23.445</td>\n",
       "      <td>123456</td>\n",
       "      <td>342343</td>\n",
       "      <td>0.556</td>\n",
       "      <td>America</td>\n",
       "    </tr>\n",
       "    <tr>\n",
       "      <th>France</th>\n",
       "      <td>44.445</td>\n",
       "      <td>233443</td>\n",
       "      <td>23423424</td>\n",
       "      <td>0.784</td>\n",
       "      <td>Europe</td>\n",
       "    </tr>\n",
       "    <tr>\n",
       "      <th>Germany</th>\n",
       "      <td>33.656</td>\n",
       "      <td>234234</td>\n",
       "      <td>657567</td>\n",
       "      <td>0.556</td>\n",
       "      <td>Europe</td>\n",
       "    </tr>\n",
       "    <tr>\n",
       "      <th>Italy</th>\n",
       "      <td>66.565</td>\n",
       "      <td>324324</td>\n",
       "      <td>565464</td>\n",
       "      <td>0.895</td>\n",
       "      <td>Europe</td>\n",
       "    </tr>\n",
       "    <tr>\n",
       "      <th>China</th>\n",
       "      <td>67.445</td>\n",
       "      <td>766767</td>\n",
       "      <td>879878</td>\n",
       "      <td>0.578</td>\n",
       "      <td>Asia</td>\n",
       "    </tr>\n",
       "  </tbody>\n",
       "</table>\n",
       "</div>"
      ],
      "text/plain": [
       "         Population     GDP  Surface Area    HDI Continent\n",
       "Canada       23.445  123456        342343  0.556   America\n",
       "France       44.445  233443      23423424  0.784    Europe\n",
       "Germany      33.656  234234        657567  0.556    Europe\n",
       "Italy        66.565  324324        565464  0.895    Europe\n",
       "China        67.445  766767        879878  0.578      Asia"
      ]
     },
     "execution_count": 50,
     "metadata": {},
     "output_type": "execute_result"
    }
   ],
   "source": [
    "df"
   ]
  },
  {
   "cell_type": "code",
   "execution_count": 58,
   "id": "ade21117-dbb5-413d-bc21-a6a9eed66719",
   "metadata": {},
   "outputs": [
    {
     "data": {
      "text/html": [
       "<div>\n",
       "<style scoped>\n",
       "    .dataframe tbody tr th:only-of-type {\n",
       "        vertical-align: middle;\n",
       "    }\n",
       "\n",
       "    .dataframe tbody tr th {\n",
       "        vertical-align: top;\n",
       "    }\n",
       "\n",
       "    .dataframe thead th {\n",
       "        text-align: right;\n",
       "    }\n",
       "</style>\n",
       "<table border=\"1\" class=\"dataframe\">\n",
       "  <thead>\n",
       "    <tr style=\"text-align: right;\">\n",
       "      <th></th>\n",
       "      <th>Population</th>\n",
       "      <th>GDP</th>\n",
       "      <th>Surface Area</th>\n",
       "      <th>HDI</th>\n",
       "      <th>Continent</th>\n",
       "    </tr>\n",
       "  </thead>\n",
       "  <tbody>\n",
       "    <tr>\n",
       "      <th>Canada</th>\n",
       "      <td>23.445</td>\n",
       "      <td>123456</td>\n",
       "      <td>342343</td>\n",
       "      <td>0.556</td>\n",
       "      <td>America</td>\n",
       "    </tr>\n",
       "    <tr>\n",
       "      <th>France</th>\n",
       "      <td>44.445</td>\n",
       "      <td>233443</td>\n",
       "      <td>23423424</td>\n",
       "      <td>0.784</td>\n",
       "      <td>Europe</td>\n",
       "    </tr>\n",
       "    <tr>\n",
       "      <th>Germany</th>\n",
       "      <td>33.656</td>\n",
       "      <td>234234</td>\n",
       "      <td>657567</td>\n",
       "      <td>0.556</td>\n",
       "      <td>Europe</td>\n",
       "    </tr>\n",
       "    <tr>\n",
       "      <th>Italy</th>\n",
       "      <td>66.565</td>\n",
       "      <td>324324</td>\n",
       "      <td>565464</td>\n",
       "      <td>0.895</td>\n",
       "      <td>Europe</td>\n",
       "    </tr>\n",
       "    <tr>\n",
       "      <th>China</th>\n",
       "      <td>67.445</td>\n",
       "      <td>766767</td>\n",
       "      <td>879878</td>\n",
       "      <td>0.578</td>\n",
       "      <td>Asia</td>\n",
       "    </tr>\n",
       "  </tbody>\n",
       "</table>\n",
       "</div>"
      ],
      "text/plain": [
       "         Population     GDP  Surface Area    HDI Continent\n",
       "Canada       23.445  123456        342343  0.556   America\n",
       "France       44.445  233443      23423424  0.784    Europe\n",
       "Germany      33.656  234234        657567  0.556    Europe\n",
       "Italy        66.565  324324        565464  0.895    Europe\n",
       "China        67.445  766767        879878  0.578      Asia"
      ]
     },
     "execution_count": 58,
     "metadata": {},
     "output_type": "execute_result"
    }
   ],
   "source": [
    "df.drop(['Canada'])\n",
    "df"
   ]
  },
  {
   "cell_type": "code",
   "execution_count": 60,
   "id": "64b5b3ff-e2e1-4844-9ff7-f61d6657a05b",
   "metadata": {},
   "outputs": [
    {
     "data": {
      "text/html": [
       "<div>\n",
       "<style scoped>\n",
       "    .dataframe tbody tr th:only-of-type {\n",
       "        vertical-align: middle;\n",
       "    }\n",
       "\n",
       "    .dataframe tbody tr th {\n",
       "        vertical-align: top;\n",
       "    }\n",
       "\n",
       "    .dataframe thead th {\n",
       "        text-align: right;\n",
       "    }\n",
       "</style>\n",
       "<table border=\"1\" class=\"dataframe\">\n",
       "  <thead>\n",
       "    <tr style=\"text-align: right;\">\n",
       "      <th></th>\n",
       "      <th>Population</th>\n",
       "      <th>GDP</th>\n",
       "      <th>Surface Area</th>\n",
       "      <th>HDI</th>\n",
       "      <th>Continent</th>\n",
       "    </tr>\n",
       "  </thead>\n",
       "  <tbody>\n",
       "    <tr>\n",
       "      <th>France</th>\n",
       "      <td>44.445</td>\n",
       "      <td>233443</td>\n",
       "      <td>23423424</td>\n",
       "      <td>0.784</td>\n",
       "      <td>Europe</td>\n",
       "    </tr>\n",
       "    <tr>\n",
       "      <th>Germany</th>\n",
       "      <td>33.656</td>\n",
       "      <td>234234</td>\n",
       "      <td>657567</td>\n",
       "      <td>0.556</td>\n",
       "      <td>Europe</td>\n",
       "    </tr>\n",
       "    <tr>\n",
       "      <th>China</th>\n",
       "      <td>67.445</td>\n",
       "      <td>766767</td>\n",
       "      <td>879878</td>\n",
       "      <td>0.578</td>\n",
       "      <td>Asia</td>\n",
       "    </tr>\n",
       "  </tbody>\n",
       "</table>\n",
       "</div>"
      ],
      "text/plain": [
       "         Population     GDP  Surface Area    HDI Continent\n",
       "France       44.445  233443      23423424  0.784    Europe\n",
       "Germany      33.656  234234        657567  0.556    Europe\n",
       "China        67.445  766767        879878  0.578      Asia"
      ]
     },
     "execution_count": 60,
     "metadata": {},
     "output_type": "execute_result"
    }
   ],
   "source": [
    "df.drop(['Canada','Italy'])"
   ]
  },
  {
   "cell_type": "code",
   "execution_count": 63,
   "id": "10e44a9f-c84b-4b20-849f-deef95a8de1c",
   "metadata": {},
   "outputs": [
    {
     "data": {
      "text/html": [
       "<div>\n",
       "<style scoped>\n",
       "    .dataframe tbody tr th:only-of-type {\n",
       "        vertical-align: middle;\n",
       "    }\n",
       "\n",
       "    .dataframe tbody tr th {\n",
       "        vertical-align: top;\n",
       "    }\n",
       "\n",
       "    .dataframe thead th {\n",
       "        text-align: right;\n",
       "    }\n",
       "</style>\n",
       "<table border=\"1\" class=\"dataframe\">\n",
       "  <thead>\n",
       "    <tr style=\"text-align: right;\">\n",
       "      <th></th>\n",
       "      <th>Population</th>\n",
       "      <th>GDP</th>\n",
       "      <th>Surface Area</th>\n",
       "      <th>Continent</th>\n",
       "    </tr>\n",
       "  </thead>\n",
       "  <tbody>\n",
       "    <tr>\n",
       "      <th>Canada</th>\n",
       "      <td>23.445</td>\n",
       "      <td>123456</td>\n",
       "      <td>342343</td>\n",
       "      <td>America</td>\n",
       "    </tr>\n",
       "    <tr>\n",
       "      <th>France</th>\n",
       "      <td>44.445</td>\n",
       "      <td>233443</td>\n",
       "      <td>23423424</td>\n",
       "      <td>Europe</td>\n",
       "    </tr>\n",
       "    <tr>\n",
       "      <th>Germany</th>\n",
       "      <td>33.656</td>\n",
       "      <td>234234</td>\n",
       "      <td>657567</td>\n",
       "      <td>Europe</td>\n",
       "    </tr>\n",
       "    <tr>\n",
       "      <th>Italy</th>\n",
       "      <td>66.565</td>\n",
       "      <td>324324</td>\n",
       "      <td>565464</td>\n",
       "      <td>Europe</td>\n",
       "    </tr>\n",
       "    <tr>\n",
       "      <th>China</th>\n",
       "      <td>67.445</td>\n",
       "      <td>766767</td>\n",
       "      <td>879878</td>\n",
       "      <td>Asia</td>\n",
       "    </tr>\n",
       "  </tbody>\n",
       "</table>\n",
       "</div>"
      ],
      "text/plain": [
       "         Population     GDP  Surface Area Continent\n",
       "Canada       23.445  123456        342343   America\n",
       "France       44.445  233443      23423424    Europe\n",
       "Germany      33.656  234234        657567    Europe\n",
       "Italy        66.565  324324        565464    Europe\n",
       "China        67.445  766767        879878      Asia"
      ]
     },
     "execution_count": 63,
     "metadata": {},
     "output_type": "execute_result"
    }
   ],
   "source": [
    "df.drop(columns=['HDI'])"
   ]
  },
  {
   "cell_type": "code",
   "execution_count": 65,
   "id": "4d173a4f-ffbd-4d52-aace-ef5d9c613b44",
   "metadata": {},
   "outputs": [
    {
     "data": {
      "text/html": [
       "<div>\n",
       "<style scoped>\n",
       "    .dataframe tbody tr th:only-of-type {\n",
       "        vertical-align: middle;\n",
       "    }\n",
       "\n",
       "    .dataframe tbody tr th {\n",
       "        vertical-align: top;\n",
       "    }\n",
       "\n",
       "    .dataframe thead th {\n",
       "        text-align: right;\n",
       "    }\n",
       "</style>\n",
       "<table border=\"1\" class=\"dataframe\">\n",
       "  <thead>\n",
       "    <tr style=\"text-align: right;\">\n",
       "      <th></th>\n",
       "      <th>Population</th>\n",
       "      <th>GDP</th>\n",
       "      <th>Surface Area</th>\n",
       "      <th>HDI</th>\n",
       "      <th>Continent</th>\n",
       "    </tr>\n",
       "  </thead>\n",
       "  <tbody>\n",
       "    <tr>\n",
       "      <th>France</th>\n",
       "      <td>44.445</td>\n",
       "      <td>233443</td>\n",
       "      <td>23423424</td>\n",
       "      <td>0.784</td>\n",
       "      <td>Europe</td>\n",
       "    </tr>\n",
       "    <tr>\n",
       "      <th>Germany</th>\n",
       "      <td>33.656</td>\n",
       "      <td>234234</td>\n",
       "      <td>657567</td>\n",
       "      <td>0.556</td>\n",
       "      <td>Europe</td>\n",
       "    </tr>\n",
       "    <tr>\n",
       "      <th>China</th>\n",
       "      <td>67.445</td>\n",
       "      <td>766767</td>\n",
       "      <td>879878</td>\n",
       "      <td>0.578</td>\n",
       "      <td>Asia</td>\n",
       "    </tr>\n",
       "  </tbody>\n",
       "</table>\n",
       "</div>"
      ],
      "text/plain": [
       "         Population     GDP  Surface Area    HDI Continent\n",
       "France       44.445  233443      23423424  0.784    Europe\n",
       "Germany      33.656  234234        657567  0.556    Europe\n",
       "China        67.445  766767        879878  0.578      Asia"
      ]
     },
     "execution_count": 65,
     "metadata": {},
     "output_type": "execute_result"
    }
   ],
   "source": [
    "df.drop(['Canada','Italy'], axis =0)"
   ]
  },
  {
   "cell_type": "code",
   "execution_count": 67,
   "id": "3d6b98aa-a7ae-41d0-89da-d7443fdef4ba",
   "metadata": {},
   "outputs": [
    {
     "data": {
      "text/html": [
       "<div>\n",
       "<style scoped>\n",
       "    .dataframe tbody tr th:only-of-type {\n",
       "        vertical-align: middle;\n",
       "    }\n",
       "\n",
       "    .dataframe tbody tr th {\n",
       "        vertical-align: top;\n",
       "    }\n",
       "\n",
       "    .dataframe thead th {\n",
       "        text-align: right;\n",
       "    }\n",
       "</style>\n",
       "<table border=\"1\" class=\"dataframe\">\n",
       "  <thead>\n",
       "    <tr style=\"text-align: right;\">\n",
       "      <th></th>\n",
       "      <th>Population</th>\n",
       "      <th>GDP</th>\n",
       "      <th>Surface Area</th>\n",
       "    </tr>\n",
       "  </thead>\n",
       "  <tbody>\n",
       "    <tr>\n",
       "      <th>Canada</th>\n",
       "      <td>23.445</td>\n",
       "      <td>123456</td>\n",
       "      <td>342343</td>\n",
       "    </tr>\n",
       "    <tr>\n",
       "      <th>France</th>\n",
       "      <td>44.445</td>\n",
       "      <td>233443</td>\n",
       "      <td>23423424</td>\n",
       "    </tr>\n",
       "    <tr>\n",
       "      <th>Germany</th>\n",
       "      <td>33.656</td>\n",
       "      <td>234234</td>\n",
       "      <td>657567</td>\n",
       "    </tr>\n",
       "    <tr>\n",
       "      <th>Italy</th>\n",
       "      <td>66.565</td>\n",
       "      <td>324324</td>\n",
       "      <td>565464</td>\n",
       "    </tr>\n",
       "    <tr>\n",
       "      <th>China</th>\n",
       "      <td>67.445</td>\n",
       "      <td>766767</td>\n",
       "      <td>879878</td>\n",
       "    </tr>\n",
       "  </tbody>\n",
       "</table>\n",
       "</div>"
      ],
      "text/plain": [
       "         Population     GDP  Surface Area\n",
       "Canada       23.445  123456        342343\n",
       "France       44.445  233443      23423424\n",
       "Germany      33.656  234234        657567\n",
       "Italy        66.565  324324        565464\n",
       "China        67.445  766767        879878"
      ]
     },
     "execution_count": 67,
     "metadata": {},
     "output_type": "execute_result"
    }
   ],
   "source": [
    "df.drop(['HDI','Continent'], axis =1)"
   ]
  },
  {
   "cell_type": "code",
   "execution_count": 69,
   "id": "2e4dbf4e-bfcf-4bec-baf2-cc58c6b6018b",
   "metadata": {},
   "outputs": [
    {
     "data": {
      "text/html": [
       "<div>\n",
       "<style scoped>\n",
       "    .dataframe tbody tr th:only-of-type {\n",
       "        vertical-align: middle;\n",
       "    }\n",
       "\n",
       "    .dataframe tbody tr th {\n",
       "        vertical-align: top;\n",
       "    }\n",
       "\n",
       "    .dataframe thead th {\n",
       "        text-align: right;\n",
       "    }\n",
       "</style>\n",
       "<table border=\"1\" class=\"dataframe\">\n",
       "  <thead>\n",
       "    <tr style=\"text-align: right;\">\n",
       "      <th></th>\n",
       "      <th>Population</th>\n",
       "      <th>GDP</th>\n",
       "      <th>Surface Area</th>\n",
       "      <th>HDI</th>\n",
       "      <th>Continent</th>\n",
       "    </tr>\n",
       "  </thead>\n",
       "  <tbody>\n",
       "    <tr>\n",
       "      <th>France</th>\n",
       "      <td>44.445</td>\n",
       "      <td>233443</td>\n",
       "      <td>23423424</td>\n",
       "      <td>0.784</td>\n",
       "      <td>Europe</td>\n",
       "    </tr>\n",
       "    <tr>\n",
       "      <th>Germany</th>\n",
       "      <td>33.656</td>\n",
       "      <td>234234</td>\n",
       "      <td>657567</td>\n",
       "      <td>0.556</td>\n",
       "      <td>Europe</td>\n",
       "    </tr>\n",
       "    <tr>\n",
       "      <th>China</th>\n",
       "      <td>67.445</td>\n",
       "      <td>766767</td>\n",
       "      <td>879878</td>\n",
       "      <td>0.578</td>\n",
       "      <td>Asia</td>\n",
       "    </tr>\n",
       "  </tbody>\n",
       "</table>\n",
       "</div>"
      ],
      "text/plain": [
       "         Population     GDP  Surface Area    HDI Continent\n",
       "France       44.445  233443      23423424  0.784    Europe\n",
       "Germany      33.656  234234        657567  0.556    Europe\n",
       "China        67.445  766767        879878  0.578      Asia"
      ]
     },
     "execution_count": 69,
     "metadata": {},
     "output_type": "execute_result"
    }
   ],
   "source": [
    "df.drop(['Canada','Italy'], axis='rows')"
   ]
  },
  {
   "cell_type": "code",
   "execution_count": null,
   "id": "501495e9-d3bc-4f23-ae96-ea1bba6ef4d5",
   "metadata": {},
   "outputs": [],
   "source": []
  }
 ],
 "metadata": {
  "kernelspec": {
   "display_name": "Python 3",
   "language": "python",
   "name": "python3"
  },
  "language_info": {
   "codemirror_mode": {
    "name": "ipython",
    "version": 3
   },
   "file_extension": ".py",
   "mimetype": "text/x-python",
   "name": "python",
   "nbconvert_exporter": "python",
   "pygments_lexer": "ipython3",
   "version": "3.8.8"
  }
 },
 "nbformat": 4,
 "nbformat_minor": 5
}
