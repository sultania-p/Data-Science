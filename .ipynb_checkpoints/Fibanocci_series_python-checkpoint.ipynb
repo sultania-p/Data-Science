{
 "cells": [
  {
   "cell_type": "markdown",
   "id": "0071866f",
   "metadata": {},
   "source": [
    "## Fibonacci Series ...\n",
    "![green-divider](https://user-images.githubusercontent.com/7065401/52071924-c003ad80-2562-11e9-8297-1c6595f8a7ff.png)\n",
    "\n",
    "The Fibonacci series are the number in series as below where the next value in the series the sum of the previous two interger values...\n",
    "This series can be represented mathematically as below.\n",
    "\n",
    "F(n) = F(n-1) + F(n-2); here the seed values F(0)=0 and F(1)=1\n",
    "\n",
    "So the series will look like as below:\n",
    "0,1,1,2,3,5,8,13,21,34......"
   ]
  },
  {
   "cell_type": "code",
   "execution_count": 5,
   "id": "6a4a3878",
   "metadata": {},
   "outputs": [
    {
     "name": "stdout",
     "output_type": "stream",
     "text": [
      "[0, 1, 1, 2, 3, 5, 8, 13, 21, 34, 55, 89, 144, 233, 377, 610, 987, 1597, 2584, 4181, 6765, 10946, 17711, 28657, 46368, 75025, 121393, 196418, 317811, 514229, 832040, 1346269, 2178309, 3524578, 5702887, 9227465, 14930352, 24157817, 39088169, 63245986, 102334155, 165580141, 267914296, 433494437, 701408733, 1134903170, 1836311903, 2971215073, 4807526976, 7778742049, 12586269025, 20365011074, 32951280099, 53316291173, 86267571272, 139583862445, 225851433717, 365435296162, 591286729879, 956722026041, 1548008755920, 2504730781961, 4052739537881, 6557470319842, 10610209857723, 17167680177565, 27777890035288, 44945570212853, 72723460248141, 117669030460994, 190392490709135, 308061521170129, 498454011879264, 806515533049393, 1304969544928657, 2111485077978050, 3416454622906707, 5527939700884757, 8944394323791464, 14472334024676221, 23416728348467685, 37889062373143906, 61305790721611591, 99194853094755497, 160500643816367088, 259695496911122585, 420196140727489673, 679891637638612258, 1100087778366101931, 1779979416004714189, 2880067194370816120, 4660046610375530309, 7540113804746346429, 12200160415121876738, 19740274219868223167, 31940434634990099905, 51680708854858323072, 83621143489848422977, 135301852344706746049, 218922995834555169026]\n"
     ]
    }
   ],
   "source": [
    "def fibonacci_series(val):\n",
    "    n = val\n",
    "    \n",
    "    if n <= 0:\n",
    "        print(\"Invalid input, Please enter positive value for the series!\")\n",
    "        return\n",
    "    if n == 1:\n",
    "        return [0]\n",
    "    elif n == 2:\n",
    "        return [0,1]\n",
    "    else:\n",
    "        a = fibonacci_series(n-1)\n",
    "        # adding the next value which is the sum of last 2 terms in the series.\n",
    "        a.append(sum(a[:-3:-1]))\n",
    "        return a\n",
    "    \n",
    "F_series = fibonacci_series(100)\n",
    "print(F_series)\n"
   ]
  },
  {
   "cell_type": "code",
   "execution_count": null,
   "id": "f7b170d5",
   "metadata": {},
   "outputs": [],
   "source": []
  }
 ],
 "metadata": {
  "kernelspec": {
   "display_name": "Python 3 (ipykernel)",
   "language": "python",
   "name": "python3"
  },
  "language_info": {
   "codemirror_mode": {
    "name": "ipython",
    "version": 3
   },
   "file_extension": ".py",
   "mimetype": "text/x-python",
   "name": "python",
   "nbconvert_exporter": "python",
   "pygments_lexer": "ipython3",
   "version": "3.8.8"
  }
 },
 "nbformat": 4,
 "nbformat_minor": 5
}
