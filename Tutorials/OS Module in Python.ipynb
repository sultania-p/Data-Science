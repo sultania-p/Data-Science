{
 "cells": [
  {
   "cell_type": "markdown",
   "id": "6db79b8a",
   "metadata": {},
   "source": [
    "## os — Miscellaneous operating system interfaces"
   ]
  },
  {
   "cell_type": "markdown",
   "id": "a77fae4b",
   "metadata": {},
   "source": [
    "- This os [module](https://docs.python.org/3/library/os.html) provides a portable way of using operating system dependent functionality. \n",
    "- The main purpose of the OS module is to interact with your operating system. \n",
    "- You create folders, remove folders, move folders, and sometimes change the working directory. \n",
    "- You can also access the names of files within a file path by doing listdir()"
   ]
  },
  {
   "cell_type": "code",
   "execution_count": 2,
   "id": "7abc5ea8",
   "metadata": {},
   "outputs": [],
   "source": [
    "import os #importing the library"
   ]
  },
  {
   "cell_type": "markdown",
   "id": "f8cc07d9",
   "metadata": {},
   "source": [
    "### Useful functions\n",
    "#### 1. Getting the Current working directory\n",
    "\n",
    "This method returns the location of the current working directory (CWD). The CWD is the folder in which the python script is operating."
   ]
  },
  {
   "cell_type": "code",
   "execution_count": 2,
   "id": "a92c7e1b",
   "metadata": {},
   "outputs": [
    {
     "data": {
      "text/plain": [
       "'D:\\\\Masters_Information_Systems\\\\Semester_2\\\\TA'"
      ]
     },
     "execution_count": 2,
     "metadata": {},
     "output_type": "execute_result"
    }
   ],
   "source": [
    "os.getcwd()"
   ]
  },
  {
   "cell_type": "markdown",
   "id": "510afbb0",
   "metadata": {},
   "source": [
    "#### 2. Changing the Current working directory\n",
    "\n",
    "It is used for changing the CWD. It changes CWD to the specified path."
   ]
  },
  {
   "cell_type": "code",
   "execution_count": 13,
   "id": "0deea6f0",
   "metadata": {},
   "outputs": [
    {
     "data": {
      "text/plain": [
       "'D:\\\\Masters_Information_Systems\\\\Semester_2\\\\TA\\\\Assignment_2'"
      ]
     },
     "execution_count": 13,
     "metadata": {},
     "output_type": "execute_result"
    }
   ],
   "source": [
    "os.chdir(r\"D:\\Masters_Information_Systems\\Semester_2\\TA\\Assignment_2\")\n",
    "os.getcwd()"
   ]
  },
  {
   "cell_type": "markdown",
   "id": "905b58c8",
   "metadata": {},
   "source": [
    "#### 3. Listing all files in a directory\n",
    "\n",
    "This method returns a list of all the files and folders present inside the specified directory. If no directory is specified then the list of files and folders inside the CWD is returned."
   ]
  },
  {
   "cell_type": "code",
   "execution_count": 5,
   "id": "a56218ad",
   "metadata": {},
   "outputs": [
    {
     "data": {
      "text/plain": [
       "['.ipynb_checkpoints',\n",
       " 'Assignment_1',\n",
       " 'Assignment_2',\n",
       " 'ipynb.images',\n",
       " 'OS Module in Python.ipynb',\n",
       " 'Stock-Prediction.ipynb',\n",
       " 'time-series-dino.ipynb',\n",
       " 'viz-dino-21.ipynb',\n",
       " 'W2L2',\n",
       " 'W2L2.zip',\n",
       " 'W3L1']"
      ]
     },
     "execution_count": 5,
     "metadata": {},
     "output_type": "execute_result"
    }
   ],
   "source": [
    "path = r'D:\\Masters_Information_Systems\\Semester_2\\TA'\n",
    "os.listdir(path)"
   ]
  },
  {
   "cell_type": "code",
   "execution_count": 14,
   "id": "b7351afe",
   "metadata": {},
   "outputs": [
    {
     "data": {
      "text/plain": [
       "list"
      ]
     },
     "execution_count": 14,
     "metadata": {},
     "output_type": "execute_result"
    }
   ],
   "source": [
    "type(os.listdir(path))"
   ]
  },
  {
   "cell_type": "code",
   "execution_count": 15,
   "id": "4446fcd8",
   "metadata": {},
   "outputs": [
    {
     "name": "stdout",
     "output_type": "stream",
     "text": [
      ".ipynb_checkpoints\n",
      "Assignment_1\n",
      "Assignment_2\n",
      "dialogues.xlsx\n",
      "ipynb.images\n",
      "OS Module in Python.ipynb\n",
      "Stock-Prediction.ipynb\n",
      "time-series-dino.ipynb\n",
      "viz-dino-21.ipynb\n",
      "W2L2\n",
      "W2L2.zip\n",
      "W3L1\n"
     ]
    }
   ],
   "source": [
    "for file in os.listdir(path):\n",
    "    print(file)"
   ]
  },
  {
   "cell_type": "markdown",
   "id": "b0de9f90",
   "metadata": {},
   "source": [
    "#### 4. joining paths\n",
    "\n",
    "This method joins various path components with exactly one directory separator (“/”) following each non-empty part except for the last path component. If the last path component is empty then a directory separator (“/”) is put at the end. This method returns a string with the concatenated path."
   ]
  },
  {
   "cell_type": "code",
   "execution_count": 7,
   "id": "0df34227",
   "metadata": {},
   "outputs": [
    {
     "data": {
      "text/plain": [
       "'D:\\\\Masters_Information_Systems\\\\Semester_2\\\\TA\\\\Assignment_2'"
      ]
     },
     "execution_count": 7,
     "metadata": {},
     "output_type": "execute_result"
    }
   ],
   "source": [
    "path1 = r'D:\\Masters_Information_Systems\\Semester_2\\TA'\n",
    "path2 = r'Assignment_2'\n",
    "new_path = os.path.join(path1, path2)\n",
    "new_path"
   ]
  },
  {
   "cell_type": "code",
   "execution_count": 16,
   "id": "bb8e7193",
   "metadata": {},
   "outputs": [
    {
     "name": "stdout",
     "output_type": "stream",
     "text": [
      "D:\\Masters_Information_Systems\\Semester_2\\TA\\.ipynb_checkpoints\n",
      "D:\\Masters_Information_Systems\\Semester_2\\TA\\Assignment_1\n",
      "D:\\Masters_Information_Systems\\Semester_2\\TA\\Assignment_2\n",
      "D:\\Masters_Information_Systems\\Semester_2\\TA\\dialogues.xlsx\n",
      "D:\\Masters_Information_Systems\\Semester_2\\TA\\ipynb.images\n",
      "D:\\Masters_Information_Systems\\Semester_2\\TA\\OS Module in Python.ipynb\n",
      "D:\\Masters_Information_Systems\\Semester_2\\TA\\Stock-Prediction.ipynb\n",
      "D:\\Masters_Information_Systems\\Semester_2\\TA\\time-series-dino.ipynb\n",
      "D:\\Masters_Information_Systems\\Semester_2\\TA\\viz-dino-21.ipynb\n",
      "D:\\Masters_Information_Systems\\Semester_2\\TA\\W2L2\n",
      "D:\\Masters_Information_Systems\\Semester_2\\TA\\W2L2.zip\n",
      "D:\\Masters_Information_Systems\\Semester_2\\TA\\W3L1\n"
     ]
    }
   ],
   "source": [
    "root_dir = r'D:\\Masters_Information_Systems\\Semester_2\\TA'\n",
    "for file in os.listdir(root_dir):\n",
    "    print(os.path.join(root_dir,file))"
   ]
  },
  {
   "cell_type": "markdown",
   "id": "02852439",
   "metadata": {},
   "source": [
    "#### 5. get base name of a path\n",
    "\n",
    "This method is used to get the base name in a specified path. The method returns a string value that represents the base name of the specified path."
   ]
  },
  {
   "cell_type": "code",
   "execution_count": 8,
   "id": "39599a10",
   "metadata": {},
   "outputs": [
    {
     "data": {
      "text/plain": [
       "'Assignment_2'"
      ]
     },
     "execution_count": 8,
     "metadata": {},
     "output_type": "execute_result"
    }
   ],
   "source": [
    "os.path.basename(new_path)"
   ]
  },
  {
   "cell_type": "markdown",
   "id": "00b46e8a",
   "metadata": {},
   "source": [
    "#### 6. get directory name of a path\n",
    "\n",
    "This method returns the directory name from the path given."
   ]
  },
  {
   "cell_type": "code",
   "execution_count": 9,
   "id": "f9c21ab6",
   "metadata": {},
   "outputs": [
    {
     "data": {
      "text/plain": [
       "'D:\\\\Masters_Information_Systems\\\\Semester_2\\\\TA'"
      ]
     },
     "execution_count": 9,
     "metadata": {},
     "output_type": "execute_result"
    }
   ],
   "source": [
    "os.path.dirname(new_path)"
   ]
  },
  {
   "cell_type": "code",
   "execution_count": 14,
   "id": "273d248c",
   "metadata": {},
   "outputs": [
    {
     "data": {
      "text/plain": [
       "'image1_comic_filter.png'"
      ]
     },
     "execution_count": 14,
     "metadata": {},
     "output_type": "execute_result"
    }
   ],
   "source": [
    "orig_name, ext = os.path.splitext(\"image1.png\")\n",
    "new_name = orig_name + '_comic_filter'\n",
    "new_name_with_ext = new_name + ext\n",
    "new_name_with_ext"
   ]
  },
  {
   "cell_type": "markdown",
   "id": "015e2258",
   "metadata": {},
   "source": [
    "#### 7. Check if path exists\n",
    "\n",
    "This method returns the directory name from the path given."
   ]
  },
  {
   "cell_type": "code",
   "execution_count": 10,
   "id": "6a4e7cdf",
   "metadata": {},
   "outputs": [
    {
     "data": {
      "text/plain": [
       "True"
      ]
     },
     "execution_count": 10,
     "metadata": {},
     "output_type": "execute_result"
    }
   ],
   "source": [
    "os.path.exists(new_path)"
   ]
  },
  {
   "cell_type": "code",
   "execution_count": 17,
   "id": "0ce6cd22",
   "metadata": {},
   "outputs": [
    {
     "data": {
      "text/plain": [
       "['.ipynb_checkpoints',\n",
       " 'Assignment_1',\n",
       " 'Assignment_2',\n",
       " 'dialogues.xlsx',\n",
       " 'ipynb.images',\n",
       " 'new_folder',\n",
       " 'OS Module in Python.ipynb',\n",
       " 'Stock-Prediction.ipynb',\n",
       " 'time-series-dino.ipynb',\n",
       " 'viz-dino-21.ipynb',\n",
       " 'W2L2',\n",
       " 'W2L2.zip',\n",
       " 'W3L1']"
      ]
     },
     "execution_count": 17,
     "metadata": {},
     "output_type": "execute_result"
    }
   ],
   "source": [
    "new_folder = 'new_folder'\n",
    "os.mkdir(os.path.join(root_dir,new_folder))\n",
    "os.listdir(root_dir)"
   ]
  },
  {
   "cell_type": "code",
   "execution_count": 3,
   "id": "9c141b74",
   "metadata": {},
   "outputs": [
    {
     "data": {
      "text/html": [
       "<div>\n",
       "<style scoped>\n",
       "    .dataframe tbody tr th:only-of-type {\n",
       "        vertical-align: middle;\n",
       "    }\n",
       "\n",
       "    .dataframe tbody tr th {\n",
       "        vertical-align: top;\n",
       "    }\n",
       "\n",
       "    .dataframe thead th {\n",
       "        text-align: right;\n",
       "    }\n",
       "</style>\n",
       "<table border=\"1\" class=\"dataframe\">\n",
       "  <thead>\n",
       "    <tr style=\"text-align: right;\">\n",
       "      <th></th>\n",
       "      <th>Image Name</th>\n",
       "      <th>Cloud Name</th>\n",
       "      <th>Dialogue</th>\n",
       "      <th>Font Size</th>\n",
       "      <th>Cloud Position</th>\n",
       "    </tr>\n",
       "  </thead>\n",
       "  <tbody>\n",
       "    <tr>\n",
       "      <th>0</th>\n",
       "      <td>image202.png</td>\n",
       "      <td>image202_cloud1</td>\n",
       "      <td>On a sunlit Sunday morning, Mr. and Mrs. Moore...</td>\n",
       "      <td>25</td>\n",
       "      <td>NaN</td>\n",
       "    </tr>\n",
       "    <tr>\n",
       "      <th>1</th>\n",
       "      <td>image300.png</td>\n",
       "      <td>image300_cloud1</td>\n",
       "      <td>Suddenly Mrs. Moore notices something strange ...</td>\n",
       "      <td>25</td>\n",
       "      <td>NaN</td>\n",
       "    </tr>\n",
       "    <tr>\n",
       "      <th>2</th>\n",
       "      <td>image304.png</td>\n",
       "      <td>image304_cloud1</td>\n",
       "      <td>Perplexed Mr. Moore shouts\\nMrs. Moore's name ...</td>\n",
       "      <td>25</td>\n",
       "      <td>NaN</td>\n",
       "    </tr>\n",
       "    <tr>\n",
       "      <th>3</th>\n",
       "      <td>image484.png</td>\n",
       "      <td>image484_cloud1</td>\n",
       "      <td>He then walks to the bench that scared Mrs. Mo...</td>\n",
       "      <td>16</td>\n",
       "      <td>NaN</td>\n",
       "    </tr>\n",
       "    <tr>\n",
       "      <th>4</th>\n",
       "      <td>image568.png</td>\n",
       "      <td>n_box_1</td>\n",
       "      <td>Holmes had been seated for some hours in silen...</td>\n",
       "      <td>25</td>\n",
       "      <td>NaN</td>\n",
       "    </tr>\n",
       "  </tbody>\n",
       "</table>\n",
       "</div>"
      ],
      "text/plain": [
       "     Image Name       Cloud Name  \\\n",
       "0  image202.png  image202_cloud1   \n",
       "1  image300.png  image300_cloud1   \n",
       "2  image304.png  image304_cloud1   \n",
       "3  image484.png  image484_cloud1   \n",
       "4  image568.png          n_box_1   \n",
       "\n",
       "                                            Dialogue  Font Size Cloud Position  \n",
       "0  On a sunlit Sunday morning, Mr. and Mrs. Moore...         25            NaN  \n",
       "1  Suddenly Mrs. Moore notices something strange ...         25            NaN  \n",
       "2  Perplexed Mr. Moore shouts\\nMrs. Moore's name ...         25            NaN  \n",
       "3  He then walks to the bench that scared Mrs. Mo...         16            NaN  \n",
       "4  Holmes had been seated for some hours in silen...         25            NaN  "
      ]
     },
     "execution_count": 3,
     "metadata": {},
     "output_type": "execute_result"
    }
   ],
   "source": [
    "dataset = r\"dialogues.xlsx\"\n",
    "import pandas as pd\n",
    "data = pd.read_excel(dataset)\n",
    "data.head()"
   ]
  },
  {
   "cell_type": "markdown",
   "id": "d269b25d",
   "metadata": {},
   "source": [
    "### References\n",
    "\n",
    "- https://www.analyticsvidhya.com/blog/2021/05/30-useful-methods-from-python-os-module/\n",
    "- https://www.geeksforgeeks.org/os-module-python-examples/"
   ]
  },
  {
   "cell_type": "code",
   "execution_count": 8,
   "id": "63102393",
   "metadata": {},
   "outputs": [
    {
     "data": {
      "text/plain": [
       "['aaargh.png',\n",
       " 'amazing-professor.jpg',\n",
       " 'asleep.jpg',\n",
       " 'autonomous.png',\n",
       " 'average3.5.png',\n",
       " 'bayes-complex.png',\n",
       " 'binomial-beta-conjugate.png',\n",
       " 'binomial-beta.png',\n",
       " 'birds-up.png',\n",
       " 'broken-dreams.jpg',\n",
       " 'buildmodel.jpg',\n",
       " 'buildmodel.png',\n",
       " 'cartopy-install.png',\n",
       " 'caveman.jpg',\n",
       " 'caveman2.png',\n",
       " 'caveman3.png',\n",
       " 'caveman4.png',\n",
       " 'caveman5.png',\n",
       " 'caveman6.png',\n",
       " 'champagne-glass-cake.jpg',\n",
       " 'cookies-in-the-oven.jpg',\n",
       " 'crazy-robot.jpg',\n",
       " 'cry.png',\n",
       " 'dastardly-spying.jpg',\n",
       " 'dastardly-spying.png',\n",
       " 'distributions.png',\n",
       " 'dog-chase-tail.jpg',\n",
       " 'dog-heights-and-difference.gif',\n",
       " 'dog-heights-and-mean.gif',\n",
       " 'dog-heights.gif',\n",
       " 'dogs-standard-deviation.gif',\n",
       " 'duh.gif',\n",
       " 'elementary.png',\n",
       " 'example-grain-size.png',\n",
       " 'frustration.png',\n",
       " 'funny-fish.gif',\n",
       " 'garfield-oh-no.png',\n",
       " 'garfield.jpg',\n",
       " 'german-word-alignment.png',\n",
       " 'good-job-bear.png',\n",
       " 'happy-cat.jpg',\n",
       " 'hdi.png',\n",
       " 'Higgs.jpeg',\n",
       " 'kde.png',\n",
       " 'kernel-1.png',\n",
       " 'kernel-2.gif',\n",
       " 'manifold.png',\n",
       " 'manU.jpg',\n",
       " 'manU.png',\n",
       " 'minion-confused.png',\n",
       " 'mle-math.png',\n",
       " 'oh-no.png',\n",
       " 'ohnonotmath.png',\n",
       " 'oopsie.png',\n",
       " 'oscars.png',\n",
       " 'prior-posterior-belief.png',\n",
       " 'prior-posterior.jpg',\n",
       " 'prior-posterior.png',\n",
       " 'quants.jpg',\n",
       " 'rainfall.jpeg',\n",
       " 'red-dice.gif',\n",
       " 'rihanna.jpg',\n",
       " 'robot-daddy.jpg',\n",
       " 'sad-dog.png',\n",
       " 'sandri.jpg',\n",
       " 'science.png',\n",
       " 'seduce.png',\n",
       " 'stable-genius.jpg',\n",
       " 'stochastic.png',\n",
       " 'tesla-model-3.jpg',\n",
       " 'thanos.jpg',\n",
       " 'trials-heads.png',\n",
       " 'tricked-slot-machines.png',\n",
       " 'va_fig1.gif',\n",
       " 'va_fig2.gif',\n",
       " 'va_fig3.gif',\n",
       " 'va_fig4.gif',\n",
       " 'will-smith-aladin-2.jpg',\n",
       " 'x-test-x-test-30+.png',\n",
       " 'x-test-x-test-30.png',\n",
       " 'x-test-y-test.png']"
      ]
     },
     "execution_count": 8,
     "metadata": {},
     "output_type": "execute_result"
    }
   ],
   "source": [
    "images_folder = r'D:\\Masters_Information_Systems\\Semester_2\\TA\\ipynb.images'\n",
    "images = os.listdir(images_folder)\n",
    "images"
   ]
  },
  {
   "cell_type": "code",
   "execution_count": 9,
   "id": "0b3fa443",
   "metadata": {},
   "outputs": [
    {
     "name": "stdout",
     "output_type": "stream",
     "text": [
      "Dimensions:  (860, 836)\n",
      "Dimensions:  (450, 470)\n",
      "Dimensions:  (1228, 469)\n",
      "Dimensions:  (578, 387)\n",
      "Dimensions:  (800, 305)\n"
     ]
    }
   ],
   "source": [
    "from PIL import Image\n",
    "for image in images[0:5]:\n",
    "    image_path = os.path.join(images_folder, image)\n",
    "    img = Image.open(image_path)\n",
    "    print(\"Dimensions: \",img.size)"
   ]
  },
  {
   "cell_type": "code",
   "execution_count": null,
   "id": "fb8906fe",
   "metadata": {},
   "outputs": [],
   "source": []
  }
 ],
 "metadata": {
  "kernelspec": {
   "display_name": "Python 3 (ipykernel)",
   "language": "python",
   "name": "python3"
  },
  "language_info": {
   "codemirror_mode": {
    "name": "ipython",
    "version": 3
   },
   "file_extension": ".py",
   "mimetype": "text/x-python",
   "name": "python",
   "nbconvert_exporter": "python",
   "pygments_lexer": "ipython3",
   "version": "3.8.8"
  }
 },
 "nbformat": 4,
 "nbformat_minor": 5
}
